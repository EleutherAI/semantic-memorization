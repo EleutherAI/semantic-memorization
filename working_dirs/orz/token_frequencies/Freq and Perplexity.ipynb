{
 "cells": [
  {
   "cell_type": "code",
   "execution_count": 3,
   "id": "37e2f456",
   "metadata": {},
   "outputs": [],
   "source": [
    "from mmap_dataset import MMapIndexedDataset\n",
    "from tqdm import trange"
   ]
  },
  {
   "cell_type": "code",
   "execution_count": 4,
   "id": "f24705b8",
   "metadata": {
    "scrolled": true
   },
   "outputs": [
    {
     "name": "stdout",
     "output_type": "stream",
     "text": [
      "    reading sizes...\n",
      "    reading pointers...\n",
      "    reading document index...\n",
      "    creating numpy buffer of mmap...\n",
      "    creating memory view of numpy buffer...\n"
     ]
    },
    {
     "name": "stderr",
     "output_type": "stream",
     "text": [
      "100%|████████████████████████████████████████| 14300/14300 [00:31<00:00, 448.36it/s]\n"
     ]
    }
   ],
   "source": [
    "PYTHIA_SUITE = 'deduped' # Choose between 'standard' and 'deduped'\n",
    "\n",
    "dataset_path = f'/mnt/ssd-1/pile_preshuffled/{PYTHIA_SUITE}/document'\n",
    "dataset = MMapIndexedDataset(dataset_path, skip_warmup = True)\n",
    "\n",
    "batch_size = 10240\n",
    "for i in trange(0, 143000*1024, batch_size):\n",
    "    batch = dataset[i:i + batch_size]"
   ]
  },
  {
   "cell_type": "markdown",
   "id": "a1199ec2",
   "metadata": {},
   "source": [
    "# Frequencies"
   ]
  },
  {
   "cell_type": "code",
   "execution_count": 3,
   "id": "3da50695",
   "metadata": {
    "scrolled": false
   },
   "outputs": [
    {
     "data": {
      "application/vnd.jupyter.widget-view+json": {
       "model_id": "b398c675f15f4a9aab507421cb4615ff",
       "version_major": 2,
       "version_minor": 0
      },
      "text/plain": [
       "  0%|          | 0/50277 [00:00<?, ?it/s]"
      ]
     },
     "metadata": {},
     "output_type": "display_data"
    }
   ],
   "source": [
    "# Libraries\n",
    "\n",
    "import pandas as pd\n",
    "\n",
    "# Load Token distributions\n",
    "\n",
    "import json\n",
    "\n",
    "with open(f'{PYTHIA_SUITE}_memorized_frequencies.json', 'r') as f:\n",
    "    memorized_data = json.load(f)\n",
    "    memorized_distribution = dict((token, freq) for (token, freq) in enumerate(memorized_data['memorized']))\n",
    "    non_memorized_distribution = dict((token, freq) for (token, freq) in enumerate(memorized_data['non_memorized']))\n",
    "\n",
    "\n",
    "# Calculate token probabilities\n",
    "memorized_probabilities = [0 for _ in range(60000)]\n",
    "\n",
    "# Calculate Token Occurances\n",
    "token_occurances = [0 for _ in range(60000)]\n",
    "\n",
    "\n",
    "from transformers import GPTNeoXTokenizerFast\n",
    "\n",
    "tokenizer = GPTNeoXTokenizerFast.from_pretrained(\"EleutherAI/pythia-70m\")\n",
    "\n",
    "from tqdm.auto import tqdm\n",
    "\n",
    "for (token, tok_id) in tqdm(tokenizer.vocab.items()):\n",
    "    try:\n",
    "        token_occurances[tok_id] = memorized_distribution[tok_id] + non_memorized_distribution[tok_id]\n",
    "        memorized_probabilities[tok_id] = memorized_distribution[tok_id] / token_occurances[tok_id]\n",
    "        \n",
    "    \n",
    "    except ZeroDivisionError:\n",
    "        pass"
   ]
  },
  {
   "cell_type": "code",
   "execution_count": 4,
   "id": "4c3bbc5b",
   "metadata": {},
   "outputs": [],
   "source": [
    "all_occs = sum(token_occurances)"
   ]
  },
  {
   "cell_type": "markdown",
   "id": "b6cae1d1",
   "metadata": {},
   "source": [
    "# Calculate Token Unigram Preplexities"
   ]
  },
  {
   "cell_type": "code",
   "execution_count": 5,
   "id": "5f6225d9",
   "metadata": {
    "scrolled": false
   },
   "outputs": [],
   "source": [
    "unigram_perplexities = [1e20 for _ in range(60000)]\n",
    "for (token, freq) in enumerate(token_occurances):\n",
    "    try:\n",
    "        unigram_perplexities[token] = all_occs / freq\n",
    "    except ZeroDivisionError:\n",
    "        unigram_perplexities[token] = 1e20 # Infinite"
   ]
  },
  {
   "cell_type": "markdown",
   "id": "161faa71",
   "metadata": {},
   "source": [
    "# Apply filters across tokens"
   ]
  },
  {
   "cell_type": "code",
   "execution_count": 6,
   "id": "661f655f",
   "metadata": {},
   "outputs": [],
   "source": [
    "max_frequencies = []\n",
    "min_frequencies = []\n",
    "max_perplexities = []\n",
    "min_perplexities = []"
   ]
  },
  {
   "cell_type": "code",
   "execution_count": 7,
   "id": "3437003b",
   "metadata": {},
   "outputs": [
    {
     "name": "stderr",
     "output_type": "stream",
     "text": [
      " 45%|███████████████████                       | 6497/14300 [22:03<26:02,  4.99it/s]"
     ]
    }
   ],
   "source": [
    "batch_size = 10240\n",
    "for i in trange(0, 143000*1024, batch_size):\n",
    "    batch = dataset[i:i + batch_size][:, :64]\n",
    "    for seq in batch:\n",
    "        seq_frequencies = list(map(lambda x: token_occurances[x], seq))\n",
    "        seq_perplexities = list(map(lambda x: unigram_perplexities[x], seq))\n",
    "        max_frequencies.append(max(seq_frequencies))\n",
    "        min_frequencies.append(min(seq_frequencies))\n",
    "        max_perplexities.append(max(seq_perplexities))\n",
    "        min_perplexities.append(min(seq_perplexities))"
   ]
  },
  {
   "cell_type": "code",
   "execution_count": 8,
   "id": "8c2afbb1",
   "metadata": {},
   "outputs": [],
   "source": [
    "freq_results = pd.DataFrame()"
   ]
  },
  {
   "cell_type": "code",
   "execution_count": 9,
   "id": "df2d8e96",
   "metadata": {},
   "outputs": [],
   "source": [
    "freq_results['max_freq'] = max_frequencies\n",
    "freq_results['min_freq'] = min_frequencies\n",
    "freq_results['max_unigram_perp'] = max_perplexities\n",
    "freq_results['min_unigram_perp'] = min_perplexities"
   ]
  },
  {
   "cell_type": "code",
   "execution_count": 10,
   "id": "05e173d9",
   "metadata": {},
   "outputs": [],
   "source": [
    "freq_results['max_freq'].describe()"
   ]
  },
  {
   "cell_type": "code",
   "execution_count": 11,
   "id": "cba44e93",
   "metadata": {},
   "outputs": [],
   "source": [
    "freq_results.describe()"
   ]
  },
  {
   "cell_type": "code",
   "execution_count": 12,
   "id": "ba7ac762",
   "metadata": {},
   "outputs": [],
   "source": [
    "freq_results.to_hdf(f\"{PYTHIA_SUITE}_freq_res.hdf\", index = False, key = 'memorization')"
   ]
  },
  {
   "cell_type": "markdown",
   "id": "bf167912",
   "metadata": {},
   "source": [
    "# Results"
   ]
  },
  {
   "cell_type": "code",
   "execution_count": 1,
   "id": "c7d2d04d",
   "metadata": {},
   "outputs": [],
   "source": [
    "from datasets import load_dataset"
   ]
  },
  {
   "cell_type": "code",
   "execution_count": 5,
   "id": "b58b1d69",
   "metadata": {},
   "outputs": [],
   "source": [
    "ds_type = 'duped' if PYTHIA_SUITE == 'standard' else 'deduped'"
   ]
  },
  {
   "cell_type": "code",
   "execution_count": 8,
   "id": "b3c92afa",
   "metadata": {},
   "outputs": [
    {
     "data": {
      "application/vnd.jupyter.widget-view+json": {
       "model_id": "e454441f7426477c8d1c63f1d65a0286",
       "version_major": 2,
       "version_minor": 0
      },
      "text/plain": [
       "Downloading readme:   0%|          | 0.00/1.55k [00:00<?, ?B/s]"
      ]
     },
     "metadata": {},
     "output_type": "display_data"
    },
    {
     "name": "stdout",
     "output_type": "stream",
     "text": [
      "Downloading and preparing dataset None/None to /home/orz/.cache/huggingface/datasets/EleutherAI___parquet/EleutherAI--pythia-memorized-evals-623aaa371a33821a/0.0.0/14a00e99c0d15a23649d0db8944380ac81082d4b021f398733dd84f3a6c569a7...\n"
     ]
    },
    {
     "data": {
      "application/vnd.jupyter.widget-view+json": {
       "model_id": "f43c8a5508244f25b51ba8b3ea479a92",
       "version_major": 2,
       "version_minor": 0
      },
      "text/plain": [
       "Downloading data files:   0%|          | 0/16 [00:00<?, ?it/s]"
      ]
     },
     "metadata": {},
     "output_type": "display_data"
    },
    {
     "data": {
      "application/vnd.jupyter.widget-view+json": {
       "model_id": "66665a7051e04dccb3ab8c1abc15cc58",
       "version_major": 2,
       "version_minor": 0
      },
      "text/plain": [
       "Downloading data:   0%|          | 0.00/76.9M [00:00<?, ?B/s]"
      ]
     },
     "metadata": {},
     "output_type": "display_data"
    },
    {
     "data": {
      "application/vnd.jupyter.widget-view+json": {
       "model_id": "76e8317d29d948f2b25ef72b7d36020c",
       "version_major": 2,
       "version_minor": 0
      },
      "text/plain": [
       "Downloading data:   0%|          | 0.00/77.1M [00:00<?, ?B/s]"
      ]
     },
     "metadata": {},
     "output_type": "display_data"
    },
    {
     "data": {
      "application/vnd.jupyter.widget-view+json": {
       "model_id": "0cd1c66f793b4970b1200f176e84d826",
       "version_major": 2,
       "version_minor": 0
      },
      "text/plain": [
       "Downloading data:   0%|          | 0.00/150M [00:00<?, ?B/s]"
      ]
     },
     "metadata": {},
     "output_type": "display_data"
    },
    {
     "data": {
      "application/vnd.jupyter.widget-view+json": {
       "model_id": "58030d4cf6964043b55365a6e829d9a7",
       "version_major": 2,
       "version_minor": 0
      },
      "text/plain": [
       "Downloading data:   0%|          | 0.00/151M [00:00<?, ?B/s]"
      ]
     },
     "metadata": {},
     "output_type": "display_data"
    },
    {
     "data": {
      "application/vnd.jupyter.widget-view+json": {
       "model_id": "ebca0998567942f08235a16d0bcea17d",
       "version_major": 2,
       "version_minor": 0
      },
      "text/plain": [
       "Downloading data:   0%|          | 0.00/74.7M [00:00<?, ?B/s]"
      ]
     },
     "metadata": {},
     "output_type": "display_data"
    },
    {
     "data": {
      "application/vnd.jupyter.widget-view+json": {
       "model_id": "e872b7d20ede465ab36a935d524c142c",
       "version_major": 2,
       "version_minor": 0
      },
      "text/plain": [
       "Downloading data:   0%|          | 0.00/75.6M [00:00<?, ?B/s]"
      ]
     },
     "metadata": {},
     "output_type": "display_data"
    },
    {
     "data": {
      "application/vnd.jupyter.widget-view+json": {
       "model_id": "1e965dd3efd6445193f3105a0cb67a12",
       "version_major": 2,
       "version_minor": 0
      },
      "text/plain": [
       "Downloading data:   0%|          | 0.00/75.8M [00:00<?, ?B/s]"
      ]
     },
     "metadata": {},
     "output_type": "display_data"
    },
    {
     "data": {
      "application/vnd.jupyter.widget-view+json": {
       "model_id": "a344828d931a435fb3fd34d12b76d01d",
       "version_major": 2,
       "version_minor": 0
      },
      "text/plain": [
       "Downloading data:   0%|          | 0.00/103M [00:00<?, ?B/s]"
      ]
     },
     "metadata": {},
     "output_type": "display_data"
    },
    {
     "data": {
      "application/vnd.jupyter.widget-view+json": {
       "model_id": "f765a1326bb0484ebd18ea0787c33f2b",
       "version_major": 2,
       "version_minor": 0
      },
      "text/plain": [
       "Downloading data:   0%|          | 0.00/104M [00:00<?, ?B/s]"
      ]
     },
     "metadata": {},
     "output_type": "display_data"
    },
    {
     "data": {
      "application/vnd.jupyter.widget-view+json": {
       "model_id": "38ee3f058f0244d4aec11c7e77de6cce",
       "version_major": 2,
       "version_minor": 0
      },
      "text/plain": [
       "Downloading data:   0%|          | 0.00/115M [00:00<?, ?B/s]"
      ]
     },
     "metadata": {},
     "output_type": "display_data"
    },
    {
     "data": {
      "application/vnd.jupyter.widget-view+json": {
       "model_id": "b0389650daea487783daacf8beb633fa",
       "version_major": 2,
       "version_minor": 0
      },
      "text/plain": [
       "Downloading data:   0%|          | 0.00/133M [00:00<?, ?B/s]"
      ]
     },
     "metadata": {},
     "output_type": "display_data"
    },
    {
     "data": {
      "application/vnd.jupyter.widget-view+json": {
       "model_id": "7e9cb304789c467e962e0f98cf250e8c",
       "version_major": 2,
       "version_minor": 0
      },
      "text/plain": [
       "Downloading data:   0%|          | 0.00/133M [00:00<?, ?B/s]"
      ]
     },
     "metadata": {},
     "output_type": "display_data"
    },
    {
     "data": {
      "application/vnd.jupyter.widget-view+json": {
       "model_id": "e6cd249a7b614084801330e8b556ff0e",
       "version_major": 2,
       "version_minor": 0
      },
      "text/plain": [
       "Downloading data:   0%|          | 0.00/45.7M [00:00<?, ?B/s]"
      ]
     },
     "metadata": {},
     "output_type": "display_data"
    },
    {
     "data": {
      "application/vnd.jupyter.widget-view+json": {
       "model_id": "16d145c6fc1a41028461cf1dd5578a07",
       "version_major": 2,
       "version_minor": 0
      },
      "text/plain": [
       "Downloading data:   0%|          | 0.00/101M [00:00<?, ?B/s]"
      ]
     },
     "metadata": {},
     "output_type": "display_data"
    },
    {
     "data": {
      "application/vnd.jupyter.widget-view+json": {
       "model_id": "c9385c2915c1407182a0fef0704dfadc",
       "version_major": 2,
       "version_minor": 0
      },
      "text/plain": [
       "Downloading data:   0%|          | 0.00/101M [00:00<?, ?B/s]"
      ]
     },
     "metadata": {},
     "output_type": "display_data"
    },
    {
     "data": {
      "application/vnd.jupyter.widget-view+json": {
       "model_id": "594becb9319b46aea11c27b477948c2f",
       "version_major": 2,
       "version_minor": 0
      },
      "text/plain": [
       "Downloading data:   0%|          | 0.00/124M [00:00<?, ?B/s]"
      ]
     },
     "metadata": {},
     "output_type": "display_data"
    },
    {
     "data": {
      "application/vnd.jupyter.widget-view+json": {
       "model_id": "756eb6663d09443fa68b688b3ba506ba",
       "version_major": 2,
       "version_minor": 0
      },
      "text/plain": [
       "Downloading data:   0%|          | 0.00/125M [00:00<?, ?B/s]"
      ]
     },
     "metadata": {},
     "output_type": "display_data"
    },
    {
     "data": {
      "application/vnd.jupyter.widget-view+json": {
       "model_id": "8150f6628ac940eeb349bf7d983ed09b",
       "version_major": 2,
       "version_minor": 0
      },
      "text/plain": [
       "Downloading data:   0%|          | 0.00/125M [00:00<?, ?B/s]"
      ]
     },
     "metadata": {},
     "output_type": "display_data"
    },
    {
     "data": {
      "application/vnd.jupyter.widget-view+json": {
       "model_id": "899f17205f7047d58bebe7f189973faa",
       "version_major": 2,
       "version_minor": 0
      },
      "text/plain": [
       "Downloading data:   0%|          | 0.00/89.0M [00:00<?, ?B/s]"
      ]
     },
     "metadata": {},
     "output_type": "display_data"
    },
    {
     "data": {
      "application/vnd.jupyter.widget-view+json": {
       "model_id": "8047bb14df67404ab1f9bcdd21cba8b3",
       "version_major": 2,
       "version_minor": 0
      },
      "text/plain": [
       "Downloading data:   0%|          | 0.00/91.6M [00:00<?, ?B/s]"
      ]
     },
     "metadata": {},
     "output_type": "display_data"
    },
    {
     "data": {
      "application/vnd.jupyter.widget-view+json": {
       "model_id": "7a78be72d9fb4410ad4828183b7d3f28",
       "version_major": 2,
       "version_minor": 0
      },
      "text/plain": [
       "Downloading data:   0%|          | 0.00/91.9M [00:00<?, ?B/s]"
      ]
     },
     "metadata": {},
     "output_type": "display_data"
    },
    {
     "data": {
      "application/vnd.jupyter.widget-view+json": {
       "model_id": "57e91b2ddcab41a6ba6ace0d66b42c09",
       "version_major": 2,
       "version_minor": 0
      },
      "text/plain": [
       "Downloading data:   0%|          | 0.00/125M [00:00<?, ?B/s]"
      ]
     },
     "metadata": {},
     "output_type": "display_data"
    },
    {
     "data": {
      "application/vnd.jupyter.widget-view+json": {
       "model_id": "30bdafca593f4d1c9938c4d429cc8ad8",
       "version_major": 2,
       "version_minor": 0
      },
      "text/plain": [
       "Downloading data:   0%|          | 0.00/126M [00:00<?, ?B/s]"
      ]
     },
     "metadata": {},
     "output_type": "display_data"
    },
    {
     "data": {
      "application/vnd.jupyter.widget-view+json": {
       "model_id": "717064fd7a01444ba2872ac0ab3a734e",
       "version_major": 2,
       "version_minor": 0
      },
      "text/plain": [
       "Downloading data:   0%|          | 0.00/67.9M [00:00<?, ?B/s]"
      ]
     },
     "metadata": {},
     "output_type": "display_data"
    },
    {
     "data": {
      "application/vnd.jupyter.widget-view+json": {
       "model_id": "f0d26625bd674fddaf278f5249b4abd5",
       "version_major": 2,
       "version_minor": 0
      },
      "text/plain": [
       "Downloading data:   0%|          | 0.00/68.1M [00:00<?, ?B/s]"
      ]
     },
     "metadata": {},
     "output_type": "display_data"
    },
    {
     "data": {
      "application/vnd.jupyter.widget-view+json": {
       "model_id": "6d087ba5b7c44eb296b8dec3051c7d64",
       "version_major": 2,
       "version_minor": 0
      },
      "text/plain": [
       "Downloading data:   0%|          | 0.00/109M [00:00<?, ?B/s]"
      ]
     },
     "metadata": {},
     "output_type": "display_data"
    },
    {
     "data": {
      "application/vnd.jupyter.widget-view+json": {
       "model_id": "e88152d8e5874915827cb12064614801",
       "version_major": 2,
       "version_minor": 0
      },
      "text/plain": [
       "Downloading data:   0%|          | 0.00/110M [00:00<?, ?B/s]"
      ]
     },
     "metadata": {},
     "output_type": "display_data"
    },
    {
     "data": {
      "application/vnd.jupyter.widget-view+json": {
       "model_id": "6fbde0705def4c6b8069c92f3fd82851",
       "version_major": 2,
       "version_minor": 0
      },
      "text/plain": [
       "Downloading data:   0%|          | 0.00/110M [00:00<?, ?B/s]"
      ]
     },
     "metadata": {},
     "output_type": "display_data"
    },
    {
     "data": {
      "application/vnd.jupyter.widget-view+json": {
       "model_id": "10eb610bf5fa42489c8f7db66c39bef4",
       "version_major": 2,
       "version_minor": 0
      },
      "text/plain": [
       "Downloading data:   0%|          | 0.00/51.5M [00:00<?, ?B/s]"
      ]
     },
     "metadata": {},
     "output_type": "display_data"
    },
    {
     "data": {
      "application/vnd.jupyter.widget-view+json": {
       "model_id": "ddb95214cb904310a344b22e1368bcea",
       "version_major": 2,
       "version_minor": 0
      },
      "text/plain": [
       "Extracting data files:   0%|          | 0/16 [00:00<?, ?it/s]"
      ]
     },
     "metadata": {},
     "output_type": "display_data"
    },
    {
     "data": {
      "application/vnd.jupyter.widget-view+json": {
       "model_id": "",
       "version_major": 2,
       "version_minor": 0
      },
      "text/plain": [
       "Generating deduped.1.4b split:   0%|          | 0/1048097 [00:00<?, ? examples/s]"
      ]
     },
     "metadata": {},
     "output_type": "display_data"
    },
    {
     "data": {
      "application/vnd.jupyter.widget-view+json": {
       "model_id": "",
       "version_major": 2,
       "version_minor": 0
      },
      "text/plain": [
       "Generating deduped.12b split:   0%|          | 0/1871215 [00:00<?, ? examples/s]"
      ]
     },
     "metadata": {},
     "output_type": "display_data"
    },
    {
     "data": {
      "application/vnd.jupyter.widget-view+json": {
       "model_id": "",
       "version_major": 2,
       "version_minor": 0
      },
      "text/plain": [
       "Generating deduped.160m split:   0%|          | 0/581195 [00:00<?, ? examples/s]"
      ]
     },
     "metadata": {},
     "output_type": "display_data"
    },
    {
     "data": {
      "application/vnd.jupyter.widget-view+json": {
       "model_id": "",
       "version_major": 2,
       "version_minor": 0
      },
      "text/plain": [
       "Generating deduped.1b split:   0%|          | 0/1032865 [00:00<?, ? examples/s]"
      ]
     },
     "metadata": {},
     "output_type": "display_data"
    },
    {
     "data": {
      "application/vnd.jupyter.widget-view+json": {
       "model_id": "",
       "version_major": 2,
       "version_minor": 0
      },
      "text/plain": [
       "Generating deduped.2.8b split:   0%|          | 0/1355211 [00:00<?, ? examples/s]"
      ]
     },
     "metadata": {},
     "output_type": "display_data"
    },
    {
     "data": {
      "application/vnd.jupyter.widget-view+json": {
       "model_id": "",
       "version_major": 2,
       "version_minor": 0
      },
      "text/plain": [
       "Generating deduped.410m split:   0%|          | 0/811039 [00:00<?, ? examples/s]"
      ]
     },
     "metadata": {},
     "output_type": "display_data"
    },
    {
     "data": {
      "application/vnd.jupyter.widget-view+json": {
       "model_id": "",
       "version_major": 2,
       "version_minor": 0
      },
      "text/plain": [
       "Generating deduped.6.9b split:   0%|          | 0/1680294 [00:00<?, ? examples/s]"
      ]
     },
     "metadata": {},
     "output_type": "display_data"
    },
    {
     "data": {
      "application/vnd.jupyter.widget-view+json": {
       "model_id": "",
       "version_major": 2,
       "version_minor": 0
      },
      "text/plain": [
       "Generating deduped.70m split:   0%|          | 0/411448 [00:00<?, ? examples/s]"
      ]
     },
     "metadata": {},
     "output_type": "display_data"
    },
    {
     "data": {
      "application/vnd.jupyter.widget-view+json": {
       "model_id": "",
       "version_major": 2,
       "version_minor": 0
      },
      "text/plain": [
       "Generating duped.1.4b split:   0%|          | 0/1373722 [00:00<?, ? examples/s]"
      ]
     },
     "metadata": {},
     "output_type": "display_data"
    },
    {
     "data": {
      "application/vnd.jupyter.widget-view+json": {
       "model_id": "",
       "version_major": 2,
       "version_minor": 0
      },
      "text/plain": [
       "Generating duped.12b split:   0%|          | 0/2382326 [00:00<?, ? examples/s]"
      ]
     },
     "metadata": {},
     "output_type": "display_data"
    },
    {
     "data": {
      "application/vnd.jupyter.widget-view+json": {
       "model_id": "",
       "version_major": 2,
       "version_minor": 0
      },
      "text/plain": [
       "Generating duped.160m split:   0%|          | 0/689673 [00:00<?, ? examples/s]"
      ]
     },
     "metadata": {},
     "output_type": "display_data"
    },
    {
     "data": {
      "application/vnd.jupyter.widget-view+json": {
       "model_id": "",
       "version_major": 2,
       "version_minor": 0
      },
      "text/plain": [
       "Generating duped.1b split:   0%|          | 0/1256141 [00:00<?, ? examples/s]"
      ]
     },
     "metadata": {},
     "output_type": "display_data"
    },
    {
     "data": {
      "application/vnd.jupyter.widget-view+json": {
       "model_id": "",
       "version_major": 2,
       "version_minor": 0
      },
      "text/plain": [
       "Generating duped.2.8b split:   0%|          | 0/1675077 [00:00<?, ? examples/s]"
      ]
     },
     "metadata": {},
     "output_type": "display_data"
    },
    {
     "data": {
      "application/vnd.jupyter.widget-view+json": {
       "model_id": "",
       "version_major": 2,
       "version_minor": 0
      },
      "text/plain": [
       "Generating duped.410m split:   0%|          | 0/970341 [00:00<?, ? examples/s]"
      ]
     },
     "metadata": {},
     "output_type": "display_data"
    },
    {
     "data": {
      "application/vnd.jupyter.widget-view+json": {
       "model_id": "",
       "version_major": 2,
       "version_minor": 0
      },
      "text/plain": [
       "Generating duped.6.9b split:   0%|          | 0/2120969 [00:00<?, ? examples/s]"
      ]
     },
     "metadata": {},
     "output_type": "display_data"
    },
    {
     "data": {
      "application/vnd.jupyter.widget-view+json": {
       "model_id": "",
       "version_major": 2,
       "version_minor": 0
      },
      "text/plain": [
       "Generating duped.70m split:   0%|          | 0/463953 [00:00<?, ? examples/s]"
      ]
     },
     "metadata": {},
     "output_type": "display_data"
    },
    {
     "name": "stdout",
     "output_type": "stream",
     "text": [
      "Dataset parquet downloaded and prepared to /home/orz/.cache/huggingface/datasets/EleutherAI___parquet/EleutherAI--pythia-memorized-evals-623aaa371a33821a/0.0.0/14a00e99c0d15a23649d0db8944380ac81082d4b021f398733dd84f3a6c569a7. Subsequent calls will reuse this data.\n"
     ]
    }
   ],
   "source": [
    "ds = load_dataset('EleutherAI/pythia-memorized-evals', split = f'{ds_type}.12b')"
   ]
  },
  {
   "cell_type": "code",
   "execution_count": 10,
   "id": "0ee0c88c",
   "metadata": {},
   "outputs": [],
   "source": [
    "import pandas as pd"
   ]
  },
  {
   "cell_type": "code",
   "execution_count": 11,
   "id": "ebb3a108",
   "metadata": {},
   "outputs": [],
   "source": [
    "freq_results = pd.read_hdf(f\"{PYTHIA_SUITE}_freq_res.hdf\", index = False, key = 'memorization')"
   ]
  },
  {
   "cell_type": "code",
   "execution_count": 25,
   "id": "6afdf90b",
   "metadata": {},
   "outputs": [
    {
     "data": {
      "text/plain": [
       "146432000"
      ]
     },
     "execution_count": 25,
     "metadata": {},
     "output_type": "execute_result"
    }
   ],
   "source": [
    "len(freq_results)"
   ]
  },
  {
   "cell_type": "code",
   "execution_count": 26,
   "id": "1b995cb2",
   "metadata": {},
   "outputs": [],
   "source": [
    "is_memorized = [False for _ in range(len(freq_results))]"
   ]
  },
  {
   "cell_type": "code",
   "execution_count": 27,
   "id": "c1baafc6",
   "metadata": {},
   "outputs": [],
   "source": [
    "for idx in ds['index']:\n",
    "    is_memorized[idx] = True"
   ]
  },
  {
   "cell_type": "code",
   "execution_count": 28,
   "id": "a6b433de",
   "metadata": {},
   "outputs": [
    {
     "data": {
      "text/plain": [
       "[224, 230, 319, 441, 447, 602, 653, 792, 824, 839]"
      ]
     },
     "execution_count": 28,
     "metadata": {},
     "output_type": "execute_result"
    }
   ],
   "source": [
    "ds['index'][:10]"
   ]
  },
  {
   "cell_type": "code",
   "execution_count": 31,
   "id": "3be9d748",
   "metadata": {},
   "outputs": [],
   "source": [
    "freq_results['is_memorized'] = is_memorized"
   ]
  },
  {
   "cell_type": "markdown",
   "id": "a0557f91",
   "metadata": {},
   "source": [
    "# Sequences with least max frequencies"
   ]
  },
  {
   "cell_type": "code",
   "execution_count": 40,
   "id": "3e9107ea",
   "metadata": {},
   "outputs": [
    {
     "data": {
      "application/vnd.jupyter.widget-view+json": {
       "model_id": "3afe04d4e2a3478c9f1e49e4edf91c12",
       "version_major": 2,
       "version_minor": 0
      },
      "text/plain": [
       "Downloading (…)okenizer_config.json:   0%|          | 0.00/396 [00:00<?, ?B/s]"
      ]
     },
     "metadata": {},
     "output_type": "display_data"
    },
    {
     "data": {
      "application/vnd.jupyter.widget-view+json": {
       "model_id": "74316494ae86481d92c4bf55dff8eab1",
       "version_major": 2,
       "version_minor": 0
      },
      "text/plain": [
       "Downloading (…)/main/tokenizer.json:   0%|          | 0.00/2.11M [00:00<?, ?B/s]"
      ]
     },
     "metadata": {},
     "output_type": "display_data"
    },
    {
     "data": {
      "application/vnd.jupyter.widget-view+json": {
       "model_id": "3c0246885d454af8a7916be6ce0c3a8a",
       "version_major": 2,
       "version_minor": 0
      },
      "text/plain": [
       "Downloading (…)cial_tokens_map.json:   0%|          | 0.00/99.0 [00:00<?, ?B/s]"
      ]
     },
     "metadata": {},
     "output_type": "display_data"
    }
   ],
   "source": [
    "from transformers import AutoTokenizer\n",
    "tokenizer = AutoTokenizer.from_pretrained(\"EleutherAI/pythia-12b\")"
   ]
  },
  {
   "cell_type": "code",
   "execution_count": 38,
   "id": "8c962b8d",
   "metadata": {
    "scrolled": true
   },
   "outputs": [
    {
     "data": {
      "text/html": [
       "<div>\n",
       "<style scoped>\n",
       "    .dataframe tbody tr th:only-of-type {\n",
       "        vertical-align: middle;\n",
       "    }\n",
       "\n",
       "    .dataframe tbody tr th {\n",
       "        vertical-align: top;\n",
       "    }\n",
       "\n",
       "    .dataframe thead th {\n",
       "        text-align: right;\n",
       "    }\n",
       "</style>\n",
       "<table border=\"1\" class=\"dataframe\">\n",
       "  <thead>\n",
       "    <tr style=\"text-align: right;\">\n",
       "      <th></th>\n",
       "      <th>max_freq</th>\n",
       "      <th>min_freq</th>\n",
       "      <th>max_unigram_perp</th>\n",
       "      <th>min_unigram_perp</th>\n",
       "      <th>is_memorized</th>\n",
       "    </tr>\n",
       "  </thead>\n",
       "  <tbody>\n",
       "    <tr>\n",
       "      <th>112869388</th>\n",
       "      <td>45572</td>\n",
       "      <td>45572</td>\n",
       "      <td>6.583849e+06</td>\n",
       "      <td>6.583849e+06</td>\n",
       "      <td>True</td>\n",
       "    </tr>\n",
       "    <tr>\n",
       "      <th>53063152</th>\n",
       "      <td>45572</td>\n",
       "      <td>45572</td>\n",
       "      <td>6.583849e+06</td>\n",
       "      <td>6.583849e+06</td>\n",
       "      <td>True</td>\n",
       "    </tr>\n",
       "    <tr>\n",
       "      <th>22820299</th>\n",
       "      <td>45572</td>\n",
       "      <td>45572</td>\n",
       "      <td>6.583849e+06</td>\n",
       "      <td>6.583849e+06</td>\n",
       "      <td>True</td>\n",
       "    </tr>\n",
       "    <tr>\n",
       "      <th>73580712</th>\n",
       "      <td>45572</td>\n",
       "      <td>45572</td>\n",
       "      <td>6.583849e+06</td>\n",
       "      <td>6.583849e+06</td>\n",
       "      <td>True</td>\n",
       "    </tr>\n",
       "    <tr>\n",
       "      <th>110195786</th>\n",
       "      <td>45572</td>\n",
       "      <td>45572</td>\n",
       "      <td>6.583849e+06</td>\n",
       "      <td>6.583849e+06</td>\n",
       "      <td>True</td>\n",
       "    </tr>\n",
       "    <tr>\n",
       "      <th>55960672</th>\n",
       "      <td>45572</td>\n",
       "      <td>45572</td>\n",
       "      <td>6.583849e+06</td>\n",
       "      <td>6.583849e+06</td>\n",
       "      <td>True</td>\n",
       "    </tr>\n",
       "    <tr>\n",
       "      <th>66190691</th>\n",
       "      <td>45572</td>\n",
       "      <td>45572</td>\n",
       "      <td>6.583849e+06</td>\n",
       "      <td>6.583849e+06</td>\n",
       "      <td>True</td>\n",
       "    </tr>\n",
       "    <tr>\n",
       "      <th>52182333</th>\n",
       "      <td>45572</td>\n",
       "      <td>45572</td>\n",
       "      <td>6.583849e+06</td>\n",
       "      <td>6.583849e+06</td>\n",
       "      <td>True</td>\n",
       "    </tr>\n",
       "    <tr>\n",
       "      <th>62592488</th>\n",
       "      <td>45572</td>\n",
       "      <td>45572</td>\n",
       "      <td>6.583849e+06</td>\n",
       "      <td>6.583849e+06</td>\n",
       "      <td>True</td>\n",
       "    </tr>\n",
       "    <tr>\n",
       "      <th>132751014</th>\n",
       "      <td>45572</td>\n",
       "      <td>45572</td>\n",
       "      <td>6.583849e+06</td>\n",
       "      <td>6.583849e+06</td>\n",
       "      <td>True</td>\n",
       "    </tr>\n",
       "    <tr>\n",
       "      <th>37808295</th>\n",
       "      <td>45572</td>\n",
       "      <td>45572</td>\n",
       "      <td>6.583849e+06</td>\n",
       "      <td>6.583849e+06</td>\n",
       "      <td>True</td>\n",
       "    </tr>\n",
       "    <tr>\n",
       "      <th>38765923</th>\n",
       "      <td>45572</td>\n",
       "      <td>45572</td>\n",
       "      <td>6.583849e+06</td>\n",
       "      <td>6.583849e+06</td>\n",
       "      <td>True</td>\n",
       "    </tr>\n",
       "    <tr>\n",
       "      <th>90953046</th>\n",
       "      <td>45572</td>\n",
       "      <td>45572</td>\n",
       "      <td>6.583849e+06</td>\n",
       "      <td>6.583849e+06</td>\n",
       "      <td>True</td>\n",
       "    </tr>\n",
       "    <tr>\n",
       "      <th>66396909</th>\n",
       "      <td>45572</td>\n",
       "      <td>45572</td>\n",
       "      <td>6.583849e+06</td>\n",
       "      <td>6.583849e+06</td>\n",
       "      <td>True</td>\n",
       "    </tr>\n",
       "    <tr>\n",
       "      <th>113588750</th>\n",
       "      <td>45572</td>\n",
       "      <td>45572</td>\n",
       "      <td>6.583849e+06</td>\n",
       "      <td>6.583849e+06</td>\n",
       "      <td>True</td>\n",
       "    </tr>\n",
       "    <tr>\n",
       "      <th>57558786</th>\n",
       "      <td>45572</td>\n",
       "      <td>45572</td>\n",
       "      <td>6.583849e+06</td>\n",
       "      <td>6.583849e+06</td>\n",
       "      <td>True</td>\n",
       "    </tr>\n",
       "    <tr>\n",
       "      <th>126218621</th>\n",
       "      <td>53009</td>\n",
       "      <td>53009</td>\n",
       "      <td>5.660155e+06</td>\n",
       "      <td>5.660155e+06</td>\n",
       "      <td>True</td>\n",
       "    </tr>\n",
       "    <tr>\n",
       "      <th>94153050</th>\n",
       "      <td>53009</td>\n",
       "      <td>53009</td>\n",
       "      <td>5.660155e+06</td>\n",
       "      <td>5.660155e+06</td>\n",
       "      <td>True</td>\n",
       "    </tr>\n",
       "    <tr>\n",
       "      <th>131553644</th>\n",
       "      <td>53009</td>\n",
       "      <td>53009</td>\n",
       "      <td>5.660155e+06</td>\n",
       "      <td>5.660155e+06</td>\n",
       "      <td>True</td>\n",
       "    </tr>\n",
       "    <tr>\n",
       "      <th>116403226</th>\n",
       "      <td>53009</td>\n",
       "      <td>53009</td>\n",
       "      <td>5.660155e+06</td>\n",
       "      <td>5.660155e+06</td>\n",
       "      <td>True</td>\n",
       "    </tr>\n",
       "    <tr>\n",
       "      <th>63080600</th>\n",
       "      <td>53009</td>\n",
       "      <td>53009</td>\n",
       "      <td>5.660155e+06</td>\n",
       "      <td>5.660155e+06</td>\n",
       "      <td>True</td>\n",
       "    </tr>\n",
       "    <tr>\n",
       "      <th>19620635</th>\n",
       "      <td>53009</td>\n",
       "      <td>53009</td>\n",
       "      <td>5.660155e+06</td>\n",
       "      <td>5.660155e+06</td>\n",
       "      <td>True</td>\n",
       "    </tr>\n",
       "    <tr>\n",
       "      <th>46777499</th>\n",
       "      <td>53009</td>\n",
       "      <td>53009</td>\n",
       "      <td>5.660155e+06</td>\n",
       "      <td>5.660155e+06</td>\n",
       "      <td>True</td>\n",
       "    </tr>\n",
       "    <tr>\n",
       "      <th>79189188</th>\n",
       "      <td>53009</td>\n",
       "      <td>53009</td>\n",
       "      <td>5.660155e+06</td>\n",
       "      <td>5.660155e+06</td>\n",
       "      <td>True</td>\n",
       "    </tr>\n",
       "    <tr>\n",
       "      <th>56042119</th>\n",
       "      <td>53009</td>\n",
       "      <td>53009</td>\n",
       "      <td>5.660155e+06</td>\n",
       "      <td>5.660155e+06</td>\n",
       "      <td>True</td>\n",
       "    </tr>\n",
       "    <tr>\n",
       "      <th>85252216</th>\n",
       "      <td>53009</td>\n",
       "      <td>53009</td>\n",
       "      <td>5.660155e+06</td>\n",
       "      <td>5.660155e+06</td>\n",
       "      <td>True</td>\n",
       "    </tr>\n",
       "    <tr>\n",
       "      <th>92012415</th>\n",
       "      <td>53009</td>\n",
       "      <td>53009</td>\n",
       "      <td>5.660155e+06</td>\n",
       "      <td>5.660155e+06</td>\n",
       "      <td>True</td>\n",
       "    </tr>\n",
       "    <tr>\n",
       "      <th>58293311</th>\n",
       "      <td>53009</td>\n",
       "      <td>53009</td>\n",
       "      <td>5.660155e+06</td>\n",
       "      <td>5.660155e+06</td>\n",
       "      <td>True</td>\n",
       "    </tr>\n",
       "    <tr>\n",
       "      <th>23996777</th>\n",
       "      <td>53009</td>\n",
       "      <td>53009</td>\n",
       "      <td>5.660155e+06</td>\n",
       "      <td>5.660155e+06</td>\n",
       "      <td>True</td>\n",
       "    </tr>\n",
       "    <tr>\n",
       "      <th>79091254</th>\n",
       "      <td>53009</td>\n",
       "      <td>53009</td>\n",
       "      <td>5.660155e+06</td>\n",
       "      <td>5.660155e+06</td>\n",
       "      <td>True</td>\n",
       "    </tr>\n",
       "  </tbody>\n",
       "</table>\n",
       "</div>"
      ],
      "text/plain": [
       "           max_freq  min_freq  max_unigram_perp  min_unigram_perp  \\\n",
       "112869388     45572     45572      6.583849e+06      6.583849e+06   \n",
       "53063152      45572     45572      6.583849e+06      6.583849e+06   \n",
       "22820299      45572     45572      6.583849e+06      6.583849e+06   \n",
       "73580712      45572     45572      6.583849e+06      6.583849e+06   \n",
       "110195786     45572     45572      6.583849e+06      6.583849e+06   \n",
       "55960672      45572     45572      6.583849e+06      6.583849e+06   \n",
       "66190691      45572     45572      6.583849e+06      6.583849e+06   \n",
       "52182333      45572     45572      6.583849e+06      6.583849e+06   \n",
       "62592488      45572     45572      6.583849e+06      6.583849e+06   \n",
       "132751014     45572     45572      6.583849e+06      6.583849e+06   \n",
       "37808295      45572     45572      6.583849e+06      6.583849e+06   \n",
       "38765923      45572     45572      6.583849e+06      6.583849e+06   \n",
       "90953046      45572     45572      6.583849e+06      6.583849e+06   \n",
       "66396909      45572     45572      6.583849e+06      6.583849e+06   \n",
       "113588750     45572     45572      6.583849e+06      6.583849e+06   \n",
       "57558786      45572     45572      6.583849e+06      6.583849e+06   \n",
       "126218621     53009     53009      5.660155e+06      5.660155e+06   \n",
       "94153050      53009     53009      5.660155e+06      5.660155e+06   \n",
       "131553644     53009     53009      5.660155e+06      5.660155e+06   \n",
       "116403226     53009     53009      5.660155e+06      5.660155e+06   \n",
       "63080600      53009     53009      5.660155e+06      5.660155e+06   \n",
       "19620635      53009     53009      5.660155e+06      5.660155e+06   \n",
       "46777499      53009     53009      5.660155e+06      5.660155e+06   \n",
       "79189188      53009     53009      5.660155e+06      5.660155e+06   \n",
       "56042119      53009     53009      5.660155e+06      5.660155e+06   \n",
       "85252216      53009     53009      5.660155e+06      5.660155e+06   \n",
       "92012415      53009     53009      5.660155e+06      5.660155e+06   \n",
       "58293311      53009     53009      5.660155e+06      5.660155e+06   \n",
       "23996777      53009     53009      5.660155e+06      5.660155e+06   \n",
       "79091254      53009     53009      5.660155e+06      5.660155e+06   \n",
       "\n",
       "           is_memorized  \n",
       "112869388          True  \n",
       "53063152           True  \n",
       "22820299           True  \n",
       "73580712           True  \n",
       "110195786          True  \n",
       "55960672           True  \n",
       "66190691           True  \n",
       "52182333           True  \n",
       "62592488           True  \n",
       "132751014          True  \n",
       "37808295           True  \n",
       "38765923           True  \n",
       "90953046           True  \n",
       "66396909           True  \n",
       "113588750          True  \n",
       "57558786           True  \n",
       "126218621          True  \n",
       "94153050           True  \n",
       "131553644          True  \n",
       "116403226          True  \n",
       "63080600           True  \n",
       "19620635           True  \n",
       "46777499           True  \n",
       "79189188           True  \n",
       "56042119           True  \n",
       "85252216           True  \n",
       "92012415           True  \n",
       "58293311           True  \n",
       "23996777           True  \n",
       "79091254           True  "
      ]
     },
     "execution_count": 38,
     "metadata": {},
     "output_type": "execute_result"
    }
   ],
   "source": [
    "freq_results.sort_values(by = 'max_freq').head(30)"
   ]
  },
  {
   "cell_type": "code",
   "execution_count": 43,
   "id": "25c1dea2",
   "metadata": {
    "scrolled": true
   },
   "outputs": [
    {
     "data": {
      "text/plain": [
       "array([41606, 41606, 41606, 41606, 41606, 41606, 41606, 41606, 41606,\n",
       "       41606, 41606, 41606, 41606, 41606, 41606, 41606, 41606, 41606,\n",
       "       41606, 41606, 41606, 41606, 41606, 41606, 41606, 41606, 41606,\n",
       "       41606, 41606, 41606, 41606, 41606, 41606, 41606, 41606, 41606,\n",
       "       41606, 41606, 41606, 41606, 41606, 41606, 41606, 41606, 41606,\n",
       "       41606, 41606, 41606, 41606, 41606, 41606, 41606, 41606, 41606,\n",
       "       41606, 41606, 41606, 41606, 41606, 41606, 41606, 41606, 41606,\n",
       "       41606], dtype=uint16)"
      ]
     },
     "execution_count": 43,
     "metadata": {},
     "output_type": "execute_result"
    }
   ],
   "source": [
    "dataset[112869388][:64]"
   ]
  },
  {
   "cell_type": "code",
   "execution_count": 49,
   "id": "744d3820",
   "metadata": {},
   "outputs": [
    {
     "data": {
      "text/plain": [
       "'ÃÂÃÂÃÂÃÂÃÂÃÂÃÂÃÂÃÂÃÂÃÂÃÂÃÂÃÂÃÂÃÂÃÂÃÂÃÂÃÂÃÂÃÂÃÂÃÂÃÂÃÂÃÂÃÂÃÂÃÂÃÂÃÂÃÂÃÂÃÂÃÂÃÂÃÂÃÂÃÂÃÂÃÂÃÂÃÂÃÂÃÂÃÂÃÂÃÂÃÂÃÂÃÂÃÂÃÂÃÂÃÂÃÂÃÂÃÂÃÂÃÂÃÂÃÂÃÂÃÂÃÂÃÂÃÂÃÂÃÂÃÂÃÂÃÂÃÂÃÂÃÂÃÂÃÂÃÂÃÂÃÂÃÂÃÂÃÂÃÂÃÂÃÂÃÂÃÂÃÂÃÂÃÂÃÂÃÂÃÂÃÂÃÂÃÂÃÂÃÂÃÂÃÂÃÂÃÂÃÂÃÂÃÂÃÂÃÂÃÂÃÂÃÂÃÂÃÂÃÂÃÂÃÂÃÂÃÂÃÂÃÂÃÂÃÂÃÂÃÂÃÂÃÂÃÂÃÂÃÂÃÂÃÂÃÂÃÂÃÂÃÂÃÂÃÂÃÂÃÂÃÂÃÂÃÂÃÂÃÂÃÂÃÂÃÂÃÂÃÂÃÂÃÂÃÂÃÂÃÂÃÂÃÂÃÂÃÂÃÂÃÂÃÂÃÂÃÂÃÂÃÂÃÂÃÂÃÂÃÂÃÂÃÂÃÂÃÂÃÂÃÂÃÂÃÂÃÂÃÂÃÂÃÂÃÂÃÂÃÂÃÂÃÂÃÂÃÂÃÂÃÂÃÂÃÂÃÂÃÂÃÂÃÂÃÂÃÂÃÂÃÂÃÂÃÂÃÂÃÂÃÂÃÂÃÂÃÂÃÂÃÂÃÂÃÂÃÂÃÂÃÂÃÂÃÂÃÂÃÂÃÂÃÂÃÂÃÂÃÂÃÂÃÂÃÂÃÂÃÂÃÂÃÂÃÂÃÂÃÂÃÂÃÂÃÂÃÂÃÂÃÂÃÂÃÂÃÂÃÂÃÂÃÂÃÂÃÂÃÂÃÂÃÂÃÂÃÂÃÂÃÂÃÂÃÂÃÂÃÂÃÂÃÂÃÂÃÂÃÂÃÂÃÂÃÂÃÂÃÂÃÂÃÂÃÂÃÂÃÂÃÂÃÂÃÂÃÂÃÂÃÂÃÂÃÂÃÂÃÂÃÂÃÂÃÂÃÂÃÂÃÂÃÂÃÂÃÂÃÂÃÂÃÂÃÂÃÂÃÂÃÂÃÂÃÂÃÂÃÂÃÂÃÂÃÂÃÂÃÂÃÂÃÂÃÂÃÂÃÂÃÂÃÂÃÂÃÂÃÂÃÂÃÂÃÂÃÂÃÂÃÂÃÂÃÂÃÂÃÂÃÂÃÂÃÂÃÂÃÂÃÂÃÂÃÂÃÂÃÂÃÂÃÂÃÂÃÂÃÂÃÂÃÂÃÂÃÂÃÂÃÂÃÂÃÂÃÂÃÂÃÂÃÂÃÂÃÂÃÂÃÂÃÂÃÂÃÂÃÂÃÂÃÂÃÂÃÂÃÂÃÂÃÂÃÂÃÂÃÂÃÂÃÂÃÂÃÂÃÂÃÂÃÂÃÂÃÂÃÂÃÂÃÂÃÂÃÂÃÂÃÂÃÂÃÂÃÂÃÂÃÂÃÂÃÂÃÂÃÂÃÂÃÂÃÂÃÂÃÂÃÂÃÂÃÂÃÂÃÂÃÂÃÂÃÂÃÂÃÂÃÂÃÂÃÂÃÂÃÂÃÂÃÂÃÂÃÂÃÂÃÂÃÂÃÂÃÂÃÂÃÂÃÂÃÂÃÂÃÂÃÂÃÂÃÂÃÂÃÂÃÂÃÂÃÂÃÂÃÂÃÂÃÂÃÂÃÂÃÂÃÂÃÂÃÂÃÂÃÂÃÂÃÂÃÂÃÂÃÂÃÂÃÂÃÂÃÂÃÂÃÂÃÂÃÂÃÂÃÂÃÂÃÂÃÂÃÂÃÂÃÂÃÂÃÂÃÂÃÂÃÂÃÂÃÂÃÂÃÂÃÂÃÂÃÂÃÂÃÂÃÂÃÂÃÂÃÂÃÂÃÂÃÂÃÂÃÂÃÂÃÂÃÂÃÂÃÂÃÂÃÂÃÂÃÂÃÂÃÂÃÂÃÂ'"
      ]
     },
     "execution_count": 49,
     "metadata": {},
     "output_type": "execute_result"
    }
   ],
   "source": [
    "tokenizer.decode(dataset[112869388][:64])"
   ]
  },
  {
   "cell_type": "code",
   "execution_count": 39,
   "id": "a8cd60b6",
   "metadata": {},
   "outputs": [
    {
     "data": {
      "text/plain": [
       "array([39922, 39922, 39922, 39922, 39922, 39922, 39922, 39922, 39922,\n",
       "       39922, 39922, 39922, 39922, 39922, 39922, 39922, 39922, 39922,\n",
       "       39922, 39922, 39922, 39922, 39922, 39922, 39922, 39922, 39922,\n",
       "       39922, 39922, 39922, 39922, 39922, 39922, 39922, 39922, 39922,\n",
       "       39922, 39922, 39922, 39922, 39922, 39922, 39922, 39922, 39922,\n",
       "       39922, 39922, 39922, 39922, 39922, 39922, 39922, 39922, 39922,\n",
       "       39922, 39922, 39922, 39922, 39922, 39922, 39922, 39922, 39922,\n",
       "       39922], dtype=uint16)"
      ]
     },
     "execution_count": 39,
     "metadata": {},
     "output_type": "execute_result"
    }
   ],
   "source": [
    "dataset[94153050][:64]"
   ]
  },
  {
   "cell_type": "code",
   "execution_count": 48,
   "id": "90dce5c4",
   "metadata": {
    "scrolled": true
   },
   "outputs": [
    {
     "data": {
      "text/plain": [
       "'1451450014514500145145001451450014514500145145001451450014514500145145001451450014514500145145001451450014514500145145001451450014514500145145001451450014514500145145001451450014514500145145001451450014514500145145001451450014514500145145001451450014514500145145001451450014514500145145001451450014514500145145001451450014514500145145001451450014514500145145001451450014514500145145001451450014514500145145001451450014514500145145001451450014514500145145001451450014514500145145001451450014514500145145001451450014514500145145001451450014514500145145001451450014514500145145001451450014514500145145001451450014514500145145001451450014514500145145001451450014514500145145001451450014514500145145001451450014514500145145001451450014514500145145001451450014514500145145001451450014514500145145001451450014514500145145001451450014514500145145001451450014514500145145001451450014514500145145001451450014514500145145001451450014514500145145001451450014514500145145001451450014514500145145001451450014514500145145001451450014514500'"
      ]
     },
     "execution_count": 48,
     "metadata": {},
     "output_type": "execute_result"
    }
   ],
   "source": [
    "tokenizer.decode(dataset[94153050][:64])"
   ]
  },
  {
   "cell_type": "markdown",
   "id": "4bc4b6c4",
   "metadata": {},
   "source": [
    "# Sequences with high max frequencies"
   ]
  },
  {
   "cell_type": "code",
   "execution_count": 45,
   "id": "229335af",
   "metadata": {},
   "outputs": [
    {
     "data": {
      "text/html": [
       "<div>\n",
       "<style scoped>\n",
       "    .dataframe tbody tr th:only-of-type {\n",
       "        vertical-align: middle;\n",
       "    }\n",
       "\n",
       "    .dataframe tbody tr th {\n",
       "        vertical-align: top;\n",
       "    }\n",
       "\n",
       "    .dataframe thead th {\n",
       "        text-align: right;\n",
       "    }\n",
       "</style>\n",
       "<table border=\"1\" class=\"dataframe\">\n",
       "  <thead>\n",
       "    <tr style=\"text-align: right;\">\n",
       "      <th></th>\n",
       "      <th>max_freq</th>\n",
       "      <th>min_freq</th>\n",
       "      <th>max_unigram_perp</th>\n",
       "      <th>min_unigram_perp</th>\n",
       "      <th>is_memorized</th>\n",
       "    </tr>\n",
       "  </thead>\n",
       "  <tbody>\n",
       "    <tr>\n",
       "      <th>0</th>\n",
       "      <td>11740996961</td>\n",
       "      <td>573895</td>\n",
       "      <td>5.228120e+05</td>\n",
       "      <td>25.554829</td>\n",
       "      <td>False</td>\n",
       "    </tr>\n",
       "    <tr>\n",
       "      <th>88146716</th>\n",
       "      <td>11740996961</td>\n",
       "      <td>169879</td>\n",
       "      <td>1.766193e+06</td>\n",
       "      <td>25.554829</td>\n",
       "      <td>False</td>\n",
       "    </tr>\n",
       "    <tr>\n",
       "      <th>88146676</th>\n",
       "      <td>11740996961</td>\n",
       "      <td>537157</td>\n",
       "      <td>5.585689e+05</td>\n",
       "      <td>25.554829</td>\n",
       "      <td>False</td>\n",
       "    </tr>\n",
       "    <tr>\n",
       "      <th>88146675</th>\n",
       "      <td>11740996961</td>\n",
       "      <td>1024605</td>\n",
       "      <td>2.928340e+05</td>\n",
       "      <td>25.554829</td>\n",
       "      <td>False</td>\n",
       "    </tr>\n",
       "    <tr>\n",
       "      <th>88146674</th>\n",
       "      <td>11740996961</td>\n",
       "      <td>485757</td>\n",
       "      <td>6.176734e+05</td>\n",
       "      <td>25.554829</td>\n",
       "      <td>False</td>\n",
       "    </tr>\n",
       "    <tr>\n",
       "      <th>88146673</th>\n",
       "      <td>11740996961</td>\n",
       "      <td>814328</td>\n",
       "      <td>3.684500e+05</td>\n",
       "      <td>25.554829</td>\n",
       "      <td>False</td>\n",
       "    </tr>\n",
       "    <tr>\n",
       "      <th>88146671</th>\n",
       "      <td>11740996961</td>\n",
       "      <td>448361</td>\n",
       "      <td>6.691910e+05</td>\n",
       "      <td>25.554829</td>\n",
       "      <td>False</td>\n",
       "    </tr>\n",
       "    <tr>\n",
       "      <th>88146670</th>\n",
       "      <td>11740996961</td>\n",
       "      <td>434505</td>\n",
       "      <td>6.905310e+05</td>\n",
       "      <td>25.554829</td>\n",
       "      <td>False</td>\n",
       "    </tr>\n",
       "    <tr>\n",
       "      <th>88146669</th>\n",
       "      <td>11740996961</td>\n",
       "      <td>1124056</td>\n",
       "      <td>2.669255e+05</td>\n",
       "      <td>25.554829</td>\n",
       "      <td>False</td>\n",
       "    </tr>\n",
       "    <tr>\n",
       "      <th>88146666</th>\n",
       "      <td>11740996961</td>\n",
       "      <td>661916</td>\n",
       "      <td>4.532889e+05</td>\n",
       "      <td>25.554829</td>\n",
       "      <td>False</td>\n",
       "    </tr>\n",
       "    <tr>\n",
       "      <th>88146665</th>\n",
       "      <td>11740996961</td>\n",
       "      <td>642354</td>\n",
       "      <td>4.670932e+05</td>\n",
       "      <td>25.554829</td>\n",
       "      <td>False</td>\n",
       "    </tr>\n",
       "    <tr>\n",
       "      <th>88146664</th>\n",
       "      <td>11740996961</td>\n",
       "      <td>507808</td>\n",
       "      <td>5.908516e+05</td>\n",
       "      <td>25.554829</td>\n",
       "      <td>False</td>\n",
       "    </tr>\n",
       "    <tr>\n",
       "      <th>88146661</th>\n",
       "      <td>11740996961</td>\n",
       "      <td>399438</td>\n",
       "      <td>7.511533e+05</td>\n",
       "      <td>25.554829</td>\n",
       "      <td>True</td>\n",
       "    </tr>\n",
       "    <tr>\n",
       "      <th>88146660</th>\n",
       "      <td>11740996961</td>\n",
       "      <td>321363</td>\n",
       "      <td>9.336457e+05</td>\n",
       "      <td>25.554829</td>\n",
       "      <td>False</td>\n",
       "    </tr>\n",
       "    <tr>\n",
       "      <th>88146659</th>\n",
       "      <td>11740996961</td>\n",
       "      <td>389419</td>\n",
       "      <td>7.704790e+05</td>\n",
       "      <td>25.554829</td>\n",
       "      <td>False</td>\n",
       "    </tr>\n",
       "    <tr>\n",
       "      <th>88146658</th>\n",
       "      <td>11740996961</td>\n",
       "      <td>569067</td>\n",
       "      <td>5.272475e+05</td>\n",
       "      <td>25.554829</td>\n",
       "      <td>False</td>\n",
       "    </tr>\n",
       "    <tr>\n",
       "      <th>88146657</th>\n",
       "      <td>11740996961</td>\n",
       "      <td>458862</td>\n",
       "      <td>6.538767e+05</td>\n",
       "      <td>25.554829</td>\n",
       "      <td>False</td>\n",
       "    </tr>\n",
       "    <tr>\n",
       "      <th>88146656</th>\n",
       "      <td>11740996961</td>\n",
       "      <td>675811</td>\n",
       "      <td>4.439691e+05</td>\n",
       "      <td>25.554829</td>\n",
       "      <td>False</td>\n",
       "    </tr>\n",
       "    <tr>\n",
       "      <th>88146655</th>\n",
       "      <td>11740996961</td>\n",
       "      <td>859667</td>\n",
       "      <td>3.490179e+05</td>\n",
       "      <td>25.554829</td>\n",
       "      <td>False</td>\n",
       "    </tr>\n",
       "    <tr>\n",
       "      <th>88146654</th>\n",
       "      <td>11740996961</td>\n",
       "      <td>445988</td>\n",
       "      <td>6.727517e+05</td>\n",
       "      <td>25.554829</td>\n",
       "      <td>False</td>\n",
       "    </tr>\n",
       "    <tr>\n",
       "      <th>88146652</th>\n",
       "      <td>11740996961</td>\n",
       "      <td>432388</td>\n",
       "      <td>6.939119e+05</td>\n",
       "      <td>25.554829</td>\n",
       "      <td>False</td>\n",
       "    </tr>\n",
       "    <tr>\n",
       "      <th>88146651</th>\n",
       "      <td>11740996961</td>\n",
       "      <td>823977</td>\n",
       "      <td>3.641354e+05</td>\n",
       "      <td>25.554829</td>\n",
       "      <td>False</td>\n",
       "    </tr>\n",
       "    <tr>\n",
       "      <th>88146647</th>\n",
       "      <td>11740996961</td>\n",
       "      <td>838490</td>\n",
       "      <td>3.578327e+05</td>\n",
       "      <td>25.554829</td>\n",
       "      <td>False</td>\n",
       "    </tr>\n",
       "    <tr>\n",
       "      <th>88146646</th>\n",
       "      <td>11740996961</td>\n",
       "      <td>810628</td>\n",
       "      <td>3.701318e+05</td>\n",
       "      <td>25.554829</td>\n",
       "      <td>False</td>\n",
       "    </tr>\n",
       "    <tr>\n",
       "      <th>88146641</th>\n",
       "      <td>11740996961</td>\n",
       "      <td>357454</td>\n",
       "      <td>8.393784e+05</td>\n",
       "      <td>25.554829</td>\n",
       "      <td>False</td>\n",
       "    </tr>\n",
       "    <tr>\n",
       "      <th>88146639</th>\n",
       "      <td>11740996961</td>\n",
       "      <td>817924</td>\n",
       "      <td>3.668301e+05</td>\n",
       "      <td>25.554829</td>\n",
       "      <td>False</td>\n",
       "    </tr>\n",
       "    <tr>\n",
       "      <th>88146638</th>\n",
       "      <td>11740996961</td>\n",
       "      <td>508958</td>\n",
       "      <td>5.895166e+05</td>\n",
       "      <td>25.554829</td>\n",
       "      <td>False</td>\n",
       "    </tr>\n",
       "    <tr>\n",
       "      <th>88146677</th>\n",
       "      <td>11740996961</td>\n",
       "      <td>550360</td>\n",
       "      <td>5.451689e+05</td>\n",
       "      <td>25.554829</td>\n",
       "      <td>False</td>\n",
       "    </tr>\n",
       "    <tr>\n",
       "      <th>88146679</th>\n",
       "      <td>11740996961</td>\n",
       "      <td>794028</td>\n",
       "      <td>3.778698e+05</td>\n",
       "      <td>25.554829</td>\n",
       "      <td>False</td>\n",
       "    </tr>\n",
       "    <tr>\n",
       "      <th>88146681</th>\n",
       "      <td>11740996961</td>\n",
       "      <td>371442</td>\n",
       "      <td>8.077686e+05</td>\n",
       "      <td>25.554829</td>\n",
       "      <td>False</td>\n",
       "    </tr>\n",
       "  </tbody>\n",
       "</table>\n",
       "</div>"
      ],
      "text/plain": [
       "             max_freq  min_freq  max_unigram_perp  min_unigram_perp  \\\n",
       "0         11740996961    573895      5.228120e+05         25.554829   \n",
       "88146716  11740996961    169879      1.766193e+06         25.554829   \n",
       "88146676  11740996961    537157      5.585689e+05         25.554829   \n",
       "88146675  11740996961   1024605      2.928340e+05         25.554829   \n",
       "88146674  11740996961    485757      6.176734e+05         25.554829   \n",
       "88146673  11740996961    814328      3.684500e+05         25.554829   \n",
       "88146671  11740996961    448361      6.691910e+05         25.554829   \n",
       "88146670  11740996961    434505      6.905310e+05         25.554829   \n",
       "88146669  11740996961   1124056      2.669255e+05         25.554829   \n",
       "88146666  11740996961    661916      4.532889e+05         25.554829   \n",
       "88146665  11740996961    642354      4.670932e+05         25.554829   \n",
       "88146664  11740996961    507808      5.908516e+05         25.554829   \n",
       "88146661  11740996961    399438      7.511533e+05         25.554829   \n",
       "88146660  11740996961    321363      9.336457e+05         25.554829   \n",
       "88146659  11740996961    389419      7.704790e+05         25.554829   \n",
       "88146658  11740996961    569067      5.272475e+05         25.554829   \n",
       "88146657  11740996961    458862      6.538767e+05         25.554829   \n",
       "88146656  11740996961    675811      4.439691e+05         25.554829   \n",
       "88146655  11740996961    859667      3.490179e+05         25.554829   \n",
       "88146654  11740996961    445988      6.727517e+05         25.554829   \n",
       "88146652  11740996961    432388      6.939119e+05         25.554829   \n",
       "88146651  11740996961    823977      3.641354e+05         25.554829   \n",
       "88146647  11740996961    838490      3.578327e+05         25.554829   \n",
       "88146646  11740996961    810628      3.701318e+05         25.554829   \n",
       "88146641  11740996961    357454      8.393784e+05         25.554829   \n",
       "88146639  11740996961    817924      3.668301e+05         25.554829   \n",
       "88146638  11740996961    508958      5.895166e+05         25.554829   \n",
       "88146677  11740996961    550360      5.451689e+05         25.554829   \n",
       "88146679  11740996961    794028      3.778698e+05         25.554829   \n",
       "88146681  11740996961    371442      8.077686e+05         25.554829   \n",
       "\n",
       "          is_memorized  \n",
       "0                False  \n",
       "88146716         False  \n",
       "88146676         False  \n",
       "88146675         False  \n",
       "88146674         False  \n",
       "88146673         False  \n",
       "88146671         False  \n",
       "88146670         False  \n",
       "88146669         False  \n",
       "88146666         False  \n",
       "88146665         False  \n",
       "88146664         False  \n",
       "88146661          True  \n",
       "88146660         False  \n",
       "88146659         False  \n",
       "88146658         False  \n",
       "88146657         False  \n",
       "88146656         False  \n",
       "88146655         False  \n",
       "88146654         False  \n",
       "88146652         False  \n",
       "88146651         False  \n",
       "88146647         False  \n",
       "88146646         False  \n",
       "88146641         False  \n",
       "88146639         False  \n",
       "88146638         False  \n",
       "88146677         False  \n",
       "88146679         False  \n",
       "88146681         False  "
      ]
     },
     "execution_count": 45,
     "metadata": {},
     "output_type": "execute_result"
    }
   ],
   "source": [
    "freq_results.sort_values(by = 'max_freq', ascending = False).head(30)"
   ]
  },
  {
   "cell_type": "code",
   "execution_count": 47,
   "id": "7fe24886",
   "metadata": {
    "scrolled": true
   },
   "outputs": [
    {
     "data": {
      "text/plain": [
       "' sisters, mothers, and wives who would be governing their lands while their husbands fought in Outremer—she tasted both fear and triumph in her wine.\\n\\n• • •\\n\\n\"I do not know what I am doing here,\" Belle whispered. \"I swore I would never be alone with you again,'"
      ]
     },
     "execution_count": 47,
     "metadata": {},
     "output_type": "execute_result"
    }
   ],
   "source": [
    "tokenizer.decode(dataset[0][:64])"
   ]
  },
  {
   "cell_type": "markdown",
   "id": "93164286",
   "metadata": {},
   "source": [
    "# Seqeuences with least min frequencies"
   ]
  },
  {
   "cell_type": "code",
   "execution_count": 50,
   "id": "50b14100",
   "metadata": {},
   "outputs": [
    {
     "data": {
      "text/html": [
       "<div>\n",
       "<style scoped>\n",
       "    .dataframe tbody tr th:only-of-type {\n",
       "        vertical-align: middle;\n",
       "    }\n",
       "\n",
       "    .dataframe tbody tr th {\n",
       "        vertical-align: top;\n",
       "    }\n",
       "\n",
       "    .dataframe thead th {\n",
       "        text-align: right;\n",
       "    }\n",
       "</style>\n",
       "<table border=\"1\" class=\"dataframe\">\n",
       "  <thead>\n",
       "    <tr style=\"text-align: right;\">\n",
       "      <th></th>\n",
       "      <th>max_freq</th>\n",
       "      <th>min_freq</th>\n",
       "      <th>max_unigram_perp</th>\n",
       "      <th>min_unigram_perp</th>\n",
       "      <th>is_memorized</th>\n",
       "    </tr>\n",
       "  </thead>\n",
       "  <tbody>\n",
       "    <tr>\n",
       "      <th>17425622</th>\n",
       "      <td>11740996961</td>\n",
       "      <td>104</td>\n",
       "      <td>2.884992e+09</td>\n",
       "      <td>25.554829</td>\n",
       "      <td>False</td>\n",
       "    </tr>\n",
       "    <tr>\n",
       "      <th>129213805</th>\n",
       "      <td>11740996961</td>\n",
       "      <td>104</td>\n",
       "      <td>2.884992e+09</td>\n",
       "      <td>25.554829</td>\n",
       "      <td>False</td>\n",
       "    </tr>\n",
       "    <tr>\n",
       "      <th>7207380</th>\n",
       "      <td>11740996961</td>\n",
       "      <td>104</td>\n",
       "      <td>2.884992e+09</td>\n",
       "      <td>25.554829</td>\n",
       "      <td>False</td>\n",
       "    </tr>\n",
       "    <tr>\n",
       "      <th>83786898</th>\n",
       "      <td>11740996961</td>\n",
       "      <td>104</td>\n",
       "      <td>2.884992e+09</td>\n",
       "      <td>25.554829</td>\n",
       "      <td>False</td>\n",
       "    </tr>\n",
       "    <tr>\n",
       "      <th>78440857</th>\n",
       "      <td>11740996961</td>\n",
       "      <td>104</td>\n",
       "      <td>2.884992e+09</td>\n",
       "      <td>25.554829</td>\n",
       "      <td>False</td>\n",
       "    </tr>\n",
       "    <tr>\n",
       "      <th>8970130</th>\n",
       "      <td>11740996961</td>\n",
       "      <td>104</td>\n",
       "      <td>2.884992e+09</td>\n",
       "      <td>25.554829</td>\n",
       "      <td>False</td>\n",
       "    </tr>\n",
       "    <tr>\n",
       "      <th>18792581</th>\n",
       "      <td>11740996961</td>\n",
       "      <td>104</td>\n",
       "      <td>2.884992e+09</td>\n",
       "      <td>25.554829</td>\n",
       "      <td>False</td>\n",
       "    </tr>\n",
       "    <tr>\n",
       "      <th>5488115</th>\n",
       "      <td>11740996961</td>\n",
       "      <td>166</td>\n",
       "      <td>1.807465e+09</td>\n",
       "      <td>25.554829</td>\n",
       "      <td>False</td>\n",
       "    </tr>\n",
       "    <tr>\n",
       "      <th>59570376</th>\n",
       "      <td>11740996961</td>\n",
       "      <td>166</td>\n",
       "      <td>1.807465e+09</td>\n",
       "      <td>25.554829</td>\n",
       "      <td>False</td>\n",
       "    </tr>\n",
       "    <tr>\n",
       "      <th>129079102</th>\n",
       "      <td>11740996961</td>\n",
       "      <td>166</td>\n",
       "      <td>1.807465e+09</td>\n",
       "      <td>25.554829</td>\n",
       "      <td>False</td>\n",
       "    </tr>\n",
       "    <tr>\n",
       "      <th>102875747</th>\n",
       "      <td>11740996961</td>\n",
       "      <td>166</td>\n",
       "      <td>1.807465e+09</td>\n",
       "      <td>25.554829</td>\n",
       "      <td>False</td>\n",
       "    </tr>\n",
       "    <tr>\n",
       "      <th>13815325</th>\n",
       "      <td>11740996961</td>\n",
       "      <td>166</td>\n",
       "      <td>1.807465e+09</td>\n",
       "      <td>25.554829</td>\n",
       "      <td>False</td>\n",
       "    </tr>\n",
       "    <tr>\n",
       "      <th>53013867</th>\n",
       "      <td>11740996961</td>\n",
       "      <td>244</td>\n",
       "      <td>1.229669e+09</td>\n",
       "      <td>25.554829</td>\n",
       "      <td>False</td>\n",
       "    </tr>\n",
       "    <tr>\n",
       "      <th>114562855</th>\n",
       "      <td>10346382453</td>\n",
       "      <td>244</td>\n",
       "      <td>1.229669e+09</td>\n",
       "      <td>28.999428</td>\n",
       "      <td>False</td>\n",
       "    </tr>\n",
       "    <tr>\n",
       "      <th>11795726</th>\n",
       "      <td>10346382453</td>\n",
       "      <td>244</td>\n",
       "      <td>1.229669e+09</td>\n",
       "      <td>28.999428</td>\n",
       "      <td>False</td>\n",
       "    </tr>\n",
       "    <tr>\n",
       "      <th>28551898</th>\n",
       "      <td>11740996961</td>\n",
       "      <td>244</td>\n",
       "      <td>1.229669e+09</td>\n",
       "      <td>25.554829</td>\n",
       "      <td>False</td>\n",
       "    </tr>\n",
       "    <tr>\n",
       "      <th>69978855</th>\n",
       "      <td>11740996961</td>\n",
       "      <td>244</td>\n",
       "      <td>1.229669e+09</td>\n",
       "      <td>25.554829</td>\n",
       "      <td>False</td>\n",
       "    </tr>\n",
       "    <tr>\n",
       "      <th>110534649</th>\n",
       "      <td>11740996961</td>\n",
       "      <td>244</td>\n",
       "      <td>1.229669e+09</td>\n",
       "      <td>25.554829</td>\n",
       "      <td>False</td>\n",
       "    </tr>\n",
       "    <tr>\n",
       "      <th>87558298</th>\n",
       "      <td>11740996961</td>\n",
       "      <td>244</td>\n",
       "      <td>1.229669e+09</td>\n",
       "      <td>25.554829</td>\n",
       "      <td>False</td>\n",
       "    </tr>\n",
       "    <tr>\n",
       "      <th>6402933</th>\n",
       "      <td>11740996961</td>\n",
       "      <td>244</td>\n",
       "      <td>1.229669e+09</td>\n",
       "      <td>25.554829</td>\n",
       "      <td>False</td>\n",
       "    </tr>\n",
       "    <tr>\n",
       "      <th>42400554</th>\n",
       "      <td>10346382453</td>\n",
       "      <td>244</td>\n",
       "      <td>1.229669e+09</td>\n",
       "      <td>28.999428</td>\n",
       "      <td>False</td>\n",
       "    </tr>\n",
       "    <tr>\n",
       "      <th>106899111</th>\n",
       "      <td>11740996961</td>\n",
       "      <td>244</td>\n",
       "      <td>1.229669e+09</td>\n",
       "      <td>25.554829</td>\n",
       "      <td>False</td>\n",
       "    </tr>\n",
       "    <tr>\n",
       "      <th>108756010</th>\n",
       "      <td>11740996961</td>\n",
       "      <td>358</td>\n",
       "      <td>8.380982e+08</td>\n",
       "      <td>25.554829</td>\n",
       "      <td>False</td>\n",
       "    </tr>\n",
       "    <tr>\n",
       "      <th>19656799</th>\n",
       "      <td>11740996961</td>\n",
       "      <td>358</td>\n",
       "      <td>8.380982e+08</td>\n",
       "      <td>25.554829</td>\n",
       "      <td>False</td>\n",
       "    </tr>\n",
       "    <tr>\n",
       "      <th>68840666</th>\n",
       "      <td>11740996961</td>\n",
       "      <td>358</td>\n",
       "      <td>8.380982e+08</td>\n",
       "      <td>25.554829</td>\n",
       "      <td>False</td>\n",
       "    </tr>\n",
       "    <tr>\n",
       "      <th>57777173</th>\n",
       "      <td>11740996961</td>\n",
       "      <td>358</td>\n",
       "      <td>8.380982e+08</td>\n",
       "      <td>25.554829</td>\n",
       "      <td>False</td>\n",
       "    </tr>\n",
       "    <tr>\n",
       "      <th>116282037</th>\n",
       "      <td>10346382453</td>\n",
       "      <td>358</td>\n",
       "      <td>8.380982e+08</td>\n",
       "      <td>28.999428</td>\n",
       "      <td>False</td>\n",
       "    </tr>\n",
       "    <tr>\n",
       "      <th>107295516</th>\n",
       "      <td>11740996961</td>\n",
       "      <td>358</td>\n",
       "      <td>8.380982e+08</td>\n",
       "      <td>25.554829</td>\n",
       "      <td>False</td>\n",
       "    </tr>\n",
       "    <tr>\n",
       "      <th>112786583</th>\n",
       "      <td>11740996961</td>\n",
       "      <td>358</td>\n",
       "      <td>8.380982e+08</td>\n",
       "      <td>25.554829</td>\n",
       "      <td>False</td>\n",
       "    </tr>\n",
       "    <tr>\n",
       "      <th>107655986</th>\n",
       "      <td>11740996961</td>\n",
       "      <td>358</td>\n",
       "      <td>8.380982e+08</td>\n",
       "      <td>25.554829</td>\n",
       "      <td>False</td>\n",
       "    </tr>\n",
       "  </tbody>\n",
       "</table>\n",
       "</div>"
      ],
      "text/plain": [
       "              max_freq  min_freq  max_unigram_perp  min_unigram_perp  \\\n",
       "17425622   11740996961       104      2.884992e+09         25.554829   \n",
       "129213805  11740996961       104      2.884992e+09         25.554829   \n",
       "7207380    11740996961       104      2.884992e+09         25.554829   \n",
       "83786898   11740996961       104      2.884992e+09         25.554829   \n",
       "78440857   11740996961       104      2.884992e+09         25.554829   \n",
       "8970130    11740996961       104      2.884992e+09         25.554829   \n",
       "18792581   11740996961       104      2.884992e+09         25.554829   \n",
       "5488115    11740996961       166      1.807465e+09         25.554829   \n",
       "59570376   11740996961       166      1.807465e+09         25.554829   \n",
       "129079102  11740996961       166      1.807465e+09         25.554829   \n",
       "102875747  11740996961       166      1.807465e+09         25.554829   \n",
       "13815325   11740996961       166      1.807465e+09         25.554829   \n",
       "53013867   11740996961       244      1.229669e+09         25.554829   \n",
       "114562855  10346382453       244      1.229669e+09         28.999428   \n",
       "11795726   10346382453       244      1.229669e+09         28.999428   \n",
       "28551898   11740996961       244      1.229669e+09         25.554829   \n",
       "69978855   11740996961       244      1.229669e+09         25.554829   \n",
       "110534649  11740996961       244      1.229669e+09         25.554829   \n",
       "87558298   11740996961       244      1.229669e+09         25.554829   \n",
       "6402933    11740996961       244      1.229669e+09         25.554829   \n",
       "42400554   10346382453       244      1.229669e+09         28.999428   \n",
       "106899111  11740996961       244      1.229669e+09         25.554829   \n",
       "108756010  11740996961       358      8.380982e+08         25.554829   \n",
       "19656799   11740996961       358      8.380982e+08         25.554829   \n",
       "68840666   11740996961       358      8.380982e+08         25.554829   \n",
       "57777173   11740996961       358      8.380982e+08         25.554829   \n",
       "116282037  10346382453       358      8.380982e+08         28.999428   \n",
       "107295516  11740996961       358      8.380982e+08         25.554829   \n",
       "112786583  11740996961       358      8.380982e+08         25.554829   \n",
       "107655986  11740996961       358      8.380982e+08         25.554829   \n",
       "\n",
       "           is_memorized  \n",
       "17425622          False  \n",
       "129213805         False  \n",
       "7207380           False  \n",
       "83786898          False  \n",
       "78440857          False  \n",
       "8970130           False  \n",
       "18792581          False  \n",
       "5488115           False  \n",
       "59570376          False  \n",
       "129079102         False  \n",
       "102875747         False  \n",
       "13815325          False  \n",
       "53013867          False  \n",
       "114562855         False  \n",
       "11795726          False  \n",
       "28551898          False  \n",
       "69978855          False  \n",
       "110534649         False  \n",
       "87558298          False  \n",
       "6402933           False  \n",
       "42400554          False  \n",
       "106899111         False  \n",
       "108756010         False  \n",
       "19656799          False  \n",
       "68840666          False  \n",
       "57777173          False  \n",
       "116282037         False  \n",
       "107295516         False  \n",
       "112786583         False  \n",
       "107655986         False  "
      ]
     },
     "execution_count": 50,
     "metadata": {},
     "output_type": "execute_result"
    }
   ],
   "source": [
    "freq_results.sort_values(by = 'min_freq').head(30)"
   ]
  },
  {
   "cell_type": "code",
   "execution_count": 51,
   "id": "728881e2",
   "metadata": {},
   "outputs": [
    {
     "data": {
      "text/plain": [
       "'error].\").\\n\\n\\n15\\nAs marijuana use is not \"similar to\" public intoxication under § 4A1.2(c)(2), the judgment of the district court is A  FFIRMED.\\n\\n\\n\\n1\\n Sentences for misdemeanor and petty offenses are counted, except as follows:\\n(1) Sent'"
      ]
     },
     "execution_count": 51,
     "metadata": {},
     "output_type": "execute_result"
    }
   ],
   "source": [
    "tokenizer.decode(dataset[17425622][:64])"
   ]
  },
  {
   "cell_type": "markdown",
   "id": "cfcf3864",
   "metadata": {},
   "source": [
    "# Sequences with highest min frequencies"
   ]
  },
  {
   "cell_type": "code",
   "execution_count": 52,
   "id": "9beaf1a0",
   "metadata": {},
   "outputs": [
    {
     "data": {
      "text/html": [
       "<div>\n",
       "<style scoped>\n",
       "    .dataframe tbody tr th:only-of-type {\n",
       "        vertical-align: middle;\n",
       "    }\n",
       "\n",
       "    .dataframe tbody tr th {\n",
       "        vertical-align: top;\n",
       "    }\n",
       "\n",
       "    .dataframe thead th {\n",
       "        text-align: right;\n",
       "    }\n",
       "</style>\n",
       "<table border=\"1\" class=\"dataframe\">\n",
       "  <thead>\n",
       "    <tr style=\"text-align: right;\">\n",
       "      <th></th>\n",
       "      <th>max_freq</th>\n",
       "      <th>min_freq</th>\n",
       "      <th>max_unigram_perp</th>\n",
       "      <th>min_unigram_perp</th>\n",
       "      <th>is_memorized</th>\n",
       "    </tr>\n",
       "  </thead>\n",
       "  <tbody>\n",
       "    <tr>\n",
       "      <th>11014236</th>\n",
       "      <td>11740996961</td>\n",
       "      <td>10346382453</td>\n",
       "      <td>28.999428</td>\n",
       "      <td>25.554829</td>\n",
       "      <td>True</td>\n",
       "    </tr>\n",
       "    <tr>\n",
       "      <th>127347099</th>\n",
       "      <td>11740996961</td>\n",
       "      <td>10346382453</td>\n",
       "      <td>28.999428</td>\n",
       "      <td>25.554829</td>\n",
       "      <td>True</td>\n",
       "    </tr>\n",
       "    <tr>\n",
       "      <th>63601894</th>\n",
       "      <td>11740996961</td>\n",
       "      <td>10346382453</td>\n",
       "      <td>28.999428</td>\n",
       "      <td>25.554829</td>\n",
       "      <td>True</td>\n",
       "    </tr>\n",
       "    <tr>\n",
       "      <th>16963937</th>\n",
       "      <td>11740996961</td>\n",
       "      <td>10346382453</td>\n",
       "      <td>28.999428</td>\n",
       "      <td>25.554829</td>\n",
       "      <td>True</td>\n",
       "    </tr>\n",
       "    <tr>\n",
       "      <th>74912559</th>\n",
       "      <td>11740996961</td>\n",
       "      <td>10346382453</td>\n",
       "      <td>28.999428</td>\n",
       "      <td>25.554829</td>\n",
       "      <td>True</td>\n",
       "    </tr>\n",
       "    <tr>\n",
       "      <th>40854719</th>\n",
       "      <td>11740996961</td>\n",
       "      <td>10346382453</td>\n",
       "      <td>28.999428</td>\n",
       "      <td>25.554829</td>\n",
       "      <td>True</td>\n",
       "    </tr>\n",
       "    <tr>\n",
       "      <th>133662364</th>\n",
       "      <td>11740996961</td>\n",
       "      <td>10346382453</td>\n",
       "      <td>28.999428</td>\n",
       "      <td>25.554829</td>\n",
       "      <td>True</td>\n",
       "    </tr>\n",
       "    <tr>\n",
       "      <th>66662795</th>\n",
       "      <td>11740996961</td>\n",
       "      <td>10346382453</td>\n",
       "      <td>28.999428</td>\n",
       "      <td>25.554829</td>\n",
       "      <td>True</td>\n",
       "    </tr>\n",
       "    <tr>\n",
       "      <th>3713617</th>\n",
       "      <td>11740996961</td>\n",
       "      <td>10346382453</td>\n",
       "      <td>28.999428</td>\n",
       "      <td>25.554829</td>\n",
       "      <td>True</td>\n",
       "    </tr>\n",
       "    <tr>\n",
       "      <th>27247450</th>\n",
       "      <td>11740996961</td>\n",
       "      <td>10346382453</td>\n",
       "      <td>28.999428</td>\n",
       "      <td>25.554829</td>\n",
       "      <td>True</td>\n",
       "    </tr>\n",
       "    <tr>\n",
       "      <th>3381440</th>\n",
       "      <td>11740996961</td>\n",
       "      <td>10346382453</td>\n",
       "      <td>28.999428</td>\n",
       "      <td>25.554829</td>\n",
       "      <td>True</td>\n",
       "    </tr>\n",
       "    <tr>\n",
       "      <th>88241289</th>\n",
       "      <td>11740996961</td>\n",
       "      <td>10346382453</td>\n",
       "      <td>28.999428</td>\n",
       "      <td>25.554829</td>\n",
       "      <td>True</td>\n",
       "    </tr>\n",
       "    <tr>\n",
       "      <th>58716428</th>\n",
       "      <td>11740996961</td>\n",
       "      <td>10346382453</td>\n",
       "      <td>28.999428</td>\n",
       "      <td>25.554829</td>\n",
       "      <td>True</td>\n",
       "    </tr>\n",
       "    <tr>\n",
       "      <th>91245638</th>\n",
       "      <td>11740996961</td>\n",
       "      <td>10346382453</td>\n",
       "      <td>28.999428</td>\n",
       "      <td>25.554829</td>\n",
       "      <td>True</td>\n",
       "    </tr>\n",
       "    <tr>\n",
       "      <th>89981486</th>\n",
       "      <td>11740996961</td>\n",
       "      <td>10346382453</td>\n",
       "      <td>28.999428</td>\n",
       "      <td>25.554829</td>\n",
       "      <td>True</td>\n",
       "    </tr>\n",
       "    <tr>\n",
       "      <th>39951715</th>\n",
       "      <td>11740996961</td>\n",
       "      <td>10346382453</td>\n",
       "      <td>28.999428</td>\n",
       "      <td>25.554829</td>\n",
       "      <td>True</td>\n",
       "    </tr>\n",
       "    <tr>\n",
       "      <th>115006374</th>\n",
       "      <td>11740996961</td>\n",
       "      <td>10346382453</td>\n",
       "      <td>28.999428</td>\n",
       "      <td>25.554829</td>\n",
       "      <td>True</td>\n",
       "    </tr>\n",
       "    <tr>\n",
       "      <th>6014724</th>\n",
       "      <td>11740996961</td>\n",
       "      <td>10346382453</td>\n",
       "      <td>28.999428</td>\n",
       "      <td>25.554829</td>\n",
       "      <td>True</td>\n",
       "    </tr>\n",
       "    <tr>\n",
       "      <th>121588519</th>\n",
       "      <td>11740996961</td>\n",
       "      <td>10346382453</td>\n",
       "      <td>28.999428</td>\n",
       "      <td>25.554829</td>\n",
       "      <td>True</td>\n",
       "    </tr>\n",
       "    <tr>\n",
       "      <th>47934219</th>\n",
       "      <td>11740996961</td>\n",
       "      <td>10346382453</td>\n",
       "      <td>28.999428</td>\n",
       "      <td>25.554829</td>\n",
       "      <td>True</td>\n",
       "    </tr>\n",
       "    <tr>\n",
       "      <th>18817834</th>\n",
       "      <td>11740996961</td>\n",
       "      <td>10346382453</td>\n",
       "      <td>28.999428</td>\n",
       "      <td>25.554829</td>\n",
       "      <td>True</td>\n",
       "    </tr>\n",
       "    <tr>\n",
       "      <th>14466156</th>\n",
       "      <td>11740996961</td>\n",
       "      <td>10346382453</td>\n",
       "      <td>28.999428</td>\n",
       "      <td>25.554829</td>\n",
       "      <td>True</td>\n",
       "    </tr>\n",
       "    <tr>\n",
       "      <th>102831913</th>\n",
       "      <td>11740996961</td>\n",
       "      <td>10346382453</td>\n",
       "      <td>28.999428</td>\n",
       "      <td>25.554829</td>\n",
       "      <td>True</td>\n",
       "    </tr>\n",
       "    <tr>\n",
       "      <th>125455934</th>\n",
       "      <td>11740996961</td>\n",
       "      <td>10346382453</td>\n",
       "      <td>28.999428</td>\n",
       "      <td>25.554829</td>\n",
       "      <td>True</td>\n",
       "    </tr>\n",
       "    <tr>\n",
       "      <th>112582936</th>\n",
       "      <td>11740996961</td>\n",
       "      <td>10346382453</td>\n",
       "      <td>28.999428</td>\n",
       "      <td>25.554829</td>\n",
       "      <td>True</td>\n",
       "    </tr>\n",
       "    <tr>\n",
       "      <th>87911911</th>\n",
       "      <td>11740996961</td>\n",
       "      <td>10346382453</td>\n",
       "      <td>28.999428</td>\n",
       "      <td>25.554829</td>\n",
       "      <td>True</td>\n",
       "    </tr>\n",
       "    <tr>\n",
       "      <th>120437727</th>\n",
       "      <td>11740996961</td>\n",
       "      <td>10346382453</td>\n",
       "      <td>28.999428</td>\n",
       "      <td>25.554829</td>\n",
       "      <td>True</td>\n",
       "    </tr>\n",
       "    <tr>\n",
       "      <th>73372151</th>\n",
       "      <td>11740996961</td>\n",
       "      <td>10346382453</td>\n",
       "      <td>28.999428</td>\n",
       "      <td>25.554829</td>\n",
       "      <td>True</td>\n",
       "    </tr>\n",
       "    <tr>\n",
       "      <th>34749923</th>\n",
       "      <td>11740996961</td>\n",
       "      <td>10346382453</td>\n",
       "      <td>28.999428</td>\n",
       "      <td>25.554829</td>\n",
       "      <td>True</td>\n",
       "    </tr>\n",
       "    <tr>\n",
       "      <th>129202242</th>\n",
       "      <td>11740996961</td>\n",
       "      <td>10346382453</td>\n",
       "      <td>28.999428</td>\n",
       "      <td>25.554829</td>\n",
       "      <td>True</td>\n",
       "    </tr>\n",
       "  </tbody>\n",
       "</table>\n",
       "</div>"
      ],
      "text/plain": [
       "              max_freq     min_freq  max_unigram_perp  min_unigram_perp  \\\n",
       "11014236   11740996961  10346382453         28.999428         25.554829   \n",
       "127347099  11740996961  10346382453         28.999428         25.554829   \n",
       "63601894   11740996961  10346382453         28.999428         25.554829   \n",
       "16963937   11740996961  10346382453         28.999428         25.554829   \n",
       "74912559   11740996961  10346382453         28.999428         25.554829   \n",
       "40854719   11740996961  10346382453         28.999428         25.554829   \n",
       "133662364  11740996961  10346382453         28.999428         25.554829   \n",
       "66662795   11740996961  10346382453         28.999428         25.554829   \n",
       "3713617    11740996961  10346382453         28.999428         25.554829   \n",
       "27247450   11740996961  10346382453         28.999428         25.554829   \n",
       "3381440    11740996961  10346382453         28.999428         25.554829   \n",
       "88241289   11740996961  10346382453         28.999428         25.554829   \n",
       "58716428   11740996961  10346382453         28.999428         25.554829   \n",
       "91245638   11740996961  10346382453         28.999428         25.554829   \n",
       "89981486   11740996961  10346382453         28.999428         25.554829   \n",
       "39951715   11740996961  10346382453         28.999428         25.554829   \n",
       "115006374  11740996961  10346382453         28.999428         25.554829   \n",
       "6014724    11740996961  10346382453         28.999428         25.554829   \n",
       "121588519  11740996961  10346382453         28.999428         25.554829   \n",
       "47934219   11740996961  10346382453         28.999428         25.554829   \n",
       "18817834   11740996961  10346382453         28.999428         25.554829   \n",
       "14466156   11740996961  10346382453         28.999428         25.554829   \n",
       "102831913  11740996961  10346382453         28.999428         25.554829   \n",
       "125455934  11740996961  10346382453         28.999428         25.554829   \n",
       "112582936  11740996961  10346382453         28.999428         25.554829   \n",
       "87911911   11740996961  10346382453         28.999428         25.554829   \n",
       "120437727  11740996961  10346382453         28.999428         25.554829   \n",
       "73372151   11740996961  10346382453         28.999428         25.554829   \n",
       "34749923   11740996961  10346382453         28.999428         25.554829   \n",
       "129202242  11740996961  10346382453         28.999428         25.554829   \n",
       "\n",
       "           is_memorized  \n",
       "11014236           True  \n",
       "127347099          True  \n",
       "63601894           True  \n",
       "16963937           True  \n",
       "74912559           True  \n",
       "40854719           True  \n",
       "133662364          True  \n",
       "66662795           True  \n",
       "3713617            True  \n",
       "27247450           True  \n",
       "3381440            True  \n",
       "88241289           True  \n",
       "58716428           True  \n",
       "91245638           True  \n",
       "89981486           True  \n",
       "39951715           True  \n",
       "115006374          True  \n",
       "6014724            True  \n",
       "121588519          True  \n",
       "47934219           True  \n",
       "18817834           True  \n",
       "14466156           True  \n",
       "102831913          True  \n",
       "125455934          True  \n",
       "112582936          True  \n",
       "87911911           True  \n",
       "120437727          True  \n",
       "73372151           True  \n",
       "34749923           True  \n",
       "129202242          True  "
      ]
     },
     "execution_count": 52,
     "metadata": {},
     "output_type": "execute_result"
    }
   ],
   "source": [
    "freq_results.sort_values(by = 'min_freq', ascending = False).head(30)"
   ]
  },
  {
   "cell_type": "code",
   "execution_count": 54,
   "id": "a6d04419",
   "metadata": {},
   "outputs": [
    {
     "data": {
      "text/plain": [
       "'.\\n.\\n.\\n.\\n.\\n.\\n.\\n.\\n.\\n.\\n.\\n.\\n.\\n.\\n.\\n.\\n.\\n.\\n.\\n.\\n.\\n.\\n.\\n.\\n.\\n.\\n.\\n.\\n.\\n.\\n.\\n.\\n'"
      ]
     },
     "execution_count": 54,
     "metadata": {},
     "output_type": "execute_result"
    }
   ],
   "source": [
    "tokenizer.decode(dataset[11014236][:64])"
   ]
  },
  {
   "cell_type": "code",
   "execution_count": 55,
   "id": "b6baedf1",
   "metadata": {},
   "outputs": [
    {
     "data": {
      "text/plain": [
       "'\\n.\\n\\n.\\n\\n.\\n\\n.\\n\\n.\\n\\n.\\n\\n.\\n\\n.\\n\\n.\\n\\n.\\n\\n.\\n\\n.\\n\\n.\\n\\n.\\n\\n.\\n\\n.\\n\\n.\\n\\n.\\n\\n.\\n\\n.\\n\\n.\\n\\n'"
      ]
     },
     "execution_count": 55,
     "metadata": {},
     "output_type": "execute_result"
    }
   ],
   "source": [
    "tokenizer.decode(dataset[39951715][:64])"
   ]
  },
  {
   "cell_type": "code",
   "execution_count": null,
   "id": "c5faf3c8",
   "metadata": {},
   "outputs": [],
   "source": []
  }
 ],
 "metadata": {
  "kernelspec": {
   "display_name": "Python 3 (ipykernel)",
   "language": "python",
   "name": "python3"
  },
  "language_info": {
   "codemirror_mode": {
    "name": "ipython",
    "version": 3
   },
   "file_extension": ".py",
   "mimetype": "text/x-python",
   "name": "python",
   "nbconvert_exporter": "python",
   "pygments_lexer": "ipython3",
   "version": "3.11.1"
  }
 },
 "nbformat": 4,
 "nbformat_minor": 5
}
