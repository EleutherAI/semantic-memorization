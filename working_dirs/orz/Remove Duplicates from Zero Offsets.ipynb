{
 "cells": [
  {
   "cell_type": "code",
   "execution_count": 1,
   "id": "c1e5851d",
   "metadata": {},
   "outputs": [],
   "source": [
    "import pandas as pd\n",
    "from tqdm.auto import tqdm\n",
    "import numpy as np\n",
    "\n",
    "tqdm.pandas()"
   ]
  },
  {
   "cell_type": "code",
   "execution_count": 2,
   "id": "16f5ef47",
   "metadata": {},
   "outputs": [
    {
     "name": "stdout",
     "output_type": "stream",
     "text": [
      "INFO: Pandarallel will run on 48 workers.\n",
      "INFO: Pandarallel will use Memory file system to transfer data between the main process and workers.\n"
     ]
    }
   ],
   "source": [
    "from pandarallel import pandarallel\n",
    "pandarallel.initialize(progress_bar = True)"
   ]
  },
  {
   "cell_type": "code",
   "execution_count": 3,
   "id": "73d6a772",
   "metadata": {},
   "outputs": [],
   "source": [
    "data = pd.read_parquet(\"standard_counts.parquet\")"
   ]
  },
  {
   "cell_type": "code",
   "execution_count": 4,
   "id": "b299f49c",
   "metadata": {},
   "outputs": [],
   "source": [
    "from collections import defaultdict\n",
    "groups = defaultdict(list)\n",
    "\n",
    "unique_indicies = []"
   ]
  },
  {
   "cell_type": "code",
   "execution_count": 5,
   "id": "e60149de",
   "metadata": {},
   "outputs": [
    {
     "data": {
      "application/vnd.jupyter.widget-view+json": {
       "model_id": "ba3897df47ca4e41893aa206bd6dd758",
       "version_major": 2,
       "version_minor": 0
      },
      "text/plain": [
       "  0%|          | 0/146432000 [00:00<?, ?it/s]"
      ]
     },
     "metadata": {},
     "output_type": "display_data"
    }
   ],
   "source": [
    "for row in tqdm(data.itertuples(), total = len(data)):\n",
    "    groups[row.Hash].append(row._1)"
   ]
  },
  {
   "cell_type": "code",
   "execution_count": 6,
   "id": "36d1b4e2",
   "metadata": {},
   "outputs": [
    {
     "data": {
      "application/vnd.jupyter.widget-view+json": {
       "model_id": "818e98750a624f6ebbc08e190ea16a2e",
       "version_major": 2,
       "version_minor": 0
      },
      "text/plain": [
       "  0%|          | 0/145907878 [00:00<?, ?it/s]"
      ]
     },
     "metadata": {},
     "output_type": "display_data"
    }
   ],
   "source": [
    "removable_hashes = []\n",
    "for group_hash in tqdm(groups.keys()):\n",
    "    if len(groups[group_hash]) < 2:\n",
    "        removable_hashes.append(group_hash)"
   ]
  },
  {
   "cell_type": "code",
   "execution_count": 7,
   "id": "fc3aee63",
   "metadata": {},
   "outputs": [
    {
     "data": {
      "application/vnd.jupyter.widget-view+json": {
       "model_id": "cb46eac279d8486480ed9283bbd5d164",
       "version_major": 2,
       "version_minor": 0
      },
      "text/plain": [
       "  0%|          | 0/145644401 [00:00<?, ?it/s]"
      ]
     },
     "metadata": {},
     "output_type": "display_data"
    }
   ],
   "source": [
    "for group_hash in tqdm(removable_hashes):\n",
    "    index = groups.pop(group_hash)[0]\n",
    "    unique_indicies.append(index)"
   ]
  },
  {
   "cell_type": "code",
   "execution_count": 10,
   "id": "6f5e0e42",
   "metadata": {
    "scrolled": true
   },
   "outputs": [
    {
     "name": "stdout",
     "output_type": "stream",
     "text": [
      "    reading sizes...\n",
      "    reading pointers...\n",
      "    reading document index...\n",
      "    creating numpy buffer of mmap...\n",
      "    creating memory view of numpy buffer...\n"
     ]
    }
   ],
   "source": [
    "from mmap_dataset import MMapIndexedDataset\n",
    "\n",
    "dataset = MMapIndexedDataset('/scratch/pile/standard/document', skip_warmup = True)\n",
    "\n",
    "def get_arr_from_idx(idx):\n",
    "    return dataset[idx][:64]"
   ]
  },
  {
   "cell_type": "code",
   "execution_count": 11,
   "id": "06ac4c97",
   "metadata": {},
   "outputs": [
    {
     "data": {
      "application/vnd.jupyter.widget-view+json": {
       "model_id": "7befe18560714ba1aa317640de6de6ea",
       "version_major": 2,
       "version_minor": 0
      },
      "text/plain": [
       "  0%|          | 0/263477 [00:00<?, ?it/s]"
      ]
     },
     "metadata": {},
     "output_type": "display_data"
    }
   ],
   "source": [
    "for indicies in tqdm(groups.values()):\n",
    "    duplicate_indicies = set()\n",
    "    for i in range(len(indicies)):\n",
    "        if indicies[i] in duplicate_indicies:\n",
    "            continue\n",
    "        \n",
    "        unique_indicies.append(indicies[i])\n",
    "        for j in range(i+1, len(indicies)):\n",
    "            arr1 = get_arr_from_idx(i)\n",
    "            arr2 = get_arr_from_idx(j)\n",
    "            if (arr1 == arr2).all():\n",
    "                duplicate_indicies.add(indicies[j])\n",
    "        "
   ]
  },
  {
   "cell_type": "code",
   "execution_count": null,
   "id": "311abf32",
   "metadata": {},
   "outputs": [],
   "source": []
  }
 ],
 "metadata": {
  "kernelspec": {
   "display_name": "Python 3 (ipykernel)",
   "language": "python",
   "name": "python3"
  },
  "language_info": {
   "codemirror_mode": {
    "name": "ipython",
    "version": 3
   },
   "file_extension": ".py",
   "mimetype": "text/x-python",
   "name": "python",
   "nbconvert_exporter": "python",
   "pygments_lexer": "ipython3",
   "version": "3.8.10"
  }
 },
 "nbformat": 4,
 "nbformat_minor": 5
}
