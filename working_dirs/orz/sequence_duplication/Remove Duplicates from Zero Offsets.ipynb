{
 "cells": [
  {
   "cell_type": "markdown",
   "id": "7c5d5eea",
   "metadata": {},
   "source": [
    "# Importing Libraries"
   ]
  },
  {
   "cell_type": "code",
   "execution_count": 1,
   "id": "c1e5851d",
   "metadata": {},
   "outputs": [],
   "source": [
    "import pandas as pd\n",
    "from tqdm.auto import tqdm\n",
    "import numpy as np\n",
    "\n",
    "tqdm.pandas()"
   ]
  },
  {
   "cell_type": "code",
   "execution_count": 2,
   "id": "16f5ef47",
   "metadata": {},
   "outputs": [
    {
     "name": "stdout",
     "output_type": "stream",
     "text": [
      "INFO: Pandarallel will run on 48 workers.\n",
      "INFO: Pandarallel will use Memory file system to transfer data between the main process and workers.\n"
     ]
    }
   ],
   "source": [
    "from pandarallel import pandarallel\n",
    "pandarallel.initialize(progress_bar = True)"
   ]
  },
  {
   "cell_type": "markdown",
   "id": "34f45277",
   "metadata": {},
   "source": [
    "# Load Asymptotic Counts\n",
    "> Allows for us to load hash of each sequence"
   ]
  },
  {
   "cell_type": "code",
   "execution_count": 3,
   "id": "73d6a772",
   "metadata": {},
   "outputs": [],
   "source": [
    "data = pd.read_parquet(\"results/deduped_counts.parquet\")"
   ]
  },
  {
   "cell_type": "markdown",
   "id": "b16d3482",
   "metadata": {},
   "source": [
    "# Calculate Unique Indicies"
   ]
  },
  {
   "cell_type": "code",
   "execution_count": 4,
   "id": "b299f49c",
   "metadata": {},
   "outputs": [],
   "source": [
    "from collections import defaultdict\n",
    "groups = defaultdict(list)\n",
    "\n",
    "unique_indicies = []"
   ]
  },
  {
   "cell_type": "code",
   "execution_count": 5,
   "id": "e60149de",
   "metadata": {},
   "outputs": [
    {
     "data": {
      "application/vnd.jupyter.widget-view+json": {
       "model_id": "8497dc3c4aa14002b7f56c942a35fd65",
       "version_major": 2,
       "version_minor": 0
      },
      "text/plain": [
       "  0%|          | 0/146432000 [00:00<?, ?it/s]"
      ]
     },
     "metadata": {},
     "output_type": "display_data"
    }
   ],
   "source": [
    "for row in tqdm(data.itertuples(), total = len(data)):\n",
    "    groups[row.Hash].append(row._1)"
   ]
  },
  {
   "cell_type": "code",
   "execution_count": 6,
   "id": "36d1b4e2",
   "metadata": {},
   "outputs": [
    {
     "data": {
      "application/vnd.jupyter.widget-view+json": {
       "model_id": "70265129dcad4c6da27d6a849d51be85",
       "version_major": 2,
       "version_minor": 0
      },
      "text/plain": [
       "  0%|          | 0/146025205 [00:00<?, ?it/s]"
      ]
     },
     "metadata": {},
     "output_type": "display_data"
    }
   ],
   "source": [
    "removable_hashes = []\n",
    "for group_hash in tqdm(groups.keys()):\n",
    "    if len(groups[group_hash]) < 2:\n",
    "        removable_hashes.append(group_hash)"
   ]
  },
  {
   "cell_type": "code",
   "execution_count": 7,
   "id": "fc3aee63",
   "metadata": {},
   "outputs": [
    {
     "data": {
      "application/vnd.jupyter.widget-view+json": {
       "model_id": "fcecd0f6d641445abfe09387418bd479",
       "version_major": 2,
       "version_minor": 0
      },
      "text/plain": [
       "  0%|          | 0/145841274 [00:00<?, ?it/s]"
      ]
     },
     "metadata": {},
     "output_type": "display_data"
    }
   ],
   "source": [
    "for group_hash in tqdm(removable_hashes):\n",
    "    index = groups.pop(group_hash)[0]\n",
    "    unique_indicies.append(index)"
   ]
  },
  {
   "cell_type": "code",
   "execution_count": 8,
   "id": "6f5e0e42",
   "metadata": {
    "scrolled": true
   },
   "outputs": [
    {
     "name": "stdout",
     "output_type": "stream",
     "text": [
      "    reading sizes...\n",
      "    reading pointers...\n",
      "    reading document index...\n",
      "    creating numpy buffer of mmap...\n",
      "    creating memory view of numpy buffer...\n"
     ]
    }
   ],
   "source": [
    "from mmap_dataset import MMapIndexedDataset\n",
    "\n",
    "pile_dataset = MMapIndexedDataset('/scratch/pile/deduped/document', skip_warmup = True)\n",
    "\n",
    "def get_arr_from_idx(idx):\n",
    "    return pile_dataset[idx][:64]"
   ]
  },
  {
   "cell_type": "code",
   "execution_count": 9,
   "id": "06ac4c97",
   "metadata": {},
   "outputs": [
    {
     "data": {
      "application/vnd.jupyter.widget-view+json": {
       "model_id": "77defb1541354c3c8633667da44d3603",
       "version_major": 2,
       "version_minor": 0
      },
      "text/plain": [
       "  0%|          | 0/183931 [00:00<?, ?it/s]"
      ]
     },
     "metadata": {},
     "output_type": "display_data"
    }
   ],
   "source": [
    "for key, indicies in tqdm(groups.items()):\n",
    "    duplicate_indicies = set()\n",
    "    for i in range(len(indicies)):\n",
    "        if indicies[i] in duplicate_indicies:\n",
    "            continue\n",
    "        \n",
    "        unique_indicies.append(indicies[i])\n",
    "        for j in range(i+1, len(indicies)):\n",
    "            arr1 = get_arr_from_idx(indicies[i])\n",
    "            arr2 = get_arr_from_idx(indicies[j])\n",
    "            if (arr1 == arr2).all():\n",
    "                duplicate_indicies.add(indicies[j])\n",
    "        "
   ]
  },
  {
   "cell_type": "code",
   "execution_count": 10,
   "id": "311abf32",
   "metadata": {
    "scrolled": true
   },
   "outputs": [],
   "source": [
    "import pickle\n",
    "with open('results/deduped_unique_indicies.pkl', 'wb') as f:\n",
    "    pickle.dump(unique_indicies, f)"
   ]
  },
  {
   "cell_type": "markdown",
   "id": "dfbb8225",
   "metadata": {},
   "source": [
    "# Load Unique Indicies"
   ]
  },
  {
   "cell_type": "code",
   "execution_count": 11,
   "id": "0bae00f1",
   "metadata": {},
   "outputs": [],
   "source": [
    "import pickle\n",
    "with open('results/standard_unique_indicies.pkl', 'rb') as f:\n",
    "    unique_indicies = set(pickle.load(f))"
   ]
  },
  {
   "cell_type": "markdown",
   "id": "995e3fbd",
   "metadata": {},
   "source": [
    "# Load Model Memorization Scores"
   ]
  },
  {
   "cell_type": "code",
   "execution_count": 12,
   "id": "0438bec6",
   "metadata": {},
   "outputs": [],
   "source": [
    "models = ['70M', '160M', '410M', '1B', '1.4B', '2.8B', '6.9B', '12B']"
   ]
  },
  {
   "cell_type": "code",
   "execution_count": 13,
   "id": "d9b3bef5",
   "metadata": {},
   "outputs": [
    {
     "data": {
      "application/vnd.jupyter.widget-view+json": {
       "model_id": "8aa5ec9032924295bd1be66bf08eb3ac",
       "version_major": 2,
       "version_minor": 0
      },
      "text/plain": [
       "  0%|          | 0/8 [00:00<?, ?it/s]"
      ]
     },
     "metadata": {},
     "output_type": "display_data"
    }
   ],
   "source": [
    "for model in tqdm(models):\n",
    "    memorization_evals = pd.read_hdf(f\"/fsx/orz/memorization-evals/evals_32/memorization_{model}_143000.hdf\", key = 'memorization')\n",
    "    data[model] = memorization_evals['accuracy'].to_numpy()"
   ]
  },
  {
   "cell_type": "code",
   "execution_count": 14,
   "id": "56c3642f",
   "metadata": {},
   "outputs": [
    {
     "data": {
      "application/vnd.jupyter.widget-view+json": {
       "model_id": "cc1c036d3b69463b8d0eca1b9c1cda57",
       "version_major": 2,
       "version_minor": 0
      },
      "text/plain": [
       "  0%|          | 0/146432000 [00:00<?, ?it/s]"
      ]
     },
     "metadata": {},
     "output_type": "display_data"
    }
   ],
   "source": [
    "data = data[data['Index'].progress_map(lambda x:x in unique_indicies)]"
   ]
  },
  {
   "cell_type": "markdown",
   "id": "436663f6",
   "metadata": {},
   "source": [
    "# Select a representative, small sample"
   ]
  },
  {
   "cell_type": "code",
   "execution_count": 15,
   "id": "e26f1360",
   "metadata": {},
   "outputs": [],
   "source": [
    "data = data.sample(5_000_000)"
   ]
  },
  {
   "cell_type": "code",
   "execution_count": 16,
   "id": "97e74632",
   "metadata": {},
   "outputs": [
    {
     "data": {
      "application/vnd.jupyter.widget-view+json": {
       "model_id": "3ffef711ea4c4857a2640607c4cd7621",
       "version_major": 2,
       "version_minor": 0
      },
      "text/plain": [
       "VBox(children=(HBox(children=(IntProgress(value=0, description='0.00%', max=104167), Label(value='0 / 104167')…"
      ]
     },
     "metadata": {},
     "output_type": "display_data"
    }
   ],
   "source": [
    "data['Tokens'] = data['Index'].parallel_map(get_arr_from_idx)"
   ]
  },
  {
   "cell_type": "code",
   "execution_count": 17,
   "id": "828b4e8a",
   "metadata": {},
   "outputs": [],
   "source": [
    "from datasets import Dataset"
   ]
  },
  {
   "cell_type": "code",
   "execution_count": 18,
   "id": "70e18189",
   "metadata": {},
   "outputs": [],
   "source": [
    "dataset = Dataset.from_pandas(data)"
   ]
  },
  {
   "cell_type": "code",
   "execution_count": 20,
   "id": "5bd1130f",
   "metadata": {},
   "outputs": [
    {
     "data": {
      "text/plain": [
       "Dataset({\n",
       "    features: ['Index', 'Offset', 'Hash', 'count', '70M', '160M', '410M', '1B', '1.4B', '2.8B', '6.9B', '12B', 'Tokens', '__index_level_0__'],\n",
       "    num_rows: 5000000\n",
       "})"
      ]
     },
     "execution_count": 20,
     "metadata": {},
     "output_type": "execute_result"
    }
   ],
   "source": [
    "dataset"
   ]
  },
  {
   "cell_type": "code",
   "execution_count": 21,
   "id": "29c5e9d6",
   "metadata": {},
   "outputs": [],
   "source": [
    "dataset = dataset.remove_columns(['__index_level_0__', 'Offset', 'Hash', 'count'])"
   ]
  },
  {
   "cell_type": "code",
   "execution_count": 22,
   "id": "9571ed44",
   "metadata": {},
   "outputs": [
    {
     "data": {
      "text/plain": [
       "Dataset({\n",
       "    features: ['Index', '70M', '160M', '410M', '1B', '1.4B', '2.8B', '6.9B', '12B', 'Tokens'],\n",
       "    num_rows: 5000000\n",
       "})"
      ]
     },
     "execution_count": 22,
     "metadata": {},
     "output_type": "execute_result"
    }
   ],
   "source": [
    "dataset"
   ]
  },
  {
   "cell_type": "code",
   "execution_count": 23,
   "id": "1c722e76",
   "metadata": {},
   "outputs": [
    {
     "data": {
      "application/vnd.jupyter.widget-view+json": {
       "model_id": "0fc6cf0f38b0490886f43037e65dd0bd",
       "version_major": 2,
       "version_minor": 0
      },
      "text/plain": [
       "Pushing dataset shards to the dataset hub:   0%|          | 0/1 [00:00<?, ?it/s]"
      ]
     },
     "metadata": {},
     "output_type": "display_data"
    },
    {
     "data": {
      "application/vnd.jupyter.widget-view+json": {
       "model_id": "d08d9420e6ac4333896e7994cb258a9b",
       "version_major": 2,
       "version_minor": 0
      },
      "text/plain": [
       "Creating parquet from Arrow format:   0%|          | 0/5000 [00:00<?, ?ba/s]"
      ]
     },
     "metadata": {},
     "output_type": "display_data"
    },
    {
     "data": {
      "application/vnd.jupyter.widget-view+json": {
       "model_id": "e5d3780ec02745459f0935609a5dceb6",
       "version_major": 2,
       "version_minor": 0
      },
      "text/plain": [
       "Upload 1 LFS files:   0%|          | 0/1 [00:00<?, ?it/s]"
      ]
     },
     "metadata": {},
     "output_type": "display_data"
    },
    {
     "data": {
      "application/vnd.jupyter.widget-view+json": {
       "model_id": "1397cd81b8374dc58162478dc0d51404",
       "version_major": 2,
       "version_minor": 0
      },
      "text/plain": [
       "Deleting unused files from dataset repository:   0%|          | 0/3 [00:00<?, ?it/s]"
      ]
     },
     "metadata": {},
     "output_type": "display_data"
    },
    {
     "name": "stderr",
     "output_type": "stream",
     "text": [
      "Updating downloaded metadata with the new split.\n"
     ]
    }
   ],
   "source": [
    "dataset.push_to_hub(\"EleutherAI/pile-duped-pythia-random-sampled\", max_shard_size = '5GB')"
   ]
  },
  {
   "cell_type": "code",
   "execution_count": null,
   "id": "bf8ed878",
   "metadata": {},
   "outputs": [],
   "source": []
  }
 ],
 "metadata": {
  "kernelspec": {
   "display_name": "Python 3 (ipykernel)",
   "language": "python",
   "name": "python3"
  },
  "language_info": {
   "codemirror_mode": {
    "name": "ipython",
    "version": 3
   },
   "file_extension": ".py",
   "mimetype": "text/x-python",
   "name": "python",
   "nbconvert_exporter": "python",
   "pygments_lexer": "ipython3",
   "version": "3.8.10"
  }
 },
 "nbformat": 4,
 "nbformat_minor": 5
}
