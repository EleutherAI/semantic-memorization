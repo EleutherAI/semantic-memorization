{
 "cells": [
  {
   "cell_type": "code",
   "execution_count": 5,
   "metadata": {},
   "outputs": [],
   "source": [
    "import os\n",
    "import pandas as pd\n",
    "from tqdm import tqdm\n",
    "from huggingface_hub import HfApi\n",
    "from datasets import load_dataset, Dataset"
   ]
  },
  {
   "cell_type": "code",
   "execution_count": 17,
   "metadata": {},
   "outputs": [
    {
     "data": {
      "text/plain": [
       "RepoUrl('https://huggingface.co/datasets/Kyle1668/pythia-semantic-memorization-perplexities', endpoint='https://huggingface.co', repo_type='dataset', repo_id='Kyle1668/pythia-semantic-memorization-perplexities')"
      ]
     },
     "execution_count": 17,
     "metadata": {},
     "output_type": "execute_result"
    }
   ],
   "source": [
    "api = HfApi()\n",
    "api.create_repo(\"pythia-semantic-memorization-perplexities\", repo_type=\"dataset\")"
   ]
  },
  {
   "cell_type": "code",
   "execution_count": 24,
   "metadata": {},
   "outputs": [
    {
     "name": "stderr",
     "output_type": "stream",
     "text": [
      "  0%|          | 0/1 [00:00<?, ?it/s]"
     ]
    },
    {
     "name": "stdout",
     "output_type": "stream",
     "text": [
      "Uploading pile_duped_12b.csv...\n"
     ]
    },
    {
     "name": "stderr",
     "output_type": "stream",
     "text": [
      "pile_duped_12b.csv: 100%|██████████| 207M/207M [00:03<00:00, 52.6MB/s]\n",
      "100%|██████████| 1/1 [00:04<00:00,  4.88s/it]\n"
     ]
    }
   ],
   "source": [
    "deduped_path = \"/home/kyle/repos/semantic-memorization/datasets/2023-08-07_22-32-14\"\n",
    "for file_name in tqdm(os.listdir(deduped_path)):\n",
    "    print(f\"Uploading {file_name}...\")\n",
    "    \n",
    "    api.upload_file(\n",
    "        path_or_fileobj=f\"{deduped_path}/{file_name}\",\n",
    "        path_in_repo=f\"{file_name}\",\n",
    "        repo_id=\"Kyle1668/pythia-semantic-memorization-perplexities\",\n",
    "        repo_type=\"dataset\",\n",
    "    )"
   ]
  },
  {
   "cell_type": "code",
   "execution_count": null,
   "metadata": {},
   "outputs": [],
   "source": []
  }
 ],
 "metadata": {
  "kernelspec": {
   "display_name": "memorization",
   "language": "python",
   "name": "python3"
  },
  "language_info": {
   "codemirror_mode": {
    "name": "ipython",
    "version": 3
   },
   "file_extension": ".py",
   "mimetype": "text/x-python",
   "name": "python",
   "nbconvert_exporter": "python",
   "pygments_lexer": "ipython3",
   "version": "3.10.11"
  },
  "orig_nbformat": 4
 },
 "nbformat": 4,
 "nbformat_minor": 2
}
