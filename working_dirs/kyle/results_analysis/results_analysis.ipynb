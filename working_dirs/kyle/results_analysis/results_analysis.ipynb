{
 "cells": [
  {
   "cell_type": "code",
   "execution_count": 1,
   "metadata": {},
   "outputs": [
    {
     "name": "stderr",
     "output_type": "stream",
     "text": [
      "/home/mchorse/miniconda3/envs/memorization/lib/python3.10/site-packages/tqdm/auto.py:21: TqdmWarning: IProgress not found. Please update jupyter and ipywidgets. See https://ipywidgets.readthedocs.io/en/stable/user_install.html\n",
      "  from .autonotebook import tqdm as notebook_tqdm\n"
     ]
    }
   ],
   "source": [
    "import json\n",
    "import pandas as pd\n",
    "import seaborn as sns\n",
    "import matplotlib.pyplot as plt\n",
    "from datasets import load_dataset, get_dataset_split_names, DatasetDict\n",
    "from tqdm import tqdm\n",
    "\n",
    "sns.set_color_codes(\"colorblind\")\n",
    "sns.set_theme(style=\"darkgrid\")\n",
    "sns.set_context(\"talk\")\n",
    "tqdm.pandas()"
   ]
  },
  {
   "cell_type": "markdown",
   "metadata": {},
   "source": [
    "## Load Datasets"
   ]
  },
  {
   "cell_type": "code",
   "execution_count": 2,
   "metadata": {},
   "outputs": [],
   "source": [
    "split_sample_size = None\n",
    "label_title_padding = 10\n",
    "study_pile = False\n",
    "RECITATION_THRESHOLD = 2"
   ]
  },
  {
   "cell_type": "code",
   "execution_count": 3,
   "metadata": {},
   "outputs": [
    {
     "name": "stdout",
     "output_type": "stream",
     "text": [
      "['memories_deduped_410m', 'memories_deduped_1.4b', 'memories_deduped_6.9b', 'memories_deduped_1b', 'memories_deduped_12b', 'memories_deduped_70m', 'memories_deduped_2.8b', 'memories_deduped_160m', 'memories_deduped_12b.43000', 'memories_deduped_12b.103000', 'memories_deduped_12b.83000', 'memories_deduped_12b.63000', 'memories_deduped_12b.123000', 'memories_deduped_12b.23000']\n"
     ]
    }
   ],
   "source": [
    "memories_path = \"usvsnsp/generation-semantic-filters\"\n",
    "intermediate_path = \"usvsnsp/generation-semantic-intermediate-filters\"\n",
    "memories_dataset = DatasetDict()\n",
    "splits = [split for split in get_dataset_split_names(memories_path) if \"deduped\" in split] + get_dataset_split_names(intermediate_path)\n",
    "# drop splits with \"pile\" in the name\n",
    "splits = [split for split in splits if \"pile\" not in split and \"deduped\" in split]\n",
    "print(splits)"
   ]
  },
  {
   "cell_type": "code",
   "execution_count": 4,
   "metadata": {},
   "outputs": [
    {
     "name": "stdout",
     "output_type": "stream",
     "text": [
      "Loading datasets...\n",
      "Split sample size: None\n"
     ]
    },
    {
     "name": "stderr",
     "output_type": "stream",
     "text": [
      "100%|██████████| 14/14 [02:06<00:00,  9.05s/it]\n"
     ]
    },
    {
     "data": {
      "text/plain": [
       "DatasetDict({\n",
       "    deduped.410m: Dataset({\n",
       "        features: ['sequence_id', 'tokens', 'text', 'is_incrementing', 'is_repeating', 'sequence_duplicates', 'max_frequency', 'avg_frequency', 'min_frequency', 'median_frequency', 'p25_frequency', 'p75_frequency', 'frequencies', 'nl_scores', '0_8_snowclones', '0_9_snowclones', '0_8_templates', '0_9_templates', 'huffman_coding_length', 'memorization_score', 'generation_perplexity', 'prompt_perplexity', 'sequence_perplexity'],\n",
       "        num_rows: 811040\n",
       "    })\n",
       "    deduped.1.4b: Dataset({\n",
       "        features: ['sequence_id', 'tokens', 'text', 'is_incrementing', 'is_repeating', 'sequence_duplicates', 'max_frequency', 'avg_frequency', 'min_frequency', 'median_frequency', 'p25_frequency', 'p75_frequency', 'frequencies', 'nl_scores', '0_8_snowclones', '0_9_snowclones', '0_8_templates', '0_9_templates', 'huffman_coding_length', 'memorization_score', 'generation_perplexity', 'prompt_perplexity', 'sequence_perplexity'],\n",
       "        num_rows: 1048097\n",
       "    })\n",
       "    deduped.6.9b: Dataset({\n",
       "        features: ['sequence_id', 'tokens', 'text', 'is_incrementing', 'is_repeating', 'sequence_duplicates', 'max_frequency', 'avg_frequency', 'min_frequency', 'median_frequency', 'p25_frequency', 'p75_frequency', 'frequencies', 'nl_scores', '0_8_snowclones', '0_9_snowclones', '0_8_templates', '0_9_templates', 'huffman_coding_length', 'memorization_score', 'generation_perplexity', 'prompt_perplexity', 'sequence_perplexity'],\n",
       "        num_rows: 1680294\n",
       "    })\n",
       "    deduped.1b: Dataset({\n",
       "        features: ['sequence_id', 'tokens', 'text', 'is_incrementing', 'is_repeating', 'sequence_duplicates', 'max_frequency', 'avg_frequency', 'min_frequency', 'median_frequency', 'p25_frequency', 'p75_frequency', 'frequencies', 'nl_scores', '0_8_snowclones', '0_9_snowclones', '0_8_templates', '0_9_templates', 'huffman_coding_length', 'memorization_score', 'generation_perplexity', 'prompt_perplexity', 'sequence_perplexity'],\n",
       "        num_rows: 1032872\n",
       "    })\n",
       "    deduped.12b: Dataset({\n",
       "        features: ['sequence_id', 'tokens', 'text', 'is_incrementing', 'is_repeating', 'sequence_duplicates', 'max_frequency', 'avg_frequency', 'min_frequency', 'median_frequency', 'p25_frequency', 'p75_frequency', 'frequencies', 'nl_scores', '0_8_snowclones', '0_9_snowclones', '0_8_templates', '0_9_templates', 'huffman_coding_length', 'memorization_score', 'generation_perplexity', 'prompt_perplexity', 'sequence_perplexity'],\n",
       "        num_rows: 1871216\n",
       "    })\n",
       "    deduped.70m: Dataset({\n",
       "        features: ['sequence_id', 'tokens', 'text', 'is_incrementing', 'is_repeating', 'sequence_duplicates', 'max_frequency', 'avg_frequency', 'min_frequency', 'median_frequency', 'p25_frequency', 'p75_frequency', 'frequencies', 'nl_scores', '0_8_snowclones', '0_9_snowclones', '0_8_templates', '0_9_templates', 'huffman_coding_length', 'memorization_score', 'generation_perplexity', 'prompt_perplexity', 'sequence_perplexity'],\n",
       "        num_rows: 411448\n",
       "    })\n",
       "    deduped.2.8b: Dataset({\n",
       "        features: ['sequence_id', 'tokens', 'text', 'is_incrementing', 'is_repeating', 'sequence_duplicates', 'max_frequency', 'avg_frequency', 'min_frequency', 'median_frequency', 'p25_frequency', 'p75_frequency', 'frequencies', 'nl_scores', '0_8_snowclones', '0_9_snowclones', '0_8_templates', '0_9_templates', 'huffman_coding_length', 'memorization_score', 'generation_perplexity', 'prompt_perplexity', 'sequence_perplexity'],\n",
       "        num_rows: 1355211\n",
       "    })\n",
       "    deduped.160m: Dataset({\n",
       "        features: ['sequence_id', 'tokens', 'text', 'is_incrementing', 'is_repeating', 'sequence_duplicates', 'max_frequency', 'avg_frequency', 'min_frequency', 'median_frequency', 'p25_frequency', 'p75_frequency', 'frequencies', 'nl_scores', '0_8_snowclones', '0_9_snowclones', '0_8_templates', '0_9_templates', 'huffman_coding_length', 'memorization_score', 'generation_perplexity', 'prompt_perplexity', 'sequence_perplexity'],\n",
       "        num_rows: 581200\n",
       "    })\n",
       "    deduped.12b.43000: Dataset({\n",
       "        features: ['sequence_id', 'tokens', 'text', 'is_incrementing', 'is_repeating', 'sequence_duplicates', 'max_frequency', 'avg_frequency', 'min_frequency', 'median_frequency', 'p25_frequency', 'p75_frequency', 'frequencies', 'nl_scores', 'huffman_coding_length', 'memorization_score'],\n",
       "        num_rows: 358863\n",
       "    })\n",
       "    deduped.12b.103000: Dataset({\n",
       "        features: ['sequence_id', 'tokens', 'text', 'is_incrementing', 'is_repeating', 'sequence_duplicates', 'max_frequency', 'avg_frequency', 'min_frequency', 'median_frequency', 'p25_frequency', 'p75_frequency', 'frequencies', 'nl_scores', 'huffman_coding_length', 'memorization_score'],\n",
       "        num_rows: 1195578\n",
       "    })\n",
       "    deduped.12b.83000: Dataset({\n",
       "        features: ['sequence_id', 'tokens', 'text', 'is_incrementing', 'is_repeating', 'sequence_duplicates', 'max_frequency', 'avg_frequency', 'min_frequency', 'median_frequency', 'p25_frequency', 'p75_frequency', 'frequencies', 'nl_scores', 'huffman_coding_length', 'memorization_score'],\n",
       "        num_rows: 852068\n",
       "    })\n",
       "    deduped.12b.63000: Dataset({\n",
       "        features: ['sequence_id', 'tokens', 'text', 'is_incrementing', 'is_repeating', 'sequence_duplicates', 'max_frequency', 'avg_frequency', 'min_frequency', 'median_frequency', 'p25_frequency', 'p75_frequency', 'frequencies', 'nl_scores', 'huffman_coding_length', 'memorization_score'],\n",
       "        num_rows: 585067\n",
       "    })\n",
       "    deduped.12b.123000: Dataset({\n",
       "        features: ['sequence_id', 'tokens', 'text', 'is_incrementing', 'is_repeating', 'sequence_duplicates', 'max_frequency', 'avg_frequency', 'min_frequency', 'median_frequency', 'p25_frequency', 'p75_frequency', 'frequencies', 'nl_scores', 'huffman_coding_length', 'memorization_score'],\n",
       "        num_rows: 1564055\n",
       "    })\n",
       "    deduped.12b.23000: Dataset({\n",
       "        features: ['sequence_id', 'tokens', 'text', 'is_incrementing', 'is_repeating', 'sequence_duplicates', 'max_frequency', 'avg_frequency', 'min_frequency', 'median_frequency', 'p25_frequency', 'p75_frequency', 'frequencies', 'nl_scores', 'huffman_coding_length', 'memorization_score'],\n",
       "        num_rows: 163418\n",
       "    })\n",
       "})"
      ]
     },
     "execution_count": 4,
     "metadata": {},
     "output_type": "execute_result"
    }
   ],
   "source": [
    "print(\"Loading datasets...\")\n",
    "print(f\"Split sample size: {split_sample_size}\")\n",
    "\n",
    "for split in tqdm(splits):\n",
    "    model = split.split(\"_\")[-1]\n",
    "    checkpoint = int(split.split(\".\")[-1]) if split.split(\".\")[-1][1].isnumeric() else \"Final\"\n",
    "    formatted_split_name = split.replace(\"memories_\", \"\").replace(\"deduped_\", \"deduped.\")\n",
    "    dataset_path = memories_path if checkpoint == \"Final\" else intermediate_path\n",
    "    memories_dataset[formatted_split_name] = load_dataset(dataset_path, split=f\"{split}[:{split_sample_size}]\" if split_sample_size else split)\n",
    "\n",
    "memories_dataset"
   ]
  },
  {
   "cell_type": "code",
   "execution_count": 5,
   "metadata": {},
   "outputs": [],
   "source": [
    "split_to_param_count = {\n",
    "    \"70m\": 70000000,\n",
    "    \"160m\": 160000000,\n",
    "    \"410m\": 410000000,\n",
    "    \"1b\": 1000000000,\n",
    "    \"1.4b\": 1400000000,\n",
    "    \"2.8b\": 2800000000,\n",
    "    \"6.9b\": 6900000000,\n",
    "    \"12b\": 12000000000,\n",
    "}"
   ]
  },
  {
   "cell_type": "code",
   "execution_count": 6,
   "metadata": {},
   "outputs": [
    {
     "name": "stderr",
     "output_type": "stream",
     "text": [
      "Loading Memories:   7%|▋         | 1/14 [00:01<00:17,  1.35s/it]"
     ]
    },
    {
     "name": "stdout",
     "output_type": "stream",
     "text": [
      "Model: 410m from deduped.410m\n",
      "Model: 1.4b from deduped.1.4b\n"
     ]
    },
    {
     "name": "stderr",
     "output_type": "stream",
     "text": [
      "Loading Memories:  14%|█▍        | 2/14 [00:03<00:21,  1.79s/it]"
     ]
    },
    {
     "name": "stdout",
     "output_type": "stream",
     "text": [
      "Model: 6.9b from deduped.6.9b\n"
     ]
    },
    {
     "name": "stderr",
     "output_type": "stream",
     "text": [
      "Loading Memories:  21%|██▏       | 3/14 [00:06<00:28,  2.58s/it]"
     ]
    },
    {
     "name": "stdout",
     "output_type": "stream",
     "text": [
      "Model: 1b from deduped.1b\n"
     ]
    },
    {
     "name": "stderr",
     "output_type": "stream",
     "text": [
      "Loading Memories:  29%|██▊       | 4/14 [00:09<00:25,  2.55s/it]"
     ]
    },
    {
     "name": "stdout",
     "output_type": "stream",
     "text": [
      "Model: 12b from deduped.12b\n"
     ]
    },
    {
     "name": "stderr",
     "output_type": "stream",
     "text": [
      "Loading Memories:  36%|███▌      | 5/14 [00:13<00:28,  3.15s/it]"
     ]
    },
    {
     "name": "stdout",
     "output_type": "stream",
     "text": [
      "Model: 70m from deduped.70m\n"
     ]
    },
    {
     "name": "stderr",
     "output_type": "stream",
     "text": [
      "Loading Memories:  43%|████▎     | 6/14 [00:15<00:20,  2.57s/it]"
     ]
    },
    {
     "name": "stdout",
     "output_type": "stream",
     "text": [
      "Model: 2.8b from deduped.2.8b\n"
     ]
    },
    {
     "name": "stderr",
     "output_type": "stream",
     "text": [
      "Loading Memories:  50%|█████     | 7/14 [00:18<00:19,  2.80s/it]"
     ]
    },
    {
     "name": "stdout",
     "output_type": "stream",
     "text": [
      "Model: 160m from deduped.160m\n"
     ]
    },
    {
     "name": "stderr",
     "output_type": "stream",
     "text": [
      "Loading Memories:  57%|█████▋    | 8/14 [00:20<00:15,  2.57s/it]"
     ]
    },
    {
     "name": "stdout",
     "output_type": "stream",
     "text": [
      "Model: 12b from deduped.12b.43000\n"
     ]
    },
    {
     "name": "stderr",
     "output_type": "stream",
     "text": [
      "Loading Memories:  64%|██████▍   | 9/14 [00:22<00:11,  2.34s/it]"
     ]
    },
    {
     "name": "stdout",
     "output_type": "stream",
     "text": [
      "Model: 12b from deduped.12b.103000\n"
     ]
    },
    {
     "name": "stderr",
     "output_type": "stream",
     "text": [
      "Loading Memories:  71%|███████▏  | 10/14 [00:25<00:10,  2.66s/it]"
     ]
    },
    {
     "name": "stdout",
     "output_type": "stream",
     "text": [
      "Model: 12b from deduped.12b.83000\n"
     ]
    },
    {
     "name": "stderr",
     "output_type": "stream",
     "text": [
      "Loading Memories:  79%|███████▊  | 11/14 [00:28<00:08,  2.78s/it]"
     ]
    },
    {
     "name": "stdout",
     "output_type": "stream",
     "text": [
      "Model: 12b from deduped.12b.63000\n"
     ]
    },
    {
     "name": "stderr",
     "output_type": "stream",
     "text": [
      "Loading Memories:  86%|████████▌ | 12/14 [00:31<00:05,  2.78s/it]"
     ]
    },
    {
     "name": "stdout",
     "output_type": "stream",
     "text": [
      "Model: 12b from deduped.12b.123000\n"
     ]
    },
    {
     "name": "stderr",
     "output_type": "stream",
     "text": [
      "Loading Memories:  93%|█████████▎| 13/14 [00:36<00:03,  3.44s/it]"
     ]
    },
    {
     "name": "stdout",
     "output_type": "stream",
     "text": [
      "Model: 12b from deduped.12b.23000\n"
     ]
    },
    {
     "name": "stderr",
     "output_type": "stream",
     "text": [
      "Loading Memories: 100%|██████████| 14/14 [00:38<00:00,  2.75s/it]\n"
     ]
    },
    {
     "data": {
      "text/plain": [
       "(13510427, 26)"
      ]
     },
     "metadata": {},
     "output_type": "display_data"
    },
    {
     "data": {
      "text/plain": [
       "Index(['sequence_id', 'text', 'is_incrementing', 'is_repeating',\n",
       "       'sequence_duplicates', 'max_frequency', 'avg_frequency',\n",
       "       'min_frequency', 'median_frequency', 'p25_frequency', 'p75_frequency',\n",
       "       'nl_scores', '0_8_snowclones', '0_9_snowclones', '0_8_templates',\n",
       "       '0_9_templates', 'huffman_coding_length', 'memorization_score',\n",
       "       'generation_perplexity', 'prompt_perplexity', 'sequence_perplexity',\n",
       "       'Checkpoint', 'Model', 'Param Count', 'Deduped', 'Memorized'],\n",
       "      dtype='object')"
      ]
     },
     "metadata": {},
     "output_type": "display_data"
    },
    {
     "data": {
      "text/html": [
       "<div>\n",
       "<style scoped>\n",
       "    .dataframe tbody tr th:only-of-type {\n",
       "        vertical-align: middle;\n",
       "    }\n",
       "\n",
       "    .dataframe tbody tr th {\n",
       "        vertical-align: top;\n",
       "    }\n",
       "\n",
       "    .dataframe thead th {\n",
       "        text-align: right;\n",
       "    }\n",
       "</style>\n",
       "<table border=\"1\" class=\"dataframe\">\n",
       "  <thead>\n",
       "    <tr style=\"text-align: right;\">\n",
       "      <th></th>\n",
       "      <th>sequence_id</th>\n",
       "      <th>text</th>\n",
       "      <th>is_incrementing</th>\n",
       "      <th>is_repeating</th>\n",
       "      <th>sequence_duplicates</th>\n",
       "      <th>max_frequency</th>\n",
       "      <th>avg_frequency</th>\n",
       "      <th>min_frequency</th>\n",
       "      <th>median_frequency</th>\n",
       "      <th>p25_frequency</th>\n",
       "      <th>...</th>\n",
       "      <th>huffman_coding_length</th>\n",
       "      <th>memorization_score</th>\n",
       "      <th>generation_perplexity</th>\n",
       "      <th>prompt_perplexity</th>\n",
       "      <th>sequence_perplexity</th>\n",
       "      <th>Checkpoint</th>\n",
       "      <th>Model</th>\n",
       "      <th>Param Count</th>\n",
       "      <th>Deduped</th>\n",
       "      <th>Memorized</th>\n",
       "    </tr>\n",
       "  </thead>\n",
       "  <tbody>\n",
       "    <tr>\n",
       "      <th>311694</th>\n",
       "      <td>76386464</td>\n",
       "      <td>\\x35 |0\\n&lt;U0036&gt; \\x36 |0\\n&lt;U0037&gt; \\x37 |0\\n&lt;U...</td>\n",
       "      <td>True</td>\n",
       "      <td>False</td>\n",
       "      <td>86</td>\n",
       "      <td>11740996961</td>\n",
       "      <td>1.338496e+09</td>\n",
       "      <td>444483</td>\n",
       "      <td>328011365.0</td>\n",
       "      <td>68483657</td>\n",
       "      <td>...</td>\n",
       "      <td>4.137255</td>\n",
       "      <td>1.0</td>\n",
       "      <td>1.173395</td>\n",
       "      <td>3.283641</td>\n",
       "      <td>3.853008</td>\n",
       "      <td>Final</td>\n",
       "      <td>70m</td>\n",
       "      <td>70000000</td>\n",
       "      <td>True</td>\n",
       "      <td>True</td>\n",
       "    </tr>\n",
       "    <tr>\n",
       "      <th>274304</th>\n",
       "      <td>101528653</td>\n",
       "      <td>0 (the \"License\");\\n// you may not use this fi...</td>\n",
       "      <td>False</td>\n",
       "      <td>False</td>\n",
       "      <td>126590</td>\n",
       "      <td>11740996961</td>\n",
       "      <td>2.183443e+09</td>\n",
       "      <td>2535454</td>\n",
       "      <td>397855078.0</td>\n",
       "      <td>24463239</td>\n",
       "      <td>...</td>\n",
       "      <td>4.883721</td>\n",
       "      <td>1.0</td>\n",
       "      <td>1.014786</td>\n",
       "      <td>2.595823</td>\n",
       "      <td>2.634206</td>\n",
       "      <td>Final</td>\n",
       "      <td>70m</td>\n",
       "      <td>70000000</td>\n",
       "      <td>True</td>\n",
       "      <td>True</td>\n",
       "    </tr>\n",
       "    <tr>\n",
       "      <th>274303</th>\n",
       "      <td>101488489</td>\n",
       "      <td>permissions and limitations under the License...</td>\n",
       "      <td>False</td>\n",
       "      <td>False</td>\n",
       "      <td>12551</td>\n",
       "      <td>11740996961</td>\n",
       "      <td>2.955296e+09</td>\n",
       "      <td>605886</td>\n",
       "      <td>223388936.0</td>\n",
       "      <td>16400100</td>\n",
       "      <td>...</td>\n",
       "      <td>4.541667</td>\n",
       "      <td>1.0</td>\n",
       "      <td>1.122095</td>\n",
       "      <td>2.360945</td>\n",
       "      <td>2.649204</td>\n",
       "      <td>Final</td>\n",
       "      <td>70m</td>\n",
       "      <td>70000000</td>\n",
       "      <td>True</td>\n",
       "      <td>True</td>\n",
       "    </tr>\n",
       "    <tr>\n",
       "      <th>274302</th>\n",
       "      <td>101355445</td>\n",
       "      <td>nbsp;&lt;/span&gt;&lt;/caption&gt;\\n&lt;tr&gt;\\n&lt;th class=\"colFi...</td>\n",
       "      <td>False</td>\n",
       "      <td>False</td>\n",
       "      <td>39601</td>\n",
       "      <td>11740996961</td>\n",
       "      <td>1.373194e+09</td>\n",
       "      <td>1033836</td>\n",
       "      <td>87048161.0</td>\n",
       "      <td>10406762</td>\n",
       "      <td>...</td>\n",
       "      <td>5.000000</td>\n",
       "      <td>1.0</td>\n",
       "      <td>1.091500</td>\n",
       "      <td>3.651752</td>\n",
       "      <td>3.985886</td>\n",
       "      <td>Final</td>\n",
       "      <td>70m</td>\n",
       "      <td>70000000</td>\n",
       "      <td>True</td>\n",
       "      <td>True</td>\n",
       "    </tr>\n",
       "    <tr>\n",
       "      <th>274301</th>\n",
       "      <td>101319862</td>\n",
       "      <td>/or sell\\n * copies of the Software, and to pe...</td>\n",
       "      <td>False</td>\n",
       "      <td>False</td>\n",
       "      <td>40819</td>\n",
       "      <td>11740996961</td>\n",
       "      <td>3.075328e+09</td>\n",
       "      <td>1317065</td>\n",
       "      <td>573756779.0</td>\n",
       "      <td>12931579</td>\n",
       "      <td>...</td>\n",
       "      <td>4.723404</td>\n",
       "      <td>1.0</td>\n",
       "      <td>1.008653</td>\n",
       "      <td>1.851521</td>\n",
       "      <td>1.867542</td>\n",
       "      <td>Final</td>\n",
       "      <td>70m</td>\n",
       "      <td>70000000</td>\n",
       "      <td>True</td>\n",
       "      <td>True</td>\n",
       "    </tr>\n",
       "  </tbody>\n",
       "</table>\n",
       "<p>5 rows × 26 columns</p>\n",
       "</div>"
      ],
      "text/plain": [
       "        sequence_id                                               text  \\\n",
       "311694     76386464   \\x35 |0\\n<U0036> \\x36 |0\\n<U0037> \\x37 |0\\n<U...   \n",
       "274304    101528653  0 (the \"License\");\\n// you may not use this fi...   \n",
       "274303    101488489   permissions and limitations under the License...   \n",
       "274302    101355445  nbsp;</span></caption>\\n<tr>\\n<th class=\"colFi...   \n",
       "274301    101319862  /or sell\\n * copies of the Software, and to pe...   \n",
       "\n",
       "        is_incrementing  is_repeating  sequence_duplicates  max_frequency  \\\n",
       "311694             True         False                   86    11740996961   \n",
       "274304            False         False               126590    11740996961   \n",
       "274303            False         False                12551    11740996961   \n",
       "274302            False         False                39601    11740996961   \n",
       "274301            False         False                40819    11740996961   \n",
       "\n",
       "        avg_frequency  min_frequency  median_frequency  p25_frequency  ...  \\\n",
       "311694   1.338496e+09         444483       328011365.0       68483657  ...   \n",
       "274304   2.183443e+09        2535454       397855078.0       24463239  ...   \n",
       "274303   2.955296e+09         605886       223388936.0       16400100  ...   \n",
       "274302   1.373194e+09        1033836        87048161.0       10406762  ...   \n",
       "274301   3.075328e+09        1317065       573756779.0       12931579  ...   \n",
       "\n",
       "        huffman_coding_length  memorization_score  generation_perplexity  \\\n",
       "311694               4.137255                 1.0               1.173395   \n",
       "274304               4.883721                 1.0               1.014786   \n",
       "274303               4.541667                 1.0               1.122095   \n",
       "274302               5.000000                 1.0               1.091500   \n",
       "274301               4.723404                 1.0               1.008653   \n",
       "\n",
       "        prompt_perplexity  sequence_perplexity  Checkpoint  Model  \\\n",
       "311694           3.283641             3.853008       Final    70m   \n",
       "274304           2.595823             2.634206       Final    70m   \n",
       "274303           2.360945             2.649204       Final    70m   \n",
       "274302           3.651752             3.985886       Final    70m   \n",
       "274301           1.851521             1.867542       Final    70m   \n",
       "\n",
       "        Param Count  Deduped  Memorized  \n",
       "311694     70000000     True       True  \n",
       "274304     70000000     True       True  \n",
       "274303     70000000     True       True  \n",
       "274302     70000000     True       True  \n",
       "274301     70000000     True       True  \n",
       "\n",
       "[5 rows x 26 columns]"
      ]
     },
     "execution_count": 6,
     "metadata": {},
     "output_type": "execute_result"
    }
   ],
   "source": [
    "columns_to_drop = [\"frequencies\", \"tokens\"]\n",
    "combined_dataframe = None\n",
    "for split in tqdm(memories_dataset, desc=\"Loading Memories\"):\n",
    "    current_frame = memories_dataset[split].to_pandas()\n",
    "    current_frame.drop(columns=columns_to_drop, inplace=True)\n",
    "    checkpoint = int(split.split(\".\")[-1]) if split.split(\".\")[-1][1].isnumeric() and len(split.split(\".\")) != 2 else \"Final\"\n",
    "    current_frame[\"Checkpoint\"] = checkpoint\n",
    "    model = split.split(\"deduped\")[-1][1:] if checkpoint == \"Final\" else split.split(\".\")[-2]\n",
    "    print(f\"Model: {model} from {split}\")\n",
    "    current_frame[\"Model\"] = model\n",
    "    current_frame[\"Param Count\"] = split_to_param_count[current_frame[\"Model\"].iloc[0]]\n",
    "    current_frame[\"Deduped\"] = \"deduped\" in split\n",
    "    current_frame[\"Memorized\"] = True\n",
    "    if combined_dataframe is None:\n",
    "        combined_dataframe = current_frame\n",
    "    else:\n",
    "        combined_dataframe = pd.concat([combined_dataframe, current_frame])\n",
    "\n",
    "combined_dataframe = combined_dataframe.sort_values(\"Param Count\")\n",
    "display(combined_dataframe.shape)\n",
    "display(combined_dataframe.columns)\n",
    "combined_dataframe.head()"
   ]
  },
  {
   "cell_type": "markdown",
   "metadata": {},
   "source": [
    "### Assign Examples to Taxonomy"
   ]
  },
  {
   "cell_type": "code",
   "execution_count": 7,
   "metadata": {},
   "outputs": [
    {
     "name": "stderr",
     "output_type": "stream",
     "text": [
      "100%|██████████| 13510427/13510427 [02:39<00:00, 84470.31it/s] \n"
     ]
    },
    {
     "data": {
      "text/plain": [
       "Model  Checkpoint  category  \n",
       "12b    Final       Recitation    1871216\n",
       "6.9b   Final       Recitation    1680294\n",
       "12b    123000      Recitation    1564055\n",
       "2.8b   Final       Recitation    1355211\n",
       "12b    103000      Recitation    1195578\n",
       "1.4b   Final       Recitation    1048097\n",
       "1b     Final       Recitation    1032872\n",
       "12b    83000       Recitation     852068\n",
       "410m   Final       Recitation     811040\n",
       "12b    63000       Recitation     585067\n",
       "160m   Final       Recitation     581200\n",
       "70m    Final       Recitation     411448\n",
       "12b    43000       Recitation     358863\n",
       "       23000       Recitation     163418\n",
       "Name: count, dtype: int64"
      ]
     },
     "execution_count": 7,
     "metadata": {},
     "output_type": "execute_result"
    }
   ],
   "source": [
    "def get_category(row):\n",
    "    if row[\"Memorized\"] == False:\n",
    "        return \"Not Memorized\"\n",
    "    if row[\"sequence_duplicates\"] >= RECITATION_THRESHOLD:\n",
    "        return \"Recitation\"\n",
    "    if row[\"is_incrementing\"] or row[\"is_repeating\"]:\n",
    "        return \"Reconstruction\"\n",
    "\n",
    "    return \"Recollection\"\n",
    "\n",
    "combined_dataframe[\"category\"] = combined_dataframe.progress_apply(lambda row: get_category(row), axis=1)\n",
    "combined_dataframe.value_counts([\"Model\", \"Checkpoint\", \"category\"])\n",
    "\n",
    "# 12 deduped\n",
    "# memories_frame = combined_dataframe[(combined_dataframe[\"Memorized\"] == True) & (combined_dataframe[\"Deduped\"] == True) & (combined_dataframe[\"Model\"] == \"12b\")]\n",
    "# memories_frame[\"category\"] = memories_frame.progress_apply(lambda row: get_category(row), axis=1)\n",
    "# memories_frame.value_counts(\"category\")"
   ]
  },
  {
   "cell_type": "markdown",
   "metadata": {},
   "source": [
    "## Plot Graphs"
   ]
  },
  {
   "cell_type": "markdown",
   "metadata": {},
   "source": [
    "### Figure: Prevalence and Memories by Taxonomy Across Time and Scale"
   ]
  },
  {
   "cell_type": "code",
   "execution_count": 8,
   "metadata": {},
   "outputs": [
    {
     "data": {
      "text/html": [
       "<div>\n",
       "<style scoped>\n",
       "    .dataframe tbody tr th:only-of-type {\n",
       "        vertical-align: middle;\n",
       "    }\n",
       "\n",
       "    .dataframe tbody tr th {\n",
       "        vertical-align: top;\n",
       "    }\n",
       "\n",
       "    .dataframe thead th {\n",
       "        text-align: right;\n",
       "    }\n",
       "</style>\n",
       "<table border=\"1\" class=\"dataframe\">\n",
       "  <thead>\n",
       "    <tr style=\"text-align: right;\">\n",
       "      <th>category</th>\n",
       "      <th>Recitation</th>\n",
       "    </tr>\n",
       "    <tr>\n",
       "      <th>Param Count</th>\n",
       "      <th></th>\n",
       "    </tr>\n",
       "  </thead>\n",
       "  <tbody>\n",
       "    <tr>\n",
       "      <th>70000000</th>\n",
       "      <td>411448</td>\n",
       "    </tr>\n",
       "    <tr>\n",
       "      <th>160000000</th>\n",
       "      <td>581200</td>\n",
       "    </tr>\n",
       "    <tr>\n",
       "      <th>410000000</th>\n",
       "      <td>811040</td>\n",
       "    </tr>\n",
       "    <tr>\n",
       "      <th>1000000000</th>\n",
       "      <td>1032872</td>\n",
       "    </tr>\n",
       "    <tr>\n",
       "      <th>1400000000</th>\n",
       "      <td>1048097</td>\n",
       "    </tr>\n",
       "    <tr>\n",
       "      <th>2800000000</th>\n",
       "      <td>1355211</td>\n",
       "    </tr>\n",
       "    <tr>\n",
       "      <th>6900000000</th>\n",
       "      <td>1680294</td>\n",
       "    </tr>\n",
       "    <tr>\n",
       "      <th>12000000000</th>\n",
       "      <td>6590265</td>\n",
       "    </tr>\n",
       "  </tbody>\n",
       "</table>\n",
       "</div>"
      ],
      "text/plain": [
       "category     Recitation\n",
       "Param Count            \n",
       "70000000         411448\n",
       "160000000        581200\n",
       "410000000        811040\n",
       "1000000000      1032872\n",
       "1400000000      1048097\n",
       "2800000000      1355211\n",
       "6900000000      1680294\n",
       "12000000000     6590265"
      ]
     },
     "metadata": {},
     "output_type": "display_data"
    },
    {
     "data": {
      "text/html": [
       "<div>\n",
       "<style scoped>\n",
       "    .dataframe tbody tr th:only-of-type {\n",
       "        vertical-align: middle;\n",
       "    }\n",
       "\n",
       "    .dataframe tbody tr th {\n",
       "        vertical-align: top;\n",
       "    }\n",
       "\n",
       "    .dataframe thead th {\n",
       "        text-align: right;\n",
       "    }\n",
       "</style>\n",
       "<table border=\"1\" class=\"dataframe\">\n",
       "  <thead>\n",
       "    <tr style=\"text-align: right;\">\n",
       "      <th>category</th>\n",
       "      <th>Recitation</th>\n",
       "    </tr>\n",
       "    <tr>\n",
       "      <th>Checkpoint</th>\n",
       "      <th></th>\n",
       "    </tr>\n",
       "  </thead>\n",
       "  <tbody>\n",
       "    <tr>\n",
       "      <th>23000</th>\n",
       "      <td>163418</td>\n",
       "    </tr>\n",
       "    <tr>\n",
       "      <th>43000</th>\n",
       "      <td>358863</td>\n",
       "    </tr>\n",
       "    <tr>\n",
       "      <th>63000</th>\n",
       "      <td>585067</td>\n",
       "    </tr>\n",
       "    <tr>\n",
       "      <th>83000</th>\n",
       "      <td>852068</td>\n",
       "    </tr>\n",
       "    <tr>\n",
       "      <th>103000</th>\n",
       "      <td>1195578</td>\n",
       "    </tr>\n",
       "    <tr>\n",
       "      <th>123000</th>\n",
       "      <td>1564055</td>\n",
       "    </tr>\n",
       "  </tbody>\n",
       "</table>\n",
       "</div>"
      ],
      "text/plain": [
       "category    Recitation\n",
       "Checkpoint            \n",
       "23000           163418\n",
       "43000           358863\n",
       "63000           585067\n",
       "83000           852068\n",
       "103000         1195578\n",
       "123000         1564055"
      ]
     },
     "metadata": {},
     "output_type": "display_data"
    }
   ],
   "source": [
    "# Create plot for data across \n",
    "final_checkpoint_counts_frame = combined_dataframe.value_counts([\"Param Count\", \"category\"]).unstack().reindex(split_to_param_count.values())\n",
    "final_checkpoint_counts_frame.to_csv(f\"final_checkpoint_counts_recitation={RECITATION_THRESHOLD}.csv\")\n",
    "display(final_checkpoint_counts_frame)\n",
    "\n",
    "intermediate_frame = combined_dataframe[(combined_dataframe[\"Checkpoint\"] != \"Final\") & (combined_dataframe[\"Model\"] == \"12b\")]\n",
    "sorted_checkpoints = sorted(intermediate_frame[\"Checkpoint\"].unique(), key=lambda x: int(x))\n",
    "\n",
    "intermediate_checkpoint_counts_frame = intermediate_frame.value_counts([\"Checkpoint\", \"category\"]).unstack().reindex(sorted_checkpoints)\n",
    "intermediate_checkpoint_counts_frame.to_csv(f\"intermediate_checkpoint_counts_recitation={RECITATION_THRESHOLD}.csv\")\n",
    "display(intermediate_checkpoint_counts_frame)"
   ]
  },
  {
   "cell_type": "code",
   "execution_count": 9,
   "metadata": {},
   "outputs": [
    {
     "data": {
      "image/png": "[encoded data removed]",
      "text/plain": [
       "<Figure size 1300x500 with 2 Axes>"
      ]
     },
     "metadata": {},
     "output_type": "display_data"
    }
   ],
   "source": [
    "fig, axes = plt.subplots(1, 2, figsize=(13, 5))\n",
    "\n",
    "# set figure 1\n",
    "# first figure is a line plot of the counts of each category for across intermediate checkpoints\n",
    "\n",
    "sns.lineplot(ax=axes[0], data=intermediate_checkpoint_counts_frame, dashes=False, markers=True, markersize=8)\n",
    "\n",
    "# rotate x axis labels\n",
    "axes[0].tick_params(axis='x', rotation=20)\n",
    "\n",
    "# Add y label for Count\n",
    "axes[0].set_ylabel(\"Count\", labelpad=label_title_padding)\n",
    "\n",
    "# add padding for labels\n",
    "fig.subplots_adjust(wspace=0.2)\n",
    "\n",
    "# # make x axis log scale\n",
    "# axes[0].set_xscale(\"log\")\n",
    "\n",
    "# # have a common legend for both plots centered below the figure. No legend box\n",
    "axes[0].legend(loc='upper center', bbox_to_anchor=(1.1, -0.3), ncol=4, frameon=False)\n",
    "\n",
    "# have three equally spaces ticks on the x axis\n",
    "# checkpoints = intermediate_checkpoint_counts_frame.index\n",
    "# min_checkpoint = int(checkpoints[0])\n",
    "# mid_checkpoint = int(checkpoints[len(checkpoints) // 2])\n",
    "# max_checkpoint = int(checkpoints[-1])\n",
    "# axes[0].set_xticks([min_checkpoint, mid_checkpoint, max_checkpoint])\n",
    "\n",
    "# set figure 2\n",
    "# the second figure is a line plot of the counts of each category across parameter count\n",
    "\n",
    "sns.lineplot(ax=axes[1], data=final_checkpoint_counts_frame, dashes=False, markers=True, markersize=8)\n",
    "\n",
    "# make x axis log scale\n",
    "axes[1].set_xscale(\"log\")\n",
    "\n",
    "# Set x label to \"Parameters\"\n",
    "axes[1].set_xlabel(\"Parameters\")\n",
    "\n",
    "# Add y label for Count\n",
    "axes[1].set_ylabel(\"Count\")\n",
    "\n",
    "# remove legend\n",
    "axes[1].legend().remove()\n",
    "\n",
    "# add padding for labels\n",
    "fig.subplots_adjust(wspace=0.30)\n",
    "\n",
    "fig.savefig(f\"categories_across_time+scale_recitation={RECITATION_THRESHOLD}.png\", dpi=300, bbox_inches=\"tight\")\n",
    "\n"
   ]
  },
  {
   "cell_type": "markdown",
   "metadata": {},
   "source": [
    "### Figure: Prevalence and Percents of Memories by Taxonomy Across Param Count"
   ]
  },
  {
   "cell_type": "code",
   "execution_count": 10,
   "metadata": {},
   "outputs": [
    {
     "name": "stderr",
     "output_type": "stream",
     "text": [
      " 12%|█▎        | 1/8 [00:00<00:01,  6.77it/s]"
     ]
    },
    {
     "name": "stdout",
     "output_type": "stream",
     "text": [
      "{'Recitation': 1.0}\n",
      "{'Recitation': 1.0}\n"
     ]
    },
    {
     "name": "stderr",
     "output_type": "stream",
     "text": [
      " 38%|███▊      | 3/8 [00:00<00:01,  4.31it/s]"
     ]
    },
    {
     "name": "stdout",
     "output_type": "stream",
     "text": [
      "{'Recitation': 1.0}\n"
     ]
    },
    {
     "name": "stderr",
     "output_type": "stream",
     "text": [
      " 50%|█████     | 4/8 [00:01<00:01,  3.36it/s]"
     ]
    },
    {
     "name": "stdout",
     "output_type": "stream",
     "text": [
      "{'Recitation': 1.0}\n"
     ]
    },
    {
     "name": "stderr",
     "output_type": "stream",
     "text": [
      " 62%|██████▎   | 5/8 [00:01<00:00,  3.06it/s]"
     ]
    },
    {
     "name": "stdout",
     "output_type": "stream",
     "text": [
      "{'Recitation': 1.0}\n"
     ]
    },
    {
     "name": "stderr",
     "output_type": "stream",
     "text": [
      " 75%|███████▌  | 6/8 [00:01<00:00,  2.57it/s]"
     ]
    },
    {
     "name": "stdout",
     "output_type": "stream",
     "text": [
      "{'Recitation': 1.0}\n"
     ]
    },
    {
     "name": "stderr",
     "output_type": "stream",
     "text": [
      " 88%|████████▊ | 7/8 [00:02<00:00,  2.16it/s]"
     ]
    },
    {
     "name": "stdout",
     "output_type": "stream",
     "text": [
      "{'Recitation': 1.0}\n",
      "{'Recitation': 1.0}\n"
     ]
    },
    {
     "name": "stderr",
     "output_type": "stream",
     "text": [
      "100%|██████████| 8/8 [00:04<00:00,  1.70it/s]\n"
     ]
    },
    {
     "data": {
      "image/png": "[encoded data removed]",
      "text/plain": [
       "<Figure size 2000x600 with 2 Axes>"
      ]
     },
     "metadata": {},
     "output_type": "display_data"
    }
   ],
   "source": [
    "fig, axes = plt.subplots(1, 2, figsize=(20, 6))\n",
    "\n",
    "counts_frame = combined_dataframe.value_counts([\"Param Count\", \"category\"]).unstack().reindex(split_to_param_count.values())\n",
    "counts_frame.plot.line(\n",
    "    ax=axes[0],\n",
    "    rot=0,\n",
    "    ylabel=\"Count\",\n",
    "    marker=\"o\",\n",
    "    markersize=10,\n",
    "    linewidth=4,\n",
    ")\n",
    "\n",
    "# log x axis\n",
    "axes[0].set_xscale(\"log\")\n",
    "\n",
    "axes[0].set_title(\"Memorized Samples by Category\", pad=label_title_padding)\n",
    "\n",
    "# right plot is the each category across model size\n",
    "all_percents = []\n",
    "for param_count in tqdm(split_to_param_count.values()):\n",
    "    model_examples = combined_dataframe[combined_dataframe[\"Param Count\"] == param_count]\n",
    "    model_percents = model_examples.value_counts(\"category\", normalize=True).to_dict()\n",
    "    print(model_percents)\n",
    "    for category in model_percents:\n",
    "        all_percents.append({\n",
    "            \"Model\": model_examples[\"Model\"].unique()[0],\n",
    "            \"Param Count\": param_count,\n",
    "            \"category\": category,\n",
    "            \"percent\": model_percents[category],\n",
    "        })\n",
    "\n",
    "# create a normalized bar plot stacked by category with a seperate bar for each Model\n",
    "# have no space between bars\n",
    "percents_frame = pd.DataFrame(all_percents).pivot(index=\"Model\", columns=\"category\", values=\"percent\").reindex(split_to_param_count.keys())\n",
    "percents_frame.plot.bar(\n",
    "    stacked=True,\n",
    "    ax=axes[1],\n",
    "    rot=0,\n",
    "    width=1,\n",
    "    ylabel=\"Percent\",\n",
    ")\n",
    "\n",
    "axes[1].set_title(\"Memorized Samples by Category\", pad=label_title_padding)\n",
    "axes[1].yaxis.set_major_formatter(plt.FuncFormatter(lambda x, loc: \"{:,}%\".format(int(x * 100))))\n",
    "\n",
    "# remove right legend\n",
    "axes[1].get_legend().remove()\n",
    "\n",
    "# have a common legend for both plots centered below the figure. No legend box\n",
    "axes[0].legend(loc='upper center', bbox_to_anchor=(1, -0.125), ncol=4, frameon=False)\n",
    "\n",
    "# set x label for both plots as \"Parameter Count\"\n",
    "for ax in axes:\n",
    "    ax.set_xlabel(\"Parameter Count\")\n",
    "\n",
    "# save figure_categories_count_pcercents.png\n",
    "plt.savefig(\"figure_categories_count_percents.png\", bbox_inches='tight')"
   ]
  }
 ],
 "metadata": {
  "kernelspec": {
   "display_name": "memorization",
   "language": "python",
   "name": "python3"
  },
  "language_info": {
   "codemirror_mode": {
    "name": "ipython",
    "version": 3
   },
   "file_extension": ".py",
   "mimetype": "text/x-python",
   "name": "python",
   "nbconvert_exporter": "python",
   "pygments_lexer": "ipython3",
   "version": "3.10.13"
  }
 },
 "nbformat": 4,
 "nbformat_minor": 2
}
