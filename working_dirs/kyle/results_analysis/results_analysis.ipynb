{
 "cells": [
  {
   "cell_type": "code",
   "execution_count": 1,
   "metadata": {},
   "outputs": [
    {
     "name": "stderr",
     "output_type": "stream",
     "text": [
      "/home/mchorse/miniconda3/envs/memorization/lib/python3.10/site-packages/tqdm/auto.py:21: TqdmWarning: IProgress not found. Please update jupyter and ipywidgets. See https://ipywidgets.readthedocs.io/en/stable/user_install.html\n",
      "  from .autonotebook import tqdm as notebook_tqdm\n"
     ]
    }
   ],
   "source": [
    "import json\n",
    "import pandas as pd\n",
    "import seaborn as sns\n",
    "import matplotlib.pyplot as plt\n",
    "from datasets import load_dataset, get_dataset_split_names, DatasetDict\n",
    "from tqdm import tqdm\n",
    "\n",
    "sns.set_color_codes(\"colorblind\")\n",
    "sns.set_theme(style=\"darkgrid\")\n",
    "sns.set_context(\"talk\")\n",
    "tqdm.pandas()"
   ]
  },
  {
   "cell_type": "markdown",
   "metadata": {},
   "source": [
    "## Load Datasets"
   ]
  },
  {
   "cell_type": "code",
   "execution_count": 2,
   "metadata": {},
   "outputs": [],
   "source": [
    "split_sample_size = None\n",
    "label_title_padding = 10\n",
    "study_pile = False\n",
    "RECITATION_THRESHOLD = 2"
   ]
  },
  {
   "cell_type": "code",
   "execution_count": 3,
   "metadata": {},
   "outputs": [
    {
     "name": "stderr",
     "output_type": "stream",
     "text": [
      "Downloading readme: 100%|██████████| 5.84k/5.84k [00:00<00:00, 10.4MB/s]\n"
     ]
    },
    {
     "name": "stdout",
     "output_type": "stream",
     "text": [
      "['memories_deduped_410m', 'memories_deduped_1.4b', 'memories_deduped_6.9b', 'memories_deduped_1b', 'memories_deduped_12b', 'memories_deduped_70m', 'memories_deduped_2.8b', 'memories_deduped_160m', 'memories_deduped_12b.43000', 'memories_deduped_12b.103000', 'memories_deduped_12b.83000', 'memories_deduped_12b.63000', 'memories_deduped_12b.123000', 'memories_deduped_12b.23000']\n"
     ]
    }
   ],
   "source": [
    "memories_path = \"usvsnsp/generation-semantic-filters\"\n",
    "intermediate_path = \"usvsnsp/generation-semantic-intermediate-filters\"\n",
    "memories_dataset = DatasetDict()\n",
    "splits = [split for split in get_dataset_split_names(memories_path) if \"deduped\" in split] + get_dataset_split_names(intermediate_path)\n",
    "# drop splits with \"pile\" in the name\n",
    "splits = [split for split in splits if \"pile\" not in split and \"deduped\" in split]\n",
    "print(splits)"
   ]
  },
  {
   "cell_type": "code",
   "execution_count": 4,
   "metadata": {},
   "outputs": [
    {
     "name": "stdout",
     "output_type": "stream",
     "text": [
      "Loading datasets...\n",
      "Split sample size: None\n"
     ]
    },
    {
     "name": "stderr",
     "output_type": "stream",
     "text": [
      "Downloading data: 100%|██████████| 1.91G/1.91G [02:11<00:00, 14.5MB/s]\n",
      "Downloading data: 100%|██████████| 375M/375M [00:25<00:00, 14.8MB/s]\n",
      "Downloading data: 100%|██████████| 1.91G/1.91G [02:10<00:00, 14.7MB/s]\n",
      "Downloading data: 100%|██████████| 676M/676M [00:46<00:00, 14.7MB/s]\n",
      "Downloading data: 100%|██████████| 1.91G/1.91G [02:11<00:00, 14.6MB/s]\n",
      "Downloading data: 100%|██████████| 232M/232M [00:16<00:00, 13.7MB/s]\n",
      "Downloading data: 100%|██████████| 317M/317M [00:20<00:00, 15.1MB/s]\n",
      "Downloading data: 100%|██████████| 768M/768M [00:53<00:00, 14.3MB/s]\n",
      "Downloading data: 100%|██████████| 545M/545M [00:36<00:00, 15.0MB/s]\n",
      "Downloading data: 100%|██████████| 1.83G/1.83G [02:07<00:00, 14.4MB/s]\n",
      "Downloading data: 100%|██████████| 312M/312M [00:20<00:00, 15.0MB/s]\n",
      "Downloading data: 100%|██████████| 152M/152M [00:10<00:00, 14.7MB/s]\n",
      "Downloading data: 100%|██████████| 1.91G/1.91G [02:09<00:00, 14.8MB/s]\n",
      "Downloading data: 100%|██████████| 1.91G/1.91G [02:06<00:00, 15.2MB/s]\n",
      "Downloading data: 100%|██████████| 1.91G/1.91G [02:00<00:00, 15.9MB/s]\n",
      "Downloading data: 100%|██████████| 415M/415M [00:28<00:00, 14.7MB/s]\n",
      "Downloading data: 100%|██████████| 1.91G/1.91G [02:05<00:00, 15.2MB/s]\n",
      "Downloading data: 100%|██████████| 84.7M/84.7M [00:06<00:00, 13.6MB/s]\n",
      "Downloading data: 100%|██████████| 614M/614M [00:38<00:00, 15.9MB/s]\n",
      "Downloading data: 100%|██████████| 1.91G/1.91G [02:02<00:00, 15.6MB/s]\n",
      "Downloading data: 100%|██████████| 275M/275M [00:18<00:00, 15.1MB/s]\n",
      "Downloading data: 100%|██████████| 1.92G/1.92G [02:01<00:00, 15.8MB/s]\n",
      "Downloading data: 100%|██████████| 1.91G/1.91G [01:59<00:00, 16.0MB/s]\n",
      "Downloading data: 100%|██████████| 1.91G/1.91G [02:00<00:00, 15.8MB/s]\n",
      "Downloading data: 100%|██████████| 82.2M/82.2M [00:04<00:00, 17.5MB/s]\n",
      "Downloading data: 100%|██████████| 427M/427M [00:27<00:00, 15.5MB/s]\n",
      "Downloading data: 100%|██████████| 1.91G/1.91G [01:58<00:00, 16.2MB/s]\n",
      "Downloading data: 100%|██████████| 1.92G/1.92G [02:02<00:00, 15.7MB/s]\n",
      "Downloading data: 100%|██████████| 520M/520M [00:37<00:00, 13.9MB/s]\n",
      "Downloading data: 100%|██████████| 139M/139M [00:10<00:00, 13.6MB/s]\n",
      "Downloading data: 100%|██████████| 1.83G/1.83G [02:03<00:00, 14.8MB/s]\n",
      "Downloading data: 100%|██████████| 1.91G/1.91G [02:12<00:00, 14.4MB/s]\n",
      "Generating pile_duped_6.9b split: 100%|██████████| 5000000/5000000 [00:11<00:00, 454437.57 examples/s]\n",
      "Generating memories_duped_1b split: 100%|██████████| 1256144/1256144 [00:02<00:00, 485657.52 examples/s]\n",
      "Generating pile_deduped_1.4b split: 100%|██████████| 5000000/5000000 [00:10<00:00, 456504.20 examples/s]\n",
      "Generating memories_duped_6.9b split: 100%|██████████| 2120976/2120976 [00:04<00:00, 458924.85 examples/s]\n",
      "Generating pile_duped_2.8b split: 100%|██████████| 5000000/5000000 [00:10<00:00, 455851.16 examples/s]\n",
      "Generating memories_deduped_410m split: 100%|██████████| 811040/811040 [00:01<00:00, 472534.41 examples/s]\n",
      "Generating memories_deduped_1.4b split: 100%|██████████| 1048104/1048104 [00:02<00:00, 459901.59 examples/s]\n",
      "Generating memories_duped_12b split: 100%|██████████| 2382328/2382328 [00:05<00:00, 459326.52 examples/s]\n",
      "Generating memories_deduped_6.9b split: 100%|██████████| 1680296/1680296 [00:03<00:00, 451035.55 examples/s]\n",
      "Generating pile_duped_160m split: 100%|██████████| 5000000/5000000 [00:11<00:00, 452746.99 examples/s]\n",
      "Generating memories_deduped_1b split: 100%|██████████| 1032872/1032872 [00:02<00:00, 469706.25 examples/s]\n",
      "Generating memories_duped_160m split: 100%|██████████| 689680/689680 [00:01<00:00, 479640.64 examples/s]\n",
      "Generating pile_deduped_410m split: 100%|██████████| 5000000/5000000 [00:10<00:00, 463214.96 examples/s]\n",
      "Generating pile_deduped_2.8b split: 100%|██████████| 5000000/5000000 [00:10<00:00, 462831.62 examples/s]\n",
      "Generating pile_deduped_160m split: 100%|██████████| 5000000/5000000 [00:11<00:00, 444151.40 examples/s]\n",
      "Generating memories_duped_1.4b split: 100%|██████████| 1373728/1373728 [00:03<00:00, 455494.79 examples/s]\n",
      "Generating pile_duped_1.4b split: 100%|██████████| 5000000/5000000 [00:11<00:00, 453369.21 examples/s]\n",
      "Generating memories_duped_70m split: 100%|██████████| 463960/463960 [00:01<00:00, 460677.39 examples/s]\n",
      "Generating memories_deduped_12b split: 100%|██████████| 1871216/1871216 [00:03<00:00, 467853.89 examples/s]\n",
      "Generating pile_duped_1b split: 100%|██████████| 5000000/5000000 [00:11<00:00, 448510.77 examples/s]\n",
      "Generating memories_duped_410m split: 100%|██████████| 970344/970344 [00:02<00:00, 456300.37 examples/s]\n",
      "Generating pile_deduped_6.9b split: 100%|██████████| 5000000/5000000 [00:11<00:00, 448212.59 examples/s]\n",
      "Generating pile_deduped_1b split: 100%|██████████| 5000000/5000000 [00:11<00:00, 440621.32 examples/s]\n",
      "Generating pile_duped_410m split: 100%|██████████| 5000000/5000000 [00:11<00:00, 439927.44 examples/s]\n",
      "Generating memories_deduped_70m split: 100%|██████████| 411448/411448 [00:00<00:00, 456175.28 examples/s]\n",
      "Generating memories_deduped_2.8b split: 100%|██████████| 1355216/1355216 [00:03<00:00, 441067.41 examples/s]\n",
      "Generating pile_duped_12b split: 100%|██████████| 5000000/5000000 [00:11<00:00, 448605.01 examples/s]\n",
      "Generating pile_deduped_12b split: 100%|██████████| 5000000/5000000 [00:11<00:00, 444820.88 examples/s]\n",
      "Generating memories_duped_2.8b split: 100%|██████████| 1675080/1675080 [00:03<00:00, 468199.75 examples/s]\n",
      "Generating memories_deduped_160m split: 100%|██████████| 581200/581200 [00:01<00:00, 453401.42 examples/s]\n",
      "Generating pile_duped_70m split: 100%|██████████| 5000000/5000000 [00:11<00:00, 449457.31 examples/s]\n",
      "Generating pile_deduped_70m split: 100%|██████████| 5000000/5000000 [00:10<00:00, 455999.09 examples/s]\n",
      "100%|██████████| 14/14 [46:14<00:00, 198.19s/it]  \n"
     ]
    },
    {
     "data": {
      "text/plain": [
       "DatasetDict({\n",
       "    deduped.410m: Dataset({\n",
       "        features: ['sequence_id', 'tokens', 'text', 'is_incrementing', 'is_repeating', 'sequence_duplicates', 'max_frequency', 'avg_frequency', 'min_frequency', 'median_frequency', 'p25_frequency', 'p75_frequency', 'frequencies', 'nl_scores', '0_8_snowclones', '0_9_snowclones', '0_8_templates', '0_9_templates', 'huffman_coding_length', 'memorization_score', 'index', 'loss', 'prompt_perplexity', 'generation_perplexity', 'sequence_perplexity'],\n",
       "        num_rows: 811040\n",
       "    })\n",
       "    deduped.1.4b: Dataset({\n",
       "        features: ['sequence_id', 'tokens', 'text', 'is_incrementing', 'is_repeating', 'sequence_duplicates', 'max_frequency', 'avg_frequency', 'min_frequency', 'median_frequency', 'p25_frequency', 'p75_frequency', 'frequencies', 'nl_scores', '0_8_snowclones', '0_9_snowclones', '0_8_templates', '0_9_templates', 'huffman_coding_length', 'memorization_score', 'index', 'loss', 'prompt_perplexity', 'generation_perplexity', 'sequence_perplexity'],\n",
       "        num_rows: 1048104\n",
       "    })\n",
       "    deduped.6.9b: Dataset({\n",
       "        features: ['sequence_id', 'tokens', 'text', 'is_incrementing', 'is_repeating', 'sequence_duplicates', 'max_frequency', 'avg_frequency', 'min_frequency', 'median_frequency', 'p25_frequency', 'p75_frequency', 'frequencies', 'nl_scores', '0_8_snowclones', '0_9_snowclones', '0_8_templates', '0_9_templates', 'huffman_coding_length', 'memorization_score', 'index', 'loss', 'prompt_perplexity', 'generation_perplexity', 'sequence_perplexity'],\n",
       "        num_rows: 1680296\n",
       "    })\n",
       "    deduped.1b: Dataset({\n",
       "        features: ['sequence_id', 'tokens', 'text', 'is_incrementing', 'is_repeating', 'sequence_duplicates', 'max_frequency', 'avg_frequency', 'min_frequency', 'median_frequency', 'p25_frequency', 'p75_frequency', 'frequencies', 'nl_scores', '0_8_snowclones', '0_9_snowclones', '0_8_templates', '0_9_templates', 'huffman_coding_length', 'memorization_score', 'index', 'loss', 'prompt_perplexity', 'generation_perplexity', 'sequence_perplexity'],\n",
       "        num_rows: 1032872\n",
       "    })\n",
       "    deduped.12b: Dataset({\n",
       "        features: ['sequence_id', 'tokens', 'text', 'is_incrementing', 'is_repeating', 'sequence_duplicates', 'max_frequency', 'avg_frequency', 'min_frequency', 'median_frequency', 'p25_frequency', 'p75_frequency', 'frequencies', 'nl_scores', '0_8_snowclones', '0_9_snowclones', '0_8_templates', '0_9_templates', 'huffman_coding_length', 'memorization_score', 'index', 'loss', 'prompt_perplexity', 'generation_perplexity', 'sequence_perplexity'],\n",
       "        num_rows: 1871216\n",
       "    })\n",
       "    deduped.70m: Dataset({\n",
       "        features: ['sequence_id', 'tokens', 'text', 'is_incrementing', 'is_repeating', 'sequence_duplicates', 'max_frequency', 'avg_frequency', 'min_frequency', 'median_frequency', 'p25_frequency', 'p75_frequency', 'frequencies', 'nl_scores', '0_8_snowclones', '0_9_snowclones', '0_8_templates', '0_9_templates', 'huffman_coding_length', 'memorization_score', 'index', 'loss', 'prompt_perplexity', 'generation_perplexity', 'sequence_perplexity'],\n",
       "        num_rows: 411448\n",
       "    })\n",
       "    deduped.2.8b: Dataset({\n",
       "        features: ['sequence_id', 'tokens', 'text', 'is_incrementing', 'is_repeating', 'sequence_duplicates', 'max_frequency', 'avg_frequency', 'min_frequency', 'median_frequency', 'p25_frequency', 'p75_frequency', 'frequencies', 'nl_scores', '0_8_snowclones', '0_9_snowclones', '0_8_templates', '0_9_templates', 'huffman_coding_length', 'memorization_score', 'index', 'loss', 'prompt_perplexity', 'generation_perplexity', 'sequence_perplexity'],\n",
       "        num_rows: 1355216\n",
       "    })\n",
       "    deduped.160m: Dataset({\n",
       "        features: ['sequence_id', 'tokens', 'text', 'is_incrementing', 'is_repeating', 'sequence_duplicates', 'max_frequency', 'avg_frequency', 'min_frequency', 'median_frequency', 'p25_frequency', 'p75_frequency', 'frequencies', 'nl_scores', '0_8_snowclones', '0_9_snowclones', '0_8_templates', '0_9_templates', 'huffman_coding_length', 'memorization_score', 'index', 'loss', 'prompt_perplexity', 'generation_perplexity', 'sequence_perplexity'],\n",
       "        num_rows: 581200\n",
       "    })\n",
       "    deduped.12b.43000: Dataset({\n",
       "        features: ['sequence_id', 'tokens', 'text', 'is_incrementing', 'is_repeating', 'sequence_duplicates', 'max_frequency', 'avg_frequency', 'min_frequency', 'median_frequency', 'p25_frequency', 'p75_frequency', 'frequencies', 'nl_scores', 'huffman_coding_length', 'memorization_score'],\n",
       "        num_rows: 358863\n",
       "    })\n",
       "    deduped.12b.103000: Dataset({\n",
       "        features: ['sequence_id', 'tokens', 'text', 'is_incrementing', 'is_repeating', 'sequence_duplicates', 'max_frequency', 'avg_frequency', 'min_frequency', 'median_frequency', 'p25_frequency', 'p75_frequency', 'frequencies', 'nl_scores', 'huffman_coding_length', 'memorization_score'],\n",
       "        num_rows: 1195578\n",
       "    })\n",
       "    deduped.12b.83000: Dataset({\n",
       "        features: ['sequence_id', 'tokens', 'text', 'is_incrementing', 'is_repeating', 'sequence_duplicates', 'max_frequency', 'avg_frequency', 'min_frequency', 'median_frequency', 'p25_frequency', 'p75_frequency', 'frequencies', 'nl_scores', 'huffman_coding_length', 'memorization_score'],\n",
       "        num_rows: 852068\n",
       "    })\n",
       "    deduped.12b.63000: Dataset({\n",
       "        features: ['sequence_id', 'tokens', 'text', 'is_incrementing', 'is_repeating', 'sequence_duplicates', 'max_frequency', 'avg_frequency', 'min_frequency', 'median_frequency', 'p25_frequency', 'p75_frequency', 'frequencies', 'nl_scores', 'huffman_coding_length', 'memorization_score'],\n",
       "        num_rows: 585067\n",
       "    })\n",
       "    deduped.12b.123000: Dataset({\n",
       "        features: ['sequence_id', 'tokens', 'text', 'is_incrementing', 'is_repeating', 'sequence_duplicates', 'max_frequency', 'avg_frequency', 'min_frequency', 'median_frequency', 'p25_frequency', 'p75_frequency', 'frequencies', 'nl_scores', 'huffman_coding_length', 'memorization_score'],\n",
       "        num_rows: 1564055\n",
       "    })\n",
       "    deduped.12b.23000: Dataset({\n",
       "        features: ['sequence_id', 'tokens', 'text', 'is_incrementing', 'is_repeating', 'sequence_duplicates', 'max_frequency', 'avg_frequency', 'min_frequency', 'median_frequency', 'p25_frequency', 'p75_frequency', 'frequencies', 'nl_scores', 'huffman_coding_length', 'memorization_score'],\n",
       "        num_rows: 163418\n",
       "    })\n",
       "})"
      ]
     },
     "execution_count": 4,
     "metadata": {},
     "output_type": "execute_result"
    }
   ],
   "source": [
    "print(\"Loading datasets...\")\n",
    "print(f\"Split sample size: {split_sample_size}\")\n",
    "\n",
    "for split in tqdm(splits):\n",
    "    model = split.split(\"_\")[-1]\n",
    "    checkpoint = int(split.split(\".\")[-1]) if split.split(\".\")[-1][1].isnumeric() else \"Final\"\n",
    "    formatted_split_name = split.replace(\"memories_\", \"\").replace(\"deduped_\", \"deduped.\")\n",
    "    dataset_path = memories_path if checkpoint == \"Final\" else intermediate_path\n",
    "    memories_dataset[formatted_split_name] = load_dataset(dataset_path, split=f\"{split}[:{split_sample_size}]\" if split_sample_size else split)\n",
    "\n",
    "memories_dataset"
   ]
  },
  {
   "cell_type": "code",
   "execution_count": 5,
   "metadata": {},
   "outputs": [],
   "source": [
    "split_to_param_count = {\n",
    "    \"70m\": 70000000,\n",
    "    \"160m\": 160000000,\n",
    "    \"410m\": 410000000,\n",
    "    \"1b\": 1000000000,\n",
    "    \"1.4b\": 1400000000,\n",
    "    \"2.8b\": 2800000000,\n",
    "    \"6.9b\": 6900000000,\n",
    "    \"12b\": 12000000000,\n",
    "}"
   ]
  },
  {
   "cell_type": "code",
   "execution_count": 6,
   "metadata": {},
   "outputs": [
    {
     "name": "stderr",
     "output_type": "stream",
     "text": [
      "Loading Memories:   7%|▋         | 1/14 [00:01<00:18,  1.42s/it]"
     ]
    },
    {
     "name": "stdout",
     "output_type": "stream",
     "text": [
      "Model: 410m from deduped.410m\n",
      "Model: 1.4b from deduped.1.4b\n"
     ]
    },
    {
     "name": "stderr",
     "output_type": "stream",
     "text": [
      "Loading Memories:  14%|█▍        | 2/14 [00:03<00:21,  1.76s/it]"
     ]
    },
    {
     "name": "stdout",
     "output_type": "stream",
     "text": [
      "Model: 6.9b from deduped.6.9b\n"
     ]
    },
    {
     "name": "stderr",
     "output_type": "stream",
     "text": [
      "Loading Memories:  21%|██▏       | 3/14 [00:07<00:28,  2.62s/it]"
     ]
    },
    {
     "name": "stdout",
     "output_type": "stream",
     "text": [
      "Model: 1b from deduped.1b\n"
     ]
    },
    {
     "name": "stderr",
     "output_type": "stream",
     "text": [
      "Loading Memories:  29%|██▊       | 4/14 [00:09<00:24,  2.50s/it]"
     ]
    },
    {
     "name": "stdout",
     "output_type": "stream",
     "text": [
      "Model: 12b from deduped.12b\n"
     ]
    },
    {
     "name": "stderr",
     "output_type": "stream",
     "text": [
      "Loading Memories:  36%|███▌      | 5/14 [00:13<00:27,  3.04s/it]"
     ]
    },
    {
     "name": "stdout",
     "output_type": "stream",
     "text": [
      "Model: 70m from deduped.70m\n"
     ]
    },
    {
     "name": "stderr",
     "output_type": "stream",
     "text": [
      "Loading Memories:  43%|████▎     | 6/14 [00:14<00:20,  2.53s/it]"
     ]
    },
    {
     "name": "stdout",
     "output_type": "stream",
     "text": [
      "Model: 2.8b from deduped.2.8b\n"
     ]
    },
    {
     "name": "stderr",
     "output_type": "stream",
     "text": [
      "Loading Memories:  50%|█████     | 7/14 [00:18<00:19,  2.76s/it]"
     ]
    },
    {
     "name": "stdout",
     "output_type": "stream",
     "text": [
      "Model: 160m from deduped.160m\n"
     ]
    },
    {
     "name": "stderr",
     "output_type": "stream",
     "text": [
      "Loading Memories:  57%|█████▋    | 8/14 [00:20<00:14,  2.48s/it]"
     ]
    },
    {
     "name": "stdout",
     "output_type": "stream",
     "text": [
      "Model: 12b from deduped.12b.43000\n"
     ]
    },
    {
     "name": "stderr",
     "output_type": "stream",
     "text": [
      "Loading Memories:  64%|██████▍   | 9/14 [00:21<00:11,  2.32s/it]"
     ]
    },
    {
     "name": "stdout",
     "output_type": "stream",
     "text": [
      "Model: 12b from deduped.12b.103000\n"
     ]
    },
    {
     "name": "stderr",
     "output_type": "stream",
     "text": [
      "Loading Memories:  71%|███████▏  | 10/14 [00:25<00:10,  2.59s/it]"
     ]
    },
    {
     "name": "stdout",
     "output_type": "stream",
     "text": [
      "Model: 12b from deduped.12b.83000\n"
     ]
    },
    {
     "name": "stderr",
     "output_type": "stream",
     "text": [
      "Loading Memories:  79%|███████▊  | 11/14 [00:28<00:08,  2.73s/it]"
     ]
    },
    {
     "name": "stdout",
     "output_type": "stream",
     "text": [
      "Model: 12b from deduped.12b.63000\n"
     ]
    },
    {
     "name": "stderr",
     "output_type": "stream",
     "text": [
      "Loading Memories:  86%|████████▌ | 12/14 [00:30<00:05,  2.63s/it]"
     ]
    },
    {
     "name": "stdout",
     "output_type": "stream",
     "text": [
      "Model: 12b from deduped.12b.123000\n"
     ]
    },
    {
     "name": "stderr",
     "output_type": "stream",
     "text": [
      "Loading Memories:  93%|█████████▎| 13/14 [00:35<00:03,  3.21s/it]"
     ]
    },
    {
     "name": "stdout",
     "output_type": "stream",
     "text": [
      "Model: 12b from deduped.12b.23000\n"
     ]
    },
    {
     "name": "stderr",
     "output_type": "stream",
     "text": [
      "Loading Memories: 100%|██████████| 14/14 [00:37<00:00,  2.65s/it]\n"
     ]
    },
    {
     "data": {
      "text/plain": [
       "(13510441, 28)"
      ]
     },
     "metadata": {},
     "output_type": "display_data"
    },
    {
     "data": {
      "text/plain": [
       "Index(['sequence_id', 'text', 'is_incrementing', 'is_repeating',\n",
       "       'sequence_duplicates', 'max_frequency', 'avg_frequency',\n",
       "       'min_frequency', 'median_frequency', 'p25_frequency', 'p75_frequency',\n",
       "       'nl_scores', '0_8_snowclones', '0_9_snowclones', '0_8_templates',\n",
       "       '0_9_templates', 'huffman_coding_length', 'memorization_score', 'index',\n",
       "       'loss', 'prompt_perplexity', 'generation_perplexity',\n",
       "       'sequence_perplexity', 'Checkpoint', 'Model', 'Param Count', 'Deduped',\n",
       "       'Memorized'],\n",
       "      dtype='object')"
      ]
     },
     "metadata": {},
     "output_type": "display_data"
    },
    {
     "data": {
      "text/html": [
       "<div>\n",
       "<style scoped>\n",
       "    .dataframe tbody tr th:only-of-type {\n",
       "        vertical-align: middle;\n",
       "    }\n",
       "\n",
       "    .dataframe tbody tr th {\n",
       "        vertical-align: top;\n",
       "    }\n",
       "\n",
       "    .dataframe thead th {\n",
       "        text-align: right;\n",
       "    }\n",
       "</style>\n",
       "<table border=\"1\" class=\"dataframe\">\n",
       "  <thead>\n",
       "    <tr style=\"text-align: right;\">\n",
       "      <th></th>\n",
       "      <th>sequence_id</th>\n",
       "      <th>text</th>\n",
       "      <th>is_incrementing</th>\n",
       "      <th>is_repeating</th>\n",
       "      <th>sequence_duplicates</th>\n",
       "      <th>max_frequency</th>\n",
       "      <th>avg_frequency</th>\n",
       "      <th>min_frequency</th>\n",
       "      <th>median_frequency</th>\n",
       "      <th>p25_frequency</th>\n",
       "      <th>...</th>\n",
       "      <th>index</th>\n",
       "      <th>loss</th>\n",
       "      <th>prompt_perplexity</th>\n",
       "      <th>generation_perplexity</th>\n",
       "      <th>sequence_perplexity</th>\n",
       "      <th>Checkpoint</th>\n",
       "      <th>Model</th>\n",
       "      <th>Param Count</th>\n",
       "      <th>Deduped</th>\n",
       "      <th>Memorized</th>\n",
       "    </tr>\n",
       "  </thead>\n",
       "  <tbody>\n",
       "    <tr>\n",
       "      <th>311692</th>\n",
       "      <td>76369286</td>\n",
       "      <td>09-01636],[@B243-cells-09-01636],[@B244-cells-...</td>\n",
       "      <td>True</td>\n",
       "      <td>False</td>\n",
       "      <td>3</td>\n",
       "      <td>2965935634</td>\n",
       "      <td>9.619414e+08</td>\n",
       "      <td>1466086</td>\n",
       "      <td>26718143.5</td>\n",
       "      <td>3396213</td>\n",
       "      <td>...</td>\n",
       "      <td>76369286.0</td>\n",
       "      <td>0.901367</td>\n",
       "      <td>1.762004</td>\n",
       "      <td>1.028962</td>\n",
       "      <td>1.813036</td>\n",
       "      <td>Final</td>\n",
       "      <td>70m</td>\n",
       "      <td>70000000</td>\n",
       "      <td>True</td>\n",
       "      <td>True</td>\n",
       "    </tr>\n",
       "    <tr>\n",
       "      <th>274304</th>\n",
       "      <td>101528653</td>\n",
       "      <td>0 (the \"License\");\\n// you may not use this fi...</td>\n",
       "      <td>False</td>\n",
       "      <td>False</td>\n",
       "      <td>126590</td>\n",
       "      <td>11740996961</td>\n",
       "      <td>2.183443e+09</td>\n",
       "      <td>2535454</td>\n",
       "      <td>397855078.0</td>\n",
       "      <td>24463239</td>\n",
       "      <td>...</td>\n",
       "      <td>101528653.0</td>\n",
       "      <td>0.828125</td>\n",
       "      <td>2.405067</td>\n",
       "      <td>1.001652</td>\n",
       "      <td>2.409041</td>\n",
       "      <td>Final</td>\n",
       "      <td>70m</td>\n",
       "      <td>70000000</td>\n",
       "      <td>True</td>\n",
       "      <td>True</td>\n",
       "    </tr>\n",
       "    <tr>\n",
       "      <th>274303</th>\n",
       "      <td>101488489</td>\n",
       "      <td>permissions and limitations under the License...</td>\n",
       "      <td>False</td>\n",
       "      <td>False</td>\n",
       "      <td>12551</td>\n",
       "      <td>11740996961</td>\n",
       "      <td>2.955296e+09</td>\n",
       "      <td>605886</td>\n",
       "      <td>223388936.0</td>\n",
       "      <td>16400100</td>\n",
       "      <td>...</td>\n",
       "      <td>101488489.0</td>\n",
       "      <td>0.895020</td>\n",
       "      <td>2.173179</td>\n",
       "      <td>1.022547</td>\n",
       "      <td>2.222178</td>\n",
       "      <td>Final</td>\n",
       "      <td>70m</td>\n",
       "      <td>70000000</td>\n",
       "      <td>True</td>\n",
       "      <td>True</td>\n",
       "    </tr>\n",
       "    <tr>\n",
       "      <th>274302</th>\n",
       "      <td>101355445</td>\n",
       "      <td>nbsp;&lt;/span&gt;&lt;/caption&gt;\\n&lt;tr&gt;\\n&lt;th class=\"colFi...</td>\n",
       "      <td>False</td>\n",
       "      <td>False</td>\n",
       "      <td>39601</td>\n",
       "      <td>11740996961</td>\n",
       "      <td>1.373194e+09</td>\n",
       "      <td>1033836</td>\n",
       "      <td>87048161.0</td>\n",
       "      <td>10406762</td>\n",
       "      <td>...</td>\n",
       "      <td>101355445.0</td>\n",
       "      <td>0.788574</td>\n",
       "      <td>3.974078</td>\n",
       "      <td>1.012878</td>\n",
       "      <td>4.025258</td>\n",
       "      <td>Final</td>\n",
       "      <td>70m</td>\n",
       "      <td>70000000</td>\n",
       "      <td>True</td>\n",
       "      <td>True</td>\n",
       "    </tr>\n",
       "    <tr>\n",
       "      <th>274301</th>\n",
       "      <td>101319862</td>\n",
       "      <td>/or sell\\n * copies of the Software, and to pe...</td>\n",
       "      <td>False</td>\n",
       "      <td>False</td>\n",
       "      <td>40819</td>\n",
       "      <td>11740996961</td>\n",
       "      <td>3.075328e+09</td>\n",
       "      <td>1317065</td>\n",
       "      <td>573756779.0</td>\n",
       "      <td>12931579</td>\n",
       "      <td>...</td>\n",
       "      <td>101319862.0</td>\n",
       "      <td>0.823242</td>\n",
       "      <td>1.956711</td>\n",
       "      <td>1.012603</td>\n",
       "      <td>1.981370</td>\n",
       "      <td>Final</td>\n",
       "      <td>70m</td>\n",
       "      <td>70000000</td>\n",
       "      <td>True</td>\n",
       "      <td>True</td>\n",
       "    </tr>\n",
       "  </tbody>\n",
       "</table>\n",
       "<p>5 rows × 28 columns</p>\n",
       "</div>"
      ],
      "text/plain": [
       "        sequence_id                                               text  \\\n",
       "311692     76369286  09-01636],[@B243-cells-09-01636],[@B244-cells-...   \n",
       "274304    101528653  0 (the \"License\");\\n// you may not use this fi...   \n",
       "274303    101488489   permissions and limitations under the License...   \n",
       "274302    101355445  nbsp;</span></caption>\\n<tr>\\n<th class=\"colFi...   \n",
       "274301    101319862  /or sell\\n * copies of the Software, and to pe...   \n",
       "\n",
       "        is_incrementing  is_repeating  sequence_duplicates  max_frequency  \\\n",
       "311692             True         False                    3     2965935634   \n",
       "274304            False         False               126590    11740996961   \n",
       "274303            False         False                12551    11740996961   \n",
       "274302            False         False                39601    11740996961   \n",
       "274301            False         False                40819    11740996961   \n",
       "\n",
       "        avg_frequency  min_frequency  median_frequency  p25_frequency  ...  \\\n",
       "311692   9.619414e+08        1466086        26718143.5        3396213  ...   \n",
       "274304   2.183443e+09        2535454       397855078.0       24463239  ...   \n",
       "274303   2.955296e+09         605886       223388936.0       16400100  ...   \n",
       "274302   1.373194e+09        1033836        87048161.0       10406762  ...   \n",
       "274301   3.075328e+09        1317065       573756779.0       12931579  ...   \n",
       "\n",
       "              index      loss  prompt_perplexity  generation_perplexity  \\\n",
       "311692   76369286.0  0.901367           1.762004               1.028962   \n",
       "274304  101528653.0  0.828125           2.405067               1.001652   \n",
       "274303  101488489.0  0.895020           2.173179               1.022547   \n",
       "274302  101355445.0  0.788574           3.974078               1.012878   \n",
       "274301  101319862.0  0.823242           1.956711               1.012603   \n",
       "\n",
       "        sequence_perplexity  Checkpoint  Model  Param Count  Deduped  \\\n",
       "311692             1.813036       Final    70m     70000000     True   \n",
       "274304             2.409041       Final    70m     70000000     True   \n",
       "274303             2.222178       Final    70m     70000000     True   \n",
       "274302             4.025258       Final    70m     70000000     True   \n",
       "274301             1.981370       Final    70m     70000000     True   \n",
       "\n",
       "        Memorized  \n",
       "311692       True  \n",
       "274304       True  \n",
       "274303       True  \n",
       "274302       True  \n",
       "274301       True  \n",
       "\n",
       "[5 rows x 28 columns]"
      ]
     },
     "execution_count": 6,
     "metadata": {},
     "output_type": "execute_result"
    }
   ],
   "source": [
    "columns_to_drop = [\"frequencies\", \"tokens\"]\n",
    "combined_dataframe = None\n",
    "for split in tqdm(memories_dataset, desc=\"Loading Memories\"):\n",
    "    current_frame = memories_dataset[split].to_pandas()\n",
    "    current_frame.drop(columns=columns_to_drop, inplace=True)\n",
    "    checkpoint = int(split.split(\".\")[-1]) if split.split(\".\")[-1][1].isnumeric() and len(split.split(\".\")) != 2 else \"Final\"\n",
    "    current_frame[\"Checkpoint\"] = checkpoint\n",
    "    model = split.split(\"deduped\")[-1][1:] if checkpoint == \"Final\" else split.split(\".\")[-2]\n",
    "    print(f\"Model: {model} from {split}\")\n",
    "    current_frame[\"Model\"] = model\n",
    "    current_frame[\"Param Count\"] = split_to_param_count[current_frame[\"Model\"].iloc[0]]\n",
    "    current_frame[\"Deduped\"] = \"deduped\" in split\n",
    "    current_frame[\"Memorized\"] = True\n",
    "    if combined_dataframe is None:\n",
    "        combined_dataframe = current_frame\n",
    "    else:\n",
    "        combined_dataframe = pd.concat([combined_dataframe, current_frame])\n",
    "\n",
    "combined_dataframe = combined_dataframe.sort_values(\"Param Count\")\n",
    "display(combined_dataframe.shape)\n",
    "display(combined_dataframe.columns)\n",
    "combined_dataframe.head()"
   ]
  },
  {
   "cell_type": "markdown",
   "metadata": {},
   "source": [
    "### Assign Examples to Taxonomy"
   ]
  },
  {
   "cell_type": "code",
   "execution_count": 7,
   "metadata": {},
   "outputs": [
    {
     "name": "stderr",
     "output_type": "stream",
     "text": [
      "100%|██████████| 13510441/13510441 [02:37<00:00, 85997.89it/s] \n"
     ]
    },
    {
     "name": "stderr",
     "output_type": "stream",
     "text": [
      "100%|██████████| 13510441/13510441 [02:37<00:00, 105299.96it/s]"
     ]
    },
    {
     "data": {
      "text/plain": [
       "Model  Checkpoint  category      \n",
       "12b    Final       Recitation        1807784\n",
       "6.9b   Final       Recitation        1624577\n",
       "12b    123000      Recitation        1510751\n",
       "2.8b   Final       Recitation        1309226\n",
       "12b    103000      Recitation        1154194\n",
       "1.4b   Final       Recitation        1013361\n",
       "1b     Final       Recitation         999304\n",
       "12b    83000       Recitation         821928\n",
       "410m   Final       Recitation         784715\n",
       "12b    63000       Recitation         564663\n",
       "160m   Final       Recitation         562743\n",
       "70m    Final       Recitation         400631\n",
       "12b    43000       Recitation         346428\n",
       "       23000       Recitation         157879\n",
       "       Final       Recollection        58071\n",
       "6.9b   Final       Recollection        50491\n",
       "12b    123000      Recollection        48682\n",
       "2.8b   Final       Recollection        40885\n",
       "12b    103000      Recollection        37608\n",
       "1.4b   Final       Recollection        30167\n",
       "1b     Final       Recollection        28825\n",
       "12b    83000       Recollection        27118\n",
       "410m   Final       Recollection        21802\n",
       "12b    63000       Recollection        18167\n",
       "160m   Final       Recollection        14331\n",
       "12b    43000       Recollection        11012\n",
       "70m    Final       Recollection         7789\n",
       "12b    Final       Reconstruction       5361\n",
       "6.9b   Final       Reconstruction       5228\n",
       "2.8b   Final       Reconstruction       5105\n",
       "12b    23000       Recollection         4795\n",
       "1b     Final       Reconstruction       4743\n",
       "12b    123000      Reconstruction       4622\n",
       "1.4b   Final       Reconstruction       4576\n",
       "410m   Final       Reconstruction       4523\n",
       "160m   Final       Reconstruction       4126\n",
       "12b    103000      Reconstruction       3776\n",
       "70m    Final       Reconstruction       3028\n",
       "12b    83000       Reconstruction       3022\n",
       "       63000       Reconstruction       2237\n",
       "       43000       Reconstruction       1423\n",
       "       23000       Reconstruction        744\n",
       "Name: count, dtype: int64"
      ]
     },
     "execution_count": 7,
     "metadata": {},
     "output_type": "execute_result"
    }
   ],
   "source": [
    "def get_category(row):\n",
    "    if row[\"Memorized\"] == False:\n",
    "        return \"Not Memorized\"\n",
    "    if row[\"sequence_duplicates\"] >= RECITATION_THRESHOLD:\n",
    "        return \"Recitation\"\n",
    "    if row[\"is_incrementing\"] or row[\"is_repeating\"]:\n",
    "        return \"Reconstruction\"\n",
    "\n",
    "    return \"Recollection\"\n",
    "\n",
    "combined_dataframe[\"category\"] = combined_dataframe.progress_apply(lambda row: get_category(row), axis=1)\n",
    "combined_dataframe.value_counts([\"Model\", \"Checkpoint\", \"category\"])\n",
    "\n",
    "# 12 deduped\n",
    "# memories_frame = combined_dataframe[(combined_dataframe[\"Memorized\"] == True) & (combined_dataframe[\"Deduped\"] == True) & (combined_dataframe[\"Model\"] == \"12b\")]\n",
    "# memories_frame[\"category\"] = memories_frame.progress_apply(lambda row: get_category(row), axis=1)\n",
    "# memories_frame.value_counts(\"category\")"
   ]
  },
  {
   "cell_type": "markdown",
   "metadata": {},
   "source": [
    "## Plot Graphs"
   ]
  },
  {
   "cell_type": "markdown",
   "metadata": {},
   "source": [
    "### Figure: Prevalence and Memories by Taxonomy Across Time and Scale"
   ]
  },
  {
   "cell_type": "code",
   "execution_count": 8,
   "metadata": {},
   "outputs": [
    {
     "data": {
      "text/html": [
       "<div>\n",
       "<style scoped>\n",
       "    .dataframe tbody tr th:only-of-type {\n",
       "        vertical-align: middle;\n",
       "    }\n",
       "\n",
       "    .dataframe tbody tr th {\n",
       "        vertical-align: top;\n",
       "    }\n",
       "\n",
       "    .dataframe thead th {\n",
       "        text-align: right;\n",
       "    }\n",
       "</style>\n",
       "<table border=\"1\" class=\"dataframe\">\n",
       "  <thead>\n",
       "    <tr style=\"text-align: right;\">\n",
       "      <th>category</th>\n",
       "      <th>Recitation</th>\n",
       "      <th>Recollection</th>\n",
       "      <th>Reconstruction</th>\n",
       "    </tr>\n",
       "    <tr>\n",
       "      <th>Param Count</th>\n",
       "      <th></th>\n",
       "      <th></th>\n",
       "      <th></th>\n",
       "    </tr>\n",
       "  </thead>\n",
       "  <tbody>\n",
       "    <tr>\n",
       "      <th>70000000</th>\n",
       "      <td>400631</td>\n",
       "      <td>7789</td>\n",
       "      <td>3028</td>\n",
       "    </tr>\n",
       "    <tr>\n",
       "      <th>160000000</th>\n",
       "      <td>562743</td>\n",
       "      <td>14331</td>\n",
       "      <td>4126</td>\n",
       "    </tr>\n",
       "    <tr>\n",
       "      <th>410000000</th>\n",
       "      <td>784715</td>\n",
       "      <td>21802</td>\n",
       "      <td>4523</td>\n",
       "    </tr>\n",
       "    <tr>\n",
       "      <th>1000000000</th>\n",
       "      <td>999304</td>\n",
       "      <td>28825</td>\n",
       "      <td>4743</td>\n",
       "    </tr>\n",
       "    <tr>\n",
       "      <th>1400000000</th>\n",
       "      <td>1013361</td>\n",
       "      <td>30167</td>\n",
       "      <td>4576</td>\n",
       "    </tr>\n",
       "    <tr>\n",
       "      <th>2800000000</th>\n",
       "      <td>1309226</td>\n",
       "      <td>40885</td>\n",
       "      <td>5105</td>\n",
       "    </tr>\n",
       "    <tr>\n",
       "      <th>6900000000</th>\n",
       "      <td>1624577</td>\n",
       "      <td>50491</td>\n",
       "      <td>5228</td>\n",
       "    </tr>\n",
       "    <tr>\n",
       "      <th>12000000000</th>\n",
       "      <td>1807784</td>\n",
       "      <td>58071</td>\n",
       "      <td>5361</td>\n",
       "    </tr>\n",
       "  </tbody>\n",
       "</table>\n",
       "</div>"
      ],
      "text/plain": [
       "category     Recitation  Recollection  Reconstruction\n",
       "Param Count                                          \n",
       "70000000         400631          7789            3028\n",
       "160000000        562743         14331            4126\n",
       "410000000        784715         21802            4523\n",
       "1000000000       999304         28825            4743\n",
       "1400000000      1013361         30167            4576\n",
       "2800000000      1309226         40885            5105\n",
       "6900000000      1624577         50491            5228\n",
       "12000000000     1807784         58071            5361"
      ]
     },
     "metadata": {},
     "output_type": "display_data"
    },
    {
     "data": {
      "text/html": [
       "<div>\n",
       "<style scoped>\n",
       "    .dataframe tbody tr th:only-of-type {\n",
       "        vertical-align: middle;\n",
       "    }\n",
       "\n",
       "    .dataframe tbody tr th {\n",
       "        vertical-align: top;\n",
       "    }\n",
       "\n",
       "    .dataframe thead th {\n",
       "        text-align: right;\n",
       "    }\n",
       "</style>\n",
       "<table border=\"1\" class=\"dataframe\">\n",
       "  <thead>\n",
       "    <tr style=\"text-align: right;\">\n",
       "      <th>category</th>\n",
       "      <th>Recitation</th>\n",
       "      <th>Recollection</th>\n",
       "      <th>Reconstruction</th>\n",
       "    </tr>\n",
       "    <tr>\n",
       "      <th>Checkpoint</th>\n",
       "      <th></th>\n",
       "      <th></th>\n",
       "      <th></th>\n",
       "    </tr>\n",
       "  </thead>\n",
       "  <tbody>\n",
       "    <tr>\n",
       "      <th>23000</th>\n",
       "      <td>157879</td>\n",
       "      <td>4795</td>\n",
       "      <td>744</td>\n",
       "    </tr>\n",
       "    <tr>\n",
       "      <th>43000</th>\n",
       "      <td>346428</td>\n",
       "      <td>11012</td>\n",
       "      <td>1423</td>\n",
       "    </tr>\n",
       "    <tr>\n",
       "      <th>63000</th>\n",
       "      <td>564663</td>\n",
       "      <td>18167</td>\n",
       "      <td>2237</td>\n",
       "    </tr>\n",
       "    <tr>\n",
       "      <th>83000</th>\n",
       "      <td>821928</td>\n",
       "      <td>27118</td>\n",
       "      <td>3022</td>\n",
       "    </tr>\n",
       "    <tr>\n",
       "      <th>103000</th>\n",
       "      <td>1154194</td>\n",
       "      <td>37608</td>\n",
       "      <td>3776</td>\n",
       "    </tr>\n",
       "    <tr>\n",
       "      <th>123000</th>\n",
       "      <td>1510751</td>\n",
       "      <td>48682</td>\n",
       "      <td>4622</td>\n",
       "    </tr>\n",
       "  </tbody>\n",
       "</table>\n",
       "</div>"
      ],
      "text/plain": [
       "category    Recitation  Recollection  Reconstruction\n",
       "Checkpoint                                          \n",
       "23000           157879          4795             744\n",
       "43000           346428         11012            1423\n",
       "63000           564663         18167            2237\n",
       "83000           821928         27118            3022\n",
       "103000         1154194         37608            3776\n",
       "123000         1510751         48682            4622"
      ]
     },
     "metadata": {},
     "output_type": "display_data"
    }
   ],
   "source": [
    "# Create plot for data across \n",
    "final_checkpoint_counts_frame = combined_dataframe[combined_dataframe[\"Checkpoint\"] == \"Final\"].value_counts([\"Param Count\", \"category\"]).unstack().reindex(split_to_param_count.values())\n",
    "final_checkpoint_counts_frame.to_csv(f\"final_checkpoint_counts_recitation={RECITATION_THRESHOLD}.csv\")\n",
    "display(final_checkpoint_counts_frame)\n",
    "\n",
    "intermediate_frame = combined_dataframe[(combined_dataframe[\"Checkpoint\"] != \"Final\") & (combined_dataframe[\"Model\"] == \"12b\")]\n",
    "sorted_checkpoints = sorted(intermediate_frame[\"Checkpoint\"].unique(), key=lambda x: int(x))\n",
    "\n",
    "intermediate_checkpoint_counts_frame = intermediate_frame.value_counts([\"Checkpoint\", \"category\"]).unstack().reindex(sorted_checkpoints)\n",
    "intermediate_checkpoint_counts_frame.to_csv(f\"intermediate_checkpoint_counts_recitation={RECITATION_THRESHOLD}.csv\")\n",
    "display(intermediate_checkpoint_counts_frame)"
   ]
  },
  {
   "cell_type": "code",
   "execution_count": 20,
   "metadata": {},
   "outputs": [
    {
     "data": {
      "image/png": "[encoded data removed]",
      "text/plain": [
       "<Figure size 1300x300 with 2 Axes>"
      ]
     },
     "metadata": {},
     "output_type": "display_data"
    }
   ],
   "source": [
    "fig, axes = plt.subplots(1, 2, figsize=(13, 3))\n",
    "\n",
    "# set figure 1\n",
    "# first figure is a line plot of the counts of each category for across intermediate checkpoints\n",
    "\n",
    "sns.lineplot(ax=axes[0], data=intermediate_checkpoint_counts_frame, dashes=False, markers=True, markersize=8)\n",
    "\n",
    "# rotate x axis labels\n",
    "# axes[0].tick_params(axis='x', rotation=20)\n",
    "\n",
    "# make x labels smaller\n",
    "axes[0].tick_params(axis='x', labelsize=12)\n",
    "\n",
    "# Add y label for Count\n",
    "axes[0].set_ylabel(\"Count\", labelpad=label_title_padding)\n",
    "\n",
    "# add padding for labels\n",
    "fig.subplots_adjust(wspace=0.2)\n",
    "\n",
    "# # make x axis log scale\n",
    "# axes[0].set_xscale(\"log\")\n",
    "\n",
    "# # have a common legend for both plots centered below the figure. No legend box\n",
    "axes[0].legend(loc='upper center', bbox_to_anchor=(1.1, -0.3), ncol=4, frameon=False)\n",
    "\n",
    "# have three equally spaces ticks on the x axis\n",
    "# checkpoints = intermediate_checkpoint_counts_frame.index\n",
    "# min_checkpoint = int(checkpoints[0])\n",
    "# mid_checkpoint = int(checkpoints[len(checkpoints) // 2])\n",
    "# max_checkpoint = int(checkpoints[-1])\n",
    "# axes[0].set_xticks([min_checkpoint, mid_checkpoint, max_checkpoint])\n",
    "\n",
    "# set figure 2\n",
    "# the second figure is a line plot of the counts of each category across parameter count\n",
    "\n",
    "sns.lineplot(ax=axes[1], data=final_checkpoint_counts_frame, dashes=False, markers=True, markersize=8)\n",
    "\n",
    "# make x axis log scale\n",
    "axes[1].set_xscale(\"log\")\n",
    "\n",
    "# Set x label to \"Parameters\"\n",
    "axes[1].set_xlabel(\"Parameters\")\n",
    "\n",
    "# Add y label for Count\n",
    "axes[1].set_ylabel(\"Count\")\n",
    "\n",
    "# remove legend\n",
    "axes[1].legend().remove()\n",
    "\n",
    "# add padding for labels\n",
    "fig.subplots_adjust(wspace=0.30)\n",
    "\n",
    "fig.savefig(f\"categories_across_time+scale_recitation={RECITATION_THRESHOLD}.png\", dpi=300, bbox_inches=\"tight\")\n",
    "\n"
   ]
  },
  {
   "cell_type": "markdown",
   "metadata": {},
   "source": [
    "### Figure: Prevalence and Percents of Memories by Taxonomy Across Param Count"
   ]
  },
  {
   "cell_type": "code",
   "execution_count": 10,
   "metadata": {},
   "outputs": [
    {
     "name": "stderr",
     "output_type": "stream",
     "text": [
      " 12%|█▎        | 1/8 [00:00<00:01,  6.17it/s]"
     ]
    },
    {
     "name": "stdout",
     "output_type": "stream",
     "text": [
      "{'Recitation': 0.9737099220314597, 'Recollection': 0.018930703272345473, 'Reconstruction': 0.007359374696194902}\n"
     ]
    },
    {
     "name": "stderr",
     "output_type": "stream",
     "text": [
      " 25%|██▌       | 2/8 [00:00<00:01,  4.73it/s]"
     ]
    },
    {
     "name": "stdout",
     "output_type": "stream",
     "text": [
      "{'Recitation': 0.9682432897453545, 'Recollection': 0.024657604955264967, 'Reconstruction': 0.007099105299380592}\n"
     ]
    },
    {
     "name": "stderr",
     "output_type": "stream",
     "text": [
      " 38%|███▊      | 3/8 [00:00<00:01,  3.94it/s]"
     ]
    },
    {
     "name": "stdout",
     "output_type": "stream",
     "text": [
      "{'Recitation': 0.9675416748865654, 'Recollection': 0.026881534819491022, 'Reconstruction': 0.0055767902939435786}\n"
     ]
    },
    {
     "name": "stderr",
     "output_type": "stream",
     "text": [
      " 50%|█████     | 4/8 [00:01<00:01,  3.25it/s]"
     ]
    },
    {
     "name": "stdout",
     "output_type": "stream",
     "text": [
      "{'Recitation': 0.9675003291792207, 'Recollection': 0.02790762069259308, 'Reconstruction': 0.004592050128186261}\n"
     ]
    },
    {
     "name": "stderr",
     "output_type": "stream",
     "text": [
      " 62%|██████▎   | 5/8 [00:01<00:01,  2.89it/s]"
     ]
    },
    {
     "name": "stdout",
     "output_type": "stream",
     "text": [
      "{'Recitation': 0.9668515719814065, 'Recollection': 0.028782449069939625, 'Reconstruction': 0.00436597894865395}\n"
     ]
    },
    {
     "name": "stderr",
     "output_type": "stream",
     "text": [
      " 75%|███████▌  | 6/8 [00:02<00:00,  2.52it/s]"
     ]
    },
    {
     "name": "stdout",
     "output_type": "stream",
     "text": [
      "{'Recitation': 0.9660644502426181, 'Recollection': 0.030168622566439592, 'Reconstruction': 0.0037669271909422557}\n"
     ]
    },
    {
     "name": "stderr",
     "output_type": "stream",
     "text": [
      " 88%|████████▊ | 7/8 [00:02<00:00,  2.05it/s]"
     ]
    },
    {
     "name": "stdout",
     "output_type": "stream",
     "text": [
      "{'Recitation': 0.9668397710879512, 'Recollection': 0.030048872341539825, 'Reconstruction': 0.0031113565705090055}\n",
      "{'Recitation': 0.965610184112475, 'Recollection': 0.031175225882418993, 'Reconstruction': 0.003214590005106016}\n"
     ]
    },
    {
     "name": "stderr",
     "output_type": "stream",
     "text": [
      "100%|██████████| 8/8 [00:05<00:00,  1.50it/s]\n"
     ]
    },
    {
     "data": {
      "image/png": "[encoded data removed]",
      "text/plain": [
       "<Figure size 2000x600 with 2 Axes>"
      ]
     },
     "metadata": {},
     "output_type": "display_data"
    }
   ],
   "source": [
    "fig, axes = plt.subplots(1, 2, figsize=(20, 6))\n",
    "\n",
    "counts_frame = combined_dataframe.value_counts([\"Param Count\", \"category\"]).unstack().reindex(split_to_param_count.values())\n",
    "counts_frame.plot.line(\n",
    "    ax=axes[0],\n",
    "    rot=0,\n",
    "    ylabel=\"Count\",\n",
    "    marker=\"o\",\n",
    "    markersize=10,\n",
    "    linewidth=4,\n",
    ")\n",
    "\n",
    "# log x axis\n",
    "axes[0].set_xscale(\"log\")\n",
    "\n",
    "axes[0].set_title(\"Memorized Samples by Category\", pad=label_title_padding)\n",
    "\n",
    "# right plot is the each category across model size\n",
    "all_percents = []\n",
    "for param_count in tqdm(split_to_param_count.values()):\n",
    "    model_examples = combined_dataframe[combined_dataframe[\"Param Count\"] == param_count]\n",
    "    model_percents = model_examples.value_counts(\"category\", normalize=True).to_dict()\n",
    "    print(model_percents)\n",
    "    for category in model_percents:\n",
    "        all_percents.append({\n",
    "            \"Model\": model_examples[\"Model\"].unique()[0],\n",
    "            \"Param Count\": param_count,\n",
    "            \"category\": category,\n",
    "            \"percent\": model_percents[category],\n",
    "        })\n",
    "\n",
    "# create a normalized bar plot stacked by category with a seperate bar for each Model\n",
    "# have no space between bars\n",
    "percents_frame = pd.DataFrame(all_percents).pivot(index=\"Model\", columns=\"category\", values=\"percent\").reindex(split_to_param_count.keys())\n",
    "percents_frame.plot.bar(\n",
    "    stacked=True,\n",
    "    ax=axes[1],\n",
    "    rot=0,\n",
    "    width=1,\n",
    "    ylabel=\"Percent\",\n",
    ")\n",
    "\n",
    "axes[1].set_title(\"Memorized Samples by Category\", pad=label_title_padding)\n",
    "axes[1].yaxis.set_major_formatter(plt.FuncFormatter(lambda x, loc: \"{:,}%\".format(int(x * 100))))\n",
    "\n",
    "# remove right legend\n",
    "axes[1].get_legend().remove()\n",
    "\n",
    "# have a common legend for both plots centered below the figure. No legend box\n",
    "axes[0].legend(loc='upper center', bbox_to_anchor=(1, -0.125), ncol=4, frameon=False)\n",
    "\n",
    "# set x label for both plots as \"Parameter Count\"\n",
    "for ax in axes:\n",
    "    ax.set_xlabel(\"Parameter Count\")\n",
    "\n",
    "# save figure_categories_count_pcercents.png\n",
    "plt.savefig(\"figure_categories_count_percents.png\", bbox_inches='tight')"
   ]
  }
 ],
 "metadata": {
  "kernelspec": {
   "display_name": "memorization",
   "language": "python",
   "name": "python3"
  },
  "language_info": {
   "codemirror_mode": {
    "name": "ipython",
    "version": 3
   },
   "file_extension": ".py",
   "mimetype": "text/x-python",
   "name": "python",
   "nbconvert_exporter": "python",
   "pygments_lexer": "ipython3",
   "version": "3.10.13"
  }
 },
 "nbformat": 4,
 "nbformat_minor": 2
}
