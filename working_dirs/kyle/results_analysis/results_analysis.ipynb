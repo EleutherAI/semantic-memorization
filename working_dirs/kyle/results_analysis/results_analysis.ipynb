{
 "cells": [
  {
   "cell_type": "code",
   "execution_count": 1,
   "metadata": {},
   "outputs": [
    {
     "name": "stderr",
     "output_type": "stream",
     "text": [
      "/home/mchorse/miniconda3/envs/memorization/lib/python3.10/site-packages/tqdm/auto.py:21: TqdmWarning: IProgress not found. Please update jupyter and ipywidgets. See https://ipywidgets.readthedocs.io/en/stable/user_install.html\n",
      "  from .autonotebook import tqdm as notebook_tqdm\n"
     ]
    }
   ],
   "source": [
    "import json\n",
    "import pandas as pd\n",
    "import seaborn as sns\n",
    "import matplotlib.pyplot as plt\n",
    "from datasets import load_dataset, get_dataset_split_names, DatasetDict\n",
    "from tqdm import tqdm\n",
    "\n",
    "sns.set_color_codes(\"colorblind\")\n",
    "sns.set_theme(style=\"darkgrid\")\n",
    "sns.set_context(\"talk\")\n",
    "tqdm.pandas()"
   ]
  },
  {
   "cell_type": "markdown",
   "metadata": {},
   "source": [
    "## Load Datasets"
   ]
  },
  {
   "cell_type": "code",
   "execution_count": 2,
   "metadata": {},
   "outputs": [],
   "source": [
    "split_sample_size = None\n",
    "label_title_padding = 10\n",
    "study_pile = False\n",
    "RECITATION_THRESHOLD = 10"
   ]
  },
  {
   "cell_type": "code",
   "execution_count": 3,
   "metadata": {},
   "outputs": [
    {
     "name": "stdout",
     "output_type": "stream",
     "text": [
      "['memories_deduped_410m', 'memories_deduped_1.4b', 'memories_deduped_6.9b', 'memories_deduped_1b', 'memories_deduped_12b', 'memories_deduped_70m', 'memories_deduped_2.8b', 'memories_deduped_160m', 'memories_deduped_12b.43000', 'memories_deduped_12b.103000', 'memories_deduped_12b.83000', 'memories_deduped_12b.63000', 'memories_deduped_12b.123000', 'memories_deduped_12b.23000']\n"
     ]
    }
   ],
   "source": [
    "memories_path = \"usvsnsp/generation-semantic-filters\"\n",
    "intermediate_path = \"usvsnsp/generation-semantic-intermediate-filters\"\n",
    "memories_dataset = DatasetDict()\n",
    "splits = [split for split in get_dataset_split_names(memories_path) if \"deduped\" in split] + get_dataset_split_names(intermediate_path)\n",
    "# drop splits with \"pile\" in the name\n",
    "splits = [split for split in splits if \"pile\" not in split and \"deduped\" in split]\n",
    "print(splits)"
   ]
  },
  {
   "cell_type": "code",
   "execution_count": 4,
   "metadata": {},
   "outputs": [
    {
     "name": "stdout",
     "output_type": "stream",
     "text": [
      "Loading datasets...\n",
      "Split sample size: None\n"
     ]
    },
    {
     "name": "stderr",
     "output_type": "stream",
     "text": [
      "100%|██████████| 14/14 [02:21<00:00, 10.14s/it]\n"
     ]
    },
    {
     "data": {
      "text/plain": [
       "DatasetDict({\n",
       "    deduped.410m: Dataset({\n",
       "        features: ['sequence_id', 'tokens', 'text', 'is_incrementing', 'is_repeating', 'sequence_duplicates', 'max_frequency', 'avg_frequency', 'min_frequency', 'median_frequency', 'p25_frequency', 'p75_frequency', 'frequencies', 'nl_scores', '0_8_snowclones', '0_9_snowclones', '0_8_templates', '0_9_templates', 'huffman_coding_length', 'memorization_score', 'index', 'loss', 'prompt_perplexity', 'generation_perplexity', 'sequence_perplexity'],\n",
       "        num_rows: 811040\n",
       "    })\n",
       "    deduped.1.4b: Dataset({\n",
       "        features: ['sequence_id', 'tokens', 'text', 'is_incrementing', 'is_repeating', 'sequence_duplicates', 'max_frequency', 'avg_frequency', 'min_frequency', 'median_frequency', 'p25_frequency', 'p75_frequency', 'frequencies', 'nl_scores', '0_8_snowclones', '0_9_snowclones', '0_8_templates', '0_9_templates', 'huffman_coding_length', 'memorization_score', 'index', 'loss', 'prompt_perplexity', 'generation_perplexity', 'sequence_perplexity'],\n",
       "        num_rows: 1048104\n",
       "    })\n",
       "    deduped.6.9b: Dataset({\n",
       "        features: ['sequence_id', 'tokens', 'text', 'is_incrementing', 'is_repeating', 'sequence_duplicates', 'max_frequency', 'avg_frequency', 'min_frequency', 'median_frequency', 'p25_frequency', 'p75_frequency', 'frequencies', 'nl_scores', '0_8_snowclones', '0_9_snowclones', '0_8_templates', '0_9_templates', 'huffman_coding_length', 'memorization_score', 'index', 'loss', 'prompt_perplexity', 'generation_perplexity', 'sequence_perplexity'],\n",
       "        num_rows: 1680296\n",
       "    })\n",
       "    deduped.1b: Dataset({\n",
       "        features: ['sequence_id', 'tokens', 'text', 'is_incrementing', 'is_repeating', 'sequence_duplicates', 'max_frequency', 'avg_frequency', 'min_frequency', 'median_frequency', 'p25_frequency', 'p75_frequency', 'frequencies', 'nl_scores', '0_8_snowclones', '0_9_snowclones', '0_8_templates', '0_9_templates', 'huffman_coding_length', 'memorization_score', 'index', 'loss', 'prompt_perplexity', 'generation_perplexity', 'sequence_perplexity'],\n",
       "        num_rows: 1032872\n",
       "    })\n",
       "    deduped.12b: Dataset({\n",
       "        features: ['sequence_id', 'tokens', 'text', 'is_incrementing', 'is_repeating', 'sequence_duplicates', 'max_frequency', 'avg_frequency', 'min_frequency', 'median_frequency', 'p25_frequency', 'p75_frequency', 'frequencies', 'nl_scores', '0_8_snowclones', '0_9_snowclones', '0_8_templates', '0_9_templates', 'huffman_coding_length', 'memorization_score', 'index', 'loss', 'prompt_perplexity', 'generation_perplexity', 'sequence_perplexity'],\n",
       "        num_rows: 1871216\n",
       "    })\n",
       "    deduped.70m: Dataset({\n",
       "        features: ['sequence_id', 'tokens', 'text', 'is_incrementing', 'is_repeating', 'sequence_duplicates', 'max_frequency', 'avg_frequency', 'min_frequency', 'median_frequency', 'p25_frequency', 'p75_frequency', 'frequencies', 'nl_scores', '0_8_snowclones', '0_9_snowclones', '0_8_templates', '0_9_templates', 'huffman_coding_length', 'memorization_score', 'index', 'loss', 'prompt_perplexity', 'generation_perplexity', 'sequence_perplexity'],\n",
       "        num_rows: 411448\n",
       "    })\n",
       "    deduped.2.8b: Dataset({\n",
       "        features: ['sequence_id', 'tokens', 'text', 'is_incrementing', 'is_repeating', 'sequence_duplicates', 'max_frequency', 'avg_frequency', 'min_frequency', 'median_frequency', 'p25_frequency', 'p75_frequency', 'frequencies', 'nl_scores', '0_8_snowclones', '0_9_snowclones', '0_8_templates', '0_9_templates', 'huffman_coding_length', 'memorization_score', 'index', 'loss', 'prompt_perplexity', 'generation_perplexity', 'sequence_perplexity'],\n",
       "        num_rows: 1355216\n",
       "    })\n",
       "    deduped.160m: Dataset({\n",
       "        features: ['sequence_id', 'tokens', 'text', 'is_incrementing', 'is_repeating', 'sequence_duplicates', 'max_frequency', 'avg_frequency', 'min_frequency', 'median_frequency', 'p25_frequency', 'p75_frequency', 'frequencies', 'nl_scores', '0_8_snowclones', '0_9_snowclones', '0_8_templates', '0_9_templates', 'huffman_coding_length', 'memorization_score', 'index', 'loss', 'prompt_perplexity', 'generation_perplexity', 'sequence_perplexity'],\n",
       "        num_rows: 581200\n",
       "    })\n",
       "    deduped.12b.43000: Dataset({\n",
       "        features: ['sequence_id', 'tokens', 'text', 'is_incrementing', 'is_repeating', 'sequence_duplicates', 'max_frequency', 'avg_frequency', 'min_frequency', 'median_frequency', 'p25_frequency', 'p75_frequency', 'frequencies', 'nl_scores', 'huffman_coding_length', 'memorization_score'],\n",
       "        num_rows: 358863\n",
       "    })\n",
       "    deduped.12b.103000: Dataset({\n",
       "        features: ['sequence_id', 'tokens', 'text', 'is_incrementing', 'is_repeating', 'sequence_duplicates', 'max_frequency', 'avg_frequency', 'min_frequency', 'median_frequency', 'p25_frequency', 'p75_frequency', 'frequencies', 'nl_scores', 'huffman_coding_length', 'memorization_score'],\n",
       "        num_rows: 1195578\n",
       "    })\n",
       "    deduped.12b.83000: Dataset({\n",
       "        features: ['sequence_id', 'tokens', 'text', 'is_incrementing', 'is_repeating', 'sequence_duplicates', 'max_frequency', 'avg_frequency', 'min_frequency', 'median_frequency', 'p25_frequency', 'p75_frequency', 'frequencies', 'nl_scores', 'huffman_coding_length', 'memorization_score'],\n",
       "        num_rows: 852068\n",
       "    })\n",
       "    deduped.12b.63000: Dataset({\n",
       "        features: ['sequence_id', 'tokens', 'text', 'is_incrementing', 'is_repeating', 'sequence_duplicates', 'max_frequency', 'avg_frequency', 'min_frequency', 'median_frequency', 'p25_frequency', 'p75_frequency', 'frequencies', 'nl_scores', 'huffman_coding_length', 'memorization_score'],\n",
       "        num_rows: 585067\n",
       "    })\n",
       "    deduped.12b.123000: Dataset({\n",
       "        features: ['sequence_id', 'tokens', 'text', 'is_incrementing', 'is_repeating', 'sequence_duplicates', 'max_frequency', 'avg_frequency', 'min_frequency', 'median_frequency', 'p25_frequency', 'p75_frequency', 'frequencies', 'nl_scores', 'huffman_coding_length', 'memorization_score'],\n",
       "        num_rows: 1564055\n",
       "    })\n",
       "    deduped.12b.23000: Dataset({\n",
       "        features: ['sequence_id', 'tokens', 'text', 'is_incrementing', 'is_repeating', 'sequence_duplicates', 'max_frequency', 'avg_frequency', 'min_frequency', 'median_frequency', 'p25_frequency', 'p75_frequency', 'frequencies', 'nl_scores', 'huffman_coding_length', 'memorization_score'],\n",
       "        num_rows: 163418\n",
       "    })\n",
       "})"
      ]
     },
     "execution_count": 4,
     "metadata": {},
     "output_type": "execute_result"
    }
   ],
   "source": [
    "print(\"Loading datasets...\")\n",
    "print(f\"Split sample size: {split_sample_size}\")\n",
    "\n",
    "for split in tqdm(splits):\n",
    "    model = split.split(\"_\")[-1]\n",
    "    checkpoint = int(split.split(\".\")[-1]) if split.split(\".\")[-1][1].isnumeric() else \"Final\"\n",
    "    formatted_split_name = split.replace(\"memories_\", \"\").replace(\"deduped_\", \"deduped.\")\n",
    "    dataset_path = memories_path if checkpoint == \"Final\" else intermediate_path\n",
    "    memories_dataset[formatted_split_name] = load_dataset(dataset_path, split=f\"{split}[:{split_sample_size}]\" if split_sample_size else split)\n",
    "\n",
    "memories_dataset"
   ]
  },
  {
   "cell_type": "code",
   "execution_count": 5,
   "metadata": {},
   "outputs": [],
   "source": [
    "split_to_param_count = {\n",
    "    \"70m\": 70000000,\n",
    "    \"160m\": 160000000,\n",
    "    \"410m\": 410000000,\n",
    "    \"1b\": 1000000000,\n",
    "    \"1.4b\": 1400000000,\n",
    "    \"2.8b\": 2800000000,\n",
    "    \"6.9b\": 6900000000,\n",
    "    \"12b\": 12000000000,\n",
    "}"
   ]
  },
  {
   "cell_type": "code",
   "execution_count": 6,
   "metadata": {},
   "outputs": [
    {
     "name": "stderr",
     "output_type": "stream",
     "text": [
      "Loading Memories:   7%|▋         | 1/14 [00:01<00:18,  1.44s/it]"
     ]
    },
    {
     "name": "stdout",
     "output_type": "stream",
     "text": [
      "Model: 410m from deduped.410m\n",
      "Model: 1.4b from deduped.1.4b\n"
     ]
    },
    {
     "name": "stderr",
     "output_type": "stream",
     "text": [
      "Loading Memories:  14%|█▍        | 2/14 [00:03<00:22,  1.84s/it]"
     ]
    },
    {
     "name": "stdout",
     "output_type": "stream",
     "text": [
      "Model: 6.9b from deduped.6.9b\n"
     ]
    },
    {
     "name": "stderr",
     "output_type": "stream",
     "text": [
      "Loading Memories:  21%|██▏       | 3/14 [00:07<00:29,  2.67s/it]"
     ]
    },
    {
     "name": "stdout",
     "output_type": "stream",
     "text": [
      "Model: 1b from deduped.1b\n"
     ]
    },
    {
     "name": "stderr",
     "output_type": "stream",
     "text": [
      "Loading Memories:  29%|██▊       | 4/14 [00:09<00:26,  2.67s/it]"
     ]
    },
    {
     "name": "stdout",
     "output_type": "stream",
     "text": [
      "Model: 12b from deduped.12b\n"
     ]
    },
    {
     "name": "stderr",
     "output_type": "stream",
     "text": [
      "Loading Memories:  36%|███▌      | 5/14 [00:14<00:29,  3.26s/it]"
     ]
    },
    {
     "name": "stdout",
     "output_type": "stream",
     "text": [
      "Model: 70m from deduped.70m\n"
     ]
    },
    {
     "name": "stderr",
     "output_type": "stream",
     "text": [
      "Loading Memories:  43%|████▎     | 6/14 [00:15<00:21,  2.71s/it]"
     ]
    },
    {
     "name": "stdout",
     "output_type": "stream",
     "text": [
      "Model: 2.8b from deduped.2.8b\n"
     ]
    },
    {
     "name": "stderr",
     "output_type": "stream",
     "text": [
      "Loading Memories:  50%|█████     | 7/14 [00:19<00:20,  2.92s/it]"
     ]
    },
    {
     "name": "stdout",
     "output_type": "stream",
     "text": [
      "Model: 160m from deduped.160m\n"
     ]
    },
    {
     "name": "stderr",
     "output_type": "stream",
     "text": [
      "Loading Memories:  57%|█████▋    | 8/14 [00:21<00:15,  2.63s/it]"
     ]
    },
    {
     "name": "stdout",
     "output_type": "stream",
     "text": [
      "Model: 12b from deduped.12b.43000\n"
     ]
    },
    {
     "name": "stderr",
     "output_type": "stream",
     "text": [
      "Loading Memories:  64%|██████▍   | 9/14 [00:23<00:12,  2.42s/it]"
     ]
    },
    {
     "name": "stdout",
     "output_type": "stream",
     "text": [
      "Model: 12b from deduped.12b.103000\n"
     ]
    },
    {
     "name": "stderr",
     "output_type": "stream",
     "text": [
      "Loading Memories:  71%|███████▏  | 10/14 [00:26<00:10,  2.73s/it]"
     ]
    },
    {
     "name": "stdout",
     "output_type": "stream",
     "text": [
      "Model: 12b from deduped.12b.83000\n"
     ]
    },
    {
     "name": "stderr",
     "output_type": "stream",
     "text": [
      "Loading Memories:  79%|███████▊  | 11/14 [00:29<00:08,  2.83s/it]"
     ]
    },
    {
     "name": "stdout",
     "output_type": "stream",
     "text": [
      "Model: 12b from deduped.12b.63000\n"
     ]
    },
    {
     "name": "stderr",
     "output_type": "stream",
     "text": [
      "Loading Memories:  86%|████████▌ | 12/14 [00:32<00:05,  2.74s/it]"
     ]
    },
    {
     "name": "stdout",
     "output_type": "stream",
     "text": [
      "Model: 12b from deduped.12b.123000\n"
     ]
    },
    {
     "name": "stderr",
     "output_type": "stream",
     "text": [
      "Loading Memories:  93%|█████████▎| 13/14 [00:37<00:03,  3.39s/it]"
     ]
    },
    {
     "name": "stdout",
     "output_type": "stream",
     "text": [
      "Model: 12b from deduped.12b.23000\n"
     ]
    },
    {
     "name": "stderr",
     "output_type": "stream",
     "text": [
      "Loading Memories: 100%|██████████| 14/14 [00:39<00:00,  2.79s/it]\n"
     ]
    },
    {
     "data": {
      "text/plain": [
       "(13510441, 28)"
      ]
     },
     "metadata": {},
     "output_type": "display_data"
    },
    {
     "data": {
      "text/plain": [
       "Index(['sequence_id', 'text', 'is_incrementing', 'is_repeating',\n",
       "       'sequence_duplicates', 'max_frequency', 'avg_frequency',\n",
       "       'min_frequency', 'median_frequency', 'p25_frequency', 'p75_frequency',\n",
       "       'nl_scores', '0_8_snowclones', '0_9_snowclones', '0_8_templates',\n",
       "       '0_9_templates', 'huffman_coding_length', 'memorization_score', 'index',\n",
       "       'loss', 'prompt_perplexity', 'generation_perplexity',\n",
       "       'sequence_perplexity', 'Checkpoint', 'Model', 'Param Count', 'Deduped',\n",
       "       'Memorized'],\n",
       "      dtype='object')"
      ]
     },
     "metadata": {},
     "output_type": "display_data"
    },
    {
     "data": {
      "text/html": [
       "<div>\n",
       "<style scoped>\n",
       "    .dataframe tbody tr th:only-of-type {\n",
       "        vertical-align: middle;\n",
       "    }\n",
       "\n",
       "    .dataframe tbody tr th {\n",
       "        vertical-align: top;\n",
       "    }\n",
       "\n",
       "    .dataframe thead th {\n",
       "        text-align: right;\n",
       "    }\n",
       "</style>\n",
       "<table border=\"1\" class=\"dataframe\">\n",
       "  <thead>\n",
       "    <tr style=\"text-align: right;\">\n",
       "      <th></th>\n",
       "      <th>sequence_id</th>\n",
       "      <th>text</th>\n",
       "      <th>is_incrementing</th>\n",
       "      <th>is_repeating</th>\n",
       "      <th>sequence_duplicates</th>\n",
       "      <th>max_frequency</th>\n",
       "      <th>avg_frequency</th>\n",
       "      <th>min_frequency</th>\n",
       "      <th>median_frequency</th>\n",
       "      <th>p25_frequency</th>\n",
       "      <th>...</th>\n",
       "      <th>index</th>\n",
       "      <th>loss</th>\n",
       "      <th>prompt_perplexity</th>\n",
       "      <th>generation_perplexity</th>\n",
       "      <th>sequence_perplexity</th>\n",
       "      <th>Checkpoint</th>\n",
       "      <th>Model</th>\n",
       "      <th>Param Count</th>\n",
       "      <th>Deduped</th>\n",
       "      <th>Memorized</th>\n",
       "    </tr>\n",
       "  </thead>\n",
       "  <tbody>\n",
       "    <tr>\n",
       "      <th>311692</th>\n",
       "      <td>76369286</td>\n",
       "      <td>09-01636],[@B243-cells-09-01636],[@B244-cells-...</td>\n",
       "      <td>True</td>\n",
       "      <td>False</td>\n",
       "      <td>3</td>\n",
       "      <td>2965935634</td>\n",
       "      <td>9.619414e+08</td>\n",
       "      <td>1466086</td>\n",
       "      <td>26718143.5</td>\n",
       "      <td>3396213</td>\n",
       "      <td>...</td>\n",
       "      <td>76369286.0</td>\n",
       "      <td>0.901367</td>\n",
       "      <td>1.762004</td>\n",
       "      <td>1.028962</td>\n",
       "      <td>1.813036</td>\n",
       "      <td>Final</td>\n",
       "      <td>70m</td>\n",
       "      <td>70000000</td>\n",
       "      <td>True</td>\n",
       "      <td>True</td>\n",
       "    </tr>\n",
       "    <tr>\n",
       "      <th>274304</th>\n",
       "      <td>101528653</td>\n",
       "      <td>0 (the \"License\");\\n// you may not use this fi...</td>\n",
       "      <td>False</td>\n",
       "      <td>False</td>\n",
       "      <td>126590</td>\n",
       "      <td>11740996961</td>\n",
       "      <td>2.183443e+09</td>\n",
       "      <td>2535454</td>\n",
       "      <td>397855078.0</td>\n",
       "      <td>24463239</td>\n",
       "      <td>...</td>\n",
       "      <td>101528653.0</td>\n",
       "      <td>0.828125</td>\n",
       "      <td>2.405067</td>\n",
       "      <td>1.001652</td>\n",
       "      <td>2.409041</td>\n",
       "      <td>Final</td>\n",
       "      <td>70m</td>\n",
       "      <td>70000000</td>\n",
       "      <td>True</td>\n",
       "      <td>True</td>\n",
       "    </tr>\n",
       "    <tr>\n",
       "      <th>274303</th>\n",
       "      <td>101488489</td>\n",
       "      <td>permissions and limitations under the License...</td>\n",
       "      <td>False</td>\n",
       "      <td>False</td>\n",
       "      <td>12551</td>\n",
       "      <td>11740996961</td>\n",
       "      <td>2.955296e+09</td>\n",
       "      <td>605886</td>\n",
       "      <td>223388936.0</td>\n",
       "      <td>16400100</td>\n",
       "      <td>...</td>\n",
       "      <td>101488489.0</td>\n",
       "      <td>0.895020</td>\n",
       "      <td>2.173179</td>\n",
       "      <td>1.022547</td>\n",
       "      <td>2.222178</td>\n",
       "      <td>Final</td>\n",
       "      <td>70m</td>\n",
       "      <td>70000000</td>\n",
       "      <td>True</td>\n",
       "      <td>True</td>\n",
       "    </tr>\n",
       "    <tr>\n",
       "      <th>274302</th>\n",
       "      <td>101355445</td>\n",
       "      <td>nbsp;&lt;/span&gt;&lt;/caption&gt;\\n&lt;tr&gt;\\n&lt;th class=\"colFi...</td>\n",
       "      <td>False</td>\n",
       "      <td>False</td>\n",
       "      <td>39601</td>\n",
       "      <td>11740996961</td>\n",
       "      <td>1.373194e+09</td>\n",
       "      <td>1033836</td>\n",
       "      <td>87048161.0</td>\n",
       "      <td>10406762</td>\n",
       "      <td>...</td>\n",
       "      <td>101355445.0</td>\n",
       "      <td>0.788574</td>\n",
       "      <td>3.974078</td>\n",
       "      <td>1.012878</td>\n",
       "      <td>4.025258</td>\n",
       "      <td>Final</td>\n",
       "      <td>70m</td>\n",
       "      <td>70000000</td>\n",
       "      <td>True</td>\n",
       "      <td>True</td>\n",
       "    </tr>\n",
       "    <tr>\n",
       "      <th>274301</th>\n",
       "      <td>101319862</td>\n",
       "      <td>/or sell\\n * copies of the Software, and to pe...</td>\n",
       "      <td>False</td>\n",
       "      <td>False</td>\n",
       "      <td>40819</td>\n",
       "      <td>11740996961</td>\n",
       "      <td>3.075328e+09</td>\n",
       "      <td>1317065</td>\n",
       "      <td>573756779.0</td>\n",
       "      <td>12931579</td>\n",
       "      <td>...</td>\n",
       "      <td>101319862.0</td>\n",
       "      <td>0.823242</td>\n",
       "      <td>1.956711</td>\n",
       "      <td>1.012603</td>\n",
       "      <td>1.981370</td>\n",
       "      <td>Final</td>\n",
       "      <td>70m</td>\n",
       "      <td>70000000</td>\n",
       "      <td>True</td>\n",
       "      <td>True</td>\n",
       "    </tr>\n",
       "  </tbody>\n",
       "</table>\n",
       "<p>5 rows × 28 columns</p>\n",
       "</div>"
      ],
      "text/plain": [
       "        sequence_id                                               text  \\\n",
       "311692     76369286  09-01636],[@B243-cells-09-01636],[@B244-cells-...   \n",
       "274304    101528653  0 (the \"License\");\\n// you may not use this fi...   \n",
       "274303    101488489   permissions and limitations under the License...   \n",
       "274302    101355445  nbsp;</span></caption>\\n<tr>\\n<th class=\"colFi...   \n",
       "274301    101319862  /or sell\\n * copies of the Software, and to pe...   \n",
       "\n",
       "        is_incrementing  is_repeating  sequence_duplicates  max_frequency  \\\n",
       "311692             True         False                    3     2965935634   \n",
       "274304            False         False               126590    11740996961   \n",
       "274303            False         False                12551    11740996961   \n",
       "274302            False         False                39601    11740996961   \n",
       "274301            False         False                40819    11740996961   \n",
       "\n",
       "        avg_frequency  min_frequency  median_frequency  p25_frequency  ...  \\\n",
       "311692   9.619414e+08        1466086        26718143.5        3396213  ...   \n",
       "274304   2.183443e+09        2535454       397855078.0       24463239  ...   \n",
       "274303   2.955296e+09         605886       223388936.0       16400100  ...   \n",
       "274302   1.373194e+09        1033836        87048161.0       10406762  ...   \n",
       "274301   3.075328e+09        1317065       573756779.0       12931579  ...   \n",
       "\n",
       "              index      loss  prompt_perplexity  generation_perplexity  \\\n",
       "311692   76369286.0  0.901367           1.762004               1.028962   \n",
       "274304  101528653.0  0.828125           2.405067               1.001652   \n",
       "274303  101488489.0  0.895020           2.173179               1.022547   \n",
       "274302  101355445.0  0.788574           3.974078               1.012878   \n",
       "274301  101319862.0  0.823242           1.956711               1.012603   \n",
       "\n",
       "        sequence_perplexity  Checkpoint  Model  Param Count  Deduped  \\\n",
       "311692             1.813036       Final    70m     70000000     True   \n",
       "274304             2.409041       Final    70m     70000000     True   \n",
       "274303             2.222178       Final    70m     70000000     True   \n",
       "274302             4.025258       Final    70m     70000000     True   \n",
       "274301             1.981370       Final    70m     70000000     True   \n",
       "\n",
       "        Memorized  \n",
       "311692       True  \n",
       "274304       True  \n",
       "274303       True  \n",
       "274302       True  \n",
       "274301       True  \n",
       "\n",
       "[5 rows x 28 columns]"
      ]
     },
     "execution_count": 6,
     "metadata": {},
     "output_type": "execute_result"
    }
   ],
   "source": [
    "columns_to_drop = [\"frequencies\", \"tokens\"]\n",
    "combined_dataframe = None\n",
    "for split in tqdm(memories_dataset, desc=\"Loading Memories\"):\n",
    "    current_frame = memories_dataset[split].to_pandas()\n",
    "    current_frame.drop(columns=columns_to_drop, inplace=True)\n",
    "    checkpoint = int(split.split(\".\")[-1]) if split.split(\".\")[-1][1].isnumeric() and len(split.split(\".\")) != 2 else \"Final\"\n",
    "    current_frame[\"Checkpoint\"] = checkpoint\n",
    "    model = split.split(\"deduped\")[-1][1:] if checkpoint == \"Final\" else split.split(\".\")[-2]\n",
    "    print(f\"Model: {model} from {split}\")\n",
    "    current_frame[\"Model\"] = model\n",
    "    current_frame[\"Param Count\"] = split_to_param_count[current_frame[\"Model\"].iloc[0]]\n",
    "    current_frame[\"Deduped\"] = \"deduped\" in split\n",
    "    current_frame[\"Memorized\"] = True\n",
    "    if combined_dataframe is None:\n",
    "        combined_dataframe = current_frame\n",
    "    else:\n",
    "        combined_dataframe = pd.concat([combined_dataframe, current_frame])\n",
    "\n",
    "combined_dataframe = combined_dataframe.sort_values(\"Param Count\")\n",
    "display(combined_dataframe.shape)\n",
    "display(combined_dataframe.columns)\n",
    "combined_dataframe.head()"
   ]
  },
  {
   "cell_type": "markdown",
   "metadata": {},
   "source": [
    "## Plot Graphs"
   ]
  },
  {
   "cell_type": "markdown",
   "metadata": {},
   "source": [
    "## Figure: Perplexity and Duplication"
   ]
  },
  {
   "cell_type": "code",
   "execution_count": 32,
   "metadata": {},
   "outputs": [
    {
     "data": {
      "text/plain": [
       "(1107314, 29)"
      ]
     },
     "metadata": {},
     "output_type": "display_data"
    },
    {
     "data": {
      "image/png": "[encoded data removed]",
      "text/plain": [
       "<Figure size 1300x300 with 1 Axes>"
      ]
     },
     "metadata": {},
     "output_type": "display_data"
    }
   ],
   "source": [
    "# line plot where sequence_duplicates is the x axis and the y axis is the generation_perplexity\n",
    "deduped_12b = combined_dataframe[(combined_dataframe[\"Model\"] == \"12b\") & (combined_dataframe[\"Checkpoint\"] == \"Final\") & (combined_dataframe[\"Deduped\"] == True)]\n",
    "\n",
    "deduped_12b = deduped_12b[deduped_12b[\"sequence_duplicates\"] <= 1000]\n",
    "\n",
    "display(deduped_12b.shape)\n",
    "\n",
    "# bucket the sequence_duplicates by 5\n",
    "# deduped_12b[\"sequence_duplicates\"] = deduped_12b[\"sequence_duplicates\"].apply(lambda x: x - (x % 5))\n",
    "\n",
    "sns.lineplot(data=deduped_12b, x=\"sequence_duplicates\", y=\"generation_perplexity\")\n",
    "\n",
    "# y label is \"Perplexity\" and x label is \"Duplicates\"\n",
    "plt.xlabel(\"Duplicates\", labelpad=label_title_padding)\n",
    "plt.ylabel(\"Perplexity\", labelpad=label_title_padding)\n",
    "\n",
    "# set figure dimensions\n",
    "plt.gcf().set_size_inches(13, 3)\n",
    "\n",
    "# log x axis\n",
    "plt.xscale(\"log\")\n",
    "\n",
    "# log y axis\n",
    "# plt.yscale(\"log\")"
   ]
  },
  {
   "cell_type": "code",
   "execution_count": 33,
   "metadata": {},
   "outputs": [
    {
     "data": {
      "text/html": [
       "<div>\n",
       "<style scoped>\n",
       "    .dataframe tbody tr th:only-of-type {\n",
       "        vertical-align: middle;\n",
       "    }\n",
       "\n",
       "    .dataframe tbody tr th {\n",
       "        vertical-align: top;\n",
       "    }\n",
       "\n",
       "    .dataframe thead tr th {\n",
       "        text-align: left;\n",
       "    }\n",
       "\n",
       "    .dataframe thead tr:last-of-type th {\n",
       "        text-align: right;\n",
       "    }\n",
       "</style>\n",
       "<table border=\"1\" class=\"dataframe\">\n",
       "  <thead>\n",
       "    <tr>\n",
       "      <th></th>\n",
       "      <th colspan=\"2\" halign=\"left\">generation_perplexity</th>\n",
       "    </tr>\n",
       "    <tr>\n",
       "      <th></th>\n",
       "      <th>mean</th>\n",
       "      <th>std</th>\n",
       "    </tr>\n",
       "    <tr>\n",
       "      <th>sequence_duplicates</th>\n",
       "      <th></th>\n",
       "      <th></th>\n",
       "    </tr>\n",
       "  </thead>\n",
       "  <tbody>\n",
       "    <tr>\n",
       "      <th>1</th>\n",
       "      <td>1.025104</td>\n",
       "      <td>0.024197</td>\n",
       "    </tr>\n",
       "    <tr>\n",
       "      <th>2</th>\n",
       "      <td>1.025370</td>\n",
       "      <td>0.024384</td>\n",
       "    </tr>\n",
       "    <tr>\n",
       "      <th>3</th>\n",
       "      <td>1.025992</td>\n",
       "      <td>0.024715</td>\n",
       "    </tr>\n",
       "    <tr>\n",
       "      <th>4</th>\n",
       "      <td>1.028239</td>\n",
       "      <td>0.024819</td>\n",
       "    </tr>\n",
       "    <tr>\n",
       "      <th>5</th>\n",
       "      <td>1.028543</td>\n",
       "      <td>0.025477</td>\n",
       "    </tr>\n",
       "    <tr>\n",
       "      <th>...</th>\n",
       "      <td>...</td>\n",
       "      <td>...</td>\n",
       "    </tr>\n",
       "    <tr>\n",
       "      <th>996</th>\n",
       "      <td>1.009864</td>\n",
       "      <td>0.011003</td>\n",
       "    </tr>\n",
       "    <tr>\n",
       "      <th>997</th>\n",
       "      <td>1.008208</td>\n",
       "      <td>0.008315</td>\n",
       "    </tr>\n",
       "    <tr>\n",
       "      <th>998</th>\n",
       "      <td>1.008946</td>\n",
       "      <td>0.009912</td>\n",
       "    </tr>\n",
       "    <tr>\n",
       "      <th>999</th>\n",
       "      <td>1.009452</td>\n",
       "      <td>0.010223</td>\n",
       "    </tr>\n",
       "    <tr>\n",
       "      <th>1000</th>\n",
       "      <td>1.009534</td>\n",
       "      <td>0.010113</td>\n",
       "    </tr>\n",
       "  </tbody>\n",
       "</table>\n",
       "<p>1000 rows × 2 columns</p>\n",
       "</div>"
      ],
      "text/plain": [
       "                    generation_perplexity          \n",
       "                                     mean       std\n",
       "sequence_duplicates                                \n",
       "1                                1.025104  0.024197\n",
       "2                                1.025370  0.024384\n",
       "3                                1.025992  0.024715\n",
       "4                                1.028239  0.024819\n",
       "5                                1.028543  0.025477\n",
       "...                                   ...       ...\n",
       "996                              1.009864  0.011003\n",
       "997                              1.008208  0.008315\n",
       "998                              1.008946  0.009912\n",
       "999                              1.009452  0.010223\n",
       "1000                             1.009534  0.010113\n",
       "\n",
       "[1000 rows x 2 columns]"
      ]
     },
     "metadata": {},
     "output_type": "display_data"
    }
   ],
   "source": [
    "# get mean and std dev for each bucket\n",
    "duplication_ppl_stats = deduped_12b.groupby(\"sequence_duplicates\").agg({\"generation_perplexity\": [\"mean\", \"std\"]})\n",
    "display(duplication_ppl_stats)\n",
    "duplication_ppl_stats.to_csv(\"duplication_ppl_stats.csv\")"
   ]
  },
  {
   "cell_type": "markdown",
   "metadata": {},
   "source": [
    "### Assign Examples to Taxonomy"
   ]
  },
  {
   "cell_type": "code",
   "execution_count": 15,
   "metadata": {},
   "outputs": [
    {
     "name": "stderr",
     "output_type": "stream",
     "text": [
      "100%|██████████| 13510441/13510441 [02:44<00:00, 82120.19it/s] \n"
     ]
    },
    {
     "data": {
      "text/plain": [
       "Model  Checkpoint  category      \n",
       "12b    Final       Recitation        1521554\n",
       "6.9b   Final       Recitation        1379503\n",
       "12b    123000      Recitation        1271509\n",
       "2.8b   Final       Recitation        1114324\n",
       "12b    103000      Recitation         972908\n",
       "1.4b   Final       Recitation         868737\n",
       "1b     Final       Recitation         860603\n",
       "12b    83000       Recitation         692617\n",
       "410m   Final       Recitation         677656\n",
       "160m   Final       Recitation         488998\n",
       "12b    63000       Recitation         477775\n",
       "70m    Final       Recitation         356982\n",
       "12b    Final       Recollection       321445\n",
       "       43000       Recitation         294235\n",
       "6.9b   Final       Recollection       273262\n",
       "12b    123000      Recollection       268342\n",
       "2.8b   Final       Recollection       214053\n",
       "12b    103000      Recollection       202754\n",
       "1.4b   Final       Recollection       154990\n",
       "1b     Final       Recollection       147248\n",
       "12b    83000       Recollection       143741\n",
       "       23000       Recitation         134747\n",
       "410m   Final       Recollection       109520\n",
       "12b    63000       Recollection        95574\n",
       "160m   Final       Recollection        70805\n",
       "12b    43000       Recollection        57131\n",
       "70m    Final       Recollection        38351\n",
       "12b    Final       Reconstruction      28217\n",
       "6.9b   Final       Reconstruction      27531\n",
       "2.8b   Final       Reconstruction      26839\n",
       "1b     Final       Reconstruction      25021\n",
       "12b    23000       Recollection        24659\n",
       "1.4b   Final       Reconstruction      24377\n",
       "12b    123000      Reconstruction      24204\n",
       "410m   Final       Reconstruction      23864\n",
       "160m   Final       Reconstruction      21397\n",
       "12b    103000      Reconstruction      19916\n",
       "70m    Final       Reconstruction      16115\n",
       "12b    83000       Reconstruction      15710\n",
       "       63000       Reconstruction      11718\n",
       "       43000       Reconstruction       7497\n",
       "       23000       Reconstruction       4012\n",
       "Name: count, dtype: int64"
      ]
     },
     "execution_count": 15,
     "metadata": {},
     "output_type": "execute_result"
    }
   ],
   "source": [
    "def get_category(row):\n",
    "    if row[\"Memorized\"] == False:\n",
    "        return \"Not Memorized\"\n",
    "    if row[\"sequence_duplicates\"] >= RECITATION_THRESHOLD:\n",
    "        return \"Recitation\"\n",
    "    if row[\"is_incrementing\"] or row[\"is_repeating\"]:\n",
    "        return \"Reconstruction\"\n",
    "\n",
    "    return \"Recollection\"\n",
    "\n",
    "combined_dataframe[\"category\"] = combined_dataframe.progress_apply(lambda row: get_category(row), axis=1)\n",
    "combined_dataframe.value_counts([\"Model\", \"Checkpoint\", \"category\"])\n",
    "\n",
    "# 12 deduped\n",
    "# memories_frame = combined_dataframe[(combined_dataframe[\"Memorized\"] == True) & (combined_dataframe[\"Deduped\"] == True) & (combined_dataframe[\"Model\"] == \"12b\")]\n",
    "# memories_frame[\"category\"] = memories_frame.progress_apply(lambda row: get_category(row), axis=1)\n",
    "# memories_frame.value_counts(\"category\")"
   ]
  },
  {
   "cell_type": "markdown",
   "metadata": {},
   "source": [
    "### Figure: Prevalence and Memories by Taxonomy Across Time and Scale"
   ]
  },
  {
   "cell_type": "code",
   "execution_count": 16,
   "metadata": {},
   "outputs": [
    {
     "data": {
      "text/html": [
       "<div>\n",
       "<style scoped>\n",
       "    .dataframe tbody tr th:only-of-type {\n",
       "        vertical-align: middle;\n",
       "    }\n",
       "\n",
       "    .dataframe tbody tr th {\n",
       "        vertical-align: top;\n",
       "    }\n",
       "\n",
       "    .dataframe thead th {\n",
       "        text-align: right;\n",
       "    }\n",
       "</style>\n",
       "<table border=\"1\" class=\"dataframe\">\n",
       "  <thead>\n",
       "    <tr style=\"text-align: right;\">\n",
       "      <th>category</th>\n",
       "      <th>Recitation</th>\n",
       "      <th>Recollection</th>\n",
       "      <th>Reconstruction</th>\n",
       "    </tr>\n",
       "    <tr>\n",
       "      <th>Param Count</th>\n",
       "      <th></th>\n",
       "      <th></th>\n",
       "      <th></th>\n",
       "    </tr>\n",
       "  </thead>\n",
       "  <tbody>\n",
       "    <tr>\n",
       "      <th>70000000</th>\n",
       "      <td>356982</td>\n",
       "      <td>38351</td>\n",
       "      <td>16115</td>\n",
       "    </tr>\n",
       "    <tr>\n",
       "      <th>160000000</th>\n",
       "      <td>488998</td>\n",
       "      <td>70805</td>\n",
       "      <td>21397</td>\n",
       "    </tr>\n",
       "    <tr>\n",
       "      <th>410000000</th>\n",
       "      <td>677656</td>\n",
       "      <td>109520</td>\n",
       "      <td>23864</td>\n",
       "    </tr>\n",
       "    <tr>\n",
       "      <th>1000000000</th>\n",
       "      <td>860603</td>\n",
       "      <td>147248</td>\n",
       "      <td>25021</td>\n",
       "    </tr>\n",
       "    <tr>\n",
       "      <th>1400000000</th>\n",
       "      <td>868737</td>\n",
       "      <td>154990</td>\n",
       "      <td>24377</td>\n",
       "    </tr>\n",
       "    <tr>\n",
       "      <th>2800000000</th>\n",
       "      <td>1114324</td>\n",
       "      <td>214053</td>\n",
       "      <td>26839</td>\n",
       "    </tr>\n",
       "    <tr>\n",
       "      <th>6900000000</th>\n",
       "      <td>1379503</td>\n",
       "      <td>273262</td>\n",
       "      <td>27531</td>\n",
       "    </tr>\n",
       "    <tr>\n",
       "      <th>12000000000</th>\n",
       "      <td>1521554</td>\n",
       "      <td>321445</td>\n",
       "      <td>28217</td>\n",
       "    </tr>\n",
       "  </tbody>\n",
       "</table>\n",
       "</div>"
      ],
      "text/plain": [
       "category     Recitation  Recollection  Reconstruction\n",
       "Param Count                                          \n",
       "70000000         356982         38351           16115\n",
       "160000000        488998         70805           21397\n",
       "410000000        677656        109520           23864\n",
       "1000000000       860603        147248           25021\n",
       "1400000000       868737        154990           24377\n",
       "2800000000      1114324        214053           26839\n",
       "6900000000      1379503        273262           27531\n",
       "12000000000     1521554        321445           28217"
      ]
     },
     "metadata": {},
     "output_type": "display_data"
    },
    {
     "data": {
      "text/html": [
       "<div>\n",
       "<style scoped>\n",
       "    .dataframe tbody tr th:only-of-type {\n",
       "        vertical-align: middle;\n",
       "    }\n",
       "\n",
       "    .dataframe tbody tr th {\n",
       "        vertical-align: top;\n",
       "    }\n",
       "\n",
       "    .dataframe thead th {\n",
       "        text-align: right;\n",
       "    }\n",
       "</style>\n",
       "<table border=\"1\" class=\"dataframe\">\n",
       "  <thead>\n",
       "    <tr style=\"text-align: right;\">\n",
       "      <th>category</th>\n",
       "      <th>Recitation</th>\n",
       "      <th>Recollection</th>\n",
       "      <th>Reconstruction</th>\n",
       "    </tr>\n",
       "    <tr>\n",
       "      <th>Checkpoint</th>\n",
       "      <th></th>\n",
       "      <th></th>\n",
       "      <th></th>\n",
       "    </tr>\n",
       "  </thead>\n",
       "  <tbody>\n",
       "    <tr>\n",
       "      <th>23000</th>\n",
       "      <td>134747</td>\n",
       "      <td>24659</td>\n",
       "      <td>4012</td>\n",
       "    </tr>\n",
       "    <tr>\n",
       "      <th>43000</th>\n",
       "      <td>294235</td>\n",
       "      <td>57131</td>\n",
       "      <td>7497</td>\n",
       "    </tr>\n",
       "    <tr>\n",
       "      <th>63000</th>\n",
       "      <td>477775</td>\n",
       "      <td>95574</td>\n",
       "      <td>11718</td>\n",
       "    </tr>\n",
       "    <tr>\n",
       "      <th>83000</th>\n",
       "      <td>692617</td>\n",
       "      <td>143741</td>\n",
       "      <td>15710</td>\n",
       "    </tr>\n",
       "    <tr>\n",
       "      <th>103000</th>\n",
       "      <td>972908</td>\n",
       "      <td>202754</td>\n",
       "      <td>19916</td>\n",
       "    </tr>\n",
       "    <tr>\n",
       "      <th>123000</th>\n",
       "      <td>1271509</td>\n",
       "      <td>268342</td>\n",
       "      <td>24204</td>\n",
       "    </tr>\n",
       "  </tbody>\n",
       "</table>\n",
       "</div>"
      ],
      "text/plain": [
       "category    Recitation  Recollection  Reconstruction\n",
       "Checkpoint                                          \n",
       "23000           134747         24659            4012\n",
       "43000           294235         57131            7497\n",
       "63000           477775         95574           11718\n",
       "83000           692617        143741           15710\n",
       "103000          972908        202754           19916\n",
       "123000         1271509        268342           24204"
      ]
     },
     "metadata": {},
     "output_type": "display_data"
    }
   ],
   "source": [
    "# Create plot for data across \n",
    "final_checkpoint_counts_frame = combined_dataframe[combined_dataframe[\"Checkpoint\"] == \"Final\"].value_counts([\"Param Count\", \"category\"]).unstack().reindex(split_to_param_count.values())\n",
    "final_checkpoint_counts_frame.to_csv(f\"final_checkpoint_counts_recitation={RECITATION_THRESHOLD}.csv\")\n",
    "display(final_checkpoint_counts_frame)\n",
    "\n",
    "intermediate_frame = combined_dataframe[(combined_dataframe[\"Checkpoint\"] != \"Final\") & (combined_dataframe[\"Model\"] == \"12b\")]\n",
    "sorted_checkpoints = sorted(intermediate_frame[\"Checkpoint\"].unique(), key=lambda x: int(x))\n",
    "\n",
    "intermediate_checkpoint_counts_frame = intermediate_frame.value_counts([\"Checkpoint\", \"category\"]).unstack().reindex(sorted_checkpoints)\n",
    "intermediate_checkpoint_counts_frame.to_csv(f\"intermediate_checkpoint_counts_recitation={RECITATION_THRESHOLD}.csv\")\n",
    "display(intermediate_checkpoint_counts_frame)"
   ]
  },
  {
   "cell_type": "code",
   "execution_count": 43,
   "metadata": {},
   "outputs": [
    {
     "data": {
      "image/png": "[encoded data removed]",
      "text/plain": [
       "<Figure size 1300x300 with 2 Axes>"
      ]
     },
     "metadata": {},
     "output_type": "display_data"
    }
   ],
   "source": [
    "fig, axes = plt.subplots(1, 2, figsize=(13, 3))\n",
    "\n",
    "# set figure 1\n",
    "# first figure is a line plot of the counts of each category for across intermediate checkpoints\n",
    "\n",
    "sns.lineplot(ax=axes[0], data=intermediate_checkpoint_counts_frame, dashes=False, markers=True, markersize=8)\n",
    "\n",
    "# rotate x axis labels\n",
    "# axes[0].tick_params(axis='x', rotation=20)\n",
    "\n",
    "# make x labels smaller\n",
    "axes[0].tick_params(axis='x', labelsize=12)\n",
    "\n",
    "# Add y label for Count\n",
    "axes[0].set_ylabel(\"Count\", labelpad=label_title_padding)\n",
    "\n",
    "# add padding for labels\n",
    "fig.subplots_adjust(wspace=0.2)\n",
    "\n",
    "# # make x axis log scale\n",
    "# axes[0].set_xscale(\"log\")\n",
    "\n",
    "# # have a common legend for both plots centered below the figure. No legend box\n",
    "axes[0].legend(loc='upper center', bbox_to_anchor=(1.1, -0.3), ncol=4, frameon=False)\n",
    "\n",
    "# set figure 2\n",
    "# the second figure is a line plot of the counts of each category across parameter count\n",
    "\n",
    "sns.lineplot(ax=axes[1], data=final_checkpoint_counts_frame, dashes=False, markers=True, markersize=8)\n",
    "\n",
    "# make x axis log scale\n",
    "axes[1].set_xscale(\"log\")\n",
    "\n",
    "# Set x label to \"Parameters\"\n",
    "axes[1].set_xlabel(\"Parameters\")\n",
    "\n",
    "# Add y label for Count\n",
    "axes[1].set_ylabel(\"Count\")\n",
    "\n",
    "# remove legend\n",
    "axes[1].legend().remove()\n",
    "\n",
    "# add padding for labels\n",
    "fig.subplots_adjust(wspace=0.30)\n",
    "\n",
    "fig.savefig(f\"categories_across_time+scale_recitation={RECITATION_THRESHOLD}.png\", bbox_inches=\"tight\")\n",
    "\n"
   ]
  },
  {
   "cell_type": "markdown",
   "metadata": {},
   "source": [
    "### Figure: Prevalence and Percents of Memories by Taxonomy Across Param Count"
   ]
  },
  {
   "cell_type": "code",
   "execution_count": 38,
   "metadata": {},
   "outputs": [
    {
     "data": {
      "text/html": [
       "<div>\n",
       "<style scoped>\n",
       "    .dataframe tbody tr th:only-of-type {\n",
       "        vertical-align: middle;\n",
       "    }\n",
       "\n",
       "    .dataframe tbody tr th {\n",
       "        vertical-align: top;\n",
       "    }\n",
       "\n",
       "    .dataframe thead th {\n",
       "        text-align: right;\n",
       "    }\n",
       "</style>\n",
       "<table border=\"1\" class=\"dataframe\">\n",
       "  <thead>\n",
       "    <tr style=\"text-align: right;\">\n",
       "      <th>category</th>\n",
       "      <th>Recitation</th>\n",
       "      <th>Recollection</th>\n",
       "      <th>Reconstruction</th>\n",
       "    </tr>\n",
       "    <tr>\n",
       "      <th>Param Count</th>\n",
       "      <th></th>\n",
       "      <th></th>\n",
       "      <th></th>\n",
       "    </tr>\n",
       "  </thead>\n",
       "  <tbody>\n",
       "    <tr>\n",
       "      <th>70000000</th>\n",
       "      <td>356982</td>\n",
       "      <td>38351</td>\n",
       "      <td>16115</td>\n",
       "    </tr>\n",
       "    <tr>\n",
       "      <th>160000000</th>\n",
       "      <td>488998</td>\n",
       "      <td>70805</td>\n",
       "      <td>21397</td>\n",
       "    </tr>\n",
       "    <tr>\n",
       "      <th>410000000</th>\n",
       "      <td>677656</td>\n",
       "      <td>109520</td>\n",
       "      <td>23864</td>\n",
       "    </tr>\n",
       "    <tr>\n",
       "      <th>1000000000</th>\n",
       "      <td>860603</td>\n",
       "      <td>147248</td>\n",
       "      <td>25021</td>\n",
       "    </tr>\n",
       "    <tr>\n",
       "      <th>1400000000</th>\n",
       "      <td>868737</td>\n",
       "      <td>154990</td>\n",
       "      <td>24377</td>\n",
       "    </tr>\n",
       "    <tr>\n",
       "      <th>2800000000</th>\n",
       "      <td>1114324</td>\n",
       "      <td>214053</td>\n",
       "      <td>26839</td>\n",
       "    </tr>\n",
       "    <tr>\n",
       "      <th>6900000000</th>\n",
       "      <td>1379503</td>\n",
       "      <td>273262</td>\n",
       "      <td>27531</td>\n",
       "    </tr>\n",
       "    <tr>\n",
       "      <th>12000000000</th>\n",
       "      <td>5365345</td>\n",
       "      <td>1113646</td>\n",
       "      <td>111274</td>\n",
       "    </tr>\n",
       "  </tbody>\n",
       "</table>\n",
       "</div>"
      ],
      "text/plain": [
       "category     Recitation  Recollection  Reconstruction\n",
       "Param Count                                          \n",
       "70000000         356982         38351           16115\n",
       "160000000        488998         70805           21397\n",
       "410000000        677656        109520           23864\n",
       "1000000000       860603        147248           25021\n",
       "1400000000       868737        154990           24377\n",
       "2800000000      1114324        214053           26839\n",
       "6900000000      1379503        273262           27531\n",
       "12000000000     5365345       1113646          111274"
      ]
     },
     "metadata": {},
     "output_type": "display_data"
    }
   ],
   "source": [
    "counts_frame = combined_dataframe.value_counts([\"Param Count\", \"category\"]).unstack().reindex(split_to_param_count.values())\n",
    "display(counts_frame)"
   ]
  },
  {
   "cell_type": "code",
   "execution_count": 40,
   "metadata": {},
   "outputs": [
    {
     "name": "stderr",
     "output_type": "stream",
     "text": [
      "100%|██████████| 8/8 [00:05<00:00,  1.39it/s]\n"
     ]
    },
    {
     "data": {
      "text/html": [
       "<div>\n",
       "<style scoped>\n",
       "    .dataframe tbody tr th:only-of-type {\n",
       "        vertical-align: middle;\n",
       "    }\n",
       "\n",
       "    .dataframe tbody tr th {\n",
       "        vertical-align: top;\n",
       "    }\n",
       "\n",
       "    .dataframe thead th {\n",
       "        text-align: right;\n",
       "    }\n",
       "</style>\n",
       "<table border=\"1\" class=\"dataframe\">\n",
       "  <thead>\n",
       "    <tr style=\"text-align: right;\">\n",
       "      <th>category</th>\n",
       "      <th>Recitation</th>\n",
       "      <th>Recollection</th>\n",
       "      <th>Reconstruction</th>\n",
       "    </tr>\n",
       "    <tr>\n",
       "      <th>Model</th>\n",
       "      <th></th>\n",
       "      <th></th>\n",
       "      <th></th>\n",
       "    </tr>\n",
       "  </thead>\n",
       "  <tbody>\n",
       "    <tr>\n",
       "      <th>70m</th>\n",
       "      <td>0.867624</td>\n",
       "      <td>0.093210</td>\n",
       "      <td>0.039167</td>\n",
       "    </tr>\n",
       "    <tr>\n",
       "      <th>160m</th>\n",
       "      <td>0.841359</td>\n",
       "      <td>0.121826</td>\n",
       "      <td>0.036815</td>\n",
       "    </tr>\n",
       "    <tr>\n",
       "      <th>410m</th>\n",
       "      <td>0.835540</td>\n",
       "      <td>0.135036</td>\n",
       "      <td>0.029424</td>\n",
       "    </tr>\n",
       "    <tr>\n",
       "      <th>1b</th>\n",
       "      <td>0.833214</td>\n",
       "      <td>0.142562</td>\n",
       "      <td>0.024225</td>\n",
       "    </tr>\n",
       "    <tr>\n",
       "      <th>1.4b</th>\n",
       "      <td>0.828865</td>\n",
       "      <td>0.147877</td>\n",
       "      <td>0.023258</td>\n",
       "    </tr>\n",
       "    <tr>\n",
       "      <th>2.8b</th>\n",
       "      <td>0.822248</td>\n",
       "      <td>0.157948</td>\n",
       "      <td>0.019804</td>\n",
       "    </tr>\n",
       "    <tr>\n",
       "      <th>6.9b</th>\n",
       "      <td>0.820988</td>\n",
       "      <td>0.162627</td>\n",
       "      <td>0.016385</td>\n",
       "    </tr>\n",
       "    <tr>\n",
       "      <th>12b</th>\n",
       "      <td>0.814132</td>\n",
       "      <td>0.168983</td>\n",
       "      <td>0.016885</td>\n",
       "    </tr>\n",
       "  </tbody>\n",
       "</table>\n",
       "</div>"
      ],
      "text/plain": [
       "category  Recitation  Recollection  Reconstruction\n",
       "Model                                             \n",
       "70m         0.867624      0.093210        0.039167\n",
       "160m        0.841359      0.121826        0.036815\n",
       "410m        0.835540      0.135036        0.029424\n",
       "1b          0.833214      0.142562        0.024225\n",
       "1.4b        0.828865      0.147877        0.023258\n",
       "2.8b        0.822248      0.157948        0.019804\n",
       "6.9b        0.820988      0.162627        0.016385\n",
       "12b         0.814132      0.168983        0.016885"
      ]
     },
     "metadata": {},
     "output_type": "display_data"
    }
   ],
   "source": [
    "all_percents = []\n",
    "for param_count in tqdm(split_to_param_count.values()):\n",
    "    model_examples = combined_dataframe[combined_dataframe[\"Param Count\"] == param_count]\n",
    "    model_percents = model_examples.value_counts(\"category\", normalize=True).to_dict()\n",
    "    for category in model_percents:\n",
    "        all_percents.append({\n",
    "            \"Model\": model_examples[\"Model\"].unique()[0],\n",
    "            \"Param Count\": param_count,\n",
    "            \"category\": category,\n",
    "            \"percent\": model_percents[category],\n",
    "        })\n",
    "\n",
    "percents_frame = pd.DataFrame(all_percents).pivot(index=\"Model\", columns=\"category\", values=\"percent\").reindex(split_to_param_count.keys())\n",
    "display(percents_frame)"
   ]
  },
  {
   "cell_type": "code",
   "execution_count": 47,
   "metadata": {},
   "outputs": [
    {
     "data": {
      "image/png": "[encoded data removed]",
      "text/plain": [
       "<Figure size 1300x300 with 2 Axes>"
      ]
     },
     "metadata": {},
     "output_type": "display_data"
    }
   ],
   "source": [
    "fig, axes = plt.subplots(1, 2, figsize=(13, 3))\n",
    "\n",
    "counts_frame = combined_dataframe.value_counts([\"Param Count\", \"category\"]).unstack().reindex(split_to_param_count.values())\n",
    "counts_frame.plot.line(\n",
    "    ax=axes[0],\n",
    "    rot=0,\n",
    "    ylabel=\"Count\",\n",
    "    marker=\"o\",\n",
    ")\n",
    "\n",
    "# log x axis\n",
    "axes[0].set_xscale(\"log\")\n",
    "\n",
    "# right plot is the each category across model size\n",
    "# create a normalized bar plot stacked by category with a seperate bar for each Model\n",
    "# have no space between bars\n",
    "percents_frame.plot.bar(\n",
    "    stacked=True,\n",
    "    ax=axes[1],\n",
    "    rot=0,\n",
    "    width=1,\n",
    "    ylabel=\"Percent\",\n",
    ")\n",
    "\n",
    "axes[1].set_title(\"Memorized Samples by Category\", pad=label_title_padding)\n",
    "axes[1].yaxis.set_major_formatter(plt.FuncFormatter(lambda x, loc: \"{:,}%\".format(int(x * 100))))\n",
    "\n",
    "# rotate x axis labels\n",
    "axes[1].tick_params(axis='x', rotation=20, labelsize=12)\n",
    "\n",
    "# remove right legend\n",
    "axes[1].get_legend().remove()\n",
    "\n",
    "# add padding for labels\n",
    "fig.subplots_adjust(wspace=0.30)\n",
    "\n",
    "# have a common legend for both plots centered below the figure. No legend box\n",
    "axes[0].legend(loc='upper center', bbox_to_anchor=(1.1, -0.3), ncol=4, frameon=False)\n",
    "\n",
    "# set x label for both plots as \"Parameter Count\"\n",
    "for ax in axes:\n",
    "    ax.set_xlabel(\"Parameter Count\")\n",
    "\n",
    "# save figure_categories_count_pcercents.png\n",
    "plt.savefig(\"figure_categories_count_percents.png\", bbox_inches='tight')"
   ]
  },
  {
   "cell_type": "code",
   "execution_count": null,
   "metadata": {},
   "outputs": [],
   "source": []
  }
 ],
 "metadata": {
  "kernelspec": {
   "display_name": "memorization",
   "language": "python",
   "name": "python3"
  },
  "language_info": {
   "codemirror_mode": {
    "name": "ipython",
    "version": 3
   },
   "file_extension": ".py",
   "mimetype": "text/x-python",
   "name": "python",
   "nbconvert_exporter": "python",
   "pygments_lexer": "ipython3",
   "version": "3.10.13"
  }
 },
 "nbformat": 4,
 "nbformat_minor": 2
}
