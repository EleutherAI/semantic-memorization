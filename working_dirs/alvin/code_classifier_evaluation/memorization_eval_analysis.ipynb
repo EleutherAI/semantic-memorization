{
 "cells": [
  {
   "cell_type": "markdown",
   "id": "6aa6b2f0-da11-49ce-acbd-51184a7cb5bc",
   "metadata": {},
   "source": [
    "The corresponding analysis can be found here in this [Notion](https://www.notion.so/eleutherai/Evaluate-NL-Code-Classifier-7742b4b768d54131afc07b06f0610148) page."
   ]
  },
  {
   "cell_type": "code",
   "execution_count": 94,
   "id": "23a20e70-b3eb-4f9d-a899-61d4ca32c29f",
   "metadata": {
    "tags": []
   },
   "outputs": [],
   "source": [
    "import os\n",
    "\n",
    "import pandas as pd\n",
    "import numpy as np\n",
    "import seaborn as sns\n",
    "import torch\n",
    "from tqdm import tqdm\n",
    "from transformers import AutoTokenizer, AutoModelForSequenceClassification\n",
    "from matplotlib import pyplot as plt\n",
    "from sklearn.metrics import classification_report, precision_recall_curve, PrecisionRecallDisplay, RocCurveDisplay, auc, roc_curve\n",
    "from IPython.display import display\n",
    "\n",
    "sns.set()\n",
    "tqdm.pandas()\n",
    "\n",
    "%matplotlib inline"
   ]
  },
  {
   "cell_type": "markdown",
   "id": "3bba07dd-c593-4f6f-9113-0e3628995977",
   "metadata": {},
   "source": [
    "## Model Loading"
   ]
  },
  {
   "cell_type": "code",
   "execution_count": 95,
   "id": "a148b18b-fd7a-4f1c-9748-53f26e3b50e9",
   "metadata": {
    "tags": []
   },
   "outputs": [],
   "source": [
    "device = 'cuda' if torch.cuda.is_available() else 'cpu'\n",
    "model = AutoModelForSequenceClassification.from_pretrained('usvsnsp/code-vs-nl').to(device)\n",
    "tokenizer = AutoTokenizer.from_pretrained('usvsnsp/code-vs-nl')"
   ]
  },
  {
   "cell_type": "markdown",
   "id": "7b34176e-124d-43c6-8bda-2e6b381a590d",
   "metadata": {},
   "source": [
    "## Data Loading"
   ]
  },
  {
   "cell_type": "code",
   "execution_count": 96,
   "id": "e3f6e4a1-380f-43f6-b394-05ac9bd16e0c",
   "metadata": {
    "tags": []
   },
   "outputs": [],
   "source": [
    "files = ['data/kyle_eval_set.tsv', 'data/alvin_eval_set.tsv']\n",
    "all_dfs = [pd.read_csv(f, sep='\\t', skiprows=[0, 1]) for f in files]\n",
    "combined_df = pd.concat(all_dfs)\n",
    "combined_df.columns = ['label', 'index', 'text']"
   ]
  },
  {
   "cell_type": "code",
   "execution_count": 97,
   "id": "cf785f35-9553-4266-ace6-58665c962ea4",
   "metadata": {
    "tags": []
   },
   "outputs": [
    {
     "data": {
      "text/plain": [
       "(500, 3)"
      ]
     },
     "execution_count": 97,
     "metadata": {},
     "output_type": "execute_result"
    }
   ],
   "source": [
    "combined_df.shape"
   ]
  },
  {
   "cell_type": "code",
   "execution_count": 98,
   "id": "86f778ab-3ad0-4a2b-8961-27ae5176d66c",
   "metadata": {
    "tags": []
   },
   "outputs": [
    {
     "data": {
      "text/plain": [
       "label    float64\n",
       "index      int64\n",
       "text      object\n",
       "dtype: object"
      ]
     },
     "execution_count": 98,
     "metadata": {},
     "output_type": "execute_result"
    }
   ],
   "source": [
    "# seems to be parsing the text fine with tab-separated files\n",
    "combined_df.dtypes"
   ]
  },
  {
   "cell_type": "code",
   "execution_count": 99,
   "id": "f2d03673-ea63-4511-856b-9f32bd38a6ef",
   "metadata": {
    "tags": []
   },
   "outputs": [],
   "source": [
    "# filter un-labelled samples\n",
    "evaluation_df = combined_df[~pd.isna(combined_df.label)]\n",
    "evaluation_df = evaluation_df.astype({'label': np.int64})"
   ]
  },
  {
   "cell_type": "markdown",
   "id": "320928d5-edcf-48ff-b4eb-580af9c91dba",
   "metadata": {},
   "source": [
    "## Extracting Scores"
   ]
  },
  {
   "cell_type": "code",
   "execution_count": 100,
   "id": "a4b0dcec-4516-4a06-8191-874563832535",
   "metadata": {
    "tags": []
   },
   "outputs": [
    {
     "data": {
      "text/html": [
       "<div>\n",
       "<style scoped>\n",
       "    .dataframe tbody tr th:only-of-type {\n",
       "        vertical-align: middle;\n",
       "    }\n",
       "\n",
       "    .dataframe tbody tr th {\n",
       "        vertical-align: top;\n",
       "    }\n",
       "\n",
       "    .dataframe thead th {\n",
       "        text-align: right;\n",
       "    }\n",
       "</style>\n",
       "<table border=\"1\" class=\"dataframe\">\n",
       "  <thead>\n",
       "    <tr style=\"text-align: right;\">\n",
       "      <th></th>\n",
       "      <th>index</th>\n",
       "    </tr>\n",
       "    <tr>\n",
       "      <th>label</th>\n",
       "      <th></th>\n",
       "    </tr>\n",
       "  </thead>\n",
       "  <tbody>\n",
       "    <tr>\n",
       "      <th>0</th>\n",
       "      <td>291</td>\n",
       "    </tr>\n",
       "    <tr>\n",
       "      <th>1</th>\n",
       "      <td>199</td>\n",
       "    </tr>\n",
       "  </tbody>\n",
       "</table>\n",
       "</div>"
      ],
      "text/plain": [
       "       index\n",
       "label       \n",
       "0        291\n",
       "1        199"
      ]
     },
     "execution_count": 100,
     "metadata": {},
     "output_type": "execute_result"
    }
   ],
   "source": [
    "evaluation_df.groupby('label').agg({'index': 'nunique'})"
   ]
  },
  {
   "cell_type": "markdown",
   "id": "2e11ed9a-6769-4c3f-a5b3-ab4668304394",
   "metadata": {},
   "source": [
    "After filtering some edge cases, we have about 490 samples remaining and 40% of them are classified as code."
   ]
  },
  {
   "cell_type": "code",
   "execution_count": 101,
   "id": "0e8beec8-0cb3-4ae5-b5a9-f54135c57433",
   "metadata": {
    "tags": []
   },
   "outputs": [],
   "source": [
    "@torch.inference_mode()\n",
    "def get_code_score(text):\n",
    "    tokens = tokenizer.encode(text, return_tensors='pt', max_length=512, truncation=True).to(device)\n",
    "    logits = model(tokens).logits\n",
    "    # natural language = 0, code = 1\n",
    "    scores = torch.softmax(logits, dim=1)[0]\n",
    "    nl_score, code_score = (float(s) for s in scores)\n",
    "    return nl_score, code_score"
   ]
  },
  {
   "cell_type": "code",
   "execution_count": 102,
   "id": "852ea9c9-4196-44ca-a34f-05d25bf415ec",
   "metadata": {
    "tags": []
   },
   "outputs": [
    {
     "name": "stderr",
     "output_type": "stream",
     "text": [
      "100%|██████████████████████████████████████████████████████████████████████████████████████████████████████████████████████████████████████████████████████████████████| 490/490 [00:03<00:00, 138.76it/s]\n"
     ]
    }
   ],
   "source": [
    "evaluation_df['nl_score'], evaluation_df['code_score'] = zip(*evaluation_df['text'].progress_apply(get_code_score))\n",
    "# Specify the ground truth columns\n",
    "evaluation_df['is_code'] = evaluation_df['label']\n",
    "evaluation_df['is_natural_language'] = 1 - evaluation_df['label']\n",
    "evaluation_df.drop('label', axis=1, inplace=True)"
   ]
  },
  {
   "cell_type": "code",
   "execution_count": 103,
   "id": "ae94906b-84e8-4a38-b44d-c3811def61ea",
   "metadata": {
    "scrolled": true,
    "tags": []
   },
   "outputs": [
    {
     "data": {
      "text/html": [
       "<div>\n",
       "<style scoped>\n",
       "    .dataframe tbody tr th:only-of-type {\n",
       "        vertical-align: middle;\n",
       "    }\n",
       "\n",
       "    .dataframe tbody tr th {\n",
       "        vertical-align: top;\n",
       "    }\n",
       "\n",
       "    .dataframe thead th {\n",
       "        text-align: right;\n",
       "    }\n",
       "</style>\n",
       "<table border=\"1\" class=\"dataframe\">\n",
       "  <thead>\n",
       "    <tr style=\"text-align: right;\">\n",
       "      <th></th>\n",
       "      <th>index</th>\n",
       "      <th>text</th>\n",
       "      <th>nl_score</th>\n",
       "      <th>code_score</th>\n",
       "      <th>is_code</th>\n",
       "      <th>is_natural_language</th>\n",
       "    </tr>\n",
       "  </thead>\n",
       "  <tbody>\n",
       "    <tr>\n",
       "      <th>0</th>\n",
       "      <td>145462125</td>\n",
       "      <td>: 0px       }       #panel {         position:...</td>\n",
       "      <td>0.426246</td>\n",
       "      <td>0.573754</td>\n",
       "      <td>1</td>\n",
       "      <td>0</td>\n",
       "    </tr>\n",
       "    <tr>\n",
       "      <th>1</th>\n",
       "      <td>61882691</td>\n",
       "      <td>for reconsideration and construed the debtor'...</td>\n",
       "      <td>0.536427</td>\n",
       "      <td>0.463573</td>\n",
       "      <td>0</td>\n",
       "      <td>1</td>\n",
       "    </tr>\n",
       "    <tr>\n",
       "      <th>2</th>\n",
       "      <td>132145011</td>\n",
       "      <td>imaging systems. Typically, in CT imaging sys...</td>\n",
       "      <td>0.494758</td>\n",
       "      <td>0.505242</td>\n",
       "      <td>0</td>\n",
       "      <td>1</td>\n",
       "    </tr>\n",
       "    <tr>\n",
       "      <th>3</th>\n",
       "      <td>9165315</td>\n",
       "      <td>prelude.minimumBy = List.minimumBy; prelude.s...</td>\n",
       "      <td>0.409904</td>\n",
       "      <td>0.590096</td>\n",
       "      <td>1</td>\n",
       "      <td>0</td>\n",
       "    </tr>\n",
       "    <tr>\n",
       "      <th>4</th>\n",
       "      <td>115095119</td>\n",
       "      <td>www.icap.com.  It’s easy to fall into a patte...</td>\n",
       "      <td>0.505119</td>\n",
       "      <td>0.494881</td>\n",
       "      <td>0</td>\n",
       "      <td>1</td>\n",
       "    </tr>\n",
       "  </tbody>\n",
       "</table>\n",
       "</div>"
      ],
      "text/plain": [
       "       index                                               text  nl_score  \\\n",
       "0  145462125  : 0px       }       #panel {         position:...  0.426246   \n",
       "1   61882691   for reconsideration and construed the debtor'...  0.536427   \n",
       "2  132145011   imaging systems. Typically, in CT imaging sys...  0.494758   \n",
       "3    9165315   prelude.minimumBy = List.minimumBy; prelude.s...  0.409904   \n",
       "4  115095119   www.icap.com.  It’s easy to fall into a patte...  0.505119   \n",
       "\n",
       "   code_score  is_code  is_natural_language  \n",
       "0    0.573754        1                    0  \n",
       "1    0.463573        0                    1  \n",
       "2    0.505242        0                    1  \n",
       "3    0.590096        1                    0  \n",
       "4    0.494881        0                    1  "
      ]
     },
     "execution_count": 103,
     "metadata": {},
     "output_type": "execute_result"
    }
   ],
   "source": [
    "evaluation_df.head()"
   ]
  },
  {
   "cell_type": "code",
   "execution_count": 117,
   "id": "559db426-c7b4-4383-a20f-de7f632d2547",
   "metadata": {},
   "outputs": [],
   "source": [
    "import seaborn as sns\n",
    "sns.set_style({'font.family':'serif', 'font.serif':'Times New Roman'})\n",
    "sns.set_color_codes(\"colorblind\")\n",
    "sns.set_theme(style=\"white\")\n",
    "sns.set_context(\"talk\")\n",
    "sns.color_palette()\n",
    "def plot_precision_threshold_curves():\n",
    "    nl_precision, nl_recall, nl_thresholds = precision_recall_curve(evaluation_df['is_natural_language'], evaluation_df['nl_score'])\n",
    "    nl_precision = nl_precision[:-1]\n",
    "    nl_recall = nl_recall[1:]\n",
    "    df = pd.DataFrame({\n",
    "        'False Positive Rate':1 - nl_precision,\n",
    "        'Model Threshold': nl_thresholds\n",
    "    })\n",
    "    ax = sns.lineplot(df, x='Model Threshold', y='False Positive Rate', label=\"Natural Language\")\n",
    "    nl_color = ax.lines[-1].get_color()\n",
    "\n",
    "    code_precision, code_recall, code_thresholds = precision_recall_curve(evaluation_df['is_code'], evaluation_df['code_score'])\n",
    "    code_precision = code_precision[:-1]\n",
    "    code_recall =code_recall[1:]\n",
    "    code_thresholds = 1 - code_thresholds\n",
    "    df = pd.DataFrame({\n",
    "        'False Positive Rate': 1 - code_precision,\n",
    "        'Model Threshold': code_thresholds\n",
    "    })\n",
    "    ax = sns.lineplot(df, x='Model Threshold', y='False Positive Rate', label=\"Code\")\n",
    "    code_color = ax.lines[-1].get_color()\n",
    "    \n",
    "    plt.scatter(x=[0.525], y=[0], marker='o', color=nl_color)\n",
    "    plt.scatter(x=[0.4], y=[0], marker='o', color=code_color)\n",
    "    plt.legend()\n",
    "    sns.move_legend(ax, \"lower center\", bbox_to_anchor=(0.45, -0.35), ncols=2, frameon=False, title=None)\n",
    "    plt.savefig(\"model_thresholding_curves.png\", bbox_inches=\"tight\")\n",
    "    \n",
    "    plt.show()\n",
    "    "
   ]
  },
  {
   "cell_type": "code",
   "execution_count": 118,
   "id": "35479767-4838-49fa-bd17-4845269c61d3",
   "metadata": {},
   "outputs": [
    {
     "data": {
      "image/png": "[encoded data removed]",
      "text/plain": [
       "<Figure size 640x480 with 1 Axes>"
      ]
     },
     "metadata": {},
     "output_type": "display_data"
    }
   ],
   "source": [
    "plot_precision_threshold_curves()"
   ]
  },
  {
   "cell_type": "markdown",
   "id": "8fadb11a-0a78-42ac-92e5-b8267246765b",
   "metadata": {},
   "source": [
    "## Analysis"
   ]
  },
  {
   "cell_type": "code",
   "execution_count": 12,
   "id": "30a86263-c6b0-40a9-880f-fa5a3735507e",
   "metadata": {
    "tags": []
   },
   "outputs": [
    {
     "data": {
      "text/plain": [
       "Text(0.5, 1.0, '$Score_{NL}$ Distribution')"
      ]
     },
     "execution_count": 12,
     "metadata": {},
     "output_type": "execute_result"
    },
    {
     "data": {
      "image/png": "[encoded data removed]",
      "text/plain": [
       "<Figure size 640x480 with 1 Axes>"
      ]
     },
     "metadata": {},
     "output_type": "display_data"
    }
   ],
   "source": [
    "evaluation_df[evaluation_df.is_natural_language == 1].nl_score.hist(bins=10, label='Natural Language', alpha=0.5)\n",
    "evaluation_df[evaluation_df.is_code == 1].nl_score.hist(bins=10, label='Code', alpha=0.5)\n",
    "plt.xlim(-0.05, 1.05)\n",
    "plt.ylabel('Frequency')\n",
    "plt.xlabel('$Score_{NL}$')\n",
    "plt.legend()\n",
    "plt.title('$Score_{NL}$ Distribution')"
   ]
  },
  {
   "cell_type": "code",
   "execution_count": 13,
   "id": "0383ad6f-18ed-4159-ad7b-e9ff5e868308",
   "metadata": {
    "tags": []
   },
   "outputs": [],
   "source": [
    "def plot_pr_roc_curves(labels, preds):\n",
    "    precision, recall, pr_thresholds = precision_recall_curve(labels, preds)\n",
    "    pr_display = PrecisionRecallDisplay(precision=precision, recall=recall)\n",
    "    pr_auc = auc(recall, precision)\n",
    "\n",
    "    fpr, tpr, roc_thresholds = roc_curve(labels, preds)\n",
    "    roc_display = RocCurveDisplay(fpr=fpr, tpr=tpr)\n",
    "    roc_auc = auc(fpr, tpr)\n",
    "\n",
    "    fig, (ax1, ax2) = plt.subplots(1, 2, figsize=(15, 5))\n",
    "\n",
    "    ax1.set_title(rf'$AUC_{{roc}}$ = {roc_auc:.4f}')\n",
    "    ax2.set_title(rf'$AUC_{{pr}}$ = {pr_auc:.4f}')\n",
    "    roc_display.plot(ax=ax1)\n",
    "    pr_display.plot(ax=ax2)\n",
    "    \n",
    "    return precision, recall, pr_thresholds"
   ]
  },
  {
   "cell_type": "code",
   "execution_count": 14,
   "id": "299cb229-65a3-4f92-a49a-b74967fbc2a2",
   "metadata": {
    "tags": []
   },
   "outputs": [
    {
     "name": "stderr",
     "output_type": "stream",
     "text": [
      "No artists with labels found to put in legend.  Note that artists whose label start with an underscore are ignored when legend() is called with no argument.\n"
     ]
    },
    {
     "data": {
      "image/png": "[encoded data removed]",
      "text/plain": [
       "<Figure size 1500x500 with 2 Axes>"
      ]
     },
     "metadata": {},
     "output_type": "display_data"
    }
   ],
   "source": [
    "# Performance on code classification\n",
    "code_precision, code_recall, code_thresholds = plot_pr_roc_curves(evaluation_df.is_code, evaluation_df.code_score)"
   ]
  },
  {
   "cell_type": "code",
   "execution_count": 12,
   "id": "a3d70ea2-78ff-4450-82af-628caad69797",
   "metadata": {
    "tags": []
   },
   "outputs": [
    {
     "data": {
      "image/png": "[encoded data removed]",
      "text/plain": [
       "<Figure size 1500x500 with 2 Axes>"
      ]
     },
     "metadata": {},
     "output_type": "display_data"
    }
   ],
   "source": [
    "# Performance on natural language classification\n",
    "nl_precision, nl_recall, nl_thresholds = plot_pr_roc_curves(evaluation_df.is_natural_language, evaluation_df.nl_score)"
   ]
  },
  {
   "cell_type": "markdown",
   "id": "68e5caa9-74db-47aa-9cf7-c318e9e33b9e",
   "metadata": {},
   "source": [
    "The model performance looks pretty good as a code/natural langauge classifier, although the sample size is small. In this analysis, we're interested in the performance of the model classifying natural languages."
   ]
  },
  {
   "cell_type": "code",
   "execution_count": 105,
   "id": "60ffee03-2b11-4dfd-ac83-af7da7f669c3",
   "metadata": {
    "tags": []
   },
   "outputs": [],
   "source": [
    "nl_threshold_df = pd.DataFrame(\n",
    "    np.hstack((nl_precision[:-1][:, np.newaxis], nl_recall[:-1][:, np.newaxis], nl_thresholds[:, np.newaxis])),\n",
    "    columns=['precision', 'recall', 'threshold']\n",
    ")\n",
    "nl_threshold_df['f1_score'] = 2 * (nl_threshold_df.precision * nl_threshold_df.recall) / (nl_threshold_df.precision + nl_threshold_df.recall)"
   ]
  },
  {
   "cell_type": "code",
   "execution_count": 110,
   "id": "3d6a1bcb-a468-4625-b610-6b8d24f16e36",
   "metadata": {
    "tags": []
   },
   "outputs": [
    {
     "data": {
      "text/html": [
       "<div>\n",
       "<style scoped>\n",
       "    .dataframe tbody tr th:only-of-type {\n",
       "        vertical-align: middle;\n",
       "    }\n",
       "\n",
       "    .dataframe tbody tr th {\n",
       "        vertical-align: top;\n",
       "    }\n",
       "\n",
       "    .dataframe thead th {\n",
       "        text-align: right;\n",
       "    }\n",
       "</style>\n",
       "<table border=\"1\" class=\"dataframe\">\n",
       "  <thead>\n",
       "    <tr style=\"text-align: right;\">\n",
       "      <th></th>\n",
       "      <th>precision</th>\n",
       "      <th>recall</th>\n",
       "      <th>threshold</th>\n",
       "      <th>f1_score</th>\n",
       "    </tr>\n",
       "  </thead>\n",
       "  <tbody>\n",
       "    <tr>\n",
       "      <th>177</th>\n",
       "      <td>0.893891</td>\n",
       "      <td>0.955326</td>\n",
       "      <td>0.439542</td>\n",
       "      <td>0.923588</td>\n",
       "    </tr>\n",
       "    <tr>\n",
       "      <th>196</th>\n",
       "      <td>0.921233</td>\n",
       "      <td>0.924399</td>\n",
       "      <td>0.457414</td>\n",
       "      <td>0.922813</td>\n",
       "    </tr>\n",
       "    <tr>\n",
       "      <th>176</th>\n",
       "      <td>0.891026</td>\n",
       "      <td>0.955326</td>\n",
       "      <td>0.439489</td>\n",
       "      <td>0.922056</td>\n",
       "    </tr>\n",
       "    <tr>\n",
       "      <th>178</th>\n",
       "      <td>0.893548</td>\n",
       "      <td>0.951890</td>\n",
       "      <td>0.440109</td>\n",
       "      <td>0.921797</td>\n",
       "    </tr>\n",
       "    <tr>\n",
       "      <th>182</th>\n",
       "      <td>0.898693</td>\n",
       "      <td>0.945017</td>\n",
       "      <td>0.441622</td>\n",
       "      <td>0.921273</td>\n",
       "    </tr>\n",
       "    <tr>\n",
       "      <th>195</th>\n",
       "      <td>0.918089</td>\n",
       "      <td>0.924399</td>\n",
       "      <td>0.456445</td>\n",
       "      <td>0.921233</td>\n",
       "    </tr>\n",
       "    <tr>\n",
       "      <th>197</th>\n",
       "      <td>0.920962</td>\n",
       "      <td>0.920962</td>\n",
       "      <td>0.457808</td>\n",
       "      <td>0.920962</td>\n",
       "    </tr>\n",
       "    <tr>\n",
       "      <th>175</th>\n",
       "      <td>0.888179</td>\n",
       "      <td>0.955326</td>\n",
       "      <td>0.438214</td>\n",
       "      <td>0.920530</td>\n",
       "    </tr>\n",
       "    <tr>\n",
       "      <th>201</th>\n",
       "      <td>0.926829</td>\n",
       "      <td>0.914089</td>\n",
       "      <td>0.458684</td>\n",
       "      <td>0.920415</td>\n",
       "    </tr>\n",
       "    <tr>\n",
       "      <th>179</th>\n",
       "      <td>0.893204</td>\n",
       "      <td>0.948454</td>\n",
       "      <td>0.440379</td>\n",
       "      <td>0.920000</td>\n",
       "    </tr>\n",
       "  </tbody>\n",
       "</table>\n",
       "</div>"
      ],
      "text/plain": [
       "     precision    recall  threshold  f1_score\n",
       "177   0.893891  0.955326   0.439542  0.923588\n",
       "196   0.921233  0.924399   0.457414  0.922813\n",
       "176   0.891026  0.955326   0.439489  0.922056\n",
       "178   0.893548  0.951890   0.440109  0.921797\n",
       "182   0.898693  0.945017   0.441622  0.921273\n",
       "195   0.918089  0.924399   0.456445  0.921233\n",
       "197   0.920962  0.920962   0.457808  0.920962\n",
       "175   0.888179  0.955326   0.438214  0.920530\n",
       "201   0.926829  0.914089   0.458684  0.920415\n",
       "179   0.893204  0.948454   0.440379  0.920000"
      ]
     },
     "execution_count": 110,
     "metadata": {},
     "output_type": "execute_result"
    }
   ],
   "source": [
    "nl_threshold_df.sort_values('f1_score', ascending=False).head(10)"
   ]
  },
  {
   "cell_type": "markdown",
   "id": "33267d39-ccdd-4552-8128-8ff501a79e33",
   "metadata": {},
   "source": [
    "After evaluating various thresholds, the threshold of 0.95 seems reasonable given we're still able to maintain 82% recall."
   ]
  },
  {
   "cell_type": "markdown",
   "id": "4f60eb54-6520-40d4-8e2e-b51e835de9cd",
   "metadata": {},
   "source": [
    "## Error Analysis"
   ]
  },
  {
   "cell_type": "code",
   "execution_count": 111,
   "id": "21f7513e-3f91-41d6-bae8-2487f1f7ca53",
   "metadata": {
    "tags": []
   },
   "outputs": [
    {
     "name": "stderr",
     "output_type": "stream",
     "text": [
      "100%|███████████████████████████████████████████████████████████████████████████████████████████████████████████████████████████████████████████████████████████████████████| 490/490 [00:00<00:00, 35468.88it/s]\n"
     ]
    }
   ],
   "source": [
    "model_threshold = 0.457414\n",
    "evaluation_df['prec_95_nl_prediction'] = evaluation_df.progress_apply(lambda x: int(x.nl_score >= model_threshold), axis=1)"
   ]
  },
  {
   "cell_type": "code",
   "execution_count": 112,
   "id": "08190d55-c375-4898-a8b8-36d205ebe8b3",
   "metadata": {
    "tags": []
   },
   "outputs": [],
   "source": [
    "# False Positive\n",
    "fp_df = evaluation_df[\n",
    "    (evaluation_df.prec_95_nl_prediction == 1) & (evaluation_df.is_natural_language == 0)\n",
    "]\n",
    "# False negative\n",
    "fn_df = evaluation_df[\n",
    "    (evaluation_df.prec_95_nl_prediction == 0) & (evaluation_df.is_natural_language == 1)\n",
    "]"
   ]
  },
  {
   "cell_type": "code",
   "execution_count": 113,
   "id": "5b5df5c6-a269-4091-93a0-57e3d6876f90",
   "metadata": {
    "tags": []
   },
   "outputs": [
    {
     "data": {
      "text/plain": [
       "((23, 7), (22, 7))"
      ]
     },
     "execution_count": 113,
     "metadata": {},
     "output_type": "execute_result"
    }
   ],
   "source": [
    "fp_df.shape, fn_df.shape"
   ]
  },
  {
   "cell_type": "code",
   "execution_count": 114,
   "id": "61be68bd-d067-447d-abda-56625050b029",
   "metadata": {
    "tags": []
   },
   "outputs": [
    {
     "name": "stdout",
     "output_type": "stream",
     "text": [
      "> Example 1\n",
      "> code_score: 0.4838\n",
      "> nl_score: 0.5162\n",
      "> text:  132, 41, 132, 41, 132, 41, 132, 41, 132, 41, 132, 41, 132, 41, 132, 41, 132, 41, 132, 41, 132, 41, 132, 41, 132, 41, 132, 41, 132, 41, 132, 41,\n",
      "\n",
      "> Example 2\n",
      "> code_score: 0.4879\n",
      "> nl_score: 0.5121\n",
      "> text: MMMMMMMMMMMMMMMMMMMMMMMMMMMMMMMMMMMMMMMMMMMMMMMMMMMMMMMMMMMMMMMMMMMMMMMMMMMMMMMMMMMMMMMMMMMMMMMMMMMMMMMMMMMMMMMMMMMMMMMMMMMMMMMM\n",
      "\n",
      "> Example 3\n",
      "> code_score: 0.4879\n",
      "> nl_score: 0.5121\n",
      "> text: ACiiigAooooAKKKKACiiigAooooAKKKKACiiigAooooAKKKKACiiigAooooAKKKKACiiigAooooAKKKKACiiigAooooAKKKKACiiigAooooAKKKKACiiigAooooAKKKK\n",
      "\n",
      "> Example 4\n",
      "> code_score: 0.4879\n",
      "> nl_score: 0.5121\n",
      "> text: 096687AM096688AM096689AM096690AM096691AM096692AM096693AM096694AM096695AM096696AM096697AM096698AM096699AM096700AM096701AM096702AM096703AM096704AM096705AM\n",
      "\n",
      "> Example 5\n",
      "> code_score: 0.4879\n",
      "> nl_score: 0.5121\n",
      "> text: 156044077239071381051585930796086670172427121883998797908792274921901699720888093776657273330010533678812202354218097512545405947522435258490771167\n",
      "\n",
      "> Example 6\n",
      "> code_score: 0.4893\n",
      "> nl_score: 0.5107\n",
      "> text: 3                                                                                                                                                                                                                                                                                                                                                                                                                                                                                                                                                                                                                                                                                                                                                                                                                                                                                                                                                                                                                                                                                                                                                                                                                                                                                                                                                                                                  \n",
      "\n",
      "> Example 7\n",
      "> code_score: 0.4916\n",
      "> nl_score: 0.5084\n",
      "> text: #ERROR!\n",
      "\n",
      "> Example 8\n",
      "> code_score: 0.4916\n",
      "> nl_score: 0.5084\n",
      "> text: #ERROR!\n",
      "\n",
      "> Example 9\n",
      "> code_score: 0.4926\n",
      "> nl_score: 0.5074\n",
      "> text: :59:59      2013-08-16 00:00:00 | 2013-08-16 23:59:59      2013-08-17 00:00:00 | 2013-08-17 23:59:59      2013-08-18 00:00:00 | 2013\n",
      "\n",
      "> Example 10\n",
      "> code_score: 0.4927\n",
      "> nl_score: 0.5073\n",
      "> text:  156-22, 156-23, 156-24, 156-25, 156-26, 156-27, 156-28, 156-29, 156-30, 156-31, 156-32, 156-33, 156-34, 156-35, 156-36, 156-37,\n",
      "\n",
      "> Example 11\n",
      "> code_score: 0.4935\n",
      "> nl_score: 0.5065\n",
      "> text:  8 | $1.28   Day 9 | $2.56   Day 10 | $5.12   Day 11 | $10.24   Day 12 | $20.48   Day 13 | $40.96   Day 14 | $81.92   Day 15\n",
      "\n",
      "> Example 12\n",
      "> code_score: 0.4941\n",
      "> nl_score: 0.5059\n",
      "> text:    [ 240, 144, 167, 159 ],   [ 240, 144, 167, 160 ],   [ 240, 144, 167, 161 ],   [ 240, 144, 167, 162 ],   [ 240, 144, 167, 163 ],   [ 240, 144, 167,\n",
      "\n",
      "> Example 13\n",
      "> code_score: 0.4983\n",
      "> nl_score: 0.5017\n",
      "> text:  songs for the Rock Band series   2008 in downloadable songs for the Rock Band series   2009 in downloadable songs for the Rock Band series   2010 in downloadable songs for the Rock Band series   2011 in downloadable songs for the Rock Band series   2012 in downloadable songs for the Rock\n",
      "\n",
      "> Example 14\n",
      "> code_score: 0.5130\n",
      "> nl_score: 0.4870\n",
      "> text: ¸ÑÐµ:![ls/mc/man/fdisk] Ð¸Ð»Ð¸![ATI/nVidia/etc] Ð²Ð¾Ñ ÑÐ°Ðº. ÐÐ½Ð¸Ð¼Ð°Ð½Ð¸Ðµ, ÑÑÐ\n",
      "\n",
      "> Example 15\n",
      "> code_score: 0.5170\n",
      "> nl_score: 0.4830\n",
      "> text:  & a7, A8 & a8, A9 & a9, A10 & a10, A11 & a11, A12 & a12, A13 & a13, A14 & a14, A15 & a15, A16 & a16, A17 & a17,\n",
      "\n",
      "> Example 16\n",
      "> code_score: 0.5213\n",
      "> nl_score: 0.4787\n",
      "> text: ,20,20,20,20,20,20,20,20,20,20,20,20,20,20,20,20,20,20,20,20,20,20,20,20,20,20,20,20,20,20,20,20\n",
      "\n",
      "> Example 17\n",
      "> code_score: 0.5247\n",
      "> nl_score: 0.4753\n",
      "> text:     Bi     Left    Left           Left                           2    --     --      --      --     --     --     --     --     --   3    --     --      --      --     --     --     --     --     --   4    --     --      --      --     --\n",
      "\n",
      "> Example 18\n",
      "> code_score: 0.5273\n",
      "> nl_score: 0.4727\n",
      "> text: eka  yboaga.ice  yboaga.bosch  yboaga.orange  yboaga.williamhill  yboaga.afamilycompany  yboaga.lidl  yboaga.maif  ybo\n",
      "\n",
      "> Example 19\n",
      "> code_score: 0.5276\n",
      "> nl_score: 0.4724\n",
      "> text: 謜謞謟謊謭謰謷謼譂\",4,\"譈譒譓譔譙譍譞譣譭譶譸譹譼譾讁讄讅�\n",
      "\n",
      "> Example 20\n",
      "> code_score: 0.5367\n",
      "> nl_score: 0.4633\n",
      "> text: IfkECQEAAQAsAAAAACgAKAAAApiEH6kb58biQ3FNWtMFWW3eNVcojuFGfqnZqSebuS06w5V80/X02pKe8zFwP6EFWOT1lDFk\n",
      "\n",
      "> Example 21\n",
      "> code_score: 0.5412\n",
      "> nl_score: 0.4588\n",
      "> text:  {#section15-1557988319892735} ----------------------  The assessment of the risk of bias is presented in [Figures 2](#fig2-1557988319892735){ref-type=\"fig\"} and [3](#fig3-1557988319892735){ref-type=\"fig\n",
      "\n",
      "> Example 22\n",
      "> code_score: 0.5418\n",
      "> nl_score: 0.4582\n",
      "> text:  id: 'PL'},     {label: 'Portugal', id: 'PT'},     {label: 'Puerto Rico', id: 'PR'},     {label: 'Qatar', id: 'QA'},     {label: 'Reunion', id: '\n",
      "\n",
      "> Example 23\n",
      "> code_score: 0.5419\n",
      "> nl_score: 0.4581\n",
      "> text: 2xvYmFsIFN0ZWFs dGgsIEluYy4gQ0ExGzAZBgNVBCkTEnNlcnZlcmxvY2F0aW9uLWtleTEmMCQGCSqG SIb3DQ\n",
      "\n"
     ]
    }
   ],
   "source": [
    "for i, (_, row) in enumerate(fp_df.sort_values('nl_score', ascending=False).iterrows()):\n",
    "    print(f'> Example {i + 1}')\n",
    "    print(f'> code_score: {row.code_score:.4f}')\n",
    "    print(f'> nl_score: {row.nl_score:.4f}')\n",
    "    print(f'> text: {row.text}')\n",
    "    print()"
   ]
  },
  {
   "cell_type": "code",
   "execution_count": 116,
   "id": "8e0e51be-e6cc-45bd-8c30-ce3ce720527f",
   "metadata": {
    "tags": []
   },
   "outputs": [
    {
     "name": "stdout",
     "output_type": "stream",
     "text": [
      "> Example 1\n",
      "> code_score: 0.5536\n",
      "> nl_score: 0.4464\n",
      "> text:  #     https://www.apache.org/licenses/LICENSE-2.0 # # Unless required by applicable law or agreed to in writing, software # distributed under the License is distributed on an \"AS IS\" BASIS, # WITHOUT WARRANTIES OR CONDITIONS OF ANY KIND, either express or implied\n",
      "\n",
      "> Example 2\n",
      "> code_score: 0.5538\n",
      "> nl_score: 0.4462\n",
      "> text:  to the Apache Software Foundation (ASF) under one or more  * contributor license agreements.  See the NOTICE file distributed with  * this work for additional information regarding copyright ownership.  * The ASF licenses this file to You under the Apache License, Version 2.0  * (the \"License\"); you\n",
      "\n",
      "> Example 3\n",
      "> code_score: 0.5549\n",
      "> nl_score: 0.4451\n",
      "> text:                              Simon Castellan  <simon.castellan(_)iuwt.fr>    Permission is hereby granted, free of charge, to any person obtaining a   copy of this software and associated documentation files (the \"Software\"),   to deal in the Software without restriction, including without\n",
      "\n",
      "> Example 4\n",
      "> code_score: 0.5566\n",
      "> nl_score: 0.4434\n",
      "> text: di-maps-directions-subway\": \"maps directions-subway\",   \"mdi-maps-directions-train\": \"maps directions-train\",   \"mdi-maps-directions-transit\": \"maps directions-transit\",   \"mdi-maps\n",
      "\n",
      "> Example 5\n",
      "> code_score: 0.5569\n",
      "> nl_score: 0.4431\n",
      "> text: m losing myselfAs I lean back and fall<|endoftext|>#  Pyrogram - Telegram MTProto API Client Library for Python #  Copyright (C) 2017-2020 Dan <https://github.com/delivrance> # #  This file is part of Pyrogram. # \n",
      "\n",
      "> Example 6\n",
      "> code_score: 0.5584\n",
      "> nl_score: 0.4416\n",
      "> text:  software # distributed under the License is distributed on an \"AS IS\" BASIS, # WITHOUT WARRANTIES OR CONDITIONS OF ANY KIND, either express or implied. # See the License for the specific language governing permissions and # limitations under the License.  # NOTE: This file is auto generated by the el\n",
      "\n",
      "> Example 7\n",
      "> code_score: 0.5596\n",
      "> nl_score: 0.4404\n",
      "> text: > xwax <MasterShrek>!permissions | SudoKing <ubotu> SudoKing: An explanation of how files and directories are organized on Ubuntu, and how they can be manipulated, can be found at https://help.ubuntu.com/community/LinuxFilesystemTreeOverview \n",
      "\n",
      "> Example 8\n",
      "> code_score: 0.5599\n",
      "> nl_score: 0.4401\n",
      "> text:  3-way network is a graph *G* = (*V*, *E*) where *V* = {*v* ~1~, *v* ~2~,..., *v* ~*n*~} is the set of nodes and *E* = {*e* ~1~, *e* ~\n",
      "\n",
      "> Example 9\n",
      "> code_score: 0.5605\n",
      "> nl_score: 0.4395\n",
      "> text: ribution and use in source and binary forms, with or without // modification, are permitted provided that the following conditions are // met: // //     * Redistributions of source code must retain the above copyright // notice, this list of conditions and the following disclaimer. //     * Redistributions in binary form\n",
      "\n",
      "> Example 10\n",
      "> code_score: 0.5648\n",
      "> nl_score: 0.4352\n",
      "> text: PL, and not to allow others to  * use your version of this file under the terms of the MPL, indicate your  * decision by deleting the provisions above and replace them with the notice  * and other provisions required by the GPL or the LGPL. If you do not delete  * the provisions above\n",
      "\n",
      "> Example 11\n",
      "> code_score: 0.5664\n",
      "> nl_score: 0.4336\n",
      "> text: 01). Alternative implementation is a literal copy of standard one located in standalone module to avoid requiring of `util`. It also has a shim for old browsers with no `Object.create` support.  While keeping you sure you are using standard `inherits` implementation in node.\n",
      "\n",
      "> Example 12\n",
      "> code_score: 0.5681\n",
      "> nl_score: 0.4319\n",
      "> text:  information, see the following: // // Issue: https://github.com/twbs/bootstrap/issues/10497 // Docs: http://getbootstrap.com/getting-started/#support-ie10-width // Source: http://timkadlec.com/2013\n",
      "\n",
      "> Example 13\n",
      "> code_score: 0.5685\n",
      "> nl_score: 0.4315\n",
      "> text:  ListMeta}.\",       \"properties\": {         \"continue\": {           \"description\": \"continue may be set if the user set a limit on the number of items returned, and indicates that the server has more data available. The value is opaque and may be used to issue another request to the endpoint\n",
      "\n",
      "> Example 14\n",
      "> code_score: 0.5715\n",
      "> nl_score: 0.4285\n",
      "> text:  with the License.  * You may obtain a copy of the License at  *  *     http://www.apache.org/licenses/LICENSE-2.0  *  * Unless required by applicable law or agreed to in writing, software  * distributed under the License is distributed on an \"AS IS\n",
      "\n",
      "> Example 15\n",
      "> code_score: 0.5739\n",
      "> nl_score: 0.4261\n",
      "> text:  of each generated HTML # page will contain the date and time when the page was generated. Setting # this to NO can help when comparing the output of multiple runs.  HTML_TIMESTAMP         = YES  # If the HTML_DYNAMIC_SECTIONS tag is set to YES then\n",
      "\n",
      "> Example 16\n",
      "> code_score: 0.5750\n",
      "> nl_score: 0.4250\n",
      "> text:  supports equivalent copying facilities, provided you maintain     clear directions next to the object code saying where to find the     Corresponding Source.  Regardless of what server hosts the     Corresponding Source, you remain obligated to ensure that it is     available for as long as needed to satisfy these requirements.      \n",
      "\n",
      "> Example 17\n",
      "> code_score: 0.5784\n",
      "> nl_score: 0.4216\n",
      "> text:  data to the internet, so this permission is not required to send data to the internet.Allows the app to have itself started as soon as the system has finished booting. This can make it take longer to start the phone and allow the app to slow down the overall phone by always running.Allows the app\n",
      "\n",
      "> Example 18\n",
      "> code_score: 0.5860\n",
      "> nl_score: 0.4140\n",
      "> text: LIST20_C_HPP_INCLUDED  // Copyright Aleksey Gurtovoy 2000-2004 // // Distributed under the Boost Software License, Version 1.0.  // (See accompanying file LICENSE_1_0.txt or copy at  // http://www.\n",
      "\n",
      "> Example 19\n",
      "> code_score: 0.5874\n",
      "> nl_score: 0.4126\n",
      "> text: inventory_discrepancy.field_stock_inventory__state msgid \"\" \"States of the Inventory Adjustment:\\n\" \"- Draft: Inventory not started.\\n\" \"- In Progress: Inventory in execution.\\n\" \"- Pending to Approve: Inventory have some discrepancies greater than\n",
      "\n",
      "> Example 20\n",
      "> code_score: 0.5910\n",
      "> nl_score: 0.4090\n",
      "> text: 0\" perimeter=\"0\" name=\"N\"/>    <constraint x=\"0.5\" y=\"1\" perimeter=\"0\" name=\"S\"/>    <constraint x=\"0\" y=\"0.5\" perimeter=\"0\" name=\"W\"/>    <constraint x=\"1\" y=\"\n",
      "\n",
      "> Example 21\n",
      "> code_score: 0.5935\n",
      "> nl_score: 0.4065\n",
      "> text:  *  SPDX-License-Identifier: Apache-2.0  *  *  Licensed under the Apache License, Version 2.0 (the \"License\"); you may  *  not use this file except in compliance with the License.  *  You may obtain a copy of the License at \n",
      "\n",
      "> Example 22\n",
      "> code_score: 0.5956\n",
      "> nl_score: 0.4044\n",
      "> text:      <!--       An Assembly element with Name=\"*Application*\" applies to all assemblies in       the application package. The asterisks are not wildcards.     -->     <Assembly Name=\"*Application*\" Dynamic=\"Required All\" />               <!-- Add your application specific runtime directives\n",
      "\n"
     ]
    }
   ],
   "source": [
    "for i, (_, row) in enumerate(fn_df.sort_values('nl_score', ascending=False).iterrows()):\n",
    "    print(f'> Example {i + 1}')\n",
    "    print(f'> code_score: {row.code_score:.4f}')\n",
    "    print(f'> nl_score: {row.nl_score:.4f}')\n",
    "    print(f'> text: {row.text}')\n",
    "    print()"
   ]
  },
  {
   "cell_type": "code",
   "execution_count": 129,
   "id": "39d52e19-739f-4830-ad72-e5353fbda187",
   "metadata": {
    "tags": []
   },
   "outputs": [
    {
     "name": "stdout",
     "output_type": "stream",
     "text": [
      "> Example 1\n",
      "> code_score: 0.4835\n",
      "> nl_score: 0.5165\n",
      "> text:                                                                          The Supreme Court of Nevada        Appellate Case Management System     C-Track, the browser based CMS for Appellate Courts                             \n",
      "\n",
      "> Example 2\n",
      "> code_score: 0.6106\n",
      "> nl_score: 0.3894\n",
      "> text: OptionLvlThree'><a href=\"#\"> More option </a>             </li>             <li class='listOptionLvlThree'><a href=\"#\"> More option </a>             </li>             <li class='listOptionLvlThree'><a href=\"#\"> More option </\n",
      "\n",
      "> Example 3\n",
      "> code_score: 0.5884\n",
      "> nl_score: 0.4116\n",
      "> text: </folder> <filename>0--Parade_0_Parade_Parade_0_167.jpg</filename> <source> <database>wider face Database</database> <annotation>PASCAL VOC2007</annotation> <image>flickr</image\n",
      "\n",
      "> Example 4\n",
      "> code_score: 0.6022\n",
      "> nl_score: 0.3978\n",
      "> text:   /* On mouse-over, add a grey background color */ .container:hover input ~.checkmark {   background-color: #ccc; }  /* When the checkbox is checked, add a blue background */ .container input:checked ~.checkmark {\n",
      "\n",
      "> Example 5\n",
      "> code_score: 0.5274\n",
      "> nl_score: 0.4726\n",
      "> text:  করে নিতে পারবেন।\"   },   \"privateNetwork\": {     \"message\": \"ব্যক্তিগত নেটওয়\n",
      "\n",
      "> Example 6\n",
      "> code_score: 0.6202\n",
      "> nl_score: 0.3798\n",
      "> text:  // USE OR OTHER DEALINGS IN THE SOFTWARE.  'use strict';  /*<replacement>*/  var pna = require('process-nextick-args'); /*</replacement>*/  module.exports = Readable;  /*<replacement>*/\n",
      "\n",
      "> Example 8\n",
      "> code_score: 0.5594\n",
      "> nl_score: 0.4406\n",
      "> text:  Disclosure: One97 is an advertiser with MediaNama<|endoftext|>![](hosplond71479-0029){#sp1.1-1}  ![](hosplond71479-0030){#sp2.2-1}  ![](hosplond71479-0031){#sp3.3\n",
      "\n",
      "> Example 9\n",
      "> code_score: 0.6085\n",
      "> nl_score: 0.3915\n",
      "> text: The type of storage used by the replication instance.</p>      */     inline OrderableReplicationInstance& WithStorageType(Aws::String&& value) { SetStorageType(std::move(value)); return *this;}      /**      * <p>The type of storage used\n",
      "\n",
      "> Example 10\n",
      "> code_score: 0.5399\n",
      "> nl_score: 0.4601\n",
      "> text:  is remote\",  67:   \"link has been severed\",  68:   \"advertise error\",  69:   \"srmount error\",  70:   \"communication error on send\",  71:   \"protocol error\",  73:   \"RFS\n",
      "\n"
     ]
    }
   ],
   "source": [
    "for i, (_, row) in enumerate(combined_df[pd.isna(combined_df.label)].iterrows()):\n",
    "    if not pd.isna(row.text):\n",
    "        nl_score, code_score = get_code_score(row.text)\n",
    "        print(f'> Example {i + 1}')\n",
    "        print(f'> code_score: {code_score:.4f}')\n",
    "        print(f'> nl_score: {nl_score:.4f}')\n",
    "        print(f'> text: {row.text}')\n",
    "        print()"
   ]
  }
 ],
 "metadata": {
  "kernelspec": {
   "display_name": "Python 3 (ipykernel)",
   "language": "python",
   "name": "python3"
  },
  "language_info": {
   "codemirror_mode": {
    "name": "ipython",
    "version": 3
   },
   "file_extension": ".py",
   "mimetype": "text/x-python",
   "name": "python",
   "nbconvert_exporter": "python",
   "pygments_lexer": "ipython3",
   "version": "3.11.8"
  }
 },
 "nbformat": 4,
 "nbformat_minor": 5
}
