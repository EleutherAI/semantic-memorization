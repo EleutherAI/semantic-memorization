{
 "cells": [
  {
   "cell_type": "code",
   "execution_count": 1,
   "id": "4d92dade-588c-43e4-b5db-589b6bf98b13",
   "metadata": {
    "tags": []
   },
   "outputs": [],
   "source": [
    "import findspark\n",
    "\n",
    "findspark.init()"
   ]
  },
  {
   "cell_type": "code",
   "execution_count": 2,
   "id": "ef48c8a2-72ac-41b9-b0a2-85abd3535647",
   "metadata": {
    "tags": []
   },
   "outputs": [
    {
     "name": "stderr",
     "output_type": "stream",
     "text": [
      "/home/alvin/lib/miniconda3/lib/python3.11/site-packages/pyspark/pandas/__init__.py:50: UserWarning: 'PYARROW_IGNORE_TIMEZONE' environment variable was not set. It is required to set this environment variable to '1' in both driver and executor sides if you use pyarrow>=2.0.0. pandas-on-Spark will set it for you but it does not work if there is a Spark context already launched.\n",
      "  warnings.warn(\n",
      "/home/alvin/lib/miniconda3/lib/python3.11/site-packages/tqdm/auto.py:21: TqdmWarning: IProgress not found. Please update jupyter and ipywidgets. See https://ipywidgets.readthedocs.io/en/stable/user_install.html\n",
      "  from .autonotebook import tqdm as notebook_tqdm\n"
     ]
    }
   ],
   "source": [
    "import pandas as pd\n",
    "import pyspark\n",
    "import pyspark.pandas as ps\n",
    "from datasets import load_dataset\n",
    "from pyspark.sql import SparkSession\n",
    "from pyspark.sql import functions as F\n",
    "from pyspark.sql.types import StructType, StructField, StringType, IntegerType, ArrayType\n",
    "from pyspark.sql.window import Window"
   ]
  },
  {
   "cell_type": "code",
   "execution_count": 93,
   "id": "5d920beb-3ff1-4cfb-812c-3e51bd52b89c",
   "metadata": {},
   "outputs": [],
   "source": [
    "evals = load_dataset(\"EleutherAI/pythia-memorized-evals\", split='duped.70m')"
   ]
  },
  {
   "cell_type": "code",
   "execution_count": 95,
   "id": "ec7c40af-7147-4f1f-9385-c72577909656",
   "metadata": {},
   "outputs": [
    {
     "data": {
      "text/plain": [
       "Dataset({\n",
       "    features: ['index', 'tokens', '__index_level_0__'],\n",
       "    num_rows: 463953\n",
       "})"
      ]
     },
     "execution_count": 95,
     "metadata": {},
     "output_type": "execute_result"
    }
   ],
   "source": [
    "evals"
   ]
  },
  {
   "cell_type": "code",
   "execution_count": 94,
   "id": "8a205b8a-05d3-4c58-926a-1392d910c68b",
   "metadata": {},
   "outputs": [
    {
     "data": {
      "text/html": [
       "<div>\n",
       "<style scoped>\n",
       "    .dataframe tbody tr th:only-of-type {\n",
       "        vertical-align: middle;\n",
       "    }\n",
       "\n",
       "    .dataframe tbody tr th {\n",
       "        vertical-align: top;\n",
       "    }\n",
       "\n",
       "    .dataframe thead th {\n",
       "        text-align: right;\n",
       "    }\n",
       "</style>\n",
       "<table border=\"1\" class=\"dataframe\">\n",
       "  <thead>\n",
       "    <tr style=\"text-align: right;\">\n",
       "      <th></th>\n",
       "      <th>index</th>\n",
       "      <th>tokens</th>\n",
       "      <th>__index_level_0__</th>\n",
       "    </tr>\n",
       "  </thead>\n",
       "  <tbody>\n",
       "    <tr>\n",
       "      <th>0</th>\n",
       "      <td>232</td>\n",
       "      <td>[996, 186, 29, 1088, 7392, 568, 29860, 5264, 2...</td>\n",
       "      <td>232</td>\n",
       "    </tr>\n",
       "    <tr>\n",
       "      <th>1</th>\n",
       "      <td>764</td>\n",
       "      <td>[599, 17585, 423, 92, 3728, 12945, 423, 92, 33...</td>\n",
       "      <td>764</td>\n",
       "    </tr>\n",
       "    <tr>\n",
       "      <th>2</th>\n",
       "      <td>806</td>\n",
       "      <td>[313, 39386, 27, 19939, 428, 5270, 310, 1239, ...</td>\n",
       "      <td>806</td>\n",
       "    </tr>\n",
       "    <tr>\n",
       "      <th>3</th>\n",
       "      <td>891</td>\n",
       "      <td>[94, 187, 50262, 61, 2099, 92, 8798, 94, 187, ...</td>\n",
       "      <td>891</td>\n",
       "    </tr>\n",
       "    <tr>\n",
       "      <th>4</th>\n",
       "      <td>1060</td>\n",
       "      <td>[4022, 305, 48095, 4477, 15, 187, 475, 187, 47...</td>\n",
       "      <td>1060</td>\n",
       "    </tr>\n",
       "    <tr>\n",
       "      <th>...</th>\n",
       "      <td>...</td>\n",
       "      <td>...</td>\n",
       "      <td>...</td>\n",
       "    </tr>\n",
       "    <tr>\n",
       "      <th>463948</th>\n",
       "      <td>146431433</td>\n",
       "      <td>[2032, 748, 748, 582, 898, 558, 187, 50274, 82...</td>\n",
       "      <td>2287433</td>\n",
       "    </tr>\n",
       "    <tr>\n",
       "      <th>463949</th>\n",
       "      <td>146431569</td>\n",
       "      <td>[544, 18, 15, 17, 13, 470, 15, 17, 9502, 187, ...</td>\n",
       "      <td>2287569</td>\n",
       "    </tr>\n",
       "    <tr>\n",
       "      <th>463950</th>\n",
       "      <td>146431580</td>\n",
       "      <td>[4, 27954, 187, 4, 604, 10807, 64, 4785, 64, 3...</td>\n",
       "      <td>2287580</td>\n",
       "    </tr>\n",
       "    <tr>\n",
       "      <th>463951</th>\n",
       "      <td>146431652</td>\n",
       "      <td>[4637, 15, 187, 475, 1422, 778, 4044, 247, 349...</td>\n",
       "      <td>2287652</td>\n",
       "    </tr>\n",
       "    <tr>\n",
       "      <th>463952</th>\n",
       "      <td>146431669</td>\n",
       "      <td>[186, 39963, 64, 6343, 9, 1208, 13, 17464, 378...</td>\n",
       "      <td>2287669</td>\n",
       "    </tr>\n",
       "  </tbody>\n",
       "</table>\n",
       "<p>463953 rows × 3 columns</p>\n",
       "</div>"
      ],
      "text/plain": [
       "            index                                             tokens  \\\n",
       "0             232  [996, 186, 29, 1088, 7392, 568, 29860, 5264, 2...   \n",
       "1             764  [599, 17585, 423, 92, 3728, 12945, 423, 92, 33...   \n",
       "2             806  [313, 39386, 27, 19939, 428, 5270, 310, 1239, ...   \n",
       "3             891  [94, 187, 50262, 61, 2099, 92, 8798, 94, 187, ...   \n",
       "4            1060  [4022, 305, 48095, 4477, 15, 187, 475, 187, 47...   \n",
       "...           ...                                                ...   \n",
       "463948  146431433  [2032, 748, 748, 582, 898, 558, 187, 50274, 82...   \n",
       "463949  146431569  [544, 18, 15, 17, 13, 470, 15, 17, 9502, 187, ...   \n",
       "463950  146431580  [4, 27954, 187, 4, 604, 10807, 64, 4785, 64, 3...   \n",
       "463951  146431652  [4637, 15, 187, 475, 1422, 778, 4044, 247, 349...   \n",
       "463952  146431669  [186, 39963, 64, 6343, 9, 1208, 13, 17464, 378...   \n",
       "\n",
       "        __index_level_0__  \n",
       "0                     232  \n",
       "1                     764  \n",
       "2                     806  \n",
       "3                     891  \n",
       "4                    1060  \n",
       "...                   ...  \n",
       "463948            2287433  \n",
       "463949            2287569  \n",
       "463950            2287580  \n",
       "463951            2287652  \n",
       "463952            2287669  \n",
       "\n",
       "[463953 rows x 3 columns]"
      ]
     },
     "execution_count": 94,
     "metadata": {},
     "output_type": "execute_result"
    }
   ],
   "source": [
    "evals.to_pandas()"
   ]
  },
  {
   "cell_type": "code",
   "execution_count": 3,
   "id": "7cf26930-c8dd-4b6c-a052-84f8f6f522b5",
   "metadata": {},
   "outputs": [
    {
     "name": "stderr",
     "output_type": "stream",
     "text": [
      "/home/alvin/lib/miniconda3/lib/python3.11/site-packages/pyspark/bin/load-spark-env.sh: line 68: ps: command not found\n",
      "Setting default log level to \"WARN\".\n",
      "To adjust logging level use sc.setLogLevel(newLevel). For SparkR, use setLogLevel(newLevel).\n",
      "23/09/02 22:27:49 WARN NativeCodeLoader: Unable to load native-hadoop library for your platform... using builtin-java classes where applicable\n"
     ]
    }
   ],
   "source": [
    "spark = SparkSession.builder \\\n",
    "    .appName('semantic-memorization') \\\n",
    "    .config('spark.driver.cores', '128') \\\n",
    "    .config('spark.driver.memory', '128g') \\\n",
    "    .config('spark.driver.memoryOverheadFactor', '0.2') \\\n",
    "    .master('local[*]') \\\n",
    "    .getOrCreate()"
   ]
  },
  {
   "cell_type": "code",
   "execution_count": 99,
   "id": "a11980d0-7494-45c9-8d72-12582344f8a8",
   "metadata": {},
   "outputs": [
    {
     "data": {
      "text/plain": [
       "pyspark.sql.session.SparkSession"
      ]
     },
     "execution_count": 99,
     "metadata": {},
     "output_type": "execute_result"
    }
   ],
   "source": [
    "type(spark)"
   ]
  },
  {
   "cell_type": "code",
   "execution_count": 4,
   "id": "00050803-cfe1-452c-b667-401ce78c320d",
   "metadata": {},
   "outputs": [],
   "source": [
    "dd = load_dataset('EleutherAI/pile-deduped-pythia-random-sampled')"
   ]
  },
  {
   "cell_type": "code",
   "execution_count": 10,
   "id": "a3b3a45e-54ed-42c2-8b2f-413352254a85",
   "metadata": {},
   "outputs": [],
   "source": [
    "real = dd['train'].to_pandas()"
   ]
  },
  {
   "cell_type": "code",
   "execution_count": 15,
   "id": "5ebd0a77-9035-4b27-b8df-d1e5a7af2e3a",
   "metadata": {},
   "outputs": [
    {
     "data": {
      "text/plain": [
       "Index       int64\n",
       "70M       float64\n",
       "160M      float64\n",
       "410M      float64\n",
       "1B        float64\n",
       "1.4B      float64\n",
       "2.8B      float64\n",
       "6.9B      float64\n",
       "12B       float64\n",
       "Tokens     object\n",
       "dtype: object"
      ]
     },
     "execution_count": 15,
     "metadata": {},
     "output_type": "execute_result"
    }
   ],
   "source": [
    "real.dtypes"
   ]
  },
  {
   "cell_type": "code",
   "execution_count": null,
   "id": "1428e1d8-1cfa-4e4b-aff5-3ef4ddbfc2c6",
   "metadata": {},
   "outputs": [],
   "source": []
  },
  {
   "cell_type": "code",
   "execution_count": null,
   "id": "c1abd62a",
   "metadata": {},
   "outputs": [],
   "source": [
    "schema = 'deduped'\n",
    "model_size = '70m'\n",
    "split_name = f\"{schema}.{model_size}\"\n",
    "dataset = load_dataset('EleutherAI/pythia-memorized-evals')[split_name].to_pandas().rename(columns={'index': 'sequence_id'})\n",
    "dataset.tokens = dataset.tokens.map(lambda x: x.tolist())"
   ]
  },
  {
   "cell_type": "code",
   "execution_count": null,
   "id": "baeae3ed",
   "metadata": {},
   "outputs": [],
   "source": [
    "columns = ['sequence_id', 'tokens']\n",
    "main_df = ps.from_pandas(dataset[columns]).to_spark().alias('main')"
   ]
  },
  {
   "cell_type": "code",
   "execution_count": null,
   "id": "619c8c94",
   "metadata": {},
   "outputs": [],
   "source": [
    "# (sequence_id, frequency)\n",
    "sequence_duplicates = (\n",
    "    load_dataset(f'usvsnsp/{schema}-num-duplicates')['train'].to_pandas().rename(columns={'Index': 'sequence_id', 'Counts': 'frequency'})\n",
    ")\n",
    "# (token_id, frequency)\n",
    "memorized_frequencies = (\n",
    "    load_dataset(f'usvsnsp/{schema}-num-frequencies')['memorized'].to_pandas().rename(columns={'TokenID': 'token_id', 'Frequency': 'frequency'})\n",
    ")\n",
    "# (token_id, frequency)\n",
    "non_memorized_frequencies = (\n",
    "    load_dataset(f'usvsnsp/{schema}-num-frequencies')['non_memorized']\n",
    "    .to_pandas()\n",
    "    .rename(columns={'TokenID': 'token_id', 'Frequency': 'frequency'})\n",
    ")"
   ]
  },
  {
   "cell_type": "code",
   "execution_count": null,
   "id": "3a40cead",
   "metadata": {},
   "outputs": [],
   "source": [
    "sequence_duplicates.shape, memorized_frequencies.shape, non_memorized_frequencies.shape"
   ]
  },
  {
   "cell_type": "code",
   "execution_count": null,
   "id": "4b02b974",
   "metadata": {},
   "outputs": [],
   "source": [
    "sequence_duplicates_df = ps.from_pandas(sequence_duplicates).to_spark()\n",
    "memorized_frequencies_df = ps.from_pandas(memorized_frequencies).to_spark().alias('memorized')\n",
    "non_memorized_frequencies_df = ps.from_pandas(non_memorized_frequencies).to_spark().alias('non_memorized')"
   ]
  },
  {
   "cell_type": "code",
   "execution_count": null,
   "id": "c16718c9",
   "metadata": {},
   "outputs": [],
   "source": [
    "# Save as parquet for efficiency\n",
    "main_df.write.parquet('datasets/main')\n",
    "sequence_duplicates_df.write.parquet('datasets/sequence_duplicates')\n",
    "memorized_frequencies_df.write.parquet('datasets/memorized_frequencies')\n",
    "non_memorized_frequencies_df.write.parquet('datasets/non_memorized_frequencies')"
   ]
  },
  {
   "cell_type": "code",
   "execution_count": 72,
   "id": "55d457a4",
   "metadata": {},
   "outputs": [],
   "source": [
    "main_df = spark.read.parquet('datasets/main')\n",
    "sequence_duplicates_df = spark.read.parquet('datasets/sequence_duplicates').alias('sequence_dups')\n",
    "memorized_frequencies_df = spark.read.parquet('datasets/memorized_frequencies').alias('memorized')\n",
    "non_memorized_frequencies_df = spark.read.parquet('datasets/non_memorized_frequencies').alias('non_memorized')"
   ]
  },
  {
   "cell_type": "code",
   "execution_count": 34,
   "id": "0793cffc-9f42-4460-8733-c753e2f491b8",
   "metadata": {},
   "outputs": [
    {
     "name": "stderr",
     "output_type": "stream",
     "text": [
      "/home/alvin/lib/miniconda3/lib/python3.11/site-packages/pyspark/pandas/utils.py:975: PandasAPIOnSparkAdviceWarning: If `index_col` is not specified for `read_parquet`, the default index is attached which can cause additional overhead.\n",
      "  warnings.warn(message, PandasAPIOnSparkAdviceWarning)\n"
     ]
    }
   ],
   "source": [
    "main_ps = ps.read_parquet('datasets/main')"
   ]
  },
  {
   "cell_type": "code",
   "execution_count": 5,
   "id": "96ff7754",
   "metadata": {},
   "outputs": [],
   "source": [
    "flattened_df = main_df.select('sequence_id', F.posexplode('tokens').alias('token_index', 'token_id'))"
   ]
  },
  {
   "cell_type": "code",
   "execution_count": 6,
   "id": "b0dc19d3",
   "metadata": {},
   "outputs": [
    {
     "name": "stdout",
     "output_type": "stream",
     "text": [
      "+-----------+-----------+--------+\n",
      "|sequence_id|token_index|token_id|\n",
      "+-----------+-----------+--------+\n",
      "|   89059350|          0|    4090|\n",
      "|   89059350|          1|      64|\n",
      "|   89059350|          2|    2606|\n",
      "|   89059350|          3|      16|\n",
      "|   89059350|          4|    1286|\n",
      "+-----------+-----------+--------+\n",
      "only showing top 5 rows\n",
      "\n"
     ]
    }
   ],
   "source": [
    "flattened_df.show(5)"
   ]
  },
  {
   "cell_type": "code",
   "execution_count": 7,
   "id": "b451524d",
   "metadata": {},
   "outputs": [],
   "source": [
    "token_frequencies_df = flattened_df \\\n",
    "    .join(memorized_frequencies_df, on='token_id', how='left') \\\n",
    "    .join(non_memorized_frequencies_df, on='token_id', how='left') \\\n",
    "    .select(\n",
    "        'sequence_id',\n",
    "        'token_index', \n",
    "        'token_id',\n",
    "        F.col('memorized.frequency').alias('memorized_frequency'),\n",
    "        F.col('non_memorized.frequency').alias('non_memorized_frequency'),\n",
    "    )"
   ]
  },
  {
   "cell_type": "code",
   "execution_count": 8,
   "id": "b693f5e2",
   "metadata": {},
   "outputs": [
    {
     "name": "stderr",
     "output_type": "stream",
     "text": [
      "                                                                                \r"
     ]
    },
    {
     "name": "stdout",
     "output_type": "stream",
     "text": [
      "+-----------+-----------+--------+-------------------+-----------------------+\n",
      "|sequence_id|token_index|token_id|memorized_frequency|non_memorized_frequency|\n",
      "+-----------+-----------+--------+-------------------+-----------------------+\n",
      "|   89059350|          0|    4090|             460524|               15608026|\n",
      "|   89059350|          1|      64|           59295356|             1600702498|\n",
      "|   89059350|          2|    2606|             574217|               26001181|\n",
      "|   89059350|          3|      16|           30728404|              785519346|\n",
      "|   89059350|          4|    1286|             726537|               30304792|\n",
      "+-----------+-----------+--------+-------------------+-----------------------+\n",
      "only showing top 5 rows\n",
      "\n"
     ]
    }
   ],
   "source": [
    "token_frequencies_df.show(5)"
   ]
  },
  {
   "cell_type": "code",
   "execution_count": 9,
   "id": "670884af",
   "metadata": {},
   "outputs": [],
   "source": [
    "combined_df = token_frequencies_df \\\n",
    "    .groupby('sequence_id') \\\n",
    "    .agg(\n",
    "        F.sort_array(F.collect_list(F.struct('token_index', 'token_id'))).alias('tokens'),\n",
    "        F.sort_array(F.collect_list(F.struct('token_index', 'memorized_frequency'))).alias('memorized_frequencies'),\n",
    "        F.sort_array(F.collect_list(F.struct('token_index', 'non_memorized_frequency'))).alias('non_memorized_frequencies'),\n",
    "    )"
   ]
  },
  {
   "cell_type": "code",
   "execution_count": 98,
   "id": "7e10b74b-cc02-4f50-97f1-af1fbad96626",
   "metadata": {},
   "outputs": [
    {
     "name": "stderr",
     "output_type": "stream",
     "text": [
      "Creating parquet from Arrow format: 100%|█████████████████████████████████████████████████████████████████████████████████████████████████████████████████████████████████████| 464/464 [00:00<00:00, 626.40ba/s]\n"
     ]
    },
    {
     "data": {
      "text/plain": [
       "246822996"
      ]
     },
     "execution_count": 98,
     "metadata": {},
     "output_type": "execute_result"
    }
   ],
   "source": [
    "evals.to_parquet('hello')"
   ]
  },
  {
   "cell_type": "code",
   "execution_count": 10,
   "id": "4dbab04d",
   "metadata": {},
   "outputs": [
    {
     "name": "stderr",
     "output_type": "stream",
     "text": [
      "[Stage 10:=====================================================>(126 + 2) / 128]\r"
     ]
    },
    {
     "name": "stdout",
     "output_type": "stream",
     "text": [
      "+-----------+--------------------+---------------------+-------------------------+\n",
      "|sequence_id|              tokens|memorized_frequencies|non_memorized_frequencies|\n",
      "+-----------+--------------------+---------------------+-------------------------+\n",
      "|      31156|[{0, 17706}, {1, ...| [{0, 131653}, {1,...|     [{0, 1993548}, {1...|\n",
      "|     100847|[{0, 740}, {1, 83...| [{0, 2741218}, {1...|     [{0, 131645030}, ...|\n",
      "|     166578|[{0, 253}, {1, 66...| [{0, 75092269}, {...|     [{0, 8410663429},...|\n",
      "|     206745|[{0, 187}, {1, 18...| [{0, 228489488}, ...|     [{0, 11512507473}...|\n",
      "|     210098|[{0, 305}, {1, 27...| [{0, 734372}, {1,...|     [{0, 70087349}, {...|\n",
      "|     586758|[{0, 3003}, {1, 2...| [{0, 768757}, {1,...|     [{0, 21889588}, {...|\n",
      "|     622533|[{0, 5118}, {1, 3...| [{0, 83047}, {1, ...|     [{0, 11073092}, {...|\n",
      "|     632923|[{0, 8379}, {1, 8...| [{0, 72092}, {1, ...|     [{0, 6324830}, {1...|\n",
      "|     817683|[{0, 431}, {1, 10...| [{0, 3350852}, {1...|     [{0, 27260044}, {...|\n",
      "|     840059|[{0, 187}, {1, 47...| [{0, 228489488}, ...|     [{0, 11512507473}...|\n",
      "|     881977|[{0, 1873}, {1, 1...| [{0, 1326242}, {1...|     [{0, 47983279}, {...|\n",
      "|    1273013|[{0, 50262}, {1, ...| [{0, 15865835}, {...|     [{0, 119942762}, ...|\n",
      "|    1392566|[{0, 13}, {1, 318...| [{0, 106851326}, ...|     [{0, 9255787289},...|\n",
      "|    1432838|[{0, 94}, {1, 187...| [{0, 24273966}, {...|     [{0, 540143597}, ...|\n",
      "|    1554610|[{0, 18}, {1, 15}...| [{0, 18759098}, {...|     [{0, 925987472}, ...|\n",
      "|    1692426|[{0, 253}, {1, 24...| [{0, 75092269}, {...|     [{0, 8410663429},...|\n",
      "|    1706804|[{0, 3284}, {1, 7...| [{0, 243809}, {1,...|     [{0, 18186113}, {...|\n",
      "|    1707512|[{0, 28}, {1, 130...| [{0, 18991162}, {...|     [{0, 666258708}, ...|\n",
      "|    1986965|[{0, 186}, {1, 17...| [{0, 25915907}, {...|     [{0, 443402956}, ...|\n",
      "|    2061783|[{0, 14}, {1, 221...| [{0, 52005967}, {...|     [{0, 2913929667},...|\n",
      "+-----------+--------------------+---------------------+-------------------------+\n",
      "only showing top 20 rows\n",
      "\n"
     ]
    },
    {
     "name": "stderr",
     "output_type": "stream",
     "text": [
      "                                                                                \r"
     ]
    }
   ],
   "source": [
    "combined_df.show()"
   ]
  },
  {
   "cell_type": "code",
   "execution_count": 65,
   "id": "4d352e9e-4749-41ef-ae12-d9526d3b4fa8",
   "metadata": {},
   "outputs": [],
   "source": [
    "new_df = combined_df.select(\n",
    "    'sequence_id',\n",
    "    F.transform(F.col('tokens'), lambda x: x.token_id).alias('tokens'),\n",
    "    F.transform(F.col('memorized_frequencies'), lambda x: x.memorized_frequency).alias('memorized_frequencies'),\n",
    "    F.transform(F.col('non_memorized_frequencies'), lambda x: x.non_memorized_frequency).alias('non_memorized_frequencies'),\n",
    ").alias('new_df')"
   ]
  },
  {
   "cell_type": "code",
   "execution_count": 86,
   "id": "06b92990-c1e3-48c3-8fef-dff333e272f0",
   "metadata": {},
   "outputs": [
    {
     "data": {
      "text/plain": [
       "pyspark.sql.dataframe.DataFrame"
      ]
     },
     "execution_count": 86,
     "metadata": {},
     "output_type": "execute_result"
    }
   ],
   "source": [
    "type(new_df)"
   ]
  },
  {
   "cell_type": "code",
   "execution_count": 66,
   "id": "6d1ce071-d487-4769-b87d-254844ee6e0c",
   "metadata": {},
   "outputs": [
    {
     "name": "stdout",
     "output_type": "stream",
     "text": [
      "+-----------+--------------------+---------------------+-------------------------+\n",
      "|sequence_id|              tokens|memorized_frequencies|non_memorized_frequencies|\n",
      "+-----------+--------------------+---------------------+-------------------------+\n",
      "|     139584|[551, 69, 889, 20...| [9750575, 5888180...|     [221744263, 28311...|\n",
      "|     182943|[15, 5056, 50275,...| [159811713, 24814...|     [10186570740, 875...|\n",
      "|     187527|[309, 476, 626, 4...| [8095850, 4370056...|     [1034833708, 4347...|\n",
      "|     266104|[11296, 15, 505, ...| [169697, 15981171...|     [3256110, 1018657...|\n",
      "|     429891|[3863, 407, 253, ...| [286799, 7381820,...|     [18429900, 767613...|\n",
      "|     462298|[627, 369, 1077, ...| [1947802, 6813024...|     [247532725, 10062...|\n",
      "|     559720|[426, 16375, 4399...| [14615048, 135329...|     [576670219, 20591...|\n",
      "|     586559|[14749, 5264, 66,...| [196079, 2796188,...|     [1712636, 1078081...|\n",
      "|     601009|[187, 187, 5146, ...| [228489488, 22848...|     [11512507473, 115...|\n",
      "|     729253|[5939, 342, 436, ...| [365500, 10644270...|     [10111267, 117764...|\n",
      "|     797186|[21992, 2529, 275...| [12179, 238472, 2...|     [1441196, 2914144...|\n",
      "|    1054263|[3473, 23141, 223...| [182164, 18638, 5...|     [20202558, 133059...|\n",
      "|    1071192|[3073, 7064, 31, ...| [5270304, 512376,...|     [23711220, 729370...|\n",
      "|    1078106|[2303, 3, 941, 14...| [464146, 26657600...|     [21948483, 663093...|\n",
      "|    1079334|[15, 187, 36, 494...| [159811713, 22848...|     [10186570740, 115...|\n",
      "|    1096103|[4217, 13, 187, 6...| [213891, 10685132...|     [15289749, 925578...|\n",
      "|    1107416|[74, 313, 22, 391...| [4261281, 1811089...|     [322785971, 14625...|\n",
      "|    1114145|[50254, 50254, 50...| [8633199, 8633199...|     [350322298, 35032...|\n",
      "|    1389003|[81, 1009, 1202, ...| [4988527, 251002,...|     [223270533, 49767...|\n",
      "|    1432753|[8604, 60, 805, 4...| [1406002, 6007073...|     [3574735, 1906486...|\n",
      "+-----------+--------------------+---------------------+-------------------------+\n",
      "only showing top 20 rows\n",
      "\n"
     ]
    }
   ],
   "source": [
    "new_df.show()"
   ]
  },
  {
   "cell_type": "code",
   "execution_count": 76,
   "id": "aa154a22-7404-4dab-987c-56b8bbf17ff7",
   "metadata": {},
   "outputs": [],
   "source": [
    "final_df = new_df.join(sequence_duplicates_df, on='sequence_id', how='inner').select(\n",
    "    'new_df.*',\n",
    "    F.col('sequence_dups.frequency').alias('sequence_frequency'),\n",
    ")"
   ]
  },
  {
   "cell_type": "code",
   "execution_count": 78,
   "id": "aa90bbe1-f433-438c-ab3c-bce462687221",
   "metadata": {},
   "outputs": [
    {
     "name": "stderr",
     "output_type": "stream",
     "text": [
      "[Stage 54:===================================>                  (85 + 43) / 128]\r"
     ]
    },
    {
     "name": "stdout",
     "output_type": "stream",
     "text": [
      "+-----------+--------------------+---------------------+-------------------------+------------------+\n",
      "|sequence_id|              tokens|memorized_frequencies|non_memorized_frequencies|sequence_frequency|\n",
      "+-----------+--------------------+---------------------+-------------------------+------------------+\n",
      "|      31156|[17706, 5803, 256...| [131653, 279533, ...|     [1993548, 7958488...|              3021|\n",
      "|     100847|[740, 8375, 187, ...| [2741218, 197043,...|     [131645030, 63006...|                 1|\n",
      "|     166578|[253, 669, 8604, ...| [75092269, 140530...|     [8410663429, 1869...|             91591|\n",
      "|     206745|[187, 187, 510, 4...| [228489488, 22848...|     [11512507473, 115...|                 2|\n",
      "|     210098|[305, 27, 470, 13...| [734372, 33055803...|     [70087349, 129409...|              1484|\n",
      "|     586758|[3003, 25900, 154...| [768757, 107633, ...|     [21889588, 971433...|             16465|\n",
      "|     622533|[5118, 347, 27, 1...| [83047, 8201742, ...|     [11073092, 939874...|                74|\n",
      "|     632923|[8379, 8008, 342,...| [72092, 36560, 10...|     [6324830, 3883372...|                 1|\n",
      "|     817683|[431, 1019, 8402,...| [3350852, 1475021...|     [27260044, 609989...|           4222593|\n",
      "|     840059|[187, 475, 313, 3...| [228489488, 85465...|     [11512507473, 322...|                34|\n",
      "|     881977|[1873, 187, 475, ...| [1326242, 2284894...|     [47983279, 115125...|             96179|\n",
      "|    1273013|[50262, 61, 2099,...| [15865835, 233040...|     [119942762, 50646...|           4222524|\n",
      "|    1392566|[13, 31877, 13, 1...| [106851326, 79468...|     [9255787289, 7379...|             17230|\n",
      "|    1432838|[94, 187, 50262, ...| [24273966, 228489...|     [540143597, 11512...|           4222673|\n",
      "|    1554610|[18, 15, 17, 3, 2...| [18759098, 159811...|     [925987472, 10186...|               573|\n",
      "|    1692426|[253, 2499, 273, ...| [75092269, 347364...|     [8410663429, 3298...|               993|\n",
      "|    1706804|[3284, 71, 4881, ...| [243809, 5573125,...|     [18186113, 196684...|                 1|\n",
      "|    1707512|[28, 1301, 28, 13...| [18991162, 123221...|     [666258708, 12693...|            779722|\n",
      "|    1986965|[186, 17, 15, 22,...| [25915907, 222244...|     [443402956, 60264...|                 2|\n",
      "|    2061783|[14, 22108, 30, 5...| [52005967, 275050...|     [2913929667, 1591...|               860|\n",
      "+-----------+--------------------+---------------------+-------------------------+------------------+\n",
      "only showing top 20 rows\n",
      "\n"
     ]
    },
    {
     "name": "stderr",
     "output_type": "stream",
     "text": [
      "                                                                                \r"
     ]
    }
   ],
   "source": [
    "final_df.show()"
   ]
  },
  {
   "cell_type": "code",
   "execution_count": 80,
   "id": "156a24e0-d3d8-4ba7-ac9f-b3a53a7698b8",
   "metadata": {},
   "outputs": [
    {
     "name": "stderr",
     "output_type": "stream",
     "text": [
      "                                                                                \r"
     ]
    }
   ],
   "source": [
    "final_df.write.parquet('datasets/final_dataset')"
   ]
  },
  {
   "cell_type": "code",
   "execution_count": 81,
   "id": "59b29d0b-76a5-4ef4-afee-333583feeb3b",
   "metadata": {},
   "outputs": [
    {
     "data": {
      "text/plain": [
       "DataFrame[sequence_id: bigint, tokens: array<bigint>, memorized_frequencies: array<bigint>, non_memorized_frequencies: array<bigint>, sequence_frequency: bigint]"
      ]
     },
     "execution_count": 81,
     "metadata": {},
     "output_type": "execute_result"
    }
   ],
   "source": [
    "final_df"
   ]
  }
 ],
 "metadata": {
  "kernelspec": {
   "display_name": "Python 3 (ipykernel)",
   "language": "python",
   "name": "python3"
  },
  "language_info": {
   "codemirror_mode": {
    "name": "ipython",
    "version": 3
   },
   "file_extension": ".py",
   "mimetype": "text/x-python",
   "name": "python",
   "nbconvert_exporter": "python",
   "pygments_lexer": "ipython3",
   "version": "3.11.4"
  }
 },
 "nbformat": 4,
 "nbformat_minor": 5
}
