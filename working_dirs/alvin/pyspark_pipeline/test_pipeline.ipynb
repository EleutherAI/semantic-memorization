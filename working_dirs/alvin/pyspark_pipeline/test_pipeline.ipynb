{
 "cells": [
  {
   "cell_type": "code",
   "execution_count": 1,
   "id": "4d92dade-588c-43e4-b5db-589b6bf98b13",
   "metadata": {
    "tags": []
   },
   "outputs": [],
   "source": [
    "import findspark\n",
    "\n",
    "findspark.init()"
   ]
  },
  {
   "cell_type": "code",
   "execution_count": 3,
   "id": "ef48c8a2-72ac-41b9-b0a2-85abd3535647",
   "metadata": {
    "tags": []
   },
   "outputs": [
    {
     "name": "stderr",
     "output_type": "stream",
     "text": [
      "/home/alvin/lib/miniconda3/lib/python3.11/site-packages/pyspark/pandas/__init__.py:50: UserWarning: 'PYARROW_IGNORE_TIMEZONE' environment variable was not set. It is required to set this environment variable to '1' in both driver and executor sides if you use pyarrow>=2.0.0. pandas-on-Spark will set it for you but it does not work if there is a Spark context already launched.\n",
      "  warnings.warn(\n",
      "/home/alvin/lib/miniconda3/lib/python3.11/site-packages/tqdm/auto.py:21: TqdmWarning: IProgress not found. Please update jupyter and ipywidgets. See https://ipywidgets.readthedocs.io/en/stable/user_install.html\n",
      "  from .autonotebook import tqdm as notebook_tqdm\n"
     ]
    }
   ],
   "source": [
    "import pandas as pd\n",
    "import pyspark\n",
    "import pyspark.pandas as ps\n",
    "from datasets import load_dataset\n",
    "from pyspark.sql import SparkSession\n",
    "from pyspark.sql import functions as F\n",
    "from pyspark.sql.types import StructType, StructField, StringType, IntegerType, ArrayType\n",
    "from pyspark.sql.window import Window"
   ]
  },
  {
   "cell_type": "code",
   "execution_count": 4,
   "id": "7cf26930-c8dd-4b6c-a052-84f8f6f522b5",
   "metadata": {},
   "outputs": [
    {
     "name": "stderr",
     "output_type": "stream",
     "text": [
      "/home/alvin/lib/miniconda3/lib/python3.11/site-packages/pyspark/bin/load-spark-env.sh: line 68: ps: command not found\n",
      "Setting default log level to \"WARN\".\n",
      "To adjust logging level use sc.setLogLevel(newLevel). For SparkR, use setLogLevel(newLevel).\n",
      "23/09/03 21:40:14 WARN NativeCodeLoader: Unable to load native-hadoop library for your platform... using builtin-java classes where applicable\n"
     ]
    }
   ],
   "source": [
    "spark = SparkSession.builder \\\n",
    "    .appName('semantic-memorization') \\\n",
    "    .config('spark.driver.cores', '128') \\\n",
    "    .config('spark.driver.memory', '128g') \\\n",
    "    .config('spark.driver.memoryOverheadFactor', '0.2') \\\n",
    "    .master('local[*]') \\\n",
    "    .getOrCreate()"
   ]
  },
  {
   "cell_type": "code",
   "execution_count": 5,
   "id": "c1abd62a",
   "metadata": {},
   "outputs": [],
   "source": [
    "schema = 'duped'\n",
    "model_size = '160m'\n",
    "split_name = f\"{schema}.{model_size}\"\n",
    "dataset = load_dataset('EleutherAI/pythia-memorized-evals')[split_name].to_pandas().rename(columns={'index': 'sequence_id'})\n",
    "dataset.tokens = dataset.tokens.map(lambda x: x.tolist())"
   ]
  },
  {
   "cell_type": "code",
   "execution_count": 7,
   "id": "baeae3ed",
   "metadata": {},
   "outputs": [
    {
     "name": "stderr",
     "output_type": "stream",
     "text": [
      "/home/alvin/lib/miniconda3/lib/python3.11/site-packages/pyspark/pandas/utils.py:975: PandasAPIOnSparkAdviceWarning: If `index_col` is not specified for `to_spark`, the existing index is lost when converting to Spark DataFrame.\n",
      "  warnings.warn(message, PandasAPIOnSparkAdviceWarning)\n"
     ]
    }
   ],
   "source": [
    "columns = ['sequence_id', 'tokens']\n",
    "main_df = ps.from_pandas(dataset[columns]).to_spark().alias('main')"
   ]
  },
  {
   "cell_type": "code",
   "execution_count": 8,
   "id": "619c8c94",
   "metadata": {},
   "outputs": [],
   "source": [
    "# (sequence_id, frequency)\n",
    "sequence_duplicates = (\n",
    "    load_dataset(f'usvsnsp/{schema}-num-duplicates')['train'].to_pandas().rename(columns={'Index': 'sequence_id', 'Counts': 'frequency'})\n",
    ")\n",
    "# (token_id, frequency)\n",
    "memorized_frequencies = (\n",
    "    load_dataset(f'usvsnsp/{schema}-num-frequencies')['memorized'].to_pandas().rename(columns={'TokenID': 'token_id', 'Frequency': 'frequency'})\n",
    ")\n",
    "# (token_id, frequency)\n",
    "non_memorized_frequencies = (\n",
    "    load_dataset(f'usvsnsp/{schema}-num-frequencies')['non_memorized']\n",
    "    .to_pandas()\n",
    "    .rename(columns={'TokenID': 'token_id', 'Frequency': 'frequency'})\n",
    ")"
   ]
  },
  {
   "cell_type": "code",
   "execution_count": 9,
   "id": "3a40cead",
   "metadata": {},
   "outputs": [
    {
     "data": {
      "text/plain": [
       "((146432000, 2), (60000, 2), (60000, 2))"
      ]
     },
     "execution_count": 9,
     "metadata": {},
     "output_type": "execute_result"
    }
   ],
   "source": [
    "sequence_duplicates.shape, memorized_frequencies.shape, non_memorized_frequencies.shape"
   ]
  },
  {
   "cell_type": "code",
   "execution_count": 10,
   "id": "4b02b974",
   "metadata": {},
   "outputs": [
    {
     "name": "stderr",
     "output_type": "stream",
     "text": [
      "/home/alvin/lib/miniconda3/lib/python3.11/site-packages/pyspark/pandas/utils.py:975: PandasAPIOnSparkAdviceWarning: If `index_col` is not specified for `to_spark`, the existing index is lost when converting to Spark DataFrame.\n",
      "  warnings.warn(message, PandasAPIOnSparkAdviceWarning)\n",
      "/home/alvin/lib/miniconda3/lib/python3.11/site-packages/pyspark/pandas/utils.py:975: PandasAPIOnSparkAdviceWarning: If `index_col` is not specified for `to_spark`, the existing index is lost when converting to Spark DataFrame.\n",
      "  warnings.warn(message, PandasAPIOnSparkAdviceWarning)\n",
      "/home/alvin/lib/miniconda3/lib/python3.11/site-packages/pyspark/pandas/utils.py:975: PandasAPIOnSparkAdviceWarning: If `index_col` is not specified for `to_spark`, the existing index is lost when converting to Spark DataFrame.\n",
      "  warnings.warn(message, PandasAPIOnSparkAdviceWarning)\n"
     ]
    }
   ],
   "source": [
    "sequence_duplicates_df = ps.from_pandas(sequence_duplicates).to_spark()\n",
    "memorized_frequencies_df = ps.from_pandas(memorized_frequencies).to_spark().alias('memorized')\n",
    "non_memorized_frequencies_df = ps.from_pandas(non_memorized_frequencies).to_spark().alias('non_memorized')"
   ]
  },
  {
   "cell_type": "code",
   "execution_count": 11,
   "id": "c16718c9",
   "metadata": {},
   "outputs": [
    {
     "name": "stderr",
     "output_type": "stream",
     "text": [
      "23/09/03 21:47:37 WARN TaskSetManager: Stage 0 contains a task of very large size (1103 KiB). The maximum recommended task size is 1000 KiB.\n",
      "23/09/03 21:47:42 WARN TaskSetManager: Stage 1 contains a task of very large size (15428 KiB). The maximum recommended task size is 1000 KiB.\n",
      "                                                                                \r"
     ]
    }
   ],
   "source": [
    "# Save as parquet for efficiency\n",
    "main_df.write.parquet('datasets/main')\n",
    "sequence_duplicates_df.write.parquet('datasets/sequence_duplicates')\n",
    "memorized_frequencies_df.write.parquet('datasets/memorized_frequencies')\n",
    "non_memorized_frequencies_df.write.parquet('datasets/non_memorized_frequencies')"
   ]
  },
  {
   "cell_type": "code",
   "execution_count": 13,
   "id": "55d457a4",
   "metadata": {},
   "outputs": [],
   "source": [
    "main_df = spark.read.parquet('datasets/main')\n",
    "sequence_duplicates_df = spark.read.parquet('datasets/sequence_duplicates').alias('sequence_dups')\n",
    "memorized_frequencies_df = spark.read.parquet('datasets/memorized_frequencies').alias('memorized')\n",
    "non_memorized_frequencies_df = spark.read.parquet('datasets/non_memorized_frequencies').alias('non_memorized')"
   ]
  },
  {
   "cell_type": "code",
   "execution_count": 14,
   "id": "96ff7754",
   "metadata": {},
   "outputs": [],
   "source": [
    "flattened_df = main_df.select('sequence_id', F.posexplode('tokens').alias('token_index', 'token_id'))"
   ]
  },
  {
   "cell_type": "code",
   "execution_count": 15,
   "id": "b0dc19d3",
   "metadata": {},
   "outputs": [
    {
     "name": "stdout",
     "output_type": "stream",
     "text": [
      "+-----------+-----------+--------+\n",
      "|sequence_id|token_index|token_id|\n",
      "+-----------+-----------+--------+\n",
      "|   90261337|          0|   14592|\n",
      "|   90261337|          1|   50254|\n",
      "|   90261337|          2|   50275|\n",
      "|   90261337|          3|      30|\n",
      "|   90261337|          4|     470|\n",
      "+-----------+-----------+--------+\n",
      "only showing top 5 rows\n",
      "\n"
     ]
    }
   ],
   "source": [
    "flattened_df.show(5)"
   ]
  },
  {
   "cell_type": "code",
   "execution_count": 16,
   "id": "b451524d",
   "metadata": {},
   "outputs": [],
   "source": [
    "token_frequencies_df = flattened_df \\\n",
    "    .join(memorized_frequencies_df, on='token_id', how='left') \\\n",
    "    .join(non_memorized_frequencies_df, on='token_id', how='left') \\\n",
    "    .select(\n",
    "        'sequence_id',\n",
    "        'token_index', \n",
    "        'token_id',\n",
    "        F.col('memorized.frequency').alias('memorized_frequency'),\n",
    "        F.col('non_memorized.frequency').alias('non_memorized_frequency'),\n",
    "    )"
   ]
  },
  {
   "cell_type": "code",
   "execution_count": 17,
   "id": "b693f5e2",
   "metadata": {},
   "outputs": [
    {
     "name": "stdout",
     "output_type": "stream",
     "text": [
      "+-----------+-----------+--------+-------------------+-----------------------+\n",
      "|sequence_id|token_index|token_id|memorized_frequency|non_memorized_frequency|\n",
      "+-----------+-----------+--------+-------------------+-----------------------+\n",
      "|   90261337|          0|   14592|              69389|                2714522|\n",
      "|   90261337|          1|   50254|           14390981|              389420308|\n",
      "|   90261337|          2|   50275|            7731059|              229607629|\n",
      "|   90261337|          3|      30|           20611918|              207874540|\n",
      "|   90261337|          4|     470|           33857187|              349528094|\n",
      "+-----------+-----------+--------+-------------------+-----------------------+\n",
      "only showing top 5 rows\n",
      "\n"
     ]
    }
   ],
   "source": [
    "token_frequencies_df.show(5)"
   ]
  },
  {
   "cell_type": "code",
   "execution_count": 18,
   "id": "670884af",
   "metadata": {},
   "outputs": [],
   "source": [
    "combined_df = token_frequencies_df \\\n",
    "    .groupby('sequence_id') \\\n",
    "    .agg(\n",
    "        F.sort_array(F.collect_list(F.struct('token_index', 'token_id'))).alias('tokens'),\n",
    "        F.sort_array(F.collect_list(F.struct('token_index', 'memorized_frequency'))).alias('memorized_frequencies'),\n",
    "        F.sort_array(F.collect_list(F.struct('token_index', 'non_memorized_frequency'))).alias('non_memorized_frequencies'),\n",
    "    )"
   ]
  },
  {
   "cell_type": "code",
   "execution_count": 19,
   "id": "4dbab04d",
   "metadata": {},
   "outputs": [
    {
     "name": "stderr",
     "output_type": "stream",
     "text": [
      "[Stage 18:======================================>               (91 + 37) / 128]\r"
     ]
    },
    {
     "name": "stdout",
     "output_type": "stream",
     "text": [
      "+-----------+--------------------+---------------------+-------------------------+\n",
      "|sequence_id|              tokens|memorized_frequencies|non_memorized_frequencies|\n",
      "+-----------+--------------------+---------------------+-------------------------+\n",
      "|      22129|[{0, 556}, {1, 70...| [{0, 3813399}, {1...|     [{0, 343335217}, ...|\n",
      "|      72541|[{0, 4145}, {1, 4...| [{0, 1012762}, {1...|     [{0, 13160840}, {...|\n",
      "|     156892|[{0, 186}, {1, 94...| [{0, 77685748}, {...|     [{0, 467581316}, ...|\n",
      "|     158747|[{0, 9312}, {1, 1...| [{0, 142591}, {1,...|     [{0, 5726186}, {1...|\n",
      "|     170393|[{0, 92}, {1, 249...| [{0, 24571276}, {...|     [{0, 612572165}, ...|\n",
      "|     175031|[{0, 50276}, {1, ...| [{0, 32791020}, {...|     [{0, 736379794}, ...|\n",
      "|     204535|[{0, 475}, {1, 40...| [{0, 13754443}, {...|     [{0, 353657828}, ...|\n",
      "|     271690|[{0, 64}, {1, 478...| [{0, 115532598}, ...|     [{0, 1678250387},...|\n",
      "|     283969|[{0, 4637}, {1, 1...| [{0, 1118588}, {1...|     [{0, 13208036}, {...|\n",
      "|     287607|[{0, 20668}, {1, ...| [{0, 105293}, {1,...|     [{0, 1664198}, {1...|\n",
      "|     343873|[{0, 2277}, {1, 4...| [{0, 496464}, {1,...|     [{0, 10886043}, {...|\n",
      "|     487305|[{0, 187}, {1, 47...| [{0, 307518942}, ...|     [{0, 11169462544}...|\n",
      "|     577025|[{0, 27578}, {1, ...| [{0, 70028}, {1, ...|     [{0, 960442}, {1,...|\n",
      "|     616605|[{0, 2490}, {1, 5...| [{0, 9654500}, {1...|     [{0, 76762496}, {...|\n",
      "|     629155|[{0, 1569}, {1, 6...| [{0, 503986}, {1,...|     [{0, 41011897}, {...|\n",
      "|     641880|[{0, 9884}, {1, 5...| [{0, 103942}, {1,...|     [{0, 6877636}, {1...|\n",
      "|     956623|[{0, 1019}, {1, 8...| [{0, 1798434}, {1...|     [{0, 6814989}, {1...|\n",
      "|     983597|[{0, 90}, {1, 558...| [{0, 2967493}, {1...|     [{0, 194548741}, ...|\n",
      "|    1032623|[{0, 2043}, {1, 9...| [{0, 2025453}, {1...|     [{0, 41038731}, {...|\n",
      "|    1052248|[{0, 5757}, {1, 5...| [{0, 173906}, {1,...|     [{0, 3753293}, {1...|\n",
      "+-----------+--------------------+---------------------+-------------------------+\n",
      "only showing top 20 rows\n",
      "\n"
     ]
    },
    {
     "name": "stderr",
     "output_type": "stream",
     "text": [
      "                                                                                \r"
     ]
    }
   ],
   "source": [
    "combined_df.show()"
   ]
  },
  {
   "cell_type": "code",
   "execution_count": 20,
   "id": "4d352e9e-4749-41ef-ae12-d9526d3b4fa8",
   "metadata": {},
   "outputs": [],
   "source": [
    "new_df = combined_df.select(\n",
    "    'sequence_id',\n",
    "    F.transform(F.col('tokens'), lambda x: x.token_id).alias('tokens'),\n",
    "    F.transform(F.col('memorized_frequencies'), lambda x: x.memorized_frequency).alias('memorized_frequencies'),\n",
    "    F.transform(F.col('non_memorized_frequencies'), lambda x: x.non_memorized_frequency).alias('non_memorized_frequencies'),\n",
    ").alias('new_df')"
   ]
  },
  {
   "cell_type": "code",
   "execution_count": 21,
   "id": "6d1ce071-d487-4769-b87d-254844ee6e0c",
   "metadata": {},
   "outputs": [
    {
     "name": "stderr",
     "output_type": "stream",
     "text": [
      "[Stage 23:=====================>                                (52 + 76) / 128]\r"
     ]
    },
    {
     "name": "stdout",
     "output_type": "stream",
     "text": [
      "+-----------+--------------------+---------------------+-------------------------+\n",
      "|sequence_id|              tokens|memorized_frequencies|non_memorized_frequencies|\n",
      "+-----------+--------------------+---------------------+-------------------------+\n",
      "|      22129|[556, 7012, 323, ...| [3813399, 78360, ...|     [343335217, 80103...|\n",
      "|      72541|[4145, 48128, 320...| [1012762, 61584, ...|     [13160840, 369321...|\n",
      "|     156892|[186, 94, 187, 18...| [77685748, 364496...|     [467581316, 58929...|\n",
      "|     158747|[9312, 1157, 5027...| [142591, 4225660,...|     [5726186, 8639393...|\n",
      "|     170393|[92, 249, 3080, 4...| [24571276, 317644...|     [612572165, 24423...|\n",
      "|     175031|[50276, 5035, 253...| [32791020, 318418...|     [736379794, 17750...|\n",
      "|     204535|[475, 40078, 310,...| [13754443, 20082,...|     [353657828, 51062...|\n",
      "|     271690|[64, 4785, 64, 38...| [115532598, 21223...|     [1678250387, 8998...|\n",
      "|     283969|[4637, 15, 187, 4...| [1118588, 1771746...|     [13208036, 989579...|\n",
      "|     287607|[20668, 16, 35, 5...| [105293, 31065450...|     [1664198, 7901586...|\n",
      "|     343873|[2277, 49412, 317...| [496464, 74054, 1...|     [10886043, 339024...|\n",
      "|     487305|[187, 475, 187, 4...| [307518942, 13754...|     [11169462544, 353...|\n",
      "|     577025|[27578, 15, 187, ...| [70028, 177174655...|     [960442, 98957950...|\n",
      "|     616605|[2490, 50274, 159...| [9654500, 3102914...|     [76762496, 579360...|\n",
      "|     629155|[1569, 6834, 3063...| [503986, 85767, 2...|     [41011897, 833748...|\n",
      "|     641880|[9884, 5230, 1560...| [103942, 173976, ...|     [6877636, 1218634...|\n",
      "|     956623|[1019, 8402, 94, ...| [1798434, 1700147...|     [6814989, 4343336...|\n",
      "|     983597|[90, 558, 187, 50...| [2967493, 8629674...|     [194548741, 18918...|\n",
      "|    1032623|[2043, 92, 3306, ...| [2025453, 2457127...|     [41038731, 612572...|\n",
      "|    1052248|[5757, 50254, 30,...| [173906, 14390981...|     [3753293, 3894203...|\n",
      "+-----------+--------------------+---------------------+-------------------------+\n",
      "only showing top 20 rows\n",
      "\n"
     ]
    },
    {
     "name": "stderr",
     "output_type": "stream",
     "text": [
      "                                                                                \r"
     ]
    }
   ],
   "source": [
    "new_df.show()"
   ]
  },
  {
   "cell_type": "code",
   "execution_count": 22,
   "id": "aa154a22-7404-4dab-987c-56b8bbf17ff7",
   "metadata": {},
   "outputs": [],
   "source": [
    "final_df = new_df.join(sequence_duplicates_df, on='sequence_id', how='inner').select(\n",
    "    'new_df.*',\n",
    "    F.col('sequence_dups.frequency').alias('sequence_frequency'),\n",
    ")"
   ]
  },
  {
   "cell_type": "code",
   "execution_count": 23,
   "id": "aa90bbe1-f433-438c-ab3c-bce462687221",
   "metadata": {},
   "outputs": [
    {
     "name": "stderr",
     "output_type": "stream",
     "text": [
      "[Stage 29:================>                                     (39 + 89) / 128]\r"
     ]
    },
    {
     "name": "stdout",
     "output_type": "stream",
     "text": [
      "+-----------+--------------------+---------------------+-------------------------+------------------+\n",
      "|sequence_id|              tokens|memorized_frequencies|non_memorized_frequencies|sequence_frequency|\n",
      "+-----------+--------------------+---------------------+-------------------------+------------------+\n",
      "|      22129|[556, 7012, 323, ...| [3813399, 78360, ...|     [343335217, 80103...|                 2|\n",
      "|      72541|[4145, 48128, 320...| [1012762, 61584, ...|     [13160840, 369321...|             18437|\n",
      "|     156892|[186, 94, 187, 18...| [77685748, 364496...|     [467581316, 58929...|              3102|\n",
      "|     158747|[9312, 1157, 5027...| [142591, 4225660,...|     [5726186, 8639393...|                 2|\n",
      "|     170393|[92, 249, 3080, 4...| [24571276, 317644...|     [612572165, 24423...|                 2|\n",
      "|     175031|[50276, 5035, 253...| [32791020, 318418...|     [736379794, 17750...|              2835|\n",
      "|     204535|[475, 40078, 310,...| [13754443, 20082,...|     [353657828, 51062...|             37104|\n",
      "|     271690|[64, 4785, 64, 38...| [115532598, 21223...|     [1678250387, 8998...|                35|\n",
      "|     283969|[4637, 15, 187, 4...| [1118588, 1771746...|     [13208036, 989579...|             14475|\n",
      "|     287607|[20668, 16, 35, 5...| [105293, 31065450...|     [1664198, 7901586...|              1848|\n",
      "|     343873|[2277, 49412, 317...| [496464, 74054, 1...|     [10886043, 339024...|             10108|\n",
      "|     487305|[187, 475, 187, 4...| [307518942, 13754...|     [11169462544, 353...|               414|\n",
      "|     577025|[27578, 15, 187, ...| [70028, 177174655...|     [960442, 98957950...|             34621|\n",
      "|     616605|[2490, 50274, 159...| [9654500, 3102914...|     [76762496, 579360...|              9826|\n",
      "|     629155|[1569, 6834, 3063...| [503986, 85767, 2...|     [41011897, 833748...|                 1|\n",
      "|     641880|[9884, 5230, 1560...| [103942, 173976, ...|     [6877636, 1218634...|                 1|\n",
      "|     956623|[1019, 8402, 94, ...| [1798434, 1700147...|     [6814989, 4343336...|           5081068|\n",
      "|     983597|[90, 558, 187, 50...| [2967493, 8629674...|     [194548741, 18918...|                 1|\n",
      "|    1032623|[2043, 92, 3306, ...| [2025453, 2457127...|     [41038731, 612572...|                 2|\n",
      "|    1052248|[5757, 50254, 30,...| [173906, 14390981...|     [3753293, 3894203...|              2606|\n",
      "+-----------+--------------------+---------------------+-------------------------+------------------+\n",
      "only showing top 20 rows\n",
      "\n"
     ]
    },
    {
     "name": "stderr",
     "output_type": "stream",
     "text": [
      "                                                                                \r"
     ]
    }
   ],
   "source": [
    "final_df.show()"
   ]
  },
  {
   "cell_type": "code",
   "execution_count": 24,
   "id": "156a24e0-d3d8-4ba7-ac9f-b3a53a7698b8",
   "metadata": {},
   "outputs": [
    {
     "name": "stderr",
     "output_type": "stream",
     "text": [
      "                                                                                \r"
     ]
    }
   ],
   "source": [
    "final_df.write.parquet('datasets/final_dataset')"
   ]
  },
  {
   "cell_type": "code",
   "execution_count": 25,
   "id": "59b29d0b-76a5-4ef4-afee-333583feeb3b",
   "metadata": {},
   "outputs": [
    {
     "data": {
      "text/plain": [
       "DataFrame[sequence_id: bigint, tokens: array<bigint>, memorized_frequencies: array<bigint>, non_memorized_frequencies: array<bigint>, sequence_frequency: bigint]"
      ]
     },
     "execution_count": 25,
     "metadata": {},
     "output_type": "execute_result"
    }
   ],
   "source": [
    "final_df"
   ]
  }
 ],
 "metadata": {
  "kernelspec": {
   "display_name": "Python 3 (ipykernel)",
   "language": "python",
   "name": "python3"
  },
  "language_info": {
   "codemirror_mode": {
    "name": "ipython",
    "version": 3
   },
   "file_extension": ".py",
   "mimetype": "text/x-python",
   "name": "python",
   "nbconvert_exporter": "python",
   "pygments_lexer": "ipython3",
   "version": "3.11.4"
  }
 },
 "nbformat": 4,
 "nbformat_minor": 5
}
