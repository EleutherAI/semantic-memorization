{
 "cells": [
  {
   "cell_type": "code",
   "execution_count": 3,
   "id": "cef8991b-4814-49da-bedc-7767af37630a",
   "metadata": {},
   "outputs": [],
   "source": [
    "import os\n",
    "import pandas as pd"
   ]
  },
  {
   "cell_type": "code",
   "execution_count": 4,
   "id": "139f5b95-4bd1-4eab-9e55-ba8f82666786",
   "metadata": {},
   "outputs": [],
   "source": [
    "RUN_PATH = '/mnt/ssd-1/sai/semantic-memorization/experiments/'\n",
    "base_path = os.path.join(RUN_PATH, '2024-04-16_11-07-57', 'deduped', '12b')"
   ]
  },
  {
   "cell_type": "code",
   "execution_count": 5,
   "id": "9b5edfc6-e6aa-4d2d-a897-6f4d4f295b55",
   "metadata": {},
   "outputs": [],
   "source": [
    "model_evals_path = os.path.join(base_path, 'model_taxonomy', 'predictions.parquet')"
   ]
  },
  {
   "cell_type": "code",
   "execution_count": 6,
   "id": "041f3eee-a391-4484-a4c5-69598d3d2e45",
   "metadata": {},
   "outputs": [],
   "source": [
    "data = pd.read_parquet(model_evals_path)"
   ]
  },
  {
   "cell_type": "code",
   "execution_count": 7,
   "id": "ce797eaf-72d8-4f7a-8224-d429d9843a8a",
   "metadata": {},
   "outputs": [],
   "source": [
    "import scipy.stats as stats\n",
    "import numpy as np"
   ]
  },
  {
   "cell_type": "code",
   "execution_count": 8,
   "id": "5a0412b0-ebba-4820-a6a6-3525f3c00665",
   "metadata": {},
   "outputs": [],
   "source": [
    "model_probs = np.array(data['model_prediction_probs'].to_list())\n",
    "baseline_probs = np.array(data['baseline_prediction_probs'].to_list())\n",
    "model_predictions = (model_probs[:, 1] > 0.5).astype(np.int32)\n",
    "baseline_predictions = (baseline_probs[:, 1] > 0.5).astype(np.int32)\n",
    "labels = data['labels'].to_numpy()"
   ]
  },
  {
   "cell_type": "code",
   "execution_count": 23,
   "id": "e4548d4f-1fba-4d44-8e3a-12c9dd452b9f",
   "metadata": {},
   "outputs": [],
   "source": [
    "from sklearn.metrics import precision_score, recall_score, f1_score, average_precision_score"
   ]
  },
  {
   "cell_type": "code",
   "execution_count": 10,
   "id": "a1015787-473c-4845-964a-73f10aa4d202",
   "metadata": {},
   "outputs": [
    {
     "data": {
      "text/plain": [
       "0.6682080924855492"
      ]
     },
     "execution_count": 10,
     "metadata": {},
     "output_type": "execute_result"
    }
   ],
   "source": [
    "f1_score(labels, (model_probs[:, 1] > 0.5).astype(np.int32))"
   ]
  },
  {
   "cell_type": "code",
   "execution_count": 11,
   "id": "a20cf9e0-df30-4ea1-8c92-3dea607e6421",
   "metadata": {},
   "outputs": [
    {
     "data": {
      "text/plain": [
       "0.6682080924855492"
      ]
     },
     "execution_count": 11,
     "metadata": {},
     "output_type": "execute_result"
    }
   ],
   "source": [
    "f1_score(labels, model_predictions)"
   ]
  },
  {
   "cell_type": "code",
   "execution_count": 12,
   "id": "5e84e202-4b69-4b87-8e12-e362b35f24e8",
   "metadata": {},
   "outputs": [
    {
     "data": {
      "text/plain": [
       "0.6271013606036769"
      ]
     },
     "execution_count": 12,
     "metadata": {},
     "output_type": "execute_result"
    }
   ],
   "source": [
    "f1_score(labels, baseline_predictions)"
   ]
  },
  {
   "cell_type": "code",
   "execution_count": 13,
   "id": "c23a523a-9d32-484b-80d9-f8170a4de8eb",
   "metadata": {},
   "outputs": [
    {
     "data": {
      "text/plain": [
       "0.6271013606036769"
      ]
     },
     "execution_count": 13,
     "metadata": {},
     "output_type": "execute_result"
    }
   ],
   "source": [
    "f1_score(labels, (baseline_probs[:, 1] > 0.5).astype(np.int32))"
   ]
  },
  {
   "cell_type": "code",
   "execution_count": 18,
   "id": "bafe3b95-a4bb-4adc-87fd-853bde83c863",
   "metadata": {},
   "outputs": [],
   "source": [
    "import sys\n",
    "sys.path.append('../') "
   ]
  },
  {
   "cell_type": "code",
   "execution_count": 19,
   "id": "abf5ee5e-34c4-4d67-8b97-c760451475b4",
   "metadata": {},
   "outputs": [],
   "source": [
    "from model_utils import expected_calibration_error"
   ]
  },
  {
   "cell_type": "code",
   "execution_count": 26,
   "id": "a65d63e0-514b-451a-b256-1c8baad18a8f",
   "metadata": {},
   "outputs": [],
   "source": [
    "from sklearn.model_selection import KFold\n",
    "\n",
    "metrics = {\n",
    "    'precision': {'model': [], 'baseline': []},\n",
    "    'recall': {'model': [], 'baseline': []},\n",
    "    'ece': {'model': [], 'baseline': []},\n",
    "    'pr_auc': {'model': [], 'baseline': []},\n",
    "}\n",
    "\n",
    "fold = KFold(n_splits=100, shuffle=True)\n",
    "for _, indicies in fold.split(labels):\n",
    "    split_model_probs = model_probs[indicies, :]\n",
    "    split_baseline_probs = baseline_probs[indicies, :]\n",
    "    split_model_predictions = model_predictions[indicies]\n",
    "    split_baseline_predictions = baseline_predictions[indicies]\n",
    "    split_labels = labels[indicies]\n",
    "    metrics['precision']['model'].append(precision_score(split_labels, split_model_predictions))\n",
    "    metrics['recall']['model'].append(recall_score(split_labels, split_model_predictions))\n",
    "    metrics['ece']['model'].append(expected_calibration_error(split_model_probs, split_labels))\n",
    "    metrics['pr_auc']['model'].append(average_precision_score(split_labels, split_model_probs[:, 0]))\n",
    "\n",
    "    metrics['precision']['baseline'].append(precision_score(split_labels, split_baseline_predictions))\n",
    "    metrics['recall']['baseline'].append(recall_score(split_labels, split_baseline_predictions))\n",
    "    metrics['ece']['baseline'].append(expected_calibration_error(split_baseline_probs, split_labels))\n",
    "    metrics['pr_auc']['baseline'].append(average_precision_score(split_labels, split_baseline_probs[:, 0]))\n",
    "    \n",
    "   "
   ]
  },
  {
   "cell_type": "code",
   "execution_count": 27,
   "id": "ff15bfe0-3aa2-4bff-b8ab-e4b0903919fa",
   "metadata": {
    "scrolled": true
   },
   "outputs": [
    {
     "name": "stdout",
     "output_type": "stream",
     "text": [
      "##########\tprecision\t##########\n",
      "TtestResult(statistic=31.044878362310417, pvalue=7.91995142541859e-53, df=99)\n",
      "WilcoxonResult(statistic=0.0, pvalue=3.896559845095909e-18)\n",
      "##########\trecall\t##########\n",
      "TtestResult(statistic=-17.42727806974501, pvalue=6.30548055206751e-32, df=99)\n",
      "WilcoxonResult(statistic=3.0, pvalue=4.2634423565499585e-18)\n",
      "##########\tece\t##########\n",
      "TtestResult(statistic=-34.4245862429096, pvalue=6.748238588355811e-57, df=99)\n",
      "WilcoxonResult(statistic=0.0, pvalue=3.896559845095909e-18)\n",
      "##########\tpr_auc\t##########\n",
      "TtestResult(statistic=-4.22060853567759, pvalue=5.409042556981045e-05, df=99)\n",
      "WilcoxonResult(statistic=1616.0, pvalue=0.0017754092402886207)\n"
     ]
    }
   ],
   "source": [
    "for metric in metrics:\n",
    "    print(\"#\"*10, end=\"\\t\")\n",
    "    print(metric, end=\"\\t\")\n",
    "    print(\"#\"*10)\n",
    "    print(stats.ttest_rel(metrics[metric]['model'], metrics[metric]['baseline']))\n",
    "    print(stats.wilcoxon(metrics[metric]['model'], metrics[metric]['baseline'], zero_method='zsplit'))\n",
    "    "
   ]
  },
  {
   "cell_type": "code",
   "execution_count": 131,
   "id": "b33ff2a2-3e77-45da-8b67-836c2ac1cf52",
   "metadata": {},
   "outputs": [
    {
     "data": {
      "text/plain": [
       "0.00870116132314611"
      ]
     },
     "execution_count": 131,
     "metadata": {},
     "output_type": "execute_result"
    }
   ],
   "source": [
    "np.mean(metrics['ece']['baseline'])"
   ]
  },
  {
   "cell_type": "code",
   "execution_count": 121,
   "id": "476d0561-dbcd-403d-be7f-05a79b7fb652",
   "metadata": {},
   "outputs": [
    {
     "data": {
      "text/plain": [
       "WilcoxonResult(statistic=1600.0, pvalue=0.0011633823709150059)"
      ]
     },
     "execution_count": 121,
     "metadata": {},
     "output_type": "execute_result"
    }
   ],
   "source": [
    "stats.wilcoxo(metrics['recall']['model'], metrics['recall']['baseline'], zero_method='zsplit')"
   ]
  },
  {
   "cell_type": "code",
   "execution_count": 123,
   "id": "a57686c9-d035-4985-aa7b-17f813c8007c",
   "metadata": {},
   "outputs": [
    {
     "data": {
      "text/plain": [
       "TtestResult(statistic=-3.708965251518794, pvalue=0.00034353642222615456, df=99)"
      ]
     },
     "execution_count": 123,
     "metadata": {},
     "output_type": "execute_result"
    }
   ],
   "source": [
    "stats.ttest_rel(metrics['recall']['model'], metrics['recall']['baseline'])"
   ]
  },
  {
   "cell_type": "code",
   "execution_count": 92,
   "id": "01d66cf7-34a5-4f5e-818c-d712e6dffe34",
   "metadata": {
    "scrolled": true
   },
   "outputs": [
    {
     "name": "stdout",
     "output_type": "stream",
     "text": [
      "0.9789473684210527 0.9894736842105263 -0.010526315789473606\n",
      "0.9830508474576272 0.9830508474576272 0.0\n",
      "1.0 1.0 0.0\n",
      "0.9893617021276596 0.9787234042553191 0.010638297872340496\n",
      "0.9739130434782609 0.9739130434782609 0.0\n",
      "0.9807692307692307 0.9903846153846154 -0.009615384615384692\n",
      "1.0 1.0 0.0\n",
      "1.0 1.0 0.0\n",
      "0.9893617021276596 1.0 -0.010638297872340385\n",
      "0.9907407407407407 0.9907407407407407 0.0\n",
      "0.9905660377358491 1.0 -0.009433962264150941\n",
      "0.98989898989899 0.98989898989899 0.0\n",
      "0.9908256880733946 0.981651376146789 0.00917431192660556\n",
      "1.0 1.0 0.0\n",
      "0.9690721649484536 0.9587628865979382 0.010309278350515427\n",
      "1.0 1.0 0.0\n",
      "0.979381443298969 0.9896907216494846 -0.010309278350515538\n",
      "0.9900990099009901 0.9801980198019802 0.00990099009900991\n",
      "1.0 1.0 0.0\n",
      "0.970873786407767 0.9805825242718447 -0.009708737864077666\n",
      "0.9626168224299065 0.9719626168224299 -0.009345794392523366\n",
      "0.9719626168224299 0.9813084112149533 -0.009345794392523366\n",
      "0.9894736842105263 0.9894736842105263 0.0\n",
      "0.9906542056074766 0.9906542056074766 0.0\n",
      "0.9813084112149533 0.9906542056074766 -0.009345794392523366\n",
      "0.981651376146789 0.981651376146789 0.0\n",
      "0.9807692307692307 0.9903846153846154 -0.009615384615384692\n",
      "0.970873786407767 0.970873786407767 0.0\n",
      "0.9813084112149533 0.9813084112149533 0.0\n",
      "1.0 1.0 0.0\n",
      "1.0 1.0 0.0\n",
      "1.0 1.0 0.0\n",
      "0.976 0.992 -0.016000000000000014\n",
      "1.0 1.0 0.0\n",
      "0.9818181818181818 0.9818181818181818 0.0\n",
      "1.0 1.0 0.0\n",
      "0.9904761904761905 0.9904761904761905 0.0\n",
      "1.0 1.0 0.0\n",
      "1.0 0.9904761904761905 0.00952380952380949\n",
      "0.990990990990991 0.9819819819819819 0.009009009009009028\n",
      "0.9774436090225563 0.9849624060150376 -0.007518796992481258\n",
      "0.9824561403508771 0.9912280701754386 -0.00877192982456143\n",
      "0.9813084112149533 0.9813084112149533 0.0\n",
      "0.9915254237288136 0.9915254237288136 0.0\n",
      "1.0 1.0 0.0\n",
      "0.9813084112149533 0.9813084112149533 0.0\n",
      "0.9924242424242424 0.9924242424242424 0.0\n",
      "1.0 0.9809523809523809 0.01904761904761909\n",
      "0.9915966386554622 1.0 -0.008403361344537785\n",
      "0.9807692307692307 0.9903846153846154 -0.009615384615384692\n",
      "0.9690721649484536 0.9896907216494846 -0.020618556701030966\n",
      "0.9913793103448276 0.9913793103448276 0.0\n",
      "0.9777777777777777 0.9777777777777777 0.0\n",
      "0.9765625 0.9765625 0.0\n",
      "0.9924812030075187 0.9924812030075187 0.0\n",
      "1.0 1.0 0.0\n",
      "0.9782608695652174 0.9782608695652174 0.0\n",
      "0.9829059829059829 0.9914529914529915 -0.008547008547008628\n",
      "0.9789473684210527 0.9789473684210527 0.0\n",
      "0.9826086956521739 0.9739130434782609 0.008695652173912993\n",
      "0.9928057553956835 1.0 -0.007194244604316502\n",
      "0.9915966386554622 0.9915966386554622 0.0\n",
      "0.991304347826087 1.0 -0.008695652173912993\n",
      "1.0 1.0 0.0\n",
      "0.9770114942528736 1.0 -0.02298850574712641\n",
      "0.9906542056074766 0.9906542056074766 0.0\n",
      "0.9913793103448276 0.9913793103448276 0.0\n",
      "0.972972972972973 0.963963963963964 0.009009009009009028\n",
      "1.0 1.0 0.0\n",
      "0.9915254237288136 1.0 -0.008474576271186418\n",
      "0.9891304347826086 1.0 -0.010869565217391353\n",
      "0.9915966386554622 0.9915966386554622 0.0\n",
      "0.9895833333333334 0.9895833333333334 0.0\n",
      "0.9904761904761905 1.0 -0.00952380952380949\n",
      "0.9576271186440678 0.9745762711864406 -0.016949152542372836\n",
      "0.979381443298969 0.979381443298969 0.0\n",
      "1.0 1.0 0.0\n",
      "0.9914529914529915 1.0 -0.008547008547008517\n",
      "1.0 1.0 0.0\n",
      "0.9693877551020408 0.9795918367346939 -0.010204081632653073\n",
      "1.0 1.0 0.0\n",
      "0.9782608695652174 0.9891304347826086 -0.010869565217391242\n",
      "0.98989898989899 1.0 -0.010101010101010055\n",
      "1.0 1.0 0.0\n",
      "0.9907407407407407 0.9907407407407407 0.0\n",
      "0.9888888888888889 1.0 -0.011111111111111072\n",
      "0.9906542056074766 0.9906542056074766 0.0\n",
      "1.0 1.0 0.0\n",
      "0.9661016949152542 0.9830508474576272 -0.016949152542372947\n",
      "0.9904761904761905 1.0 -0.00952380952380949\n",
      "0.9841269841269841 0.9920634920634921 -0.00793650793650802\n",
      "0.989247311827957 1.0 -0.010752688172043001\n",
      "0.9908256880733946 0.9908256880733946 0.0\n",
      "0.983739837398374 0.975609756097561 0.008130081300813052\n",
      "0.9917355371900827 1.0 -0.008264462809917328\n",
      "1.0 1.0 0.0\n",
      "0.9714285714285714 0.9809523809523809 -0.00952380952380949\n",
      "0.9833333333333333 0.9833333333333333 0.0\n",
      "0.98989898989899 1.0 -0.010101010101010055\n",
      "1.0 1.0 0.0\n"
     ]
    }
   ],
   "source": [
    "for i in range(100):\n",
    "    # print(metrics['precision']['model'][i], metrics['precision']['baseline'][i], metrics['precision']['model'][i] - metrics['precision']['baseline'][i])\n",
    "    print(metrics['recall']['model'][i],  metrics['recall']['baseline'][i], metrics['recall']['model'][i] - metrics['recall']['baseline'][i])"
   ]
  },
  {
   "cell_type": "code",
   "execution_count": null,
   "id": "316f51e3-a1a4-4583-ba89-a71921cdefea",
   "metadata": {},
   "outputs": [],
   "source": []
  },
  {
   "cell_type": "code",
   "execution_count": 81,
   "id": "ab8ba8c5-baef-4191-9ee1-8a082f6b7582",
   "metadata": {
    "scrolled": true
   },
   "outputs": [
    {
     "data": {
      "text/plain": [
       "WilcoxonResult(statistic=218.0, pvalue=0.0004251080668211116)"
      ]
     },
     "execution_count": 81,
     "metadata": {},
     "output_type": "execute_result"
    }
   ],
   "source": []
  },
  {
   "cell_type": "code",
   "execution_count": 35,
   "id": "b7759fc0-5432-4a8d-ab3a-b0f6cb183f92",
   "metadata": {},
   "outputs": [
    {
     "data": {
      "text/plain": [
       "(0.5342705427255143, 0.03752549571306509)"
      ]
     },
     "execution_count": 35,
     "metadata": {},
     "output_type": "execute_result"
    }
   ],
   "source": [
    "np.mean(metrics['precision']['model']), np.std(metrics['precision']['model'])"
   ]
  },
  {
   "cell_type": "code",
   "execution_count": 36,
   "id": "98311e3f-981a-41b3-879a-c97c22865bd0",
   "metadata": {},
   "outputs": [
    {
     "data": {
      "text/plain": [
       "(0.5338319597353697, 0.03617128010054141)"
      ]
     },
     "execution_count": 36,
     "metadata": {},
     "output_type": "execute_result"
    }
   ],
   "source": [
    "np.mean(metrics['precision']['baseline']), np.std(metrics['precision']['baseline'])"
   ]
  },
  {
   "cell_type": "code",
   "execution_count": 37,
   "id": "007c6405-f93b-4575-8f51-99fc19e2f35a",
   "metadata": {},
   "outputs": [
    {
     "data": {
      "text/plain": [
       "(0.9875399595350456, 0.010646342251008932)"
      ]
     },
     "execution_count": 37,
     "metadata": {},
     "output_type": "execute_result"
    }
   ],
   "source": [
    "np.mean(metrics['recall']['model']), np.std(metrics['recall']['model'])"
   ]
  },
  {
   "cell_type": "code",
   "execution_count": 38,
   "id": "3e6f3287-0ad5-4b9b-9d6c-a2d2776ac66d",
   "metadata": {},
   "outputs": [
    {
     "data": {
      "text/plain": [
       "(0.990465075591582, 0.008838522837603375)"
      ]
     },
     "execution_count": 38,
     "metadata": {},
     "output_type": "execute_result"
    }
   ],
   "source": [
    "np.mean(metrics['recall']['baseline']), np.std(metrics['recall']['baseline'])"
   ]
  },
  {
   "cell_type": "code",
   "execution_count": 20,
   "id": "15b11ec2-6f58-4390-9d11-225a9684b2da",
   "metadata": {},
   "outputs": [
    {
     "data": {
      "text/plain": [
       "WilcoxonResult(statistic=31280028987.0, pvalue=0.0)"
      ]
     },
     "execution_count": 20,
     "metadata": {},
     "output_type": "execute_result"
    }
   ],
   "source": [
    "stats.wilcoxon(model_probs, baseline_probs)"
   ]
  },
  {
   "cell_type": "code",
   "execution_count": 21,
   "id": "e7ef8712-b47b-43fe-a9b4-50fcf96a2fe3",
   "metadata": {},
   "outputs": [],
   "source": []
  },
  {
   "cell_type": "code",
   "execution_count": 22,
   "id": "fc472800-4b0b-4194-bf64-4dcb48883fac",
   "metadata": {},
   "outputs": [
    {
     "data": {
      "text/plain": [
       "WilcoxonResult(statistic=395317.0, pvalue=0.048323911287848964)"
      ]
     },
     "execution_count": 22,
     "metadata": {},
     "output_type": "execute_result"
    }
   ],
   "source": [
    "stats.wilcoxon(model_predictions, baseline_predictions)"
   ]
  },
  {
   "cell_type": "code",
   "execution_count": 16,
   "id": "9b6d2fc7-9e5b-4ad4-8aad-06cdc91d32d8",
   "metadata": {},
   "outputs": [
    {
     "data": {
      "text/plain": [
       "31280028987.0"
      ]
     },
     "execution_count": 16,
     "metadata": {},
     "output_type": "execute_result"
    }
   ],
   "source": [
    "res.statistic"
   ]
  },
  {
   "cell_type": "code",
   "execution_count": 17,
   "id": "954030b2-4e0d-4ff5-aa2b-94718b067e51",
   "metadata": {},
   "outputs": [
    {
     "data": {
      "text/plain": [
       "0.0"
      ]
     },
     "execution_count": 17,
     "metadata": {},
     "output_type": "execute_result"
    }
   ],
   "source": [
    "res.pvalue"
   ]
  },
  {
   "cell_type": "code",
   "execution_count": null,
   "id": "1ea65598-b1d6-4c1d-9c92-5a22a708fa6d",
   "metadata": {},
   "outputs": [],
   "source": []
  }
 ],
 "metadata": {
  "kernelspec": {
   "display_name": "Python 3 (ipykernel)",
   "language": "python",
   "name": "python3"
  },
  "language_info": {
   "codemirror_mode": {
    "name": "ipython",
    "version": 3
   },
   "file_extension": ".py",
   "mimetype": "text/x-python",
   "name": "python",
   "nbconvert_exporter": "python",
   "pygments_lexer": "ipython3",
   "version": "3.8.10"
  }
 },
 "nbformat": 4,
 "nbformat_minor": 5
}
