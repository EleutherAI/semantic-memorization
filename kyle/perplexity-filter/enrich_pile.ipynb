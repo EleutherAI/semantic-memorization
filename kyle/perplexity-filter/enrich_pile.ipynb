{
 "cells": [
  {
   "cell_type": "code",
   "execution_count": null,
   "metadata": {},
   "outputs": [],
   "source": [
    "import numpy as np\n",
    "import pandas as pd\n",
    "import plotly.express as px\n",
    "from transformers import AutoTokenizer\n",
    "from datasets import load_dataset, ReadInstruction\n",
    "from tqdm import tqdm\n",
    "tqdm.pandas()\n",
    "\n",
    "\n",
    "pile_path = \"EleutherAI/pile-deduped-pythia-random-sampled\"\n",
    "lower_index = 0\n",
    "upper_index = 50\n",
    "pile_tokens = load_dataset(pile_path, split=ReadInstruction(\"train\", from_=lower_index, to=upper_index, unit=\"%\", rounding=\"pct1_dropremainder\")).to_pandas()\n",
    "pile_tokens\n",
    "\n",
    "tokenizer = AutoTokenizer.from_pretrained(\"EleutherAI/pythia-70m-deduped\")\n",
    "pile_ppls = pd.read_csv(\"70m_4_27/pile-1_deduped_70m.csv\")\n",
    "all_pile_data = pile_ppls.join(pile_tokens.set_index(\"index\"), on=\"index\", how=\"inner\")\n",
    "all_pile_data = all_pile_data.drop(columns=[\"is_memorized\"])\n",
    "all_pile_data[\"text\"] = all_pile_data[\"tokens\"].progress_apply(lambda x: tokenizer.decode(x))\n",
    "all_pile_data.to_csv(\"70m_4_27/enriched_pile-1_deduped_70m.csv\", index=False)\n",
    "all_pile_data"
   ]
  }
 ],
 "metadata": {
  "kernelspec": {
   "display_name": "memorization",
   "language": "python",
   "name": "python3"
  },
  "language_info": {
   "codemirror_mode": {
    "name": "ipython",
    "version": 3
   },
   "file_extension": ".py",
   "mimetype": "text/x-python",
   "name": "python",
   "nbconvert_exporter": "python",
   "pygments_lexer": "ipython3",
   "version": "3.11.3"
  },
  "orig_nbformat": 4
 },
 "nbformat": 4,
 "nbformat_minor": 2
}
