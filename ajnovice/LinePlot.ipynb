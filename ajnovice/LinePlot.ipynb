{
 "cells": [
  {
   "cell_type": "code",
   "execution_count": 5,
   "metadata": {},
   "outputs": [
    {
     "name": "stdout",
     "output_type": "stream",
     "text": [
      "INFO: Pandarallel will run on 40 workers.\n",
      "INFO: Pandarallel will use Memory file system to transfer data between the main process and workers.\n"
     ]
    }
   ],
   "source": [
    "import pandas as pd\n",
    "import os\n",
    "import pickle\n",
    "import matplotlib.pyplot as plt\n",
    "import seaborn as sns\n",
    "from pandarallel import pandarallel\n",
    "import multiprocessing\n",
    "from Increment_Sequence import increasing_sequence, count_increasing_sequences\n",
    "pandarallel.initialize(progress_bar=True, nb_workers=multiprocessing.cpu_count())"
   ]
  },
  {
   "cell_type": "code",
   "execution_count": 6,
   "metadata": {},
   "outputs": [
    {
     "data": {
      "text/plain": [
       "['pythia-70m.pkl',\n",
       " 'pythia-160m.pkl',\n",
       " 'pythia-410m.pkl',\n",
       " 'pythia-1b.pkl',\n",
       " 'pythia-1.4b.pkl',\n",
       " 'pythia-2.8b.pkl',\n",
       " 'pythia-6.9b.pkl',\n",
       " 'pythia-70m-deduped.pkl',\n",
       " 'pythia-160m-deduped.pkl',\n",
       " 'pythia-410m-deduped.pkl',\n",
       " 'pythia-1b-deduped.pkl',\n",
       " 'pythia-1.4b-deduped.pkl',\n",
       " 'pythia-2.8b-deduped.pkl',\n",
       " 'pythia-6.9b-deduped.pkl',\n",
       " 'pythia-70m.pkl_with_inc_seq']"
      ]
     },
     "execution_count": 6,
     "metadata": {},
     "output_type": "execute_result"
    }
   ],
   "source": [
    "files = os.listdir('./data')\n",
    "files.remove('.ipynb_checkpoints')\n",
    "files.remove('line_plot.csv')\n",
    "files\n"
   ]
  },
  {
   "cell_type": "code",
   "execution_count": 42,
   "metadata": {},
   "outputs": [
    {
     "data": {
      "application/vnd.jupyter.widget-view+json": {
       "model_id": "bfef09998b0e4f268659fb128e58fee5",
       "version_major": 2,
       "version_minor": 0
      },
      "text/plain": [
       "VBox(children=(HBox(children=(IntProgress(value=0, description='0.00%', max=11599), Label(value='0 / 11599')))…"
      ]
     },
     "metadata": {},
     "output_type": "display_data"
    },
    {
     "data": {
      "application/vnd.jupyter.widget-view+json": {
       "model_id": "c3e524eb75e7467b8277a448642ba8ca",
       "version_major": 2,
       "version_minor": 0
      },
      "text/plain": [
       "VBox(children=(HBox(children=(IntProgress(value=0, description='0.00%', max=11599), Label(value='0 / 11599')))…"
      ]
     },
     "metadata": {},
     "output_type": "display_data"
    },
    {
     "data": {
      "application/vnd.jupyter.widget-view+json": {
       "model_id": "6869ef8431ea4af9bf5ef3b4488bd0fd",
       "version_major": 2,
       "version_minor": 0
      },
      "text/plain": [
       "VBox(children=(HBox(children=(IntProgress(value=0, description='0.00%', max=17242), Label(value='0 / 17242')))…"
      ]
     },
     "metadata": {},
     "output_type": "display_data"
    },
    {
     "data": {
      "application/vnd.jupyter.widget-view+json": {
       "model_id": "436cdfbb26e8475db4cf6b1423b9e019",
       "version_major": 2,
       "version_minor": 0
      },
      "text/plain": [
       "VBox(children=(HBox(children=(IntProgress(value=0, description='0.00%', max=17242), Label(value='0 / 17242')))…"
      ]
     },
     "metadata": {},
     "output_type": "display_data"
    },
    {
     "data": {
      "application/vnd.jupyter.widget-view+json": {
       "model_id": "eb26ebeafa494e7db7b633c5589b9ea0",
       "version_major": 2,
       "version_minor": 0
      },
      "text/plain": [
       "VBox(children=(HBox(children=(IntProgress(value=0, description='0.00%', max=24259), Label(value='0 / 24259')))…"
      ]
     },
     "metadata": {},
     "output_type": "display_data"
    },
    {
     "data": {
      "application/vnd.jupyter.widget-view+json": {
       "model_id": "724d0c525fa34ac2a21f998d8a3c37ff",
       "version_major": 2,
       "version_minor": 0
      },
      "text/plain": [
       "VBox(children=(HBox(children=(IntProgress(value=0, description='0.00%', max=24259), Label(value='0 / 24259')))…"
      ]
     },
     "metadata": {},
     "output_type": "display_data"
    },
    {
     "data": {
      "application/vnd.jupyter.widget-view+json": {
       "model_id": "42659e4c4e6447aeaa99de850d1303d4",
       "version_major": 2,
       "version_minor": 0
      },
      "text/plain": [
       "VBox(children=(HBox(children=(IntProgress(value=0, description='0.00%', max=31404), Label(value='0 / 31404')))…"
      ]
     },
     "metadata": {},
     "output_type": "display_data"
    },
    {
     "data": {
      "application/vnd.jupyter.widget-view+json": {
       "model_id": "75fcf5a7a3b04873b87d7b98136fc472",
       "version_major": 2,
       "version_minor": 0
      },
      "text/plain": [
       "VBox(children=(HBox(children=(IntProgress(value=0, description='0.00%', max=31404), Label(value='0 / 31404')))…"
      ]
     },
     "metadata": {},
     "output_type": "display_data"
    },
    {
     "data": {
      "application/vnd.jupyter.widget-view+json": {
       "model_id": "180833773c69483d8d43f4663d2bda70",
       "version_major": 2,
       "version_minor": 0
      },
      "text/plain": [
       "VBox(children=(HBox(children=(IntProgress(value=0, description='0.00%', max=34344), Label(value='0 / 34344')))…"
      ]
     },
     "metadata": {},
     "output_type": "display_data"
    },
    {
     "data": {
      "application/vnd.jupyter.widget-view+json": {
       "model_id": "1894c334d0a9408688f9e64babbe185b",
       "version_major": 2,
       "version_minor": 0
      },
      "text/plain": [
       "VBox(children=(HBox(children=(IntProgress(value=0, description='0.00%', max=34344), Label(value='0 / 34344')))…"
      ]
     },
     "metadata": {},
     "output_type": "display_data"
    },
    {
     "data": {
      "application/vnd.jupyter.widget-view+json": {
       "model_id": "784b9b40834c49108c66f057525f64bd",
       "version_major": 2,
       "version_minor": 0
      },
      "text/plain": [
       "VBox(children=(HBox(children=(IntProgress(value=0, description='0.00%', max=41877), Label(value='0 / 41877')))…"
      ]
     },
     "metadata": {},
     "output_type": "display_data"
    },
    {
     "data": {
      "application/vnd.jupyter.widget-view+json": {
       "model_id": "8bde14fba59b4cc5ae030106ab9362d1",
       "version_major": 2,
       "version_minor": 0
      },
      "text/plain": [
       "VBox(children=(HBox(children=(IntProgress(value=0, description='0.00%', max=41877), Label(value='0 / 41877')))…"
      ]
     },
     "metadata": {},
     "output_type": "display_data"
    },
    {
     "data": {
      "application/vnd.jupyter.widget-view+json": {
       "model_id": "f5ce1eb1b6e946059bdf54bd3e78e597",
       "version_major": 2,
       "version_minor": 0
      },
      "text/plain": [
       "VBox(children=(HBox(children=(IntProgress(value=0, description='0.00%', max=53025), Label(value='0 / 53025')))…"
      ]
     },
     "metadata": {},
     "output_type": "display_data"
    },
    {
     "data": {
      "application/vnd.jupyter.widget-view+json": {
       "model_id": "600569cee56c46b28116b7ae809ffafb",
       "version_major": 2,
       "version_minor": 0
      },
      "text/plain": [
       "VBox(children=(HBox(children=(IntProgress(value=0, description='0.00%', max=53025), Label(value='0 / 53025')))…"
      ]
     },
     "metadata": {},
     "output_type": "display_data"
    },
    {
     "data": {
      "application/vnd.jupyter.widget-view+json": {
       "model_id": "a9d72d843c324ffa9b67092d99273170",
       "version_major": 2,
       "version_minor": 0
      },
      "text/plain": [
       "VBox(children=(HBox(children=(IntProgress(value=0, description='0.00%', max=10287), Label(value='0 / 10287')))…"
      ]
     },
     "metadata": {},
     "output_type": "display_data"
    },
    {
     "data": {
      "application/vnd.jupyter.widget-view+json": {
       "model_id": "c8f63e05af254cb8a1848ec929a93b9d",
       "version_major": 2,
       "version_minor": 0
      },
      "text/plain": [
       "VBox(children=(HBox(children=(IntProgress(value=0, description='0.00%', max=10287), Label(value='0 / 10287')))…"
      ]
     },
     "metadata": {},
     "output_type": "display_data"
    },
    {
     "data": {
      "application/vnd.jupyter.widget-view+json": {
       "model_id": "c83114890885467b889e29111258fb7e",
       "version_major": 2,
       "version_minor": 0
      },
      "text/plain": [
       "VBox(children=(HBox(children=(IntProgress(value=0, description='0.00%', max=14530), Label(value='0 / 14530')))…"
      ]
     },
     "metadata": {},
     "output_type": "display_data"
    },
    {
     "data": {
      "application/vnd.jupyter.widget-view+json": {
       "model_id": "7eeb07ed1f364721b042075bbc7a5c21",
       "version_major": 2,
       "version_minor": 0
      },
      "text/plain": [
       "VBox(children=(HBox(children=(IntProgress(value=0, description='0.00%', max=14530), Label(value='0 / 14530')))…"
      ]
     },
     "metadata": {},
     "output_type": "display_data"
    },
    {
     "data": {
      "application/vnd.jupyter.widget-view+json": {
       "model_id": "be05b8d3d02f40678f26ed4c6249183a",
       "version_major": 2,
       "version_minor": 0
      },
      "text/plain": [
       "VBox(children=(HBox(children=(IntProgress(value=0, description='0.00%', max=20276), Label(value='0 / 20276')))…"
      ]
     },
     "metadata": {},
     "output_type": "display_data"
    },
    {
     "data": {
      "application/vnd.jupyter.widget-view+json": {
       "model_id": "f7db926d1491457bbed1498879f29e76",
       "version_major": 2,
       "version_minor": 0
      },
      "text/plain": [
       "VBox(children=(HBox(children=(IntProgress(value=0, description='0.00%', max=20276), Label(value='0 / 20276')))…"
      ]
     },
     "metadata": {},
     "output_type": "display_data"
    },
    {
     "data": {
      "application/vnd.jupyter.widget-view+json": {
       "model_id": "42575bbf7eb946c385fea0825f44945a",
       "version_major": 2,
       "version_minor": 0
      },
      "text/plain": [
       "VBox(children=(HBox(children=(IntProgress(value=0, description='0.00%', max=25822), Label(value='0 / 25822')))…"
      ]
     },
     "metadata": {},
     "output_type": "display_data"
    },
    {
     "data": {
      "application/vnd.jupyter.widget-view+json": {
       "model_id": "0c397c43d5834bc0a6806b8d9687bcad",
       "version_major": 2,
       "version_minor": 0
      },
      "text/plain": [
       "VBox(children=(HBox(children=(IntProgress(value=0, description='0.00%', max=25822), Label(value='0 / 25822')))…"
      ]
     },
     "metadata": {},
     "output_type": "display_data"
    },
    {
     "data": {
      "application/vnd.jupyter.widget-view+json": {
       "model_id": "605da600467245bc8e6442447c712957",
       "version_major": 2,
       "version_minor": 0
      },
      "text/plain": [
       "VBox(children=(HBox(children=(IntProgress(value=0, description='0.00%', max=26203), Label(value='0 / 26203')))…"
      ]
     },
     "metadata": {},
     "output_type": "display_data"
    },
    {
     "data": {
      "application/vnd.jupyter.widget-view+json": {
       "model_id": "2077247270c04459b5a17c9192fb69f4",
       "version_major": 2,
       "version_minor": 0
      },
      "text/plain": [
       "VBox(children=(HBox(children=(IntProgress(value=0, description='0.00%', max=26203), Label(value='0 / 26203')))…"
      ]
     },
     "metadata": {},
     "output_type": "display_data"
    },
    {
     "data": {
      "application/vnd.jupyter.widget-view+json": {
       "model_id": "706733202afb4feeacdcb4ca8f1fd630",
       "version_major": 2,
       "version_minor": 0
      },
      "text/plain": [
       "VBox(children=(HBox(children=(IntProgress(value=0, description='0.00%', max=33881), Label(value='0 / 33881')))…"
      ]
     },
     "metadata": {},
     "output_type": "display_data"
    },
    {
     "data": {
      "application/vnd.jupyter.widget-view+json": {
       "model_id": "4a009a72f51d4b5bb4a7ddb9d3a390e8",
       "version_major": 2,
       "version_minor": 0
      },
      "text/plain": [
       "VBox(children=(HBox(children=(IntProgress(value=0, description='0.00%', max=33881), Label(value='0 / 33881')))…"
      ]
     },
     "metadata": {},
     "output_type": "display_data"
    },
    {
     "data": {
      "application/vnd.jupyter.widget-view+json": {
       "model_id": "e3dd3e2039354183a832e566a4b4f106",
       "version_major": 2,
       "version_minor": 0
      },
      "text/plain": [
       "VBox(children=(HBox(children=(IntProgress(value=0, description='0.00%', max=42008), Label(value='0 / 42008')))…"
      ]
     },
     "metadata": {},
     "output_type": "display_data"
    },
    {
     "data": {
      "application/vnd.jupyter.widget-view+json": {
       "model_id": "f21d05d9b32b49b68b5d89b5cbe94041",
       "version_major": 2,
       "version_minor": 0
      },
      "text/plain": [
       "VBox(children=(HBox(children=(IntProgress(value=0, description='0.00%', max=42008), Label(value='0 / 42008')))…"
      ]
     },
     "metadata": {},
     "output_type": "display_data"
    },
    {
     "data": {
      "text/html": [
       "<div>\n",
       "<style scoped>\n",
       "    .dataframe tbody tr th:only-of-type {\n",
       "        vertical-align: middle;\n",
       "    }\n",
       "\n",
       "    .dataframe tbody tr th {\n",
       "        vertical-align: top;\n",
       "    }\n",
       "\n",
       "    .dataframe thead th {\n",
       "        text-align: right;\n",
       "    }\n",
       "</style>\n",
       "<table border=\"1\" class=\"dataframe\">\n",
       "  <thead>\n",
       "    <tr style=\"text-align: right;\">\n",
       "      <th></th>\n",
       "      <th>file</th>\n",
       "      <th>count_memorized</th>\n",
       "      <th>total_count</th>\n",
       "    </tr>\n",
       "  </thead>\n",
       "  <tbody>\n",
       "    <tr>\n",
       "      <th>0</th>\n",
       "      <td>pythia-70m.pkl</td>\n",
       "      <td>9430619</td>\n",
       "      <td>29692992</td>\n",
       "    </tr>\n",
       "    <tr>\n",
       "      <th>1</th>\n",
       "      <td>pythia-160m.pkl</td>\n",
       "      <td>14150290</td>\n",
       "      <td>44139072</td>\n",
       "    </tr>\n",
       "    <tr>\n",
       "      <th>2</th>\n",
       "      <td>pythia-410m.pkl</td>\n",
       "      <td>20037918</td>\n",
       "      <td>62101824</td>\n",
       "    </tr>\n",
       "    <tr>\n",
       "      <th>3</th>\n",
       "      <td>pythia-1b.pkl</td>\n",
       "      <td>26029906</td>\n",
       "      <td>80393024</td>\n",
       "    </tr>\n",
       "    <tr>\n",
       "      <th>4</th>\n",
       "      <td>pythia-1.4b.pkl</td>\n",
       "      <td>28507009</td>\n",
       "      <td>87918208</td>\n",
       "    </tr>\n",
       "    <tr>\n",
       "      <th>5</th>\n",
       "      <td>pythia-2.8b.pkl</td>\n",
       "      <td>34842559</td>\n",
       "      <td>107204928</td>\n",
       "    </tr>\n",
       "    <tr>\n",
       "      <th>6</th>\n",
       "      <td>pythia-6.9b.pkl</td>\n",
       "      <td>44192723</td>\n",
       "      <td>135742016</td>\n",
       "    </tr>\n",
       "    <tr>\n",
       "      <th>7</th>\n",
       "      <td>pythia-70m-deduped.pkl</td>\n",
       "      <td>8409512</td>\n",
       "      <td>26332672</td>\n",
       "    </tr>\n",
       "    <tr>\n",
       "      <th>8</th>\n",
       "      <td>pythia-160m-deduped.pkl</td>\n",
       "      <td>11993978</td>\n",
       "      <td>37196480</td>\n",
       "    </tr>\n",
       "    <tr>\n",
       "      <th>9</th>\n",
       "      <td>pythia-410m-deduped.pkl</td>\n",
       "      <td>16840583</td>\n",
       "      <td>51906496</td>\n",
       "    </tr>\n",
       "    <tr>\n",
       "      <th>10</th>\n",
       "      <td>pythia-1b-deduped.pkl</td>\n",
       "      <td>21521504</td>\n",
       "      <td>66103360</td>\n",
       "    </tr>\n",
       "    <tr>\n",
       "      <th>11</th>\n",
       "      <td>pythia-1.4b-deduped.pkl</td>\n",
       "      <td>21844009</td>\n",
       "      <td>67078208</td>\n",
       "    </tr>\n",
       "    <tr>\n",
       "      <th>12</th>\n",
       "      <td>pythia-2.8b-deduped.pkl</td>\n",
       "      <td>28340773</td>\n",
       "      <td>86733504</td>\n",
       "    </tr>\n",
       "    <tr>\n",
       "      <th>13</th>\n",
       "      <td>pythia-6.9b-deduped.pkl</td>\n",
       "      <td>35237601</td>\n",
       "      <td>107538816</td>\n",
       "    </tr>\n",
       "  </tbody>\n",
       "</table>\n",
       "</div>"
      ],
      "text/plain": [
       "                       file  count_memorized  total_count\n",
       "0            pythia-70m.pkl          9430619     29692992\n",
       "1           pythia-160m.pkl         14150290     44139072\n",
       "2           pythia-410m.pkl         20037918     62101824\n",
       "3             pythia-1b.pkl         26029906     80393024\n",
       "4           pythia-1.4b.pkl         28507009     87918208\n",
       "5           pythia-2.8b.pkl         34842559    107204928\n",
       "6           pythia-6.9b.pkl         44192723    135742016\n",
       "7    pythia-70m-deduped.pkl          8409512     26332672\n",
       "8   pythia-160m-deduped.pkl         11993978     37196480\n",
       "9   pythia-410m-deduped.pkl         16840583     51906496\n",
       "10    pythia-1b-deduped.pkl         21521504     66103360\n",
       "11  pythia-1.4b-deduped.pkl         21844009     67078208\n",
       "12  pythia-2.8b-deduped.pkl         28340773     86733504\n",
       "13  pythia-6.9b-deduped.pkl         35237601    107538816"
      ]
     },
     "execution_count": 42,
     "metadata": {},
     "output_type": "execute_result"
    }
   ],
   "source": [
    "file_list = list()\n",
    "count_memorized_list = list()\n",
    "total_count_list=list()\n",
    "count=0\n",
    "for file in files:\n",
    "#     def_temp = pd.DataFrame(columns=['file', 'count_memorized', 'total_count'])\n",
    "    df = pickle.load(open('./data/' + file, 'rb'))\n",
    "    df_total_count = df['tokens'].parallel_apply(len)\n",
    "    df_count_memorized = df['detokenized'].parallel_apply(count_increasing_sequences)\n",
    "    total_count = df_total_count.sum()\n",
    "    count_memorized = df_count_memorized.sum()\n",
    "    file_list.append(file)\n",
    "    count_memorized_list.append(count_memorized)\n",
    "    total_count_list.append(total_count)\n",
    "\n",
    "initial_data = {'file': file_list,\n",
    "                'count_memorized': count_memorized_list,\n",
    "                'total_count': total_count_list }\n",
    " \n",
    "df_ratios = pd.DataFrame(initial_data, columns = ['file', 'count_memorized', 'total_count'])\n",
    "df_ratios"
   ]
  },
  {
   "cell_type": "code",
   "execution_count": 43,
   "metadata": {},
   "outputs": [
    {
     "name": "stderr",
     "output_type": "stream",
     "text": [
      "/tmp/ipykernel_2882874/3364716675.py:3: FutureWarning: The default value of regex will change from True to False in a future version.\n",
      "  plt.plot(df_ratios[df_ratios['file'].str.contains('deduped')]['file'].str.replace('-deduped', '').str.replace('.pkl', '').str.replace('pythia-',''),\n",
      "/tmp/ipykernel_2882874/3364716675.py:6: FutureWarning: The default value of regex will change from True to False in a future version.\n",
      "  for x, y in zip(df_ratios[df_ratios['file'].str.contains('deduped')]['file'].str.replace('-deduped', '').str.replace('.pkl', '').str.replace('pythia-',''),\n",
      "/tmp/ipykernel_2882874/3364716675.py:11: FutureWarning: The default value of regex will change from True to False in a future version.\n",
      "  plt.plot(df_ratios[~df_ratios['file'].str.contains('deduped')]['file'].str.replace('.pkl', '').str.replace('pythia-',''),\n",
      "/tmp/ipykernel_2882874/3364716675.py:14: FutureWarning: The default value of regex will change from True to False in a future version.\n",
      "  for x, y in zip(df_ratios[~df_ratios['file'].str.contains('deduped')]['file'].str.replace('.pkl', '').str.replace('pythia-',''),\n"
     ]
    },
    {
     "data": {
      "text/plain": [
       "Text(0.5, 1.0, 'Count of memorized for each dataset')"
      ]
     },
     "execution_count": 43,
     "metadata": {},
     "output_type": "execute_result"
    },
    {
     "data": {
      "image/png": "[encoded data removed]",
      "text/plain": [
       "<Figure size 1300x500 with 1 Axes>"
      ]
     },
     "metadata": {},
     "output_type": "display_data"
    }
   ],
   "source": [
    "plt.figure(figsize=(13, 5))\n",
    "# line plot\n",
    "plt.plot(df_ratios[df_ratios['file'].str.contains('deduped')]['file'].str.replace('-deduped', '').str.replace('.pkl', '').str.replace('pythia-',''),\n",
    "         df_ratios[df_ratios['file'].str.contains('deduped')]['count_memorized'], label='Deduped')\n",
    "# label points\n",
    "for x, y in zip(df_ratios[df_ratios['file'].str.contains('deduped')]['file'].str.replace('-deduped', '').str.replace('.pkl', '').str.replace('pythia-',''),\n",
    "                df_ratios[df_ratios['file'].str.contains('deduped')]['count_memorized']):\n",
    "    label = \"{:.0f}\".format(y)\n",
    "    plt.annotate(label, (x, y-1000), textcoords=\"offset points\", xytext=(0, 10), ha='center')\n",
    "# line plot of not deduped\n",
    "plt.plot(df_ratios[~df_ratios['file'].str.contains('deduped')]['file'].str.replace('.pkl', '').str.replace('pythia-',''),\n",
    "            df_ratios[~df_ratios['file'].str.contains('deduped')]['count_memorized'], label='Non Deduped')\n",
    "# label points\n",
    "for x, y in zip(df_ratios[~df_ratios['file'].str.contains('deduped')]['file'].str.replace('.pkl', '').str.replace('pythia-',''),\n",
    "                df_ratios[~df_ratios['file'].str.contains('deduped')]['count_memorized']):\n",
    "    label = \"{:.0f}\".format(y)\n",
    "    plt.annotate(label, (x, y), textcoords=\"offset points\", xytext=(0, 10), ha='center')\n",
    "# rotate xticks\n",
    "plt.xticks(rotation=90)\n",
    "# bboc inches tight\n",
    "plt.tight_layout()\n",
    "plt.legend()\n",
    "plt.title('Count of memorized for each dataset')"
   ]
  },
  {
   "cell_type": "code",
   "execution_count": 8,
   "metadata": {},
   "outputs": [
    {
     "data": {
      "application/vnd.jupyter.widget-view+json": {
       "model_id": "485e01bdaf374a10abbf3295b698cc70",
       "version_major": 2,
       "version_minor": 0
      },
      "text/plain": [
       "VBox(children=(HBox(children=(IntProgress(value=0, description='0.00%', max=11599), Label(value='0 / 11599')))…"
      ]
     },
     "metadata": {},
     "output_type": "display_data"
    },
    {
     "data": {
      "application/vnd.jupyter.widget-view+json": {
       "model_id": "5393db31cdd244d5a5d8105234b60214",
       "version_major": 2,
       "version_minor": 0
      },
      "text/plain": [
       "VBox(children=(HBox(children=(IntProgress(value=0, description='0.00%', max=17242), Label(value='0 / 17242')))…"
      ]
     },
     "metadata": {},
     "output_type": "display_data"
    },
    {
     "data": {
      "application/vnd.jupyter.widget-view+json": {
       "model_id": "c1865238c73b4f2cad77abd82b8c3281",
       "version_major": 2,
       "version_minor": 0
      },
      "text/plain": [
       "VBox(children=(HBox(children=(IntProgress(value=0, description='0.00%', max=24259), Label(value='0 / 24259')))…"
      ]
     },
     "metadata": {},
     "output_type": "display_data"
    },
    {
     "data": {
      "application/vnd.jupyter.widget-view+json": {
       "model_id": "6afaa89e4da543ab98f6241d8edd6831",
       "version_major": 2,
       "version_minor": 0
      },
      "text/plain": [
       "VBox(children=(HBox(children=(IntProgress(value=0, description='0.00%', max=31404), Label(value='0 / 31404')))…"
      ]
     },
     "metadata": {},
     "output_type": "display_data"
    },
    {
     "data": {
      "application/vnd.jupyter.widget-view+json": {
       "model_id": "02c2d22431f142c7afa6fc914ecc0e16",
       "version_major": 2,
       "version_minor": 0
      },
      "text/plain": [
       "VBox(children=(HBox(children=(IntProgress(value=0, description='0.00%', max=34344), Label(value='0 / 34344')))…"
      ]
     },
     "metadata": {},
     "output_type": "display_data"
    },
    {
     "data": {
      "application/vnd.jupyter.widget-view+json": {
       "model_id": "33f9eaf9cd274697b7216e5a6c49a86b",
       "version_major": 2,
       "version_minor": 0
      },
      "text/plain": [
       "VBox(children=(HBox(children=(IntProgress(value=0, description='0.00%', max=41877), Label(value='0 / 41877')))…"
      ]
     },
     "metadata": {},
     "output_type": "display_data"
    },
    {
     "data": {
      "application/vnd.jupyter.widget-view+json": {
       "model_id": "f4cf7c4aac274abbbf2a5c41aba1422a",
       "version_major": 2,
       "version_minor": 0
      },
      "text/plain": [
       "VBox(children=(HBox(children=(IntProgress(value=0, description='0.00%', max=53025), Label(value='0 / 53025')))…"
      ]
     },
     "metadata": {},
     "output_type": "display_data"
    },
    {
     "data": {
      "application/vnd.jupyter.widget-view+json": {
       "model_id": "7c5dd9e53ec84ecebfb356a9993f946d",
       "version_major": 2,
       "version_minor": 0
      },
      "text/plain": [
       "VBox(children=(HBox(children=(IntProgress(value=0, description='0.00%', max=10287), Label(value='0 / 10287')))…"
      ]
     },
     "metadata": {},
     "output_type": "display_data"
    },
    {
     "data": {
      "application/vnd.jupyter.widget-view+json": {
       "model_id": "2289501e62624e9c91ea77b05613d8ce",
       "version_major": 2,
       "version_minor": 0
      },
      "text/plain": [
       "VBox(children=(HBox(children=(IntProgress(value=0, description='0.00%', max=14530), Label(value='0 / 14530')))…"
      ]
     },
     "metadata": {},
     "output_type": "display_data"
    },
    {
     "data": {
      "application/vnd.jupyter.widget-view+json": {
       "model_id": "d8c6f66b1c0c4b33bbb65dc0a640a5ad",
       "version_major": 2,
       "version_minor": 0
      },
      "text/plain": [
       "VBox(children=(HBox(children=(IntProgress(value=0, description='0.00%', max=20276), Label(value='0 / 20276')))…"
      ]
     },
     "metadata": {},
     "output_type": "display_data"
    },
    {
     "data": {
      "application/vnd.jupyter.widget-view+json": {
       "model_id": "2e7cff4a4ef14aecabbfeb0fd2ad32d0",
       "version_major": 2,
       "version_minor": 0
      },
      "text/plain": [
       "VBox(children=(HBox(children=(IntProgress(value=0, description='0.00%', max=25822), Label(value='0 / 25822')))…"
      ]
     },
     "metadata": {},
     "output_type": "display_data"
    },
    {
     "data": {
      "application/vnd.jupyter.widget-view+json": {
       "model_id": "d7f096b3621f4ae289bd49e9d5b667bd",
       "version_major": 2,
       "version_minor": 0
      },
      "text/plain": [
       "VBox(children=(HBox(children=(IntProgress(value=0, description='0.00%', max=26203), Label(value='0 / 26203')))…"
      ]
     },
     "metadata": {},
     "output_type": "display_data"
    },
    {
     "data": {
      "application/vnd.jupyter.widget-view+json": {
       "model_id": "c172678bbf184c16bc4ce1ee94490de3",
       "version_major": 2,
       "version_minor": 0
      },
      "text/plain": [
       "VBox(children=(HBox(children=(IntProgress(value=0, description='0.00%', max=33881), Label(value='0 / 33881')))…"
      ]
     },
     "metadata": {},
     "output_type": "display_data"
    },
    {
     "data": {
      "application/vnd.jupyter.widget-view+json": {
       "model_id": "c275be98ac6f4679b70e292ba881175e",
       "version_major": 2,
       "version_minor": 0
      },
      "text/plain": [
       "VBox(children=(HBox(children=(IntProgress(value=0, description='0.00%', max=42008), Label(value='0 / 42008')))…"
      ]
     },
     "metadata": {},
     "output_type": "display_data"
    },
    {
     "data": {
      "application/vnd.jupyter.widget-view+json": {
       "model_id": "f1c9b6082b01406e8c3b4af24e125b82",
       "version_major": 2,
       "version_minor": 0
      },
      "text/plain": [
       "VBox(children=(HBox(children=(IntProgress(value=0, description='0.00%', max=11599), Label(value='0 / 11599')))…"
      ]
     },
     "metadata": {},
     "output_type": "display_data"
    },
    {
     "data": {
      "text/html": [
       "<div>\n",
       "<style scoped>\n",
       "    .dataframe tbody tr th:only-of-type {\n",
       "        vertical-align: middle;\n",
       "    }\n",
       "\n",
       "    .dataframe tbody tr th {\n",
       "        vertical-align: top;\n",
       "    }\n",
       "\n",
       "    .dataframe thead th {\n",
       "        text-align: right;\n",
       "    }\n",
       "</style>\n",
       "<table border=\"1\" class=\"dataframe\">\n",
       "  <thead>\n",
       "    <tr style=\"text-align: right;\">\n",
       "      <th></th>\n",
       "      <th>file</th>\n",
       "      <th>inc</th>\n",
       "      <th>non</th>\n",
       "      <th>total</th>\n",
       "    </tr>\n",
       "  </thead>\n",
       "  <tbody>\n",
       "    <tr>\n",
       "      <th>0</th>\n",
       "      <td>pythia-70m.pkl</td>\n",
       "      <td>460385</td>\n",
       "      <td>3568</td>\n",
       "      <td>463953</td>\n",
       "    </tr>\n",
       "    <tr>\n",
       "      <th>1</th>\n",
       "      <td>pythia-160m.pkl</td>\n",
       "      <td>685935</td>\n",
       "      <td>3738</td>\n",
       "      <td>689673</td>\n",
       "    </tr>\n",
       "    <tr>\n",
       "      <th>2</th>\n",
       "      <td>pythia-410m.pkl</td>\n",
       "      <td>966426</td>\n",
       "      <td>3915</td>\n",
       "      <td>970341</td>\n",
       "    </tr>\n",
       "    <tr>\n",
       "      <th>3</th>\n",
       "      <td>pythia-1b.pkl</td>\n",
       "      <td>1252048</td>\n",
       "      <td>4093</td>\n",
       "      <td>1256141</td>\n",
       "    </tr>\n",
       "    <tr>\n",
       "      <th>4</th>\n",
       "      <td>pythia-1.4b.pkl</td>\n",
       "      <td>1369675</td>\n",
       "      <td>4047</td>\n",
       "      <td>1373722</td>\n",
       "    </tr>\n",
       "    <tr>\n",
       "      <th>5</th>\n",
       "      <td>pythia-2.8b.pkl</td>\n",
       "      <td>1670757</td>\n",
       "      <td>4320</td>\n",
       "      <td>1675077</td>\n",
       "    </tr>\n",
       "    <tr>\n",
       "      <th>6</th>\n",
       "      <td>pythia-6.9b.pkl</td>\n",
       "      <td>2115643</td>\n",
       "      <td>5326</td>\n",
       "      <td>2120969</td>\n",
       "    </tr>\n",
       "    <tr>\n",
       "      <th>7</th>\n",
       "      <td>pythia-70m-deduped.pkl</td>\n",
       "      <td>407368</td>\n",
       "      <td>4080</td>\n",
       "      <td>411448</td>\n",
       "    </tr>\n",
       "    <tr>\n",
       "      <th>8</th>\n",
       "      <td>pythia-160m-deduped.pkl</td>\n",
       "      <td>577449</td>\n",
       "      <td>3746</td>\n",
       "      <td>581195</td>\n",
       "    </tr>\n",
       "    <tr>\n",
       "      <th>9</th>\n",
       "      <td>pythia-410m-deduped.pkl</td>\n",
       "      <td>806558</td>\n",
       "      <td>4481</td>\n",
       "      <td>811039</td>\n",
       "    </tr>\n",
       "    <tr>\n",
       "      <th>10</th>\n",
       "      <td>pythia-1b-deduped.pkl</td>\n",
       "      <td>1028555</td>\n",
       "      <td>4310</td>\n",
       "      <td>1032865</td>\n",
       "    </tr>\n",
       "    <tr>\n",
       "      <th>11</th>\n",
       "      <td>pythia-1.4b-deduped.pkl</td>\n",
       "      <td>1043549</td>\n",
       "      <td>4548</td>\n",
       "      <td>1048097</td>\n",
       "    </tr>\n",
       "    <tr>\n",
       "      <th>12</th>\n",
       "      <td>pythia-2.8b-deduped.pkl</td>\n",
       "      <td>1350570</td>\n",
       "      <td>4641</td>\n",
       "      <td>1355211</td>\n",
       "    </tr>\n",
       "    <tr>\n",
       "      <th>13</th>\n",
       "      <td>pythia-6.9b-deduped.pkl</td>\n",
       "      <td>1675847</td>\n",
       "      <td>4447</td>\n",
       "      <td>1680294</td>\n",
       "    </tr>\n",
       "    <tr>\n",
       "      <th>14</th>\n",
       "      <td>pythia-70m.pkl_with_inc_seq</td>\n",
       "      <td>460385</td>\n",
       "      <td>3568</td>\n",
       "      <td>463953</td>\n",
       "    </tr>\n",
       "  </tbody>\n",
       "</table>\n",
       "</div>"
      ],
      "text/plain": [
       "                           file      inc   non    total\n",
       "0                pythia-70m.pkl   460385  3568   463953\n",
       "1               pythia-160m.pkl   685935  3738   689673\n",
       "2               pythia-410m.pkl   966426  3915   970341\n",
       "3                 pythia-1b.pkl  1252048  4093  1256141\n",
       "4               pythia-1.4b.pkl  1369675  4047  1373722\n",
       "5               pythia-2.8b.pkl  1670757  4320  1675077\n",
       "6               pythia-6.9b.pkl  2115643  5326  2120969\n",
       "7        pythia-70m-deduped.pkl   407368  4080   411448\n",
       "8       pythia-160m-deduped.pkl   577449  3746   581195\n",
       "9       pythia-410m-deduped.pkl   806558  4481   811039\n",
       "10        pythia-1b-deduped.pkl  1028555  4310  1032865\n",
       "11      pythia-1.4b-deduped.pkl  1043549  4548  1048097\n",
       "12      pythia-2.8b-deduped.pkl  1350570  4641  1355211\n",
       "13      pythia-6.9b-deduped.pkl  1675847  4447  1680294\n",
       "14  pythia-70m.pkl_with_inc_seq   460385  3568   463953"
      ]
     },
     "execution_count": 8,
     "metadata": {},
     "output_type": "execute_result"
    }
   ],
   "source": [
    "file_list = list()\n",
    "inc_list = list()\n",
    "non_list=list()\n",
    "total_list=list()\n",
    "for file in files:\n",
    "    df = pickle.load(open('./data/' + file, 'rb'))\n",
    "    df['count'] = df['detokenized'].parallel_apply(count_increasing_sequences)\n",
    "    total = df['count'].shape[0]\n",
    "    inc = df[df['count']>0].shape[0]\n",
    "    non = total-inc\n",
    "    file_list.append(file)\n",
    "    inc_list.append(inc)\n",
    "    non_list.append(non)\n",
    "    total_list.append(total)\n",
    "\n",
    "initial_data = {'file': file_list,\n",
    "                'inc': inc_list,\n",
    "                'non': non_list, \n",
    "                'total': total_list}\n",
    " \n",
    "df_ratios = pd.DataFrame(initial_data, columns = ['file', 'inc', 'non','total'])\n",
    "df_ratios\n",
    "\n"
   ]
  },
  {
   "cell_type": "code",
   "execution_count": 10,
   "metadata": {},
   "outputs": [
    {
     "data": {
      "text/plain": [
       "<matplotlib.legend.Legend at 0x7f0ca6af4f70>"
      ]
     },
     "execution_count": 10,
     "metadata": {},
     "output_type": "execute_result"
    },
    {
     "data": {
      "image/png": "[encoded data removed]",
      "text/plain": [
       "<Figure size 1000x500 with 1 Axes>"
      ]
     },
     "metadata": {},
     "output_type": "display_data"
    }
   ],
   "source": [
    "# plot ratio_2_total and ratio_3_total\n",
    "plt.figure(figsize=(10, 5))\n",
    "plt.bar(df_ratios['file'], df_ratios['inc'], label='Incremental')\n",
    "plt.bar(df_ratios['file'], df_ratios['non'], label='Non-Incremental')\n",
    "# rotate xticks\n",
    "plt.xticks(rotation=90)\n",
    "plt.title('Incremental vs Non-Incremental for each dataset')\n",
    "plt.legend()"
   ]
  },
  {
   "cell_type": "code",
   "execution_count": 11,
   "metadata": {},
   "outputs": [
    {
     "data": {
      "text/html": [
       "<div>\n",
       "<style scoped>\n",
       "    .dataframe tbody tr th:only-of-type {\n",
       "        vertical-align: middle;\n",
       "    }\n",
       "\n",
       "    .dataframe tbody tr th {\n",
       "        vertical-align: top;\n",
       "    }\n",
       "\n",
       "    .dataframe thead th {\n",
       "        text-align: right;\n",
       "    }\n",
       "</style>\n",
       "<table border=\"1\" class=\"dataframe\">\n",
       "  <thead>\n",
       "    <tr style=\"text-align: right;\">\n",
       "      <th></th>\n",
       "      <th>file</th>\n",
       "      <th>inc</th>\n",
       "      <th>non</th>\n",
       "      <th>total</th>\n",
       "    </tr>\n",
       "  </thead>\n",
       "  <tbody>\n",
       "    <tr>\n",
       "      <th>0</th>\n",
       "      <td>pythia-70m.pkl</td>\n",
       "      <td>460385</td>\n",
       "      <td>3568</td>\n",
       "      <td>463953</td>\n",
       "    </tr>\n",
       "    <tr>\n",
       "      <th>1</th>\n",
       "      <td>pythia-160m.pkl</td>\n",
       "      <td>685935</td>\n",
       "      <td>3738</td>\n",
       "      <td>689673</td>\n",
       "    </tr>\n",
       "    <tr>\n",
       "      <th>2</th>\n",
       "      <td>pythia-410m.pkl</td>\n",
       "      <td>966426</td>\n",
       "      <td>3915</td>\n",
       "      <td>970341</td>\n",
       "    </tr>\n",
       "    <tr>\n",
       "      <th>3</th>\n",
       "      <td>pythia-1b.pkl</td>\n",
       "      <td>1252048</td>\n",
       "      <td>4093</td>\n",
       "      <td>1256141</td>\n",
       "    </tr>\n",
       "    <tr>\n",
       "      <th>4</th>\n",
       "      <td>pythia-1.4b.pkl</td>\n",
       "      <td>1369675</td>\n",
       "      <td>4047</td>\n",
       "      <td>1373722</td>\n",
       "    </tr>\n",
       "    <tr>\n",
       "      <th>5</th>\n",
       "      <td>pythia-2.8b.pkl</td>\n",
       "      <td>1670757</td>\n",
       "      <td>4320</td>\n",
       "      <td>1675077</td>\n",
       "    </tr>\n",
       "    <tr>\n",
       "      <th>6</th>\n",
       "      <td>pythia-6.9b.pkl</td>\n",
       "      <td>2115643</td>\n",
       "      <td>5326</td>\n",
       "      <td>2120969</td>\n",
       "    </tr>\n",
       "    <tr>\n",
       "      <th>7</th>\n",
       "      <td>pythia-70m-deduped.pkl</td>\n",
       "      <td>407368</td>\n",
       "      <td>4080</td>\n",
       "      <td>411448</td>\n",
       "    </tr>\n",
       "    <tr>\n",
       "      <th>8</th>\n",
       "      <td>pythia-160m-deduped.pkl</td>\n",
       "      <td>577449</td>\n",
       "      <td>3746</td>\n",
       "      <td>581195</td>\n",
       "    </tr>\n",
       "    <tr>\n",
       "      <th>9</th>\n",
       "      <td>pythia-410m-deduped.pkl</td>\n",
       "      <td>806558</td>\n",
       "      <td>4481</td>\n",
       "      <td>811039</td>\n",
       "    </tr>\n",
       "    <tr>\n",
       "      <th>10</th>\n",
       "      <td>pythia-1b-deduped.pkl</td>\n",
       "      <td>1028555</td>\n",
       "      <td>4310</td>\n",
       "      <td>1032865</td>\n",
       "    </tr>\n",
       "    <tr>\n",
       "      <th>11</th>\n",
       "      <td>pythia-1.4b-deduped.pkl</td>\n",
       "      <td>1043549</td>\n",
       "      <td>4548</td>\n",
       "      <td>1048097</td>\n",
       "    </tr>\n",
       "    <tr>\n",
       "      <th>12</th>\n",
       "      <td>pythia-2.8b-deduped.pkl</td>\n",
       "      <td>1350570</td>\n",
       "      <td>4641</td>\n",
       "      <td>1355211</td>\n",
       "    </tr>\n",
       "    <tr>\n",
       "      <th>13</th>\n",
       "      <td>pythia-6.9b-deduped.pkl</td>\n",
       "      <td>1675847</td>\n",
       "      <td>4447</td>\n",
       "      <td>1680294</td>\n",
       "    </tr>\n",
       "    <tr>\n",
       "      <th>14</th>\n",
       "      <td>pythia-70m.pkl_with_inc_seq</td>\n",
       "      <td>460385</td>\n",
       "      <td>3568</td>\n",
       "      <td>463953</td>\n",
       "    </tr>\n",
       "  </tbody>\n",
       "</table>\n",
       "</div>"
      ],
      "text/plain": [
       "                           file      inc   non    total\n",
       "0                pythia-70m.pkl   460385  3568   463953\n",
       "1               pythia-160m.pkl   685935  3738   689673\n",
       "2               pythia-410m.pkl   966426  3915   970341\n",
       "3                 pythia-1b.pkl  1252048  4093  1256141\n",
       "4               pythia-1.4b.pkl  1369675  4047  1373722\n",
       "5               pythia-2.8b.pkl  1670757  4320  1675077\n",
       "6               pythia-6.9b.pkl  2115643  5326  2120969\n",
       "7        pythia-70m-deduped.pkl   407368  4080   411448\n",
       "8       pythia-160m-deduped.pkl   577449  3746   581195\n",
       "9       pythia-410m-deduped.pkl   806558  4481   811039\n",
       "10        pythia-1b-deduped.pkl  1028555  4310  1032865\n",
       "11      pythia-1.4b-deduped.pkl  1043549  4548  1048097\n",
       "12      pythia-2.8b-deduped.pkl  1350570  4641  1355211\n",
       "13      pythia-6.9b-deduped.pkl  1675847  4447  1680294\n",
       "14  pythia-70m.pkl_with_inc_seq   460385  3568   463953"
      ]
     },
     "execution_count": 11,
     "metadata": {},
     "output_type": "execute_result"
    }
   ],
   "source": [
    "df_ratios"
   ]
  },
  {
   "cell_type": "code",
   "execution_count": null,
   "metadata": {},
   "outputs": [],
   "source": []
  }
 ],
 "metadata": {
  "kernelspec": {
   "display_name": "Python 3 (ipykernel)",
   "language": "python",
   "name": "python3"
  },
  "language_info": {
   "codemirror_mode": {
    "name": "ipython",
    "version": 3
   },
   "file_extension": ".py",
   "mimetype": "text/x-python",
   "name": "python",
   "nbconvert_exporter": "python",
   "pygments_lexer": "ipython3",
   "version": "3.9.5"
  }
 },
 "nbformat": 4,
 "nbformat_minor": 1
}
