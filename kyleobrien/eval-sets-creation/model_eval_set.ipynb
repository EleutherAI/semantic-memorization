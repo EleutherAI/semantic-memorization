{
 "cells": [
  {
   "attachments": {},
   "cell_type": "markdown",
   "metadata": {},
   "source": [
    "# Preliminary Analysis"
   ]
  },
  {
   "cell_type": "code",
   "execution_count": 1,
   "metadata": {},
   "outputs": [
    {
     "name": "stderr",
     "output_type": "stream",
     "text": [
      "/home/mchorse/.local/lib/python3.9/site-packages/tqdm/auto.py:22: TqdmWarning: IProgress not found. Please update jupyter and ipywidgets. See https://ipywidgets.readthedocs.io/en/stable/user_install.html\n",
      "  from .autonotebook import tqdm as notebook_tqdm\n"
     ]
    }
   ],
   "source": [
    "import pandas as pd\n",
    "import numpy as np\n",
    "import os\n",
    "from tqdm import tqdm\n",
    "from torch import argmax\n",
    "tqdm.pandas()"
   ]
  },
  {
   "cell_type": "code",
   "execution_count": null,
   "metadata": {},
   "outputs": [],
   "source": [
    "hdf_file = pd.read_hdf(\"./memorized-data/19m.hdf\")\n",
    "hdf_file"
   ]
  },
  {
   "cell_type": "code",
   "execution_count": null,
   "metadata": {},
   "outputs": [],
   "source": [
    "from transformers import AutoTokenizer, AutoModelForSequenceClassification\n",
    "pythia_tokenizer = AutoTokenizer.from_pretrained(\"EleutherAI/pythia-70m\")\n",
    "hdf_file[\"tokens\"].sample(20).apply(lambda record: pythia_tokenizer.decode(record))"
   ]
  },
  {
   "cell_type": "code",
   "execution_count": null,
   "metadata": {},
   "outputs": [],
   "source": [
    "code_model = AutoModelForSequenceClassification.from_pretrained(\"usvsnsp/code-vs-nl\")\n",
    "code_tokenizer = AutoTokenizer.from_pretrained(\"usvsnsp/code-vs-nl\")"
   ]
  },
  {
   "cell_type": "code",
   "execution_count": null,
   "metadata": {},
   "outputs": [],
   "source": [
    "license_sequence = pythia_tokenizer.decode(hdf_file.iloc[1000][\"tokens\"])\n",
    "code_sequence = pythia_tokenizer.decode(hdf_file.iloc[1][\"tokens\"])\n",
    "error_sequence = pythia_tokenizer.decode(hdf_file.iloc[2][\"tokens\"])\n",
    "custom_nl_seqeuence = \"This is an experiment by EleutherAI\"\n",
    "print(\"\\n[Seqeuence 1]\" + license_sequence + \"\\n\")\n",
    "print(\"\\n[Seqeuence 2]\" + code_sequence + \"\\n\")\n",
    "print(\"\\n[Seqeuence 3]\" + error_sequence + \"\\n\")\n",
    "print(\"\\n[Seqeuence 4]\" + custom_nl_seqeuence + \"\\n\")"
   ]
  },
  {
   "cell_type": "code",
   "execution_count": null,
   "metadata": {},
   "outputs": [],
   "source": [
    "license_sequence_label = argmax(code_model(code_tokenizer.encode(license_sequence, return_tensors=\"pt\")).logits, axis=1).item()\n",
    "code_sequence_label = argmax(code_model(code_tokenizer.encode(code_sequence, return_tensors=\"pt\")).logits, axis=1).item()\n",
    "error_sequence_label = argmax(code_model(code_tokenizer.encode(error_sequence, return_tensors=\"pt\")).logits, axis=1).item()\n",
    "custom_nl_seqeuence_label = argmax(code_model(code_tokenizer.encode(custom_nl_seqeuence, return_tensors=\"pt\")).logits, axis=1).item()\n",
    "\n",
    "print(license_sequence_label)\n",
    "print(code_sequence_label)\n",
    "print(error_sequence_label)\n",
    "print(custom_nl_seqeuence_label)"
   ]
  },
  {
   "cell_type": "code",
   "execution_count": null,
   "metadata": {},
   "outputs": [],
   "source": [
    "nl_dataset = hdf_file\n",
    "nl_dataset[\"text\"] = nl_dataset[\"tokens\"].progress_apply(lambda tokens: pythia_tokenizer.decode(tokens))\n",
    "nl_dataset"
   ]
  },
  {
   "attachments": {},
   "cell_type": "markdown",
   "metadata": {},
   "source": [
    "# Build Code Classifier Evaluation Dataset\n",
    "\n",
    "In order to have traction analyzing all the memorized data, we need to be able to use an accurate classifier to syft through the data. This notebook creates an evaluation dataset using 500 samples selected from all the unique memorized sequences. 250 of the samples are squences that Orz's code classifier determiens was positive, and 250 that aren't labeled as code."
   ]
  },
  {
   "cell_type": "code",
   "execution_count": 25,
   "metadata": {},
   "outputs": [],
   "source": [
    "import os\n",
    "\n",
    "from transformers import AutoTokenizer, AutoModelForSequenceClassification\n",
    "from torch.nn.functional import softmax\n",
    "from torch import argmax"
   ]
  },
  {
   "cell_type": "code",
   "execution_count": 6,
   "metadata": {},
   "outputs": [
    {
     "name": "stdout",
     "output_type": "stream",
     "text": [
      "Loading 19m.hdf from memory\n",
      "Added memorized sequences from 19m.hdf now totaling 463953 sequences\n",
      "Loading 2.7b.hdf from memory\n",
      "Added memorized sequences from 2.7b.hdf now totaling 1697368 sequences\n",
      "Loading 6.7b.hdf from memory\n",
      "Added memorized sequences from 6.7b.hdf now totaling 2308812 sequences\n",
      "Loading 350m.hdf from memory\n",
      "Added memorized sequences from 350m.hdf now totaling 2336246 sequences\n",
      "Loading 13b.hdf from memory\n",
      "Added memorized sequences from 13b.hdf now totaling 2734597 sequences\n",
      "Loading 800m.hdf from memory\n",
      "Added memorized sequences from 800m.hdf now totaling 2758391 sequences\n",
      "Loading 1.3b.hdf from memory\n",
      "Added memorized sequences from 1.3b.hdf now totaling 2782412 sequences\n",
      "Loading 125m.hdf from memory\n",
      "Added memorized sequences from 125m.hdf now totaling 2788948 sequences\n"
     ]
    }
   ],
   "source": [
    "data_path = \"memorized-data\"\n",
    "unique_memories = None\n",
    "\n",
    "for dataset in os.listdir(data_path):\n",
    "    print(f\"Loading {dataset} from memory\")\n",
    "    model_dataset_path = f\"{data_path}/{dataset}\"\n",
    "    hdf_file = pd.read_hdf(f\"./memorized-data/{dataset}\")\n",
    "\n",
    "    if unique_memories is None:\n",
    "        unique_memories = hdf_file\n",
    "    else:\n",
    "        unique_memories = pd.concat([unique_memories, hdf_file]).drop_duplicates([\"index\"])\n",
    "    \n",
    "    print(f\"Added memorized sequences from {dataset} now totaling {len(unique_memories)} sequences\")\n"
   ]
  },
  {
   "cell_type": "code",
   "execution_count": 13,
   "metadata": {},
   "outputs": [
    {
     "name": "stderr",
     "output_type": "stream",
     "text": [
      "100%|██████████| 2788948/2788948 [09:48<00:00, 4739.59it/s]\n"
     ]
    },
    {
     "data": {
      "text/html": [
       "<div>\n",
       "<style scoped>\n",
       "    .dataframe tbody tr th:only-of-type {\n",
       "        vertical-align: middle;\n",
       "    }\n",
       "\n",
       "    .dataframe tbody tr th {\n",
       "        vertical-align: top;\n",
       "    }\n",
       "\n",
       "    .dataframe thead th {\n",
       "        text-align: right;\n",
       "    }\n",
       "</style>\n",
       "<table border=\"1\" class=\"dataframe\">\n",
       "  <thead>\n",
       "    <tr style=\"text-align: right;\">\n",
       "      <th></th>\n",
       "      <th>index</th>\n",
       "      <th>accuracy</th>\n",
       "      <th>tokens</th>\n",
       "      <th>text</th>\n",
       "    </tr>\n",
       "  </thead>\n",
       "  <tbody>\n",
       "    <tr>\n",
       "      <th>232</th>\n",
       "      <td>232</td>\n",
       "      <td>1.0</td>\n",
       "      <td>[996, 186, 29, 1088, 7392, 568, 29860, 5264, 2...</td>\n",
       "      <td>\\n\\t\\t&lt;read echo=\"ascii\"&gt;&lt;delim&gt;\\n&lt;/delim&gt;&lt;mat...</td>\n",
       "    </tr>\n",
       "    <tr>\n",
       "      <th>764</th>\n",
       "      <td>764</td>\n",
       "      <td>1.0</td>\n",
       "      <td>[599, 17585, 423, 92, 3728, 12945, 423, 92, 33...</td>\n",
       "      <td>}}).\\end{array}$$\\end{document}$$$$\\documentcl...</td>\n",
       "    </tr>\n",
       "    <tr>\n",
       "      <th>806</th>\n",
       "      <td>806</td>\n",
       "      <td>1.0</td>\n",
       "      <td>[313, 39386, 27, 19939, 428, 5270, 310, 1239, ...</td>\n",
       "      <td>(errno: 165 - Table is read only)\\nERROR HY00...</td>\n",
       "    </tr>\n",
       "    <tr>\n",
       "      <th>891</th>\n",
       "      <td>891</td>\n",
       "      <td>1.0</td>\n",
       "      <td>[94, 187, 50262, 61, 2099, 92, 8798, 94, 187, ...</td>\n",
       "      <td>}\\n                \\usepackage{amsmath}\\n     ...</td>\n",
       "    </tr>\n",
       "    <tr>\n",
       "      <th>1060</th>\n",
       "      <td>1060</td>\n",
       "      <td>1.0</td>\n",
       "      <td>[4022, 305, 48095, 4477, 15, 187, 475, 187, 47...</td>\n",
       "      <td>2016 gRPC authors.\\n *\\n * Licensed under the...</td>\n",
       "    </tr>\n",
       "    <tr>\n",
       "      <th>...</th>\n",
       "      <td>...</td>\n",
       "      <td>...</td>\n",
       "      <td>...</td>\n",
       "      <td>...</td>\n",
       "    </tr>\n",
       "    <tr>\n",
       "      <th>2120948</th>\n",
       "      <td>146264948</td>\n",
       "      <td>1.0</td>\n",
       "      <td>[783, 346, 17736, 3287, 2379, 475, 368, 778, 4...</td>\n",
       "      <td>the \"License\");\\r\\n * you may not use this fil...</td>\n",
       "    </tr>\n",
       "    <tr>\n",
       "      <th>2147503</th>\n",
       "      <td>146291503</td>\n",
       "      <td>1.0</td>\n",
       "      <td>[50276, 38097, 20386, 390, 20524, 6651, 329, 2...</td>\n",
       "      <td>MERCHANTABILITY or FITNESS FOR A PARTICULAR ...</td>\n",
       "    </tr>\n",
       "    <tr>\n",
       "      <th>2209889</th>\n",
       "      <td>146353889</td>\n",
       "      <td>1.0</td>\n",
       "      <td>[77, 11, 426, 4150, 746, 23759, 1797, 187, 502...</td>\n",
       "      <td>l* = −19→21\\n  4492 measured reflections      ...</td>\n",
       "    </tr>\n",
       "    <tr>\n",
       "      <th>2232160</th>\n",
       "      <td>146376160</td>\n",
       "      <td>1.0</td>\n",
       "      <td>[15, 187, 475, 187, 475, 25936, 2382, 285, 897...</td>\n",
       "      <td>.\\n *\\n * Redistribution and use in source and...</td>\n",
       "    </tr>\n",
       "    <tr>\n",
       "      <th>2240666</th>\n",
       "      <td>146384666</td>\n",
       "      <td>1.0</td>\n",
       "      <td>[187, 187, 13, 708, 964, 1401, 25030, 22193, 1...</td>\n",
       "      <td>\\n\\n, &amp;. ** ****, ().\\n\\n&amp;. ** ****, ().\\n\\n*e...</td>\n",
       "    </tr>\n",
       "  </tbody>\n",
       "</table>\n",
       "<p>2788948 rows × 4 columns</p>\n",
       "</div>"
      ],
      "text/plain": [
       "             index  accuracy  \\\n",
       "232            232       1.0   \n",
       "764            764       1.0   \n",
       "806            806       1.0   \n",
       "891            891       1.0   \n",
       "1060          1060       1.0   \n",
       "...            ...       ...   \n",
       "2120948  146264948       1.0   \n",
       "2147503  146291503       1.0   \n",
       "2209889  146353889       1.0   \n",
       "2232160  146376160       1.0   \n",
       "2240666  146384666       1.0   \n",
       "\n",
       "                                                    tokens  \\\n",
       "232      [996, 186, 29, 1088, 7392, 568, 29860, 5264, 2...   \n",
       "764      [599, 17585, 423, 92, 3728, 12945, 423, 92, 33...   \n",
       "806      [313, 39386, 27, 19939, 428, 5270, 310, 1239, ...   \n",
       "891      [94, 187, 50262, 61, 2099, 92, 8798, 94, 187, ...   \n",
       "1060     [4022, 305, 48095, 4477, 15, 187, 475, 187, 47...   \n",
       "...                                                    ...   \n",
       "2120948  [783, 346, 17736, 3287, 2379, 475, 368, 778, 4...   \n",
       "2147503  [50276, 38097, 20386, 390, 20524, 6651, 329, 2...   \n",
       "2209889  [77, 11, 426, 4150, 746, 23759, 1797, 187, 502...   \n",
       "2232160  [15, 187, 475, 187, 475, 25936, 2382, 285, 897...   \n",
       "2240666  [187, 187, 13, 708, 964, 1401, 25030, 22193, 1...   \n",
       "\n",
       "                                                      text  \n",
       "232      \\n\\t\\t<read echo=\"ascii\"><delim>\\n</delim><mat...  \n",
       "764      }}).\\end{array}$$\\end{document}$$$$\\documentcl...  \n",
       "806       (errno: 165 - Table is read only)\\nERROR HY00...  \n",
       "891      }\\n                \\usepackage{amsmath}\\n     ...  \n",
       "1060      2016 gRPC authors.\\n *\\n * Licensed under the...  \n",
       "...                                                    ...  \n",
       "2120948  the \"License\");\\r\\n * you may not use this fil...  \n",
       "2147503    MERCHANTABILITY or FITNESS FOR A PARTICULAR ...  \n",
       "2209889  l* = −19→21\\n  4492 measured reflections      ...  \n",
       "2232160  .\\n *\\n * Redistribution and use in source and...  \n",
       "2240666  \\n\\n, &. ** ****, ().\\n\\n&. ** ****, ().\\n\\n*e...  \n",
       "\n",
       "[2788948 rows x 4 columns]"
      ]
     },
     "execution_count": 13,
     "metadata": {},
     "output_type": "execute_result"
    }
   ],
   "source": [
    "pythia_tokenizer = AutoTokenizer.from_pretrained(\"EleutherAI/pythia-70m\")\n",
    "unique_memories[\"text\"] = unique_memories[\"tokens\"].progress_apply(lambda tokens: pythia_tokenizer.decode(tokens))\n",
    "unique_memories"
   ]
  },
  {
   "cell_type": "code",
   "execution_count": 17,
   "metadata": {},
   "outputs": [
    {
     "name": "stderr",
     "output_type": "stream",
     "text": [
      "/tmp/ipykernel_1389227/2299059242.py:1: PerformanceWarning: \n",
      "your performance may suffer as PyTables will pickle object types that it cannot\n",
      "map directly to c-types [inferred_type->mixed,key->block2_values] [items->Index(['tokens', 'text'], dtype='object')]\n",
      "\n",
      "  unique_memories.to_hdf(f\"{data_path}/all_memorized_sequences.hdf\", key=\"memories\", mode=\"w\")\n"
     ]
    }
   ],
   "source": [
    "unique_memories.to_hdf(f\"{data_path}/all_memorized_sequences.hdf\", key=\"memories\", mode=\"w\")"
   ]
  },
  {
   "cell_type": "code",
   "execution_count": 47,
   "metadata": {},
   "outputs": [
    {
     "name": "stderr",
     "output_type": "stream",
     "text": [
      "100%|██████████| 10000/10000 [04:05<00:00, 40.67it/s]\n"
     ]
    }
   ],
   "source": [
    "def get_code_score(text):\n",
    "    tokens = code_tokenizer.encode(text, return_tensors=\"pt\", max_length=512, truncation=True)\n",
    "    logits = code_detector(tokens).logits\n",
    "    pos_score = round(softmax(logits, dim=1)[0][1].item(), 2)\n",
    "    return pos_score\n",
    "    \n",
    "\n",
    "code_detector = AutoModelForSequenceClassification.from_pretrained(\"usvsnsp/code-vs-nl\")\n",
    "code_tokenizer = AutoTokenizer.from_pretrained(\"usvsnsp/code-vs-nl\")\n",
    "downsized_memories = unique_memories.sample(10000)\n",
    "downsized_memories[\"code_scores\"] = downsized_memories[\"text\"].progress_apply(lambda text: get_code_score(text))\n",
    "downsized_memories = downsized_memories.drop([\"accuracy\", \"tokens\"], axis=1)"
   ]
  },
  {
   "cell_type": "code",
   "execution_count": 50,
   "metadata": {},
   "outputs": [],
   "source": [
    "downsized_memories.to_csv(f\"{data_path}/downsizes_sequences.csv\", mode=\"w\")"
   ]
  },
  {
   "cell_type": "code",
   "execution_count": 53,
   "metadata": {},
   "outputs": [
    {
     "data": {
      "text/html": [
       "<div>\n",
       "<style scoped>\n",
       "    .dataframe tbody tr th:only-of-type {\n",
       "        vertical-align: middle;\n",
       "    }\n",
       "\n",
       "    .dataframe tbody tr th {\n",
       "        vertical-align: top;\n",
       "    }\n",
       "\n",
       "    .dataframe thead th {\n",
       "        text-align: right;\n",
       "    }\n",
       "</style>\n",
       "<table border=\"1\" class=\"dataframe\">\n",
       "  <thead>\n",
       "    <tr style=\"text-align: right;\">\n",
       "      <th></th>\n",
       "      <th>index</th>\n",
       "      <th>text</th>\n",
       "      <th>code_scores</th>\n",
       "    </tr>\n",
       "  </thead>\n",
       "  <tbody>\n",
       "    <tr>\n",
       "      <th>2517</th>\n",
       "      <td>82370517</td>\n",
       "      <td>nr,RhsStorageOrder&gt; pack_rhs;\\n\\n    for(Index...</td>\n",
       "      <td>0.60</td>\n",
       "    </tr>\n",
       "    <tr>\n",
       "      <th>262216</th>\n",
       "      <td>90638216</td>\n",
       "      <td>ologies.orient.core.id.ORecordId;\\nimport com....</td>\n",
       "      <td>0.57</td>\n",
       "    </tr>\n",
       "    <tr>\n",
       "      <th>694713</th>\n",
       "      <td>102510713</td>\n",
       "      <td>4fc53ed82b4e75901d4_5\\n- :distance: 335\\n  :fi...</td>\n",
       "      <td>0.56</td>\n",
       "    </tr>\n",
       "    <tr>\n",
       "      <th>46088</th>\n",
       "      <td>49524088</td>\n",
       "      <td>c\\n../requests/__pycache__/__version__.cpython...</td>\n",
       "      <td>0.62</td>\n",
       "    </tr>\n",
       "    <tr>\n",
       "      <th>908058</th>\n",
       "      <td>28364058</td>\n",
       "      <td>document}$ and $\\documentclass[12pt]{minimal}\\...</td>\n",
       "      <td>0.60</td>\n",
       "    </tr>\n",
       "    <tr>\n",
       "      <th>...</th>\n",
       "      <td>...</td>\n",
       "      <td>...</td>\n",
       "      <td>...</td>\n",
       "    </tr>\n",
       "    <tr>\n",
       "      <th>723160</th>\n",
       "      <td>142579160</td>\n",
       "      <td>7&lt;/a&gt;&lt;/div&gt;\\r\\n        &lt;div&gt;&lt;a href=\"#\"&gt;Item ...</td>\n",
       "      <td>0.60</td>\n",
       "    </tr>\n",
       "    <tr>\n",
       "      <th>658902</th>\n",
       "      <td>121922902</td>\n",
       "      <td>56\\n\\tETHERTYPE_BCLOOP                  = 0x90...</td>\n",
       "      <td>0.58</td>\n",
       "    </tr>\n",
       "    <tr>\n",
       "      <th>29855</th>\n",
       "      <td>128157855</td>\n",
       "      <td>ribution and use in source and binary forms, w...</td>\n",
       "      <td>0.56</td>\n",
       "    </tr>\n",
       "    <tr>\n",
       "      <th>164489</th>\n",
       "      <td>115136489</td>\n",
       "      <td>bitand_&lt; bitand_&lt; N1,N2 &gt;, N3&gt;\\n{\\n    BOOST_...</td>\n",
       "      <td>0.59</td>\n",
       "    </tr>\n",
       "    <tr>\n",
       "      <th>283728</th>\n",
       "      <td>16585728</td>\n",
       "      <td>01). Alternative\\nimplementation is a literal ...</td>\n",
       "      <td>0.57</td>\n",
       "    </tr>\n",
       "  </tbody>\n",
       "</table>\n",
       "<p>250 rows × 3 columns</p>\n",
       "</div>"
      ],
      "text/plain": [
       "            index                                               text  \\\n",
       "2517     82370517  nr,RhsStorageOrder> pack_rhs;\\n\\n    for(Index...   \n",
       "262216   90638216  ologies.orient.core.id.ORecordId;\\nimport com....   \n",
       "694713  102510713  4fc53ed82b4e75901d4_5\\n- :distance: 335\\n  :fi...   \n",
       "46088    49524088  c\\n../requests/__pycache__/__version__.cpython...   \n",
       "908058   28364058  document}$ and $\\documentclass[12pt]{minimal}\\...   \n",
       "...           ...                                                ...   \n",
       "723160  142579160   7</a></div>\\r\\n        <div><a href=\"#\">Item ...   \n",
       "658902  121922902  56\\n\\tETHERTYPE_BCLOOP                  = 0x90...   \n",
       "29855   128157855  ribution and use in source and binary forms, w...   \n",
       "164489  115136489   bitand_< bitand_< N1,N2 >, N3>\\n{\\n    BOOST_...   \n",
       "283728   16585728  01). Alternative\\nimplementation is a literal ...   \n",
       "\n",
       "        code_scores  \n",
       "2517           0.60  \n",
       "262216         0.57  \n",
       "694713         0.56  \n",
       "46088          0.62  \n",
       "908058         0.60  \n",
       "...             ...  \n",
       "723160         0.60  \n",
       "658902         0.58  \n",
       "29855          0.56  \n",
       "164489         0.59  \n",
       "283728         0.57  \n",
       "\n",
       "[250 rows x 3 columns]"
      ]
     },
     "execution_count": 53,
     "metadata": {},
     "output_type": "execute_result"
    }
   ],
   "source": [
    "positives = downsized_memories[downsized_memories[\"code_scores\"] >= 0.5].sample(250)\n",
    "positives"
   ]
  },
  {
   "cell_type": "code",
   "execution_count": 54,
   "metadata": {},
   "outputs": [
    {
     "data": {
      "text/html": [
       "<div>\n",
       "<style scoped>\n",
       "    .dataframe tbody tr th:only-of-type {\n",
       "        vertical-align: middle;\n",
       "    }\n",
       "\n",
       "    .dataframe tbody tr th {\n",
       "        vertical-align: top;\n",
       "    }\n",
       "\n",
       "    .dataframe thead th {\n",
       "        text-align: right;\n",
       "    }\n",
       "</style>\n",
       "<table border=\"1\" class=\"dataframe\">\n",
       "  <thead>\n",
       "    <tr style=\"text-align: right;\">\n",
       "      <th></th>\n",
       "      <th>index</th>\n",
       "      <th>text</th>\n",
       "      <th>code_scores</th>\n",
       "    </tr>\n",
       "  </thead>\n",
       "  <tbody>\n",
       "    <tr>\n",
       "      <th>16032</th>\n",
       "      <td>8024032</td>\n",
       "      <td>comes with a sizable cost. For us to continue...</td>\n",
       "      <td>0.47</td>\n",
       "    </tr>\n",
       "    <tr>\n",
       "      <th>545214</th>\n",
       "      <td>29145214</td>\n",
       "      <td>Newton touchdown ball&lt;|endoftext|&gt;J-S28008-18...</td>\n",
       "      <td>0.46</td>\n",
       "    </tr>\n",
       "    <tr>\n",
       "      <th>2130233</th>\n",
       "      <td>18146233</td>\n",
       "      <td>no prize?\\nThere's no prize? There's no prize...</td>\n",
       "      <td>0.45</td>\n",
       "    </tr>\n",
       "    <tr>\n",
       "      <th>187913</th>\n",
       "      <td>7337913</td>\n",
       "      <td>essays on global warming from different angle...</td>\n",
       "      <td>0.45</td>\n",
       "    </tr>\n",
       "    <tr>\n",
       "      <th>845337</th>\n",
       "      <td>16861337</td>\n",
       "      <td>Zero\\n\\nEnjoy reading WOLF STREET and want to...</td>\n",
       "      <td>0.49</td>\n",
       "    </tr>\n",
       "    <tr>\n",
       "      <th>...</th>\n",
       "      <td>...</td>\n",
       "      <td>...</td>\n",
       "      <td>...</td>\n",
       "    </tr>\n",
       "    <tr>\n",
       "      <th>72367</th>\n",
       "      <td>51838367</td>\n",
       "      <td>I am now a fan.\\n\\nWishing you well,\\n\\nLaura...</td>\n",
       "      <td>0.47</td>\n",
       "    </tr>\n",
       "    <tr>\n",
       "      <th>117851</th>\n",
       "      <td>124813851</td>\n",
       "      <td>1560440772390713810515859307960866701724271218...</td>\n",
       "      <td>0.49</td>\n",
       "    </tr>\n",
       "    <tr>\n",
       "      <th>1983096</th>\n",
       "      <td>38591096</td>\n",
       "      <td>DAMAGES\\n * (INCLUDING, BUT NOT LIMITED TO, P...</td>\n",
       "      <td>0.49</td>\n",
       "    </tr>\n",
       "    <tr>\n",
       "      <th>182970</th>\n",
       "      <td>69394970</td>\n",
       "      <td>R. 2008,, 681, 626-635\\n\\nHughes, A. M., Wilne...</td>\n",
       "      <td>0.48</td>\n",
       "    </tr>\n",
       "    <tr>\n",
       "      <th>147347</th>\n",
       "      <td>84803347</td>\n",
       "      <td>PUBLISHED\\n\\n\\n    PENNY CULP,\\n\\n            ...</td>\n",
       "      <td>0.45</td>\n",
       "    </tr>\n",
       "  </tbody>\n",
       "</table>\n",
       "<p>250 rows × 3 columns</p>\n",
       "</div>"
      ],
      "text/plain": [
       "             index                                               text  \\\n",
       "16032      8024032   comes with a sizable cost. For us to continue...   \n",
       "545214    29145214   Newton touchdown ball<|endoftext|>J-S28008-18...   \n",
       "2130233   18146233   no prize?\\nThere's no prize? There's no prize...   \n",
       "187913     7337913   essays on global warming from different angle...   \n",
       "845337    16861337   Zero\\n\\nEnjoy reading WOLF STREET and want to...   \n",
       "...            ...                                                ...   \n",
       "72367     51838367   I am now a fan.\\n\\nWishing you well,\\n\\nLaura...   \n",
       "117851   124813851  1560440772390713810515859307960866701724271218...   \n",
       "1983096   38591096   DAMAGES\\n * (INCLUDING, BUT NOT LIMITED TO, P...   \n",
       "182970    69394970  R. 2008,, 681, 626-635\\n\\nHughes, A. M., Wilne...   \n",
       "147347    84803347  PUBLISHED\\n\\n\\n    PENNY CULP,\\n\\n            ...   \n",
       "\n",
       "         code_scores  \n",
       "16032           0.47  \n",
       "545214          0.46  \n",
       "2130233         0.45  \n",
       "187913          0.45  \n",
       "845337          0.49  \n",
       "...              ...  \n",
       "72367           0.47  \n",
       "117851          0.49  \n",
       "1983096         0.49  \n",
       "182970          0.48  \n",
       "147347          0.45  \n",
       "\n",
       "[250 rows x 3 columns]"
      ]
     },
     "execution_count": 54,
     "metadata": {},
     "output_type": "execute_result"
    }
   ],
   "source": [
    "negatives = downsized_memories[downsized_memories[\"code_scores\"] < 0.5].sample(250)\n",
    "negatives"
   ]
  },
  {
   "cell_type": "code",
   "execution_count": 57,
   "metadata": {},
   "outputs": [],
   "source": [
    "pd.concat([positives, negatives]).sample(frac=1).to_csv(f\"{data_path}/evaluation_set_soft_labels.csv\", mode=\"w\")"
   ]
  },
  {
   "cell_type": "code",
   "execution_count": null,
   "metadata": {},
   "outputs": [],
   "source": []
  }
 ],
 "metadata": {
  "kernelspec": {
   "display_name": "kyle",
   "language": "python",
   "name": "python3"
  },
  "language_info": {
   "codemirror_mode": {
    "name": "ipython",
    "version": 3
   },
   "file_extension": ".py",
   "mimetype": "text/x-python",
   "name": "python",
   "nbconvert_exporter": "python",
   "pygments_lexer": "ipython3",
   "version": "3.9.16"
  },
  "orig_nbformat": 4,
  "vscode": {
   "interpreter": {
    "hash": "423349b68381941b0ad19ee75e847f0df3cb00ee36769673268a62e1395c0444"
   }
  }
 },
 "nbformat": 4,
 "nbformat_minor": 2
}
