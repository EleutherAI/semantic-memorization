{
 "cells": [
  {
   "cell_type": "code",
   "execution_count": 11,
   "metadata": {},
   "outputs": [
    {
     "name": "stdout",
     "output_type": "stream",
     "text": [
      "INFO: Pandarallel will run on 40 workers.\n",
      "INFO: Pandarallel will use Memory file system to transfer data between the main process and workers.\n"
     ]
    }
   ],
   "source": [
    "import pandas as pd\n",
    "import os\n",
    "import pickle\n",
    "import matplotlib.pyplot as plt\n",
    "import numpy as np\n",
    "import seaborn as sns\n",
    "from pandarallel import pandarallel\n",
    "import multiprocessing\n",
    "pandarallel.initialize(progress_bar=True, nb_workers=multiprocessing.cpu_count())"
   ]
  },
  {
   "cell_type": "code",
   "execution_count": 12,
   "metadata": {},
   "outputs": [],
   "source": [
    "def break_and_compare(ls, k):\n",
    "    n = len(ls)\n",
    "    while n % k != 0:\n",
    "        n -= 1\n",
    "    to_break = ls[:n]\n",
    "    residual = ls[n:]\n",
    "    chunk_size = n // k\n",
    "    while len(residual) < chunk_size:\n",
    "        # split into chunks\n",
    "        chunks = [to_break[i:i + chunk_size] for i in range(0, len(to_break), chunk_size)]\n",
    "        chunksMatch = True\n",
    "        # compare all chunks to first chunk\n",
    "        for chunk in chunks[1:]:\n",
    "            if chunk != chunks[0]:\n",
    "                chunksMatch = False\n",
    "                break\n",
    "        if chunksMatch:\n",
    "            # compare residual to first chunk\n",
    "            if residual == chunks[0][:len(residual)]:\n",
    "                return chunks[0]\n",
    "        chunk_size -= 1\n",
    "        new_residual = to_break[chunk_size * k:]\n",
    "        to_break = to_break[:chunk_size * k]\n",
    "        residual = new_residual + residual\n",
    "    return []"
   ]
  },
  {
   "cell_type": "code",
   "execution_count": 13,
   "metadata": {},
   "outputs": [],
   "source": [
    "def break_and_compare_wrapper(ls, start_k, end_k):\n",
    "    # end_k is inclusive\n",
    "    ls = list(ls)\n",
    "    for k in range(start_k, end_k + 1):\n",
    "        result = break_and_compare(ls, k)\n",
    "        if result:\n",
    "            return result, k\n",
    "    return [], -1"
   ]
  },
  {
   "cell_type": "code",
   "execution_count": 14,
   "metadata": {},
   "outputs": [
    {
     "data": {
      "text/plain": [
       "[1, 2, 3, 4]"
      ]
     },
     "execution_count": 14,
     "metadata": {},
     "output_type": "execute_result"
    }
   ],
   "source": [
    "break_and_compare([1,2,3,4,1,2,3,4,1,2,3,4,1], k=3)"
   ]
  },
  {
   "cell_type": "code",
   "execution_count": 15,
   "metadata": {},
   "outputs": [
    {
     "data": {
      "text/plain": [
       "([1, 2, 3, 4], 3)"
      ]
     },
     "execution_count": 15,
     "metadata": {},
     "output_type": "execute_result"
    }
   ],
   "source": [
    "break_and_compare_wrapper([1,2,3,4,1,2,3,4,1,2,3,4,1], start_k=2, end_k=4)"
   ]
  },
  {
   "cell_type": "code",
   "execution_count": 46,
   "metadata": {},
   "outputs": [
    {
     "data": {
      "text/plain": [
       "['pythia-70m.pkl',\n",
       " 'pythia-160m.pkl',\n",
       " 'pythia-410m.pkl',\n",
       " 'pythia-1b.pkl',\n",
       " 'pythia-1.4b.pkl',\n",
       " 'pythia-2.8b.pkl',\n",
       " 'pythia-6.9b.pkl',\n",
       " 'pythia-70m-deduped.pkl',\n",
       " 'pythia-160m-deduped.pkl',\n",
       " 'pythia-410m-deduped.pkl',\n",
       " 'pythia-1b-deduped.pkl',\n",
       " 'pythia-1.4b-deduped.pkl',\n",
       " 'pythia-2.8b-deduped.pkl',\n",
       " 'pythia-6.9b-deduped.pkl']"
      ]
     },
     "execution_count": 46,
     "metadata": {},
     "output_type": "execute_result"
    }
   ],
   "source": [
    "files = os.listdir('../data')\n",
    "# choose files without 'lrs' or 'mrs' in the name\n",
    "files = [file for file in files if 'lrs' not in file and 'mrs' not in file and 'chunk' not in file]\n",
    "files"
   ]
  },
  {
   "cell_type": "code",
   "execution_count": 17,
   "metadata": {},
   "outputs": [],
   "source": [
    "def get_df_with_chunk_and_k(file):\n",
    "    df = pickle.load(open('../data/' + file, 'rb'))\n",
    "    df['chunk'], df['k'] = zip(*df['tokens'].parallel_apply(break_and_compare_wrapper, args=(2, 10)))\n",
    "    # save df as pickle\n",
    "    pickle.dump(df, open('../data/' + file + \"_with_chunk_and_k\", 'wb'))\n",
    "    return df\n",
    "    "
   ]
  },
  {
   "cell_type": "code",
   "execution_count": 18,
   "metadata": {},
   "outputs": [],
   "source": [
    "def load_df_with_chunk_and_k(file):\n",
    "    return pickle.load(open('../data/' + file + \"_with_chunk_and_k\", 'rb'))"
   ]
  },
  {
   "cell_type": "code",
   "execution_count": 24,
   "metadata": {},
   "outputs": [],
   "source": [
    "df = load_df_with_chunk_and_k(files[0])"
   ]
  },
  {
   "cell_type": "code",
   "execution_count": 33,
   "metadata": {},
   "outputs": [],
   "source": [
    "def plot_chunk_length(file):\n",
    "    df = load_df_with_chunk_and_k(file)\n",
    "    df_without_k_negative_1 = df[df['k'] != -1]\n",
    "    # bar plot of df_without_k_negative_1['k'] and save\n",
    "    plt.figure(figsize=(10, 5))\n",
    "    sns.countplot(x='k', data=df_without_k_negative_1)\n",
    "    plt.title('Distribution of k for ' + file)\n",
    "    plt.savefig('../plots/' + file + '_chunk_length.png')\n",
    "    # plt.show()"
   ]
  },
  {
   "cell_type": "code",
   "execution_count": 42,
   "metadata": {},
   "outputs": [
    {
     "data": {
      "text/plain": [
       "{-1: 434409, 2: 26352, 3: 3192}"
      ]
     },
     "execution_count": 42,
     "metadata": {},
     "output_type": "execute_result"
    }
   ],
   "source": [
    "df['k'].value_counts().to_dict()"
   ]
  },
  {
   "cell_type": "code",
   "execution_count": 44,
   "metadata": {},
   "outputs": [
    {
     "data": {
      "text/plain": [
       "8.25563909774436"
      ]
     },
     "execution_count": 44,
     "metadata": {},
     "output_type": "execute_result"
    }
   ],
   "source": [
    "r23 = df['k'].value_counts().to_dict()[2]/ df['k'].value_counts().to_dict()[3]\n",
    "r23"
   ]
  },
  {
   "cell_type": "code",
   "execution_count": 34,
   "metadata": {},
   "outputs": [],
   "source": [
    "# for file in files:\n",
    "#     print(file)\n",
    "#     get_df_with_chunk_and_k(file)"
   ]
  },
  {
   "cell_type": "code",
   "execution_count": null,
   "metadata": {},
   "outputs": [],
   "source": [
    "for file in files:\n",
    "    print(file)\n",
    "    plot_chunk_length(file)"
   ]
  },
  {
   "cell_type": "code",
   "execution_count": 48,
   "metadata": {},
   "outputs": [
    {
     "name": "stdout",
     "output_type": "stream",
     "text": [
      "pythia-70m.pkl 8.25563909774436 0.0567988567807515 0.006880007242112887 0.9363211359771356\n"
     ]
    },
    {
     "name": "stderr",
     "output_type": "stream",
     "text": [
      "/tmp/ipykernel_1867794/597668238.py:10: FutureWarning: The frame.append method is deprecated and will be removed from pandas in a future version. Use pandas.concat instead.\n",
      "  df_ratios = df_ratios.append({'file': file, 'ratio_2_3': ratio_2_3, 'ratio_2_total': ratio_2_total, 'ratio_3_total': ratio_3_total, 'ratio_not_memorized_total': ratio_minusone_total}, ignore_index=True)\n"
     ]
    },
    {
     "name": "stdout",
     "output_type": "stream",
     "text": [
      "pythia-160m.pkl 7.6353103448275865 0.04013206258618215 0.005256114129449754 0.9546118232843681\n"
     ]
    },
    {
     "name": "stderr",
     "output_type": "stream",
     "text": [
      "/tmp/ipykernel_1867794/597668238.py:10: FutureWarning: The frame.append method is deprecated and will be removed from pandas in a future version. Use pandas.concat instead.\n",
      "  df_ratios = df_ratios.append({'file': file, 'ratio_2_3': ratio_2_3, 'ratio_2_total': ratio_2_total, 'ratio_3_total': ratio_3_total, 'ratio_not_memorized_total': ratio_minusone_total}, ignore_index=True)\n"
     ]
    },
    {
     "name": "stdout",
     "output_type": "stream",
     "text": [
      "pythia-410m.pkl 7.111387369467926 0.02947623567385074 0.004144934615769096 0.9663788297103801\n"
     ]
    },
    {
     "name": "stderr",
     "output_type": "stream",
     "text": [
      "/tmp/ipykernel_1867794/597668238.py:10: FutureWarning: The frame.append method is deprecated and will be removed from pandas in a future version. Use pandas.concat instead.\n",
      "  df_ratios = df_ratios.append({'file': file, 'ratio_2_3': ratio_2_3, 'ratio_2_total': ratio_2_total, 'ratio_3_total': ratio_3_total, 'ratio_not_memorized_total': ratio_minusone_total}, ignore_index=True)\n"
     ]
    },
    {
     "name": "stdout",
     "output_type": "stream",
     "text": [
      "pythia-1b.pkl 7.14402500601106 0.023653395598105628 0.003310934043232408 0.973035670358662\n"
     ]
    },
    {
     "name": "stderr",
     "output_type": "stream",
     "text": [
      "/tmp/ipykernel_1867794/597668238.py:10: FutureWarning: The frame.append method is deprecated and will be removed from pandas in a future version. Use pandas.concat instead.\n",
      "  df_ratios = df_ratios.append({'file': file, 'ratio_2_3': ratio_2_3, 'ratio_2_total': ratio_2_total, 'ratio_3_total': ratio_3_total, 'ratio_not_memorized_total': ratio_minusone_total}, ignore_index=True)\n"
     ]
    },
    {
     "name": "stdout",
     "output_type": "stream",
     "text": [
      "pythia-1.4b.pkl 7.056398104265403 0.02167687494267399 0.0030719461433972813 0.9752511789139288\n"
     ]
    },
    {
     "name": "stderr",
     "output_type": "stream",
     "text": [
      "/tmp/ipykernel_1867794/597668238.py:10: FutureWarning: The frame.append method is deprecated and will be removed from pandas in a future version. Use pandas.concat instead.\n",
      "  df_ratios = df_ratios.append({'file': file, 'ratio_2_3': ratio_2_3, 'ratio_2_total': ratio_2_total, 'ratio_3_total': ratio_3_total, 'ratio_not_memorized_total': ratio_minusone_total}, ignore_index=True)\n"
     ]
    },
    {
     "name": "stdout",
     "output_type": "stream",
     "text": [
      "pythia-2.8b.pkl 6.949257142857143 0.01815021040823795 0.0026118202327415395 0.9792379693590205\n"
     ]
    },
    {
     "name": "stderr",
     "output_type": "stream",
     "text": [
      "/tmp/ipykernel_1867794/597668238.py:10: FutureWarning: The frame.append method is deprecated and will be removed from pandas in a future version. Use pandas.concat instead.\n",
      "  df_ratios = df_ratios.append({'file': file, 'ratio_2_3': ratio_2_3, 'ratio_2_total': ratio_2_total, 'ratio_3_total': ratio_3_total, 'ratio_not_memorized_total': ratio_minusone_total}, ignore_index=True)\n"
     ]
    },
    {
     "name": "stdout",
     "output_type": "stream",
     "text": [
      "pythia-6.9b.pkl 6.947783029484582 0.014554196690286373 0.002094797236546126 0.9833510060731675\n"
     ]
    },
    {
     "name": "stderr",
     "output_type": "stream",
     "text": [
      "/tmp/ipykernel_1867794/597668238.py:10: FutureWarning: The frame.append method is deprecated and will be removed from pandas in a future version. Use pandas.concat instead.\n",
      "  df_ratios = df_ratios.append({'file': file, 'ratio_2_3': ratio_2_3, 'ratio_2_total': ratio_2_total, 'ratio_3_total': ratio_3_total, 'ratio_not_memorized_total': ratio_minusone_total}, ignore_index=True)\n"
     ]
    },
    {
     "name": "stdout",
     "output_type": "stream",
     "text": [
      "pythia-70m-deduped.pkl 8.82479700187383 0.06867696525441855 0.007782271392739787 0.9235407633528416\n"
     ]
    },
    {
     "name": "stderr",
     "output_type": "stream",
     "text": [
      "/tmp/ipykernel_1867794/597668238.py:10: FutureWarning: The frame.append method is deprecated and will be removed from pandas in a future version. Use pandas.concat instead.\n",
      "  df_ratios = df_ratios.append({'file': file, 'ratio_2_3': ratio_2_3, 'ratio_2_total': ratio_2_total, 'ratio_3_total': ratio_3_total, 'ratio_not_memorized_total': ratio_minusone_total}, ignore_index=True)\n"
     ]
    },
    {
     "name": "stdout",
     "output_type": "stream",
     "text": [
      "pythia-160m-deduped.pkl 7.977067977067977 0.050275725014840116 0.006302531852476363 0.9434217431326836\n"
     ]
    },
    {
     "name": "stderr",
     "output_type": "stream",
     "text": [
      "/tmp/ipykernel_1867794/597668238.py:10: FutureWarning: The frame.append method is deprecated and will be removed from pandas in a future version. Use pandas.concat instead.\n",
      "  df_ratios = df_ratios.append({'file': file, 'ratio_2_3': ratio_2_3, 'ratio_2_total': ratio_2_total, 'ratio_3_total': ratio_3_total, 'ratio_not_memorized_total': ratio_minusone_total}, ignore_index=True)\n"
     ]
    },
    {
     "name": "stdout",
     "output_type": "stream",
     "text": [
      "pythia-410m-deduped.pkl 7.399150743099788 0.03867261623670378 0.005226629052363697 0.9561007547109325\n"
     ]
    },
    {
     "name": "stderr",
     "output_type": "stream",
     "text": [
      "/tmp/ipykernel_1867794/597668238.py:10: FutureWarning: The frame.append method is deprecated and will be removed from pandas in a future version. Use pandas.concat instead.\n",
      "  df_ratios = df_ratios.append({'file': file, 'ratio_2_3': ratio_2_3, 'ratio_2_total': ratio_2_total, 'ratio_3_total': ratio_3_total, 'ratio_not_memorized_total': ratio_minusone_total}, ignore_index=True)\n"
     ]
    },
    {
     "name": "stdout",
     "output_type": "stream",
     "text": [
      "pythia-1b-deduped.pkl 7.42813527477689 0.030622588624844484 0.004122513590837137 0.9652548977843184\n"
     ]
    },
    {
     "name": "stderr",
     "output_type": "stream",
     "text": [
      "/tmp/ipykernel_1867794/597668238.py:10: FutureWarning: The frame.append method is deprecated and will be removed from pandas in a future version. Use pandas.concat instead.\n",
      "  df_ratios = df_ratios.append({'file': file, 'ratio_2_3': ratio_2_3, 'ratio_2_total': ratio_2_total, 'ratio_3_total': ratio_3_total, 'ratio_not_memorized_total': ratio_minusone_total}, ignore_index=True)\n"
     ]
    },
    {
     "name": "stdout",
     "output_type": "stream",
     "text": [
      "pythia-1.4b-deduped.pkl 7.1807909604519775 0.030316850444185986 0.004221937473344547 0.9654612120824695\n"
     ]
    },
    {
     "name": "stderr",
     "output_type": "stream",
     "text": [
      "/tmp/ipykernel_1867794/597668238.py:10: FutureWarning: The frame.append method is deprecated and will be removed from pandas in a future version. Use pandas.concat instead.\n",
      "  df_ratios = df_ratios.append({'file': file, 'ratio_2_3': ratio_2_3, 'ratio_2_total': ratio_2_total, 'ratio_3_total': ratio_3_total, 'ratio_not_memorized_total': ratio_minusone_total}, ignore_index=True)\n"
     ]
    },
    {
     "name": "stdout",
     "output_type": "stream",
     "text": [
      "pythia-2.8b-deduped.pkl 7.0262316058861165 0.024310605507186705 0.003459977818952178 0.9722294166738611\n"
     ]
    },
    {
     "name": "stderr",
     "output_type": "stream",
     "text": [
      "/tmp/ipykernel_1867794/597668238.py:10: FutureWarning: The frame.append method is deprecated and will be removed from pandas in a future version. Use pandas.concat instead.\n",
      "  df_ratios = df_ratios.append({'file': file, 'ratio_2_3': ratio_2_3, 'ratio_2_total': ratio_2_total, 'ratio_3_total': ratio_3_total, 'ratio_not_memorized_total': ratio_minusone_total}, ignore_index=True)\n"
     ]
    },
    {
     "name": "stdout",
     "output_type": "stream",
     "text": [
      "pythia-6.9b-deduped.pkl 6.973104616687844 0.01959597546619818 0.0028102224967773495 0.9775938020370245\n"
     ]
    },
    {
     "name": "stderr",
     "output_type": "stream",
     "text": [
      "/tmp/ipykernel_1867794/597668238.py:10: FutureWarning: The frame.append method is deprecated and will be removed from pandas in a future version. Use pandas.concat instead.\n",
      "  df_ratios = df_ratios.append({'file': file, 'ratio_2_3': ratio_2_3, 'ratio_2_total': ratio_2_total, 'ratio_3_total': ratio_3_total, 'ratio_not_memorized_total': ratio_minusone_total}, ignore_index=True)\n"
     ]
    },
    {
     "data": {
      "text/html": [
       "<div>\n",
       "<style scoped>\n",
       "    .dataframe tbody tr th:only-of-type {\n",
       "        vertical-align: middle;\n",
       "    }\n",
       "\n",
       "    .dataframe tbody tr th {\n",
       "        vertical-align: top;\n",
       "    }\n",
       "\n",
       "    .dataframe thead th {\n",
       "        text-align: right;\n",
       "    }\n",
       "</style>\n",
       "<table border=\"1\" class=\"dataframe\">\n",
       "  <thead>\n",
       "    <tr style=\"text-align: right;\">\n",
       "      <th></th>\n",
       "      <th>file</th>\n",
       "      <th>ratio_2_3</th>\n",
       "      <th>ratio_2_total</th>\n",
       "      <th>ratio_3_total</th>\n",
       "      <th>ratio_not_memorized_total</th>\n",
       "    </tr>\n",
       "  </thead>\n",
       "  <tbody>\n",
       "    <tr>\n",
       "      <th>0</th>\n",
       "      <td>pythia-70m.pkl</td>\n",
       "      <td>8.255639</td>\n",
       "      <td>0.056799</td>\n",
       "      <td>0.006880</td>\n",
       "      <td>0.936321</td>\n",
       "    </tr>\n",
       "    <tr>\n",
       "      <th>1</th>\n",
       "      <td>pythia-160m.pkl</td>\n",
       "      <td>7.635310</td>\n",
       "      <td>0.040132</td>\n",
       "      <td>0.005256</td>\n",
       "      <td>0.954612</td>\n",
       "    </tr>\n",
       "    <tr>\n",
       "      <th>2</th>\n",
       "      <td>pythia-410m.pkl</td>\n",
       "      <td>7.111387</td>\n",
       "      <td>0.029476</td>\n",
       "      <td>0.004145</td>\n",
       "      <td>0.966379</td>\n",
       "    </tr>\n",
       "    <tr>\n",
       "      <th>3</th>\n",
       "      <td>pythia-1b.pkl</td>\n",
       "      <td>7.144025</td>\n",
       "      <td>0.023653</td>\n",
       "      <td>0.003311</td>\n",
       "      <td>0.973036</td>\n",
       "    </tr>\n",
       "    <tr>\n",
       "      <th>4</th>\n",
       "      <td>pythia-1.4b.pkl</td>\n",
       "      <td>7.056398</td>\n",
       "      <td>0.021677</td>\n",
       "      <td>0.003072</td>\n",
       "      <td>0.975251</td>\n",
       "    </tr>\n",
       "    <tr>\n",
       "      <th>5</th>\n",
       "      <td>pythia-2.8b.pkl</td>\n",
       "      <td>6.949257</td>\n",
       "      <td>0.018150</td>\n",
       "      <td>0.002612</td>\n",
       "      <td>0.979238</td>\n",
       "    </tr>\n",
       "    <tr>\n",
       "      <th>6</th>\n",
       "      <td>pythia-6.9b.pkl</td>\n",
       "      <td>6.947783</td>\n",
       "      <td>0.014554</td>\n",
       "      <td>0.002095</td>\n",
       "      <td>0.983351</td>\n",
       "    </tr>\n",
       "    <tr>\n",
       "      <th>7</th>\n",
       "      <td>pythia-70m-deduped.pkl</td>\n",
       "      <td>8.824797</td>\n",
       "      <td>0.068677</td>\n",
       "      <td>0.007782</td>\n",
       "      <td>0.923541</td>\n",
       "    </tr>\n",
       "    <tr>\n",
       "      <th>8</th>\n",
       "      <td>pythia-160m-deduped.pkl</td>\n",
       "      <td>7.977068</td>\n",
       "      <td>0.050276</td>\n",
       "      <td>0.006303</td>\n",
       "      <td>0.943422</td>\n",
       "    </tr>\n",
       "    <tr>\n",
       "      <th>9</th>\n",
       "      <td>pythia-410m-deduped.pkl</td>\n",
       "      <td>7.399151</td>\n",
       "      <td>0.038673</td>\n",
       "      <td>0.005227</td>\n",
       "      <td>0.956101</td>\n",
       "    </tr>\n",
       "    <tr>\n",
       "      <th>10</th>\n",
       "      <td>pythia-1b-deduped.pkl</td>\n",
       "      <td>7.428135</td>\n",
       "      <td>0.030623</td>\n",
       "      <td>0.004123</td>\n",
       "      <td>0.965255</td>\n",
       "    </tr>\n",
       "    <tr>\n",
       "      <th>11</th>\n",
       "      <td>pythia-1.4b-deduped.pkl</td>\n",
       "      <td>7.180791</td>\n",
       "      <td>0.030317</td>\n",
       "      <td>0.004222</td>\n",
       "      <td>0.965461</td>\n",
       "    </tr>\n",
       "    <tr>\n",
       "      <th>12</th>\n",
       "      <td>pythia-2.8b-deduped.pkl</td>\n",
       "      <td>7.026232</td>\n",
       "      <td>0.024311</td>\n",
       "      <td>0.003460</td>\n",
       "      <td>0.972229</td>\n",
       "    </tr>\n",
       "    <tr>\n",
       "      <th>13</th>\n",
       "      <td>pythia-6.9b-deduped.pkl</td>\n",
       "      <td>6.973105</td>\n",
       "      <td>0.019596</td>\n",
       "      <td>0.002810</td>\n",
       "      <td>0.977594</td>\n",
       "    </tr>\n",
       "  </tbody>\n",
       "</table>\n",
       "</div>"
      ],
      "text/plain": [
       "                       file  ratio_2_3  ratio_2_total  ratio_3_total  \\\n",
       "0            pythia-70m.pkl   8.255639       0.056799       0.006880   \n",
       "1           pythia-160m.pkl   7.635310       0.040132       0.005256   \n",
       "2           pythia-410m.pkl   7.111387       0.029476       0.004145   \n",
       "3             pythia-1b.pkl   7.144025       0.023653       0.003311   \n",
       "4           pythia-1.4b.pkl   7.056398       0.021677       0.003072   \n",
       "5           pythia-2.8b.pkl   6.949257       0.018150       0.002612   \n",
       "6           pythia-6.9b.pkl   6.947783       0.014554       0.002095   \n",
       "7    pythia-70m-deduped.pkl   8.824797       0.068677       0.007782   \n",
       "8   pythia-160m-deduped.pkl   7.977068       0.050276       0.006303   \n",
       "9   pythia-410m-deduped.pkl   7.399151       0.038673       0.005227   \n",
       "10    pythia-1b-deduped.pkl   7.428135       0.030623       0.004123   \n",
       "11  pythia-1.4b-deduped.pkl   7.180791       0.030317       0.004222   \n",
       "12  pythia-2.8b-deduped.pkl   7.026232       0.024311       0.003460   \n",
       "13  pythia-6.9b-deduped.pkl   6.973105       0.019596       0.002810   \n",
       "\n",
       "    ratio_not_memorized_total  \n",
       "0                    0.936321  \n",
       "1                    0.954612  \n",
       "2                    0.966379  \n",
       "3                    0.973036  \n",
       "4                    0.975251  \n",
       "5                    0.979238  \n",
       "6                    0.983351  \n",
       "7                    0.923541  \n",
       "8                    0.943422  \n",
       "9                    0.956101  \n",
       "10                   0.965255  \n",
       "11                   0.965461  \n",
       "12                   0.972229  \n",
       "13                   0.977594  "
      ]
     },
     "execution_count": 48,
     "metadata": {},
     "output_type": "execute_result"
    }
   ],
   "source": [
    "df_ratios = pd.DataFrame(columns=['file', 'ratio_2_3', 'ratio_2_total', 'ratio_3_total', 'ratio_not_memorized_total'])\n",
    "for file in files:\n",
    "    df = load_df_with_chunk_and_k(file)\n",
    "    k_dist = df['k'].value_counts().to_dict()\n",
    "    ratio_2_3 = k_dist[2]/k_dist[3]\n",
    "    ratio_2_total = k_dist[2]/sum(k_dist.values())\n",
    "    ratio_3_total = k_dist[3]/sum(k_dist.values())\n",
    "    ratio_minusone_total = k_dist[-1]/sum(k_dist.values())\n",
    "    print(file, ratio_2_3, ratio_2_total, ratio_3_total, ratio_minusone_total)\n",
    "    df_ratios = df_ratios.append({'file': file, 'ratio_2_3': ratio_2_3, 'ratio_2_total': ratio_2_total, 'ratio_3_total': ratio_3_total, 'ratio_not_memorized_total': ratio_minusone_total}, ignore_index=True)\n",
    "df_ratios"
   ]
  },
  {
   "cell_type": "code",
   "execution_count": 49,
   "metadata": {},
   "outputs": [
    {
     "data": {
      "text/html": [
       "<div>\n",
       "<style scoped>\n",
       "    .dataframe tbody tr th:only-of-type {\n",
       "        vertical-align: middle;\n",
       "    }\n",
       "\n",
       "    .dataframe tbody tr th {\n",
       "        vertical-align: top;\n",
       "    }\n",
       "\n",
       "    .dataframe thead th {\n",
       "        text-align: right;\n",
       "    }\n",
       "</style>\n",
       "<table border=\"1\" class=\"dataframe\">\n",
       "  <thead>\n",
       "    <tr style=\"text-align: right;\">\n",
       "      <th></th>\n",
       "      <th>file</th>\n",
       "      <th>ratio_2_3</th>\n",
       "      <th>ratio_2_total</th>\n",
       "      <th>ratio_3_total</th>\n",
       "      <th>ratio_not_memorized_total</th>\n",
       "    </tr>\n",
       "  </thead>\n",
       "  <tbody>\n",
       "    <tr>\n",
       "      <th>0</th>\n",
       "      <td>pythia-70m.pkl</td>\n",
       "      <td>8.255639</td>\n",
       "      <td>0.056799</td>\n",
       "      <td>0.006880</td>\n",
       "      <td>0.936321</td>\n",
       "    </tr>\n",
       "    <tr>\n",
       "      <th>1</th>\n",
       "      <td>pythia-160m.pkl</td>\n",
       "      <td>7.635310</td>\n",
       "      <td>0.040132</td>\n",
       "      <td>0.005256</td>\n",
       "      <td>0.954612</td>\n",
       "    </tr>\n",
       "    <tr>\n",
       "      <th>2</th>\n",
       "      <td>pythia-410m.pkl</td>\n",
       "      <td>7.111387</td>\n",
       "      <td>0.029476</td>\n",
       "      <td>0.004145</td>\n",
       "      <td>0.966379</td>\n",
       "    </tr>\n",
       "    <tr>\n",
       "      <th>3</th>\n",
       "      <td>pythia-1b.pkl</td>\n",
       "      <td>7.144025</td>\n",
       "      <td>0.023653</td>\n",
       "      <td>0.003311</td>\n",
       "      <td>0.973036</td>\n",
       "    </tr>\n",
       "    <tr>\n",
       "      <th>4</th>\n",
       "      <td>pythia-1.4b.pkl</td>\n",
       "      <td>7.056398</td>\n",
       "      <td>0.021677</td>\n",
       "      <td>0.003072</td>\n",
       "      <td>0.975251</td>\n",
       "    </tr>\n",
       "    <tr>\n",
       "      <th>5</th>\n",
       "      <td>pythia-2.8b.pkl</td>\n",
       "      <td>6.949257</td>\n",
       "      <td>0.018150</td>\n",
       "      <td>0.002612</td>\n",
       "      <td>0.979238</td>\n",
       "    </tr>\n",
       "    <tr>\n",
       "      <th>6</th>\n",
       "      <td>pythia-6.9b.pkl</td>\n",
       "      <td>6.947783</td>\n",
       "      <td>0.014554</td>\n",
       "      <td>0.002095</td>\n",
       "      <td>0.983351</td>\n",
       "    </tr>\n",
       "    <tr>\n",
       "      <th>7</th>\n",
       "      <td>pythia-70m-deduped.pkl</td>\n",
       "      <td>8.824797</td>\n",
       "      <td>0.068677</td>\n",
       "      <td>0.007782</td>\n",
       "      <td>0.923541</td>\n",
       "    </tr>\n",
       "    <tr>\n",
       "      <th>8</th>\n",
       "      <td>pythia-160m-deduped.pkl</td>\n",
       "      <td>7.977068</td>\n",
       "      <td>0.050276</td>\n",
       "      <td>0.006303</td>\n",
       "      <td>0.943422</td>\n",
       "    </tr>\n",
       "    <tr>\n",
       "      <th>9</th>\n",
       "      <td>pythia-410m-deduped.pkl</td>\n",
       "      <td>7.399151</td>\n",
       "      <td>0.038673</td>\n",
       "      <td>0.005227</td>\n",
       "      <td>0.956101</td>\n",
       "    </tr>\n",
       "    <tr>\n",
       "      <th>10</th>\n",
       "      <td>pythia-1b-deduped.pkl</td>\n",
       "      <td>7.428135</td>\n",
       "      <td>0.030623</td>\n",
       "      <td>0.004123</td>\n",
       "      <td>0.965255</td>\n",
       "    </tr>\n",
       "    <tr>\n",
       "      <th>11</th>\n",
       "      <td>pythia-1.4b-deduped.pkl</td>\n",
       "      <td>7.180791</td>\n",
       "      <td>0.030317</td>\n",
       "      <td>0.004222</td>\n",
       "      <td>0.965461</td>\n",
       "    </tr>\n",
       "    <tr>\n",
       "      <th>12</th>\n",
       "      <td>pythia-2.8b-deduped.pkl</td>\n",
       "      <td>7.026232</td>\n",
       "      <td>0.024311</td>\n",
       "      <td>0.003460</td>\n",
       "      <td>0.972229</td>\n",
       "    </tr>\n",
       "    <tr>\n",
       "      <th>13</th>\n",
       "      <td>pythia-6.9b-deduped.pkl</td>\n",
       "      <td>6.973105</td>\n",
       "      <td>0.019596</td>\n",
       "      <td>0.002810</td>\n",
       "      <td>0.977594</td>\n",
       "    </tr>\n",
       "  </tbody>\n",
       "</table>\n",
       "</div>"
      ],
      "text/plain": [
       "                       file  ratio_2_3  ratio_2_total  ratio_3_total  \\\n",
       "0            pythia-70m.pkl   8.255639       0.056799       0.006880   \n",
       "1           pythia-160m.pkl   7.635310       0.040132       0.005256   \n",
       "2           pythia-410m.pkl   7.111387       0.029476       0.004145   \n",
       "3             pythia-1b.pkl   7.144025       0.023653       0.003311   \n",
       "4           pythia-1.4b.pkl   7.056398       0.021677       0.003072   \n",
       "5           pythia-2.8b.pkl   6.949257       0.018150       0.002612   \n",
       "6           pythia-6.9b.pkl   6.947783       0.014554       0.002095   \n",
       "7    pythia-70m-deduped.pkl   8.824797       0.068677       0.007782   \n",
       "8   pythia-160m-deduped.pkl   7.977068       0.050276       0.006303   \n",
       "9   pythia-410m-deduped.pkl   7.399151       0.038673       0.005227   \n",
       "10    pythia-1b-deduped.pkl   7.428135       0.030623       0.004123   \n",
       "11  pythia-1.4b-deduped.pkl   7.180791       0.030317       0.004222   \n",
       "12  pythia-2.8b-deduped.pkl   7.026232       0.024311       0.003460   \n",
       "13  pythia-6.9b-deduped.pkl   6.973105       0.019596       0.002810   \n",
       "\n",
       "    ratio_not_memorized_total  \n",
       "0                    0.936321  \n",
       "1                    0.954612  \n",
       "2                    0.966379  \n",
       "3                    0.973036  \n",
       "4                    0.975251  \n",
       "5                    0.979238  \n",
       "6                    0.983351  \n",
       "7                    0.923541  \n",
       "8                    0.943422  \n",
       "9                    0.956101  \n",
       "10                   0.965255  \n",
       "11                   0.965461  \n",
       "12                   0.972229  \n",
       "13                   0.977594  "
      ]
     },
     "execution_count": 49,
     "metadata": {},
     "output_type": "execute_result"
    }
   ],
   "source": [
    "df_ratios"
   ]
  },
  {
   "cell_type": "code",
   "execution_count": 54,
   "metadata": {},
   "outputs": [
    {
     "data": {
      "text/plain": [
       "Text(0.5, 1.0, 'Ratio of 2 to 3 for each dataset')"
      ]
     },
     "execution_count": 54,
     "metadata": {},
     "output_type": "execute_result"
    },
    {
     "data": {
      "image/png": "[encoded data removed]",
      "text/plain": [
       "<Figure size 1000x500 with 1 Axes>"
      ]
     },
     "metadata": {},
     "output_type": "display_data"
    }
   ],
   "source": [
    "# plot ratio_2_3\n",
    "plt.figure(figsize=(10, 5))\n",
    "plt.bar(df_ratios['file'], df_ratios['ratio_2_3'])\n",
    "# rotate xticks\n",
    "plt.xticks(rotation=90)\n",
    "plt.title('Ratio of 2 to 3 for each dataset')"
   ]
  },
  {
   "cell_type": "code",
   "execution_count": 55,
   "metadata": {},
   "outputs": [
    {
     "data": {
      "text/plain": [
       "<matplotlib.legend.Legend at 0x7efe0e2895e0>"
      ]
     },
     "execution_count": 55,
     "metadata": {},
     "output_type": "execute_result"
    },
    {
     "data": {
      "image/png": "[encoded data removed]",
      "text/plain": [
       "<Figure size 1000x500 with 1 Axes>"
      ]
     },
     "metadata": {},
     "output_type": "display_data"
    }
   ],
   "source": [
    "# plot ratio_2_total and ratio_3_total\n",
    "plt.figure(figsize=(10, 5))\n",
    "plt.bar(df_ratios['file'], df_ratios['ratio_2_total'], label='ratio_2_total')\n",
    "plt.bar(df_ratios['file'], df_ratios['ratio_3_total'], label='ratio_3_total')\n",
    "# rotate xticks\n",
    "plt.xticks(rotation=90)\n",
    "plt.title('Ratio of 2 to 3 for each dataset')\n",
    "plt.legend()"
   ]
  },
  {
   "cell_type": "code",
   "execution_count": 56,
   "metadata": {},
   "outputs": [
    {
     "data": {
      "text/plain": [
       "Text(0.5, 1.0, 'Ratio of not memorized to total for each dataset')"
      ]
     },
     "execution_count": 56,
     "metadata": {},
     "output_type": "execute_result"
    },
    {
     "data": {
      "image/png": "[encoded data removed]",
      "text/plain": [
       "<Figure size 1000x500 with 1 Axes>"
      ]
     },
     "metadata": {},
     "output_type": "display_data"
    }
   ],
   "source": [
    "# plot ratio_not_memorized_total\n",
    "plt.figure(figsize=(10, 5))\n",
    "plt.bar(df_ratios['file'], df_ratios['ratio_not_memorized_total'])\n",
    "# rotate xticks\n",
    "plt.xticks(rotation=90)\n",
    "plt.title('Ratio of not memorized to total for each dataset')"
   ]
  },
  {
   "cell_type": "code",
   "execution_count": 50,
   "metadata": {},
   "outputs": [],
   "source": [
    "df_ratios.to_csv('../data/exact_match_ratios.csv')"
   ]
  },
  {
   "cell_type": "code",
   "execution_count": 38,
   "metadata": {},
   "outputs": [
    {
     "data": {
      "text/plain": [
       "''"
      ]
     },
     "execution_count": 38,
     "metadata": {},
     "output_type": "execute_result"
    }
   ],
   "source": [
    "# Stitch together the plots into a pdf\n",
    "import glob\n",
    "from fpdf import FPDF\n",
    "from PIL import Image\n",
    "\n",
    "pdf = FPDF()\n",
    "# imagelist is the list with all image filenames\n",
    "files = glob.glob('../plots/*.png')\n",
    "# choose files with lrs in the name\n",
    "files = [file for file in files if 'chunk_length' in file]\n",
    "for image in files:\n",
    "    pdf.add_page()\n",
    "    pdf.image(image, 0, 0, 210, 220)\n",
    "pdf.output(\"../plots/exact_match.pdf\", \"F\")"
   ]
  }
 ],
 "metadata": {
  "kernelspec": {
   "display_name": "aflah_sem_mem",
   "language": "python",
   "name": "python3"
  },
  "language_info": {
   "codemirror_mode": {
    "name": "ipython",
    "version": 3
   },
   "file_extension": ".py",
   "mimetype": "text/x-python",
   "name": "python",
   "nbconvert_exporter": "python",
   "pygments_lexer": "ipython3",
   "version": "3.9.5"
  },
  "orig_nbformat": 4
 },
 "nbformat": 4,
 "nbformat_minor": 2
}
