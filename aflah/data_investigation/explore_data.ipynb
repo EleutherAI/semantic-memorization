{
 "cells": [
  {
   "cell_type": "code",
   "execution_count": 3,
   "metadata": {},
   "outputs": [
    {
     "name": "stdout",
     "output_type": "stream",
     "text": [
      "INFO: Pandarallel will run on 20 workers.\n",
      "INFO: Pandarallel will use Memory file system to transfer data between the main process and workers.\n"
     ]
    }
   ],
   "source": [
    "import pandas as pd\n",
    "import os\n",
    "import pickle\n",
    "from lrs import longestRepeatedSublist\n",
    "from mrs import find_most_occuring_substring\n",
    "import matplotlib.pyplot as plt\n",
    "import numpy as np\n",
    "import seaborn as sns\n",
    "from pandarallel import pandarallel\n",
    "pandarallel.initialize(progress_bar=True)"
   ]
  },
  {
   "cell_type": "code",
   "execution_count": 4,
   "metadata": {},
   "outputs": [
    {
     "data": {
      "text/plain": [
       "['pythia-70m.pkl',\n",
       " 'pythia-160m.pkl',\n",
       " 'pythia-410m.pkl',\n",
       " 'pythia-1b.pkl',\n",
       " 'pythia-1.4b.pkl',\n",
       " 'pythia-2.8b.pkl',\n",
       " 'pythia-6.9b.pkl',\n",
       " 'pythia-70m-deduped.pkl',\n",
       " 'pythia-160m-deduped.pkl',\n",
       " 'pythia-410m-deduped.pkl',\n",
       " 'pythia-1b-deduped.pkl',\n",
       " 'pythia-1.4b-deduped.pkl',\n",
       " 'pythia-2.8b-deduped.pkl',\n",
       " 'pythia-6.9b-deduped.pkl']"
      ]
     },
     "execution_count": 4,
     "metadata": {},
     "output_type": "execute_result"
    }
   ],
   "source": [
    "files = os.listdir('../data')\n",
    "# choose files without 'lrs' or 'mrs' in the name\n",
    "files = [file for file in files if 'lrs' not in file and 'mrs' not in file]\n",
    "files"
   ]
  },
  {
   "cell_type": "code",
   "execution_count": 5,
   "metadata": {},
   "outputs": [],
   "source": [
    "def get_df_with_lrs(file):\n",
    "    df = pickle.load(open('../data/' + file, 'rb'))\n",
    "    df['lrs'] = df['tokens'].parallel_apply(longestRepeatedSublist)\n",
    "    df['lrs_len'] = df['lrs'].parallel_apply(len)\n",
    "    # save the df as a pickle file\n",
    "    pickle.dump(df, open('../data/' + file + '_with_lrs', 'wb'))\n",
    "    return df"
   ]
  },
  {
   "cell_type": "code",
   "execution_count": 10,
   "metadata": {},
   "outputs": [],
   "source": [
    "def preprocess_tokens(toks):\n",
    "    str_arr = toks.astype(str)\n",
    "    str_lst = ''.join(str_arr)\n",
    "    str_lst = str_lst.replace(' ', '').replace(',', '')\n",
    "    return str_lst"
   ]
  },
  {
   "cell_type": "code",
   "execution_count": 24,
   "metadata": {},
   "outputs": [],
   "source": [
    "def get_df_with_mrs(file):\n",
    "    df = pickle.load(open('../data/' + file, 'rb'))\n",
    "    df['preprocessed_tokens'] = df['tokens'].parallel_apply(preprocess_tokens)\n",
    "    df['mrs'] = df['preprocessed_tokens'].parallel_apply(find_most_occuring_substring)\n",
    "    df['mrs_len'] = df['mrs'].parallel_apply(len)\n",
    "    # # save the df as a pickle file\n",
    "    pickle.dump(df, open('../data/' + file + '_with_mrs', 'wb'))\n",
    "    return df"
   ]
  },
  {
   "cell_type": "code",
   "execution_count": 25,
   "metadata": {},
   "outputs": [],
   "source": [
    "def plot_and_save_lrs(df, file):\n",
    "    plt.figure(figsize=(10, 8))\n",
    "    sns.distplot(df['lrs_len'], kde=False)\n",
    "    plt.title('Distribution of LRS Lengths for ' + file)\n",
    "    plt.xlabel('LRS Length')\n",
    "    plt.ylabel('Count')\n",
    "    plt.savefig('../plots/' + file + '_lrs_dist.png')"
   ]
  },
  {
   "cell_type": "code",
   "execution_count": 26,
   "metadata": {},
   "outputs": [],
   "source": [
    "def plot_and_save_mrs(df, file):\n",
    "    plt.figure(figsize=(10, 8))\n",
    "    sns.distplot(df['mrs_len'], kde=False)\n",
    "    plt.title('Distribution of MRS Lengths for ' + file)\n",
    "    plt.xlabel('MRS Length')\n",
    "    plt.ylabel('Count')\n",
    "    plt.savefig('../plots/' + file + '_mrs_dist.png')"
   ]
  },
  {
   "cell_type": "code",
   "execution_count": 27,
   "metadata": {},
   "outputs": [],
   "source": [
    "# for file in files:\n",
    "#     df = get_df_with_lrs(file)\n",
    "#     plot_and_save_lrs(df, file)"
   ]
  },
  {
   "cell_type": "code",
   "execution_count": 12,
   "metadata": {},
   "outputs": [
    {
     "data": {
      "text/plain": [
       "''"
      ]
     },
     "execution_count": 12,
     "metadata": {},
     "output_type": "execute_result"
    }
   ],
   "source": [
    "# Stitch together the plots into a pdf\n",
    "import glob\n",
    "from fpdf import FPDF\n",
    "from PIL import Image\n",
    "\n",
    "pdf = FPDF()\n",
    "# imagelist is the list with all image filenames\n",
    "files = glob.glob('../plots/*.png')\n",
    "# choose files with lrs in the name\n",
    "files = [file for file in files if 'lrs' in file]\n",
    "for image in files:\n",
    "    pdf.add_page()\n",
    "    pdf.image(image, 0, 0, 210, 297)\n",
    "pdf.output(\"../plots/lrs_dists.pdf\", \"F\")"
   ]
  },
  {
   "cell_type": "code",
   "execution_count": null,
   "metadata": {},
   "outputs": [],
   "source": [
    "# Stitch together the plots into a pdf\n",
    "import glob\n",
    "from fpdf import FPDF\n",
    "from PIL import Image\n",
    "\n",
    "pdf = FPDF()\n",
    "# imagelist is the list with all image filenames\n",
    "files = glob.glob('../plots/*.png')\n",
    "# choose files with mrs in the name\n",
    "files = [file for file in files if 'mrs' in file]\n",
    "for image in files:\n",
    "    pdf.add_page()\n",
    "    pdf.image(image, 0, 0, 210, 297)\n",
    "pdf.output(\"../plots/mrs_dists.pdf\", \"F\")"
   ]
  }
 ],
 "metadata": {
  "kernelspec": {
   "display_name": "aflah_sem_mem",
   "language": "python",
   "name": "python3"
  },
  "language_info": {
   "codemirror_mode": {
    "name": "ipython",
    "version": 3
   },
   "file_extension": ".py",
   "mimetype": "text/x-python",
   "name": "python",
   "nbconvert_exporter": "python",
   "pygments_lexer": "ipython3",
   "version": "3.9.5"
  },
  "orig_nbformat": 4
 },
 "nbformat": 4,
 "nbformat_minor": 2
}
