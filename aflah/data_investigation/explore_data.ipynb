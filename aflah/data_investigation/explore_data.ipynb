{
 "cells": [
  {
   "cell_type": "code",
   "execution_count": 1,
   "metadata": {},
   "outputs": [
    {
     "name": "stdout",
     "output_type": "stream",
     "text": [
      "INFO: Pandarallel will run on 20 workers.\n",
      "INFO: Pandarallel will use Memory file system to transfer data between the main process and workers.\n"
     ]
    }
   ],
   "source": [
    "import pandas as pd\n",
    "import os\n",
    "import pickle\n",
    "from lrs import longest_repeating_sublist\n",
    "from pandarallel import pandarallel\n",
    "pandarallel.initialize(progress_bar=True)"
   ]
  },
  {
   "cell_type": "code",
   "execution_count": 2,
   "metadata": {},
   "outputs": [
    {
     "data": {
      "text/plain": [
       "['pythia-70m.pkl',\n",
       " 'pythia-160m.pkl',\n",
       " 'pythia-410m.pkl',\n",
       " 'pythia-1b.pkl',\n",
       " 'pythia-1.4b.pkl',\n",
       " 'pythia-2.8b.pkl',\n",
       " 'pythia-6.9b.pkl',\n",
       " 'pythia-70m-deduped.pkl',\n",
       " 'pythia-160m-deduped.pkl',\n",
       " 'pythia-410m-deduped.pkl',\n",
       " 'pythia-1b-deduped.pkl',\n",
       " 'pythia-1.4b-deduped.pkl',\n",
       " 'pythia-2.8b-deduped.pkl',\n",
       " 'pythia-6.9b-deduped.pkl']"
      ]
     },
     "execution_count": 2,
     "metadata": {},
     "output_type": "execute_result"
    }
   ],
   "source": [
    "files = os.listdir('../data')\n",
    "files"
   ]
  },
  {
   "cell_type": "code",
   "execution_count": 3,
   "metadata": {},
   "outputs": [],
   "source": [
    "df = pickle.load(open('../data/' + files[0], 'rb'))"
   ]
  },
  {
   "cell_type": "code",
   "execution_count": null,
   "metadata": {},
   "outputs": [
    {
     "data": {
      "text/html": [
       "<div>\n",
       "<style scoped>\n",
       "    .dataframe tbody tr th:only-of-type {\n",
       "        vertical-align: middle;\n",
       "    }\n",
       "\n",
       "    .dataframe tbody tr th {\n",
       "        vertical-align: top;\n",
       "    }\n",
       "\n",
       "    .dataframe thead th {\n",
       "        text-align: right;\n",
       "    }\n",
       "</style>\n",
       "<table border=\"1\" class=\"dataframe\">\n",
       "  <thead>\n",
       "    <tr style=\"text-align: right;\">\n",
       "      <th></th>\n",
       "      <th>index</th>\n",
       "      <th>tokens</th>\n",
       "      <th>__index_level_0__</th>\n",
       "      <th>detokenized</th>\n",
       "    </tr>\n",
       "  </thead>\n",
       "  <tbody>\n",
       "    <tr>\n",
       "      <th>0</th>\n",
       "      <td>232</td>\n",
       "      <td>[996, 186, 29, 1088, 7392, 568, 29860, 5264, 2...</td>\n",
       "      <td>232</td>\n",
       "      <td>[\\n\\t, \\t, &lt;, read,  echo, =\", ascii, \"&gt;&lt;, del...</td>\n",
       "    </tr>\n",
       "    <tr>\n",
       "      <th>1</th>\n",
       "      <td>764</td>\n",
       "      <td>[599, 17585, 423, 92, 3728, 12945, 423, 92, 33...</td>\n",
       "      <td>764</td>\n",
       "      <td>[}}, ).\\, end, {, array, }$$\\, end, {, documen...</td>\n",
       "    </tr>\n",
       "    <tr>\n",
       "      <th>2</th>\n",
       "      <td>806</td>\n",
       "      <td>[313, 39386, 27, 19939, 428, 5270, 310, 1239, ...</td>\n",
       "      <td>806</td>\n",
       "      <td>[ (, errno, :,  165,  -,  Table,  is,  read,  ...</td>\n",
       "    </tr>\n",
       "    <tr>\n",
       "      <th>3</th>\n",
       "      <td>891</td>\n",
       "      <td>[94, 187, 50262, 61, 2099, 92, 8798, 94, 187, ...</td>\n",
       "      <td>891</td>\n",
       "      <td>[}, \\n,                 , \\, usepackage, {, am...</td>\n",
       "    </tr>\n",
       "    <tr>\n",
       "      <th>4</th>\n",
       "      <td>1060</td>\n",
       "      <td>[4022, 305, 48095, 4477, 15, 187, 475, 187, 47...</td>\n",
       "      <td>1060</td>\n",
       "      <td>[ 2016,  g, RPC,  authors, ., \\n,  *, \\n,  *, ...</td>\n",
       "    </tr>\n",
       "    <tr>\n",
       "      <th>...</th>\n",
       "      <td>...</td>\n",
       "      <td>...</td>\n",
       "      <td>...</td>\n",
       "      <td>...</td>\n",
       "    </tr>\n",
       "    <tr>\n",
       "      <th>463948</th>\n",
       "      <td>146431433</td>\n",
       "      <td>[2032, 748, 748, 582, 898, 558, 187, 50274, 82...</td>\n",
       "      <td>2287433</td>\n",
       "      <td>[ true,  },  }, ),,  9, );, \\n,     , assert, ...</td>\n",
       "    </tr>\n",
       "    <tr>\n",
       "      <th>463949</th>\n",
       "      <td>146431569</td>\n",
       "      <td>[544, 18, 15, 17, 13, 470, 15, 17, 9502, 187, ...</td>\n",
       "      <td>2287569</td>\n",
       "      <td>[ [, 1, ., 0, ,,  0, ., 0, ]], \\n, [, 45, ,,  ...</td>\n",
       "    </tr>\n",
       "    <tr>\n",
       "      <th>463950</th>\n",
       "      <td>146431580</td>\n",
       "      <td>[4, 27954, 187, 4, 604, 10807, 64, 4785, 64, 3...</td>\n",
       "      <td>2287580</td>\n",
       "      <td>[#,  endif, \\n, #,  if,  BOOST, _, PP, _, ITER...</td>\n",
       "    </tr>\n",
       "    <tr>\n",
       "      <th>463951</th>\n",
       "      <td>146431652</td>\n",
       "      <td>[4637, 15, 187, 475, 1422, 778, 4044, 247, 349...</td>\n",
       "      <td>2287652</td>\n",
       "      <td>[ License, ., \\n,  *,  You,  may,  obtain,  a,...</td>\n",
       "    </tr>\n",
       "    <tr>\n",
       "      <th>463952</th>\n",
       "      <td>146431669</td>\n",
       "      <td>[186, 39963, 64, 6343, 9, 1208, 13, 17464, 378...</td>\n",
       "      <td>2287669</td>\n",
       "      <td>[\\t, etm, _, write, (, val, ,,  ET, MA, CT, R,...</td>\n",
       "    </tr>\n",
       "  </tbody>\n",
       "</table>\n",
       "<p>463953 rows × 4 columns</p>\n",
       "</div>"
      ],
      "text/plain": [
       "            index                                             tokens  \\\n",
       "0             232  [996, 186, 29, 1088, 7392, 568, 29860, 5264, 2...   \n",
       "1             764  [599, 17585, 423, 92, 3728, 12945, 423, 92, 33...   \n",
       "2             806  [313, 39386, 27, 19939, 428, 5270, 310, 1239, ...   \n",
       "3             891  [94, 187, 50262, 61, 2099, 92, 8798, 94, 187, ...   \n",
       "4            1060  [4022, 305, 48095, 4477, 15, 187, 475, 187, 47...   \n",
       "...           ...                                                ...   \n",
       "463948  146431433  [2032, 748, 748, 582, 898, 558, 187, 50274, 82...   \n",
       "463949  146431569  [544, 18, 15, 17, 13, 470, 15, 17, 9502, 187, ...   \n",
       "463950  146431580  [4, 27954, 187, 4, 604, 10807, 64, 4785, 64, 3...   \n",
       "463951  146431652  [4637, 15, 187, 475, 1422, 778, 4044, 247, 349...   \n",
       "463952  146431669  [186, 39963, 64, 6343, 9, 1208, 13, 17464, 378...   \n",
       "\n",
       "        __index_level_0__                                        detokenized  \n",
       "0                     232  [\\n\\t, \\t, <, read,  echo, =\", ascii, \"><, del...  \n",
       "1                     764  [}}, ).\\, end, {, array, }$$\\, end, {, documen...  \n",
       "2                     806  [ (, errno, :,  165,  -,  Table,  is,  read,  ...  \n",
       "3                     891  [}, \\n,                 , \\, usepackage, {, am...  \n",
       "4                    1060  [ 2016,  g, RPC,  authors, ., \\n,  *, \\n,  *, ...  \n",
       "...                   ...                                                ...  \n",
       "463948            2287433  [ true,  },  }, ),,  9, );, \\n,     , assert, ...  \n",
       "463949            2287569  [ [, 1, ., 0, ,,  0, ., 0, ]], \\n, [, 45, ,,  ...  \n",
       "463950            2287580  [#,  endif, \\n, #,  if,  BOOST, _, PP, _, ITER...  \n",
       "463951            2287652  [ License, ., \\n,  *,  You,  may,  obtain,  a,...  \n",
       "463952            2287669  [\\t, etm, _, write, (, val, ,,  ET, MA, CT, R,...  \n",
       "\n",
       "[463953 rows x 4 columns]"
      ]
     },
     "execution_count": 42,
     "metadata": {},
     "output_type": "execute_result"
    }
   ],
   "source": [
    "df"
   ]
  },
  {
   "cell_type": "code",
   "execution_count": null,
   "metadata": {},
   "outputs": [
    {
     "name": "stderr",
     "output_type": "stream",
     "text": [
      "Exception ignored in: <Finalize object, dead>\n",
      "Traceback (most recent call last):\n",
      "  File \"/usr/lib/python3.9/multiprocessing/util.py\", line 224, in __call__\n",
      "    res = self._callback(*self._args, **self._kwargs)\n",
      "  File \"/usr/lib/python3.9/multiprocessing/managers.py\", line 665, in _finalize_manager\n",
      "    process.join(timeout=1.0)\n",
      "  File \"/usr/lib/python3.9/multiprocessing/process.py\", line 149, in join\n",
      "    res = self._popen.wait(timeout)\n",
      "  File \"/usr/lib/python3.9/multiprocessing/popen_fork.py\", line 40, in wait\n",
      "    if not wait([self.sentinel], timeout):\n",
      "  File \"/usr/lib/python3.9/multiprocessing/connection.py\", line 936, in wait\n",
      "    ready = selector.select(timeout)\n",
      "  File \"/usr/lib/python3.9/selectors.py\", line 416, in select\n",
      "    fd_event_list = self._selector.poll(timeout)\n",
      "KeyboardInterrupt: \n"
     ]
    }
   ],
   "source": [
    "df['lrs'] = df['tokens'].parallel_apply(longest_repeating_sublist)"
   ]
  }
 ],
 "metadata": {
  "kernelspec": {
   "display_name": "aflah_sem_mem",
   "language": "python",
   "name": "python3"
  },
  "language_info": {
   "codemirror_mode": {
    "name": "ipython",
    "version": 3
   },
   "file_extension": ".py",
   "mimetype": "text/x-python",
   "name": "python",
   "nbconvert_exporter": "python",
   "pygments_lexer": "ipython3",
   "version": "3.9.5"
  },
  "orig_nbformat": 4
 },
 "nbformat": 4,
 "nbformat_minor": 2
}
